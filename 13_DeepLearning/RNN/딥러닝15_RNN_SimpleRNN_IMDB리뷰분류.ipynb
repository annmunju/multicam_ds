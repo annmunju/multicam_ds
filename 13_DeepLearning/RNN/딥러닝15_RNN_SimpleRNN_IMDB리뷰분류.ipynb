{
 "cells": [
  {
   "cell_type": "code",
   "execution_count": 1,
   "metadata": {
    "colab": {
     "base_uri": "https://localhost:8080/",
     "height": 36
    },
    "executionInfo": {
     "elapsed": 3188,
     "status": "ok",
     "timestamp": 1645708451226,
     "user": {
      "displayName": "Kyungmi Lee",
      "photoUrl": "https://lh3.googleusercontent.com/a/default-user=s64",
      "userId": "14076883295874579202"
     },
     "user_tz": -540
    },
    "id": "ZFJ5m3ye3YHd",
    "outputId": "e5960fdc-537e-43df-e67a-84e9ef9bf01a"
   },
   "outputs": [
    {
     "data": {
      "text/plain": [
       "'2.7.0'"
      ]
     },
     "execution_count": 1,
     "metadata": {},
     "output_type": "execute_result"
    }
   ],
   "source": [
    "import numpy as np\n",
    "import matplotlib.pyplot as plt\n",
    "import tensorflow as tf\n",
    "from tensorflow import keras\n",
    "\n",
    "tf.__version__"
   ]
  },
  {
   "cell_type": "markdown",
   "metadata": {
    "id": "2IAdY7KzzDml"
   },
   "source": [
    "# 케라스의 순환 층 : SimpleRNN\n",
    "\n",
    "- 시퀀스 배치를 처리 : (batch_size, timesteps, input_features) 크기의 입력을 받음\n",
    "- 두 가지 모드로 실행: return_sequences로 선택\n",
    "  - 각 타임스텝의 출력을 모은 전체 시퀀스를 반환: 크기가 (batch_size, timesteps, output_features) 3D 텐서, : return_sequences=True\n",
    "  - 입력 시퀀스에 대한 마지막 출력만 반환 : 크기가 (batch_size, output_features)인 2D 텐서\n"
   ]
  },
  {
   "cell_type": "markdown",
   "metadata": {
    "id": "2MCGlb5_3LCz"
   },
   "source": [
    "### 예제1. SimpleRNN을 사용하여 마지막 타임스텝의 출력 얻기"
   ]
  },
  {
   "cell_type": "code",
   "execution_count": 2,
   "metadata": {
    "colab": {
     "base_uri": "https://localhost:8080/"
    },
    "executionInfo": {
     "elapsed": 483,
     "status": "ok",
     "timestamp": 1645708940676,
     "user": {
      "displayName": "Kyungmi Lee",
      "photoUrl": "https://lh3.googleusercontent.com/a/default-user=s64",
      "userId": "14076883295874579202"
     },
     "user_tz": -540
    },
    "id": "Z5gMEP0C3g6o",
    "outputId": "e9e06ccf-91b8-4baa-c582-1f3a482dc2d9"
   },
   "outputs": [
    {
     "name": "stdout",
     "output_type": "stream",
     "text": [
      "Model: \"sequential\"\n",
      "_________________________________________________________________\n",
      " Layer (type)                Output Shape              Param #   \n",
      "=================================================================\n",
      " embedding (Embedding)       (None, None, 32)          320000    \n",
      "                                                                 \n",
      " simple_rnn (SimpleRNN)      (None, 32)                2080      \n",
      "                                                                 \n",
      "=================================================================\n",
      "Total params: 322,080\n",
      "Trainable params: 322,080\n",
      "Non-trainable params: 0\n",
      "_________________________________________________________________\n"
     ]
    }
   ],
   "source": [
    "from tensorflow.keras.models import Sequential\n",
    "from tensorflow.keras.layers import Embedding, SimpleRNN\n",
    "\n",
    "model = Sequential()\n",
    "model.add(Embedding(10000, 32))\n",
    "model.add(SimpleRNN(32))\n",
    "\n",
    "model.summary()"
   ]
  },
  {
   "cell_type": "markdown",
   "metadata": {
    "id": "Q1XgLGRT5Y9b"
   },
   "source": [
    "### 예제2. SimpleRNN을 사용하여 전체 상태 시퀀스 반환"
   ]
  },
  {
   "cell_type": "code",
   "execution_count": 3,
   "metadata": {
    "colab": {
     "base_uri": "https://localhost:8080/"
    },
    "executionInfo": {
     "elapsed": 352,
     "status": "ok",
     "timestamp": 1645709493950,
     "user": {
      "displayName": "Kyungmi Lee",
      "photoUrl": "https://lh3.googleusercontent.com/a/default-user=s64",
      "userId": "14076883295874579202"
     },
     "user_tz": -540
    },
    "id": "p9XfGwN66UVw",
    "outputId": "dc7ce7eb-d9ba-4723-df62-69373ad3ab11"
   },
   "outputs": [
    {
     "name": "stdout",
     "output_type": "stream",
     "text": [
      "Model: \"sequential_1\"\n",
      "_________________________________________________________________\n",
      " Layer (type)                Output Shape              Param #   \n",
      "=================================================================\n",
      " embedding_1 (Embedding)     (None, None, 32)          320000    \n",
      "                                                                 \n",
      " simple_rnn_1 (SimpleRNN)    (None, None, 32)          2080      \n",
      "                                                                 \n",
      "=================================================================\n",
      "Total params: 322,080\n",
      "Trainable params: 322,080\n",
      "Non-trainable params: 0\n",
      "_________________________________________________________________\n"
     ]
    }
   ],
   "source": [
    "model = Sequential()\n",
    "model.add(Embedding(10000, 32))\n",
    "model.add(SimpleRNN(32, return_sequences=True))\n",
    "\n",
    "model.summary()"
   ]
  },
  {
   "cell_type": "markdown",
   "metadata": {
    "id": "jtle8IsL7gZT"
   },
   "source": [
    "### 예제3. 여러 개의 순환층을 사용한 RNN 모델\n",
    "- 중간층들이 전체 출력 시퀀스를 반환하도록 설정해야 함"
   ]
  },
  {
   "cell_type": "code",
   "execution_count": 4,
   "metadata": {
    "colab": {
     "base_uri": "https://localhost:8080/"
    },
    "executionInfo": {
     "elapsed": 466,
     "status": "ok",
     "timestamp": 1645710292664,
     "user": {
      "displayName": "Kyungmi Lee",
      "photoUrl": "https://lh3.googleusercontent.com/a/default-user=s64",
      "userId": "14076883295874579202"
     },
     "user_tz": -540
    },
    "id": "n7g7LxM_70QR",
    "outputId": "1c5a0d4b-3355-45b0-8bb1-297784b9db74"
   },
   "outputs": [
    {
     "name": "stdout",
     "output_type": "stream",
     "text": [
      "Model: \"sequential_2\"\n",
      "_________________________________________________________________\n",
      " Layer (type)                Output Shape              Param #   \n",
      "=================================================================\n",
      " embedding_2 (Embedding)     (None, None, 32)          320000    \n",
      "                                                                 \n",
      " simple_rnn_2 (SimpleRNN)    (None, None, 32)          2080      \n",
      "                                                                 \n",
      " simple_rnn_3 (SimpleRNN)    (None, None, 32)          2080      \n",
      "                                                                 \n",
      " simple_rnn_4 (SimpleRNN)    (None, None, 32)          2080      \n",
      "                                                                 \n",
      " simple_rnn_5 (SimpleRNN)    (None, 32)                2080      \n",
      "                                                                 \n",
      "=================================================================\n",
      "Total params: 328,320\n",
      "Trainable params: 328,320\n",
      "Non-trainable params: 0\n",
      "_________________________________________________________________\n"
     ]
    }
   ],
   "source": [
    "model = Sequential()\n",
    "model.add(Embedding(10000, 32))\n",
    "model.add(SimpleRNN(32, return_sequences=True))\n",
    "model.add(SimpleRNN(32, return_sequences=True))\n",
    "model.add(SimpleRNN(32, return_sequences=True))\n",
    "model.add(SimpleRNN(32))\n",
    "\n",
    "model.summary()"
   ]
  },
  {
   "cell_type": "markdown",
   "metadata": {
    "id": "o-o2f1g8-jEK"
   },
   "source": [
    "## IMDB 영화리뷰 분류를 위한 RNN : SimpleRNN 층 사용\n",
    "\n",
    "### 1) imdb 데이터 로딩 및 데이터 전처리\n"
   ]
  },
  {
   "cell_type": "code",
   "execution_count": 5,
   "metadata": {
    "colab": {
     "base_uri": "https://localhost:8080/"
    },
    "executionInfo": {
     "elapsed": 5959,
     "status": "ok",
     "timestamp": 1645711524559,
     "user": {
      "displayName": "Kyungmi Lee",
      "photoUrl": "https://lh3.googleusercontent.com/a/default-user=s64",
      "userId": "14076883295874579202"
     },
     "user_tz": -540
    },
    "id": "fHqZIWf1_Mp3",
    "outputId": "78495b12-76ba-40b0-dcc0-4bc302c9ca1d"
   },
   "outputs": [
    {
     "name": "stdout",
     "output_type": "stream",
     "text": [
      "데이터 로딩...\n",
      "25000 훈련 시퀀스\n",
      "25000 테스트 시퀀스\n",
      "시퀀스 패딩(samples x time)\n",
      "input_train 크기: (25000, 500)\n",
      "input_test 크기: (25000, 500)\n"
     ]
    }
   ],
   "source": [
    "from tensorflow.keras.datasets import imdb\n",
    "from tensorflow.keras.preprocessing import sequence\n",
    "\n",
    "max_features = 10000\n",
    "maxlen = 500\n",
    "batch_size = 32\n",
    "\n",
    "print('데이터 로딩...')\n",
    "(input_train, y_train), (input_test, y_test) = imdb.load_data(num_words = max_features)\n",
    "print(len(input_train), '훈련 시퀀스')\n",
    "print(len(input_test), '테스트 시퀀스')\n",
    "\n",
    "print('시퀀스 패딩(samples x time)')\n",
    "input_train = sequence.pad_sequences(input_train, maxlen=maxlen)\n",
    "input_test = sequence.pad_sequences(input_test, maxlen=maxlen)\n",
    "print('input_train 크기:', input_train.shape)\n",
    "print('input_test 크기:', input_test.shape)"
   ]
  },
  {
   "cell_type": "markdown",
   "metadata": {
    "id": "967YWejHCq97"
   },
   "source": [
    "### 2) IMDB 분류를 위한 간단한 순환 신경망 정의 및 컴파일"
   ]
  },
  {
   "cell_type": "code",
   "execution_count": 6,
   "metadata": {
    "executionInfo": {
     "elapsed": 279,
     "status": "ok",
     "timestamp": 1645711657811,
     "user": {
      "displayName": "Kyungmi Lee",
      "photoUrl": "https://lh3.googleusercontent.com/a/default-user=s64",
      "userId": "14076883295874579202"
     },
     "user_tz": -540
    },
    "id": "n2VnC4ewCyIf"
   },
   "outputs": [],
   "source": [
    "from tensorflow.keras.layers import Dense\n",
    "\n",
    "model = Sequential()\n",
    "model.add(Embedding(max_features, 32))\n",
    "model.add(SimpleRNN(32))\n",
    "model.add(Dense(1, activation='sigmoid'))\n",
    "\n",
    "model.compile(optimizer='rmsprop',\n",
    "              loss='binary_crossentropy',\n",
    "              metrics=['acc'])"
   ]
  },
  {
   "cell_type": "markdown",
   "metadata": {
    "id": "ze-9h1z5DweY"
   },
   "source": [
    "### 3) 순환신경망 훈련"
   ]
  },
  {
   "cell_type": "code",
   "execution_count": 7,
   "metadata": {
    "colab": {
     "base_uri": "https://localhost:8080/"
    },
    "executionInfo": {
     "elapsed": 237278,
     "status": "ok",
     "timestamp": 1645711980437,
     "user": {
      "displayName": "Kyungmi Lee",
      "photoUrl": "https://lh3.googleusercontent.com/a/default-user=s64",
      "userId": "14076883295874579202"
     },
     "user_tz": -540
    },
    "id": "4TokacrfD2KN",
    "outputId": "83470bb1-75d7-41a4-9d79-eb543d64f5b7",
    "scrolled": true
   },
   "outputs": [
    {
     "name": "stderr",
     "output_type": "stream",
     "text": [
      "2022-03-25 11:12:12.081479: W tensorflow/core/platform/profile_utils/cpu_utils.cc:128] Failed to get CPU frequency: 0 Hz\n"
     ]
    },
    {
     "name": "stdout",
     "output_type": "stream",
     "text": [
      "Epoch 1/10\n",
      "157/157 [==============================] - 12s 71ms/step - loss: 0.6318 - acc: 0.6265 - val_loss: 0.4799 - val_acc: 0.7896\n",
      "Epoch 2/10\n",
      "157/157 [==============================] - 11s 70ms/step - loss: 0.3952 - acc: 0.8332 - val_loss: 0.3793 - val_acc: 0.8398\n",
      "Epoch 3/10\n",
      "157/157 [==============================] - 11s 72ms/step - loss: 0.2792 - acc: 0.8898 - val_loss: 0.4464 - val_acc: 0.7914\n",
      "Epoch 4/10\n",
      "157/157 [==============================] - 11s 73ms/step - loss: 0.2093 - acc: 0.9216 - val_loss: 0.4016 - val_acc: 0.8396\n",
      "Epoch 5/10\n",
      "157/157 [==============================] - 11s 70ms/step - loss: 0.1815 - acc: 0.9319 - val_loss: 0.4650 - val_acc: 0.8262\n",
      "Epoch 6/10\n",
      "157/157 [==============================] - 11s 69ms/step - loss: 0.1116 - acc: 0.9622 - val_loss: 0.4942 - val_acc: 0.8098\n",
      "Epoch 7/10\n",
      "157/157 [==============================] - 11s 68ms/step - loss: 0.0691 - acc: 0.9772 - val_loss: 0.4520 - val_acc: 0.8592\n",
      "Epoch 8/10\n",
      "157/157 [==============================] - 11s 68ms/step - loss: 0.0445 - acc: 0.9862 - val_loss: 0.5823 - val_acc: 0.8034\n",
      "Epoch 9/10\n",
      "157/157 [==============================] - 11s 69ms/step - loss: 0.0316 - acc: 0.9919 - val_loss: 0.6402 - val_acc: 0.8170\n",
      "Epoch 10/10\n",
      "157/157 [==============================] - 11s 69ms/step - loss: 0.0171 - acc: 0.9947 - val_loss: 0.6881 - val_acc: 0.8096\n"
     ]
    }
   ],
   "source": [
    "history = model.fit(input_train, y_train,\n",
    "                    epochs=10,\n",
    "                    batch_size=128,\n",
    "                    validation_split=0.2)"
   ]
  },
  {
   "cell_type": "code",
   "execution_count": 12,
   "metadata": {},
   "outputs": [
    {
     "name": "stdout",
     "output_type": "stream",
     "text": [
      "Epoch 1/50\n",
      "157/157 [==============================] - 11s 70ms/step - loss: 0.0026 - accuracy: 0.9997 - val_loss: 0.7083 - val_accuracy: 0.8158\n",
      "Epoch 2/50\n",
      "157/157 [==============================] - 11s 69ms/step - loss: 0.0017 - accuracy: 0.9998 - val_loss: 0.7112 - val_accuracy: 0.8216\n",
      "Epoch 3/50\n",
      "157/157 [==============================] - 11s 69ms/step - loss: 0.0012 - accuracy: 0.9999 - val_loss: 0.7161 - val_accuracy: 0.8296\n",
      "Epoch 4/50\n",
      "157/157 [==============================] - 11s 68ms/step - loss: 9.3233e-04 - accuracy: 0.9999 - val_loss: 0.7789 - val_accuracy: 0.8134\n"
     ]
    }
   ],
   "source": [
    "from tensorflow.keras import callbacks, optimizers\n",
    "\n",
    "rmsprop = optimizers.RMSprop(learning_rate=1e-4)\n",
    "model.compile(optimizer=rmsprop, loss='binary_crossentropy', \n",
    "              metrics=['accuracy'])\n",
    "\n",
    "checkpoint_cb = callbacks.ModelCheckpoint('model/best-simplernn-model2.h5')\n",
    "early_stopping_cb = callbacks.EarlyStopping(patience=3,\n",
    "                                            restore_best_weights=True)\n",
    "history = model.fit(input_train, y_train,\n",
    "                    epochs=50,\n",
    "                    batch_size=128,\n",
    "                    validation_split=0.2,\n",
    "                    callbacks=[checkpoint_cb, early_stopping_cb])"
   ]
  },
  {
   "cell_type": "markdown",
   "metadata": {
    "id": "1w1XfcBLEFUB"
   },
   "source": [
    "### 4)  순환 신경망 모델의 성능(훈련, 검증의 손실과 정확도) 시각화"
   ]
  },
  {
   "cell_type": "code",
   "execution_count": 9,
   "metadata": {
    "colab": {
     "base_uri": "https://localhost:8080/",
     "height": 336
    },
    "executionInfo": {
     "elapsed": 853,
     "status": "ok",
     "timestamp": 1645712417944,
     "user": {
      "displayName": "Kyungmi Lee",
      "photoUrl": "https://lh3.googleusercontent.com/a/default-user=s64",
      "userId": "14076883295874579202"
     },
     "user_tz": -540
    },
    "id": "ibqjQaz_FsnQ",
    "outputId": "70797921-e0e7-4729-cc48-7fd1c4d0b381"
   },
   "outputs": [],
   "source": [
    "import matplotlib.pyplot as plt"
   ]
  },
  {
   "cell_type": "code",
   "execution_count": 13,
   "metadata": {
    "colab": {
     "base_uri": "https://localhost:8080/",
     "height": 336
    },
    "executionInfo": {
     "elapsed": 853,
     "status": "ok",
     "timestamp": 1645712417944,
     "user": {
      "displayName": "Kyungmi Lee",
      "photoUrl": "https://lh3.googleusercontent.com/a/default-user=s64",
      "userId": "14076883295874579202"
     },
     "user_tz": -540
    },
    "id": "ibqjQaz_FsnQ",
    "outputId": "70797921-e0e7-4729-cc48-7fd1c4d0b381"
   },
   "outputs": [
    {
     "data": {
      "image/png": "[encoded data removed]",
      "text/plain": [
       "<Figure size 648x432 with 1 Axes>"
      ]
     },
     "metadata": {
      "needs_background": "light"
     },
     "output_type": "display_data"
    }
   ],
   "source": [
    "acc = history.history['accuracy']\n",
    "val_acc = history.history['val_accuracy']\n",
    "epochs = range(1, len(acc)+1)\n",
    "\n",
    "plt.figure(figsize=(9,6))\n",
    "plt.plot(epochs, acc, 'bo', label='Training acc')\n",
    "plt.plot(epochs, val_acc, 'b', label='Validation acc')\n",
    "plt.title('Training and Validation accuracy')\n",
    "plt.grid()\n",
    "plt.legend()\n",
    "plt.show()"
   ]
  },
  {
   "cell_type": "code",
   "execution_count": 11,
   "metadata": {
    "colab": {
     "base_uri": "https://localhost:8080/",
     "height": 336
    },
    "executionInfo": {
     "elapsed": 853,
     "status": "ok",
     "timestamp": 1645712417944,
     "user": {
      "displayName": "Kyungmi Lee",
      "photoUrl": "https://lh3.googleusercontent.com/a/default-user=s64",
      "userId": "14076883295874579202"
     },
     "user_tz": -540
    },
    "id": "ibqjQaz_FsnQ",
    "outputId": "70797921-e0e7-4729-cc48-7fd1c4d0b381",
    "scrolled": true
   },
   "outputs": [
    {
     "data": {
      "image/png": "[encoded data removed]",
      "text/plain": [
       "<Figure size 648x432 with 1 Axes>"
      ]
     },
     "metadata": {
      "needs_background": "light"
     },
     "output_type": "display_data"
    }
   ],
   "source": [
    "loss = history.history['loss']\n",
    "val_loss = history.history['val_loss']\n",
    "epochs = range(1, len(loss)+1)\n",
    "\n",
    "plt.figure(figsize=(9,6))\n",
    "plt.plot(epochs, loss, 'ro', label='Training loss')\n",
    "plt.plot(epochs, val_loss, 'r', label='Validation loss')\n",
    "plt.title('Training and Validation loss')\n",
    "plt.grid()\n",
    "plt.legend()\n",
    "plt.show()"
   ]
  },
  {
   "cell_type": "markdown",
   "metadata": {},
   "source": [
    "#### 모델 테스트"
   ]
  },
  {
   "cell_type": "code",
   "execution_count": 14,
   "metadata": {},
   "outputs": [
    {
     "name": "stdout",
     "output_type": "stream",
     "text": [
      "782/782 [==============================] - 7s 9ms/step - loss: 0.7847 - accuracy: 0.8074\n"
     ]
    },
    {
     "data": {
      "text/plain": [
       "[0.7846803069114685, 0.8074399828910828]"
      ]
     },
     "execution_count": 14,
     "metadata": {},
     "output_type": "execute_result"
    }
   ],
   "source": [
    "rnn_model = keras.models.load_model('model/best-simplernn-model2.h5')\n",
    "\n",
    "rnn_model.evaluate(input_test, y_test)"
   ]
  },
  {
   "cell_type": "code",
   "execution_count": null,
   "metadata": {},
   "outputs": [],
   "source": []
  }
 ],
 "metadata": {
  "colab": {
   "authorship_tag": "ABX9TyM1+kVoeQxEoSLIb9MyvIee",
   "collapsed_sections": [],
   "name": "3_02_RNN_LSTM.ipynb",
   "provenance": []
  },
  "kernelspec": {
   "display_name": "Python 3 (ipykernel)",
   "language": "python",
   "name": "python3"
  },
  "language_info": {
   "codemirror_mode": {
    "name": "ipython",
    "version": 3
   },
   "file_extension": ".py",
   "mimetype": "text/x-python",
   "name": "python",
   "nbconvert_exporter": "python",
   "pygments_lexer": "ipython3",
   "version": "3.9.0"
  }
 },
 "nbformat": 4,
 "nbformat_minor": 1
}

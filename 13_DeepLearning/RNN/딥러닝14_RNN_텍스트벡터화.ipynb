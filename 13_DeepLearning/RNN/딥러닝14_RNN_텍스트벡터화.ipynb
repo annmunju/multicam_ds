{
 "cells": [
  {
   "cell_type": "code",
   "execution_count": 1,
   "metadata": {},
   "outputs": [
    {
     "data": {
      "text/plain": [
       "'2.7.0'"
      ]
     },
     "execution_count": 1,
     "metadata": {},
     "output_type": "execute_result"
    }
   ],
   "source": [
    "import numpy as np\n",
    "import matplotlib.pyplot as plt\n",
    "import tensorflow as tf\n",
    "from tensorflow import keras\n",
    "\n",
    "tf.__version__"
   ]
  },
  {
   "cell_type": "markdown",
   "metadata": {},
   "source": [
    "# RNN으로 IMDB 리뷰 감성분석"
   ]
  },
  {
   "cell_type": "markdown",
   "metadata": {},
   "source": [
    "**[핵심키워드]**  말뭉치,  토큰,  원-핫 인코딩,  단어임베딩\n",
    "\n",
    "- 영화 리뷰 데이터셋에 적용하여 리뷰를 긍정과 부정으로 분류"
   ]
  },
  {
   "cell_type": "markdown",
   "metadata": {},
   "source": [
    "### 텍스트 데이터 다루기"
   ]
  },
  {
   "cell_type": "markdown",
   "metadata": {},
   "source": [
    "- 텍스트 \n",
    "  - 가장 흔한 시퀀스 형태 데이터: 단어의 시퀀스, 문자의 시퀀스\n",
    "  \n",
    "\n",
    "- 자연어처리를 위한 딥러닝\n",
    "  - 문서분류, 감성분석, 저작식별, (제한된 범위의)질문 응답 등\n",
    "  - 단어, 문장, 문단에 적용한 패턴 인식\n",
    "  - 텍스트를 수치형 텐서로 변환해야 함(텍스트 벡터화)"
   ]
  },
  {
   "cell_type": "markdown",
   "metadata": {},
   "source": [
    "- 토큰(token) : 텍스트를 단어, 문자, n-그램으로 나눈 단위\n",
    "- 토큰화(tokenization) : 텍스트를 토큰으로 나누는 작업\n",
    "\n",
    "- 모든 텍스트 벡터화 과정은 토큰화 적용과 생성된 토큰에 수치화 벡터를 연결하는 것으로 주용 방식은 **원-핫-인코딩**과 **토큰 임베딩 방식**이 있음"
   ]
  },
  {
   "cell_type": "markdown",
   "metadata": {},
   "source": [
    "#### 문자 수준 원-핫 인코딩"
   ]
  },
  {
   "cell_type": "code",
   "execution_count": 2,
   "metadata": {},
   "outputs": [
    {
     "name": "stdout",
     "output_type": "stream",
     "text": [
      "출력가능한 모든 아스키문자 0123456789abcdefghijklmnopqrstuvwxyzABCDEFGHIJKLMNOPQRSTUVWXYZ!\"#$%&'()*+,-./:;<=>?@[\\]^_`{|}~ \t\n",
      "\u000b\f\n",
      "100\n"
     ]
    }
   ],
   "source": [
    "# 문자 수준의 원-핫 인코딩 예\n",
    "\n",
    "import string\n",
    "\n",
    "samples = ['This cat sat on the mat.', 'The dog ate my homework,']\n",
    "characters = string.printable   # 출력가능한 모든 아스키문자\n",
    "print('출력가능한 모든 아스키문자', characters)\n",
    "print(len(characters))\n",
    "token_index = dict(zip(characters, range(1, len(characters)+1)))\n",
    "\n",
    "max_length = 50\n",
    "results = np.zeros((len(samples), max_length, max(token_index.values())+1))\n",
    "for i, sample in enumerate(samples):\n",
    "    for j, character in enumerate(sample):\n",
    "        index = token_index.get(character)\n",
    "        results[1, j, index] = 1"
   ]
  },
  {
   "cell_type": "code",
   "execution_count": null,
   "metadata": {},
   "outputs": [],
   "source": []
  },
  {
   "cell_type": "code",
   "execution_count": null,
   "metadata": {},
   "outputs": [],
   "source": []
  },
  {
   "cell_type": "markdown",
   "metadata": {},
   "source": [
    "#### 케라스의 Tokenizer()를 사용한 단어 수준의 원-핫-인코딩\n",
    "- tensorflow.keras.preprocessing.text.Tokenizer()\n",
    "- 특수문자를 제거하거나 빈도가 높은 N개 단어만 선택\n",
    "- 1-gram BOW와 같음"
   ]
  },
  {
   "cell_type": "code",
   "execution_count": 3,
   "metadata": {},
   "outputs": [
    {
     "name": "stdout",
     "output_type": "stream",
     "text": [
      "10개의 고유한 토큰을 찾았습니다.\n"
     ]
    }
   ],
   "source": [
    "from tensorflow.keras.preprocessing.text import Tokenizer\n",
    "\n",
    "samples = ['This cat sat on the mat.', 'The dog ate my homework,']\n",
    "\n",
    "tokenizer = Tokenizer(num_words=1000)\n",
    "tokenizer.fit_on_texts(samples)\n",
    "sequences = tokenizer.texts_to_sequences(samples)\n",
    "one_hot_results = tokenizer.texts_to_matrix(samples, mode='binary')\n",
    "word_index = tokenizer.word_index\n",
    "print('%s개의 고유한 토큰을 찾았습니다.' %len(word_index))"
   ]
  },
  {
   "cell_type": "code",
   "execution_count": 4,
   "metadata": {},
   "outputs": [
    {
     "data": {
      "text/plain": [
       "{'the': 1,\n",
       " 'this': 2,\n",
       " 'cat': 3,\n",
       " 'sat': 4,\n",
       " 'on': 5,\n",
       " 'mat': 6,\n",
       " 'dog': 7,\n",
       " 'ate': 8,\n",
       " 'my': 9,\n",
       " 'homework': 10}"
      ]
     },
     "execution_count": 4,
     "metadata": {},
     "output_type": "execute_result"
    }
   ],
   "source": [
    "word_index"
   ]
  },
  {
   "cell_type": "code",
   "execution_count": 5,
   "metadata": {},
   "outputs": [
    {
     "data": {
      "text/plain": [
       "array([[0., 1., 1., ..., 0., 0., 0.],\n",
       "       [0., 1., 0., ..., 0., 0., 0.]])"
      ]
     },
     "execution_count": 5,
     "metadata": {},
     "output_type": "execute_result"
    }
   ],
   "source": [
    "one_hot_results"
   ]
  },
  {
   "cell_type": "markdown",
   "metadata": {},
   "source": [
    "### IMDB 리뷰 데이터셋"
   ]
  },
  {
   "cell_type": "code",
   "execution_count": 6,
   "metadata": {
    "execution": {
     "iopub.execute_input": "2020-10-12T01:18:41.979392Z",
     "iopub.status.busy": "2020-10-12T01:18:41.978299Z",
     "iopub.status.idle": "2020-10-12T01:18:52.473300Z",
     "shell.execute_reply": "2020-10-12T01:18:52.471703Z"
    }
   },
   "outputs": [],
   "source": [
    "from tensorflow.keras.datasets import imdb\n",
    "\n",
    "(train_input, train_target), (test_input, test_target) = imdb.load_data(num_words=500)"
   ]
  },
  {
   "cell_type": "code",
   "execution_count": 7,
   "metadata": {
    "execution": {
     "iopub.execute_input": "2020-10-12T01:18:52.481400Z",
     "iopub.status.busy": "2020-10-12T01:18:52.479645Z",
     "iopub.status.idle": "2020-10-12T01:18:52.485658Z",
     "shell.execute_reply": "2020-10-12T01:18:52.486465Z"
    }
   },
   "outputs": [
    {
     "data": {
      "text/plain": [
       "((25000,), (25000,))"
      ]
     },
     "execution_count": 7,
     "metadata": {},
     "output_type": "execute_result"
    }
   ],
   "source": [
    "train_input.shape, test_input.shape"
   ]
  },
  {
   "cell_type": "code",
   "execution_count": 8,
   "metadata": {
    "execution": {
     "iopub.execute_input": "2020-10-12T01:18:52.493608Z",
     "iopub.status.busy": "2020-10-12T01:18:52.492625Z",
     "iopub.status.idle": "2020-10-12T01:18:52.496804Z",
     "shell.execute_reply": "2020-10-12T01:18:52.497722Z"
    }
   },
   "outputs": [
    {
     "data": {
      "text/plain": [
       "218"
      ]
     },
     "execution_count": 8,
     "metadata": {},
     "output_type": "execute_result"
    }
   ],
   "source": [
    "len(train_input[0])"
   ]
  },
  {
   "cell_type": "code",
   "execution_count": 9,
   "metadata": {
    "execution": {
     "iopub.execute_input": "2020-10-12T01:18:52.516102Z",
     "iopub.status.busy": "2020-10-12T01:18:52.515014Z",
     "iopub.status.idle": "2020-10-12T01:18:52.520096Z",
     "shell.execute_reply": "2020-10-12T01:18:52.520972Z"
    }
   },
   "outputs": [
    {
     "data": {
      "text/plain": [
       "[1,\n",
       " 14,\n",
       " 22,\n",
       " 16,\n",
       " 43,\n",
       " 2,\n",
       " 2,\n",
       " 2,\n",
       " 2,\n",
       " 65,\n",
       " 458,\n",
       " 2,\n",
       " 66,\n",
       " 2,\n",
       " 4,\n",
       " 173,\n",
       " 36,\n",
       " 256,\n",
       " 5,\n",
       " 25,\n",
       " 100,\n",
       " 43,\n",
       " 2,\n",
       " 112,\n",
       " 50,\n",
       " 2,\n",
       " 2,\n",
       " 9,\n",
       " 35,\n",
       " 480,\n",
       " 284,\n",
       " 5,\n",
       " 150,\n",
       " 4,\n",
       " 172,\n",
       " 112,\n",
       " 167,\n",
       " 2,\n",
       " 336,\n",
       " 385,\n",
       " 39,\n",
       " 4,\n",
       " 172,\n",
       " 2,\n",
       " 2,\n",
       " 17,\n",
       " 2,\n",
       " 38,\n",
       " 13,\n",
       " 447,\n",
       " 4,\n",
       " 192,\n",
       " 50,\n",
       " 16,\n",
       " 6,\n",
       " 147,\n",
       " 2,\n",
       " 19,\n",
       " 14,\n",
       " 22,\n",
       " 4,\n",
       " 2,\n",
       " 2,\n",
       " 469,\n",
       " 4,\n",
       " 22,\n",
       " 71,\n",
       " 87,\n",
       " 12,\n",
       " 16,\n",
       " 43,\n",
       " 2,\n",
       " 38,\n",
       " 76,\n",
       " 15,\n",
       " 13,\n",
       " 2,\n",
       " 4,\n",
       " 22,\n",
       " 17,\n",
       " 2,\n",
       " 17,\n",
       " 12,\n",
       " 16,\n",
       " 2,\n",
       " 18,\n",
       " 2,\n",
       " 5,\n",
       " 62,\n",
       " 386,\n",
       " 12,\n",
       " 8,\n",
       " 316,\n",
       " 8,\n",
       " 106,\n",
       " 5,\n",
       " 4,\n",
       " 2,\n",
       " 2,\n",
       " 16,\n",
       " 480,\n",
       " 66,\n",
       " 2,\n",
       " 33,\n",
       " 4,\n",
       " 130,\n",
       " 12,\n",
       " 16,\n",
       " 38,\n",
       " 2,\n",
       " 5,\n",
       " 25,\n",
       " 124,\n",
       " 51,\n",
       " 36,\n",
       " 135,\n",
       " 48,\n",
       " 25,\n",
       " 2,\n",
       " 33,\n",
       " 6,\n",
       " 22,\n",
       " 12,\n",
       " 215,\n",
       " 28,\n",
       " 77,\n",
       " 52,\n",
       " 5,\n",
       " 14,\n",
       " 407,\n",
       " 16,\n",
       " 82,\n",
       " 2,\n",
       " 8,\n",
       " 4,\n",
       " 107,\n",
       " 117,\n",
       " 2,\n",
       " 15,\n",
       " 256,\n",
       " 4,\n",
       " 2,\n",
       " 7,\n",
       " 2,\n",
       " 5,\n",
       " 2,\n",
       " 36,\n",
       " 71,\n",
       " 43,\n",
       " 2,\n",
       " 476,\n",
       " 26,\n",
       " 400,\n",
       " 317,\n",
       " 46,\n",
       " 7,\n",
       " 4,\n",
       " 2,\n",
       " 2,\n",
       " 13,\n",
       " 104,\n",
       " 88,\n",
       " 4,\n",
       " 381,\n",
       " 15,\n",
       " 297,\n",
       " 98,\n",
       " 32,\n",
       " 2,\n",
       " 56,\n",
       " 26,\n",
       " 141,\n",
       " 6,\n",
       " 194,\n",
       " 2,\n",
       " 18,\n",
       " 4,\n",
       " 226,\n",
       " 22,\n",
       " 21,\n",
       " 134,\n",
       " 476,\n",
       " 26,\n",
       " 480,\n",
       " 5,\n",
       " 144,\n",
       " 30,\n",
       " 2,\n",
       " 18,\n",
       " 51,\n",
       " 36,\n",
       " 28,\n",
       " 224,\n",
       " 92,\n",
       " 25,\n",
       " 104,\n",
       " 4,\n",
       " 226,\n",
       " 65,\n",
       " 16,\n",
       " 38,\n",
       " 2,\n",
       " 88,\n",
       " 12,\n",
       " 16,\n",
       " 283,\n",
       " 5,\n",
       " 16,\n",
       " 2,\n",
       " 113,\n",
       " 103,\n",
       " 32,\n",
       " 15,\n",
       " 16,\n",
       " 2,\n",
       " 19,\n",
       " 178,\n",
       " 32]"
      ]
     },
     "execution_count": 9,
     "metadata": {},
     "output_type": "execute_result"
    }
   ],
   "source": [
    "train_input[0]"
   ]
  },
  {
   "cell_type": "code",
   "execution_count": null,
   "metadata": {
    "execution": {
     "iopub.execute_input": "2020-10-12T01:18:52.528598Z",
     "iopub.status.busy": "2020-10-12T01:18:52.527510Z",
     "iopub.status.idle": "2020-10-12T01:18:52.532011Z",
     "shell.execute_reply": "2020-10-12T01:18:52.532936Z"
    },
    "scrolled": true
   },
   "outputs": [],
   "source": []
  },
  {
   "cell_type": "markdown",
   "metadata": {},
   "source": [
    "### 1. 데이터 준비"
   ]
  },
  {
   "cell_type": "markdown",
   "metadata": {},
   "source": [
    "#### 훈련데이터와 검증 데이터 준비"
   ]
  },
  {
   "cell_type": "code",
   "execution_count": 10,
   "metadata": {
    "execution": {
     "iopub.execute_input": "2020-10-12T01:18:52.541031Z",
     "iopub.status.busy": "2020-10-12T01:18:52.539873Z",
     "iopub.status.idle": "2020-10-12T01:18:52.812559Z",
     "shell.execute_reply": "2020-10-12T01:18:52.810985Z"
    }
   },
   "outputs": [],
   "source": [
    "from sklearn.model_selection import train_test_split\n",
    "\n",
    "train_input, val_input, train_target, val_target = train_test_split(\n",
    "    train_input, train_target, test_size=0.2, random_state=42)"
   ]
  },
  {
   "cell_type": "code",
   "execution_count": 11,
   "metadata": {
    "execution": {
     "iopub.execute_input": "2020-10-12T01:18:52.833360Z",
     "iopub.status.busy": "2020-10-12T01:18:52.831841Z",
     "iopub.status.idle": "2020-10-12T01:18:52.834920Z",
     "shell.execute_reply": "2020-10-12T01:18:52.836117Z"
    }
   },
   "outputs": [],
   "source": [
    "lengths = np.array([len(x) for x in train_input])"
   ]
  },
  {
   "cell_type": "code",
   "execution_count": 12,
   "metadata": {},
   "outputs": [
    {
     "data": {
      "text/plain": [
       "(11, 1854)"
      ]
     },
     "execution_count": 12,
     "metadata": {},
     "output_type": "execute_result"
    }
   ],
   "source": [
    "np.min(lengths), np.max(lengths)"
   ]
  },
  {
   "cell_type": "code",
   "execution_count": 13,
   "metadata": {
    "execution": {
     "iopub.execute_input": "2020-10-12T01:18:52.843759Z",
     "iopub.status.busy": "2020-10-12T01:18:52.842297Z",
     "iopub.status.idle": "2020-10-12T01:18:52.847506Z",
     "shell.execute_reply": "2020-10-12T01:18:52.848361Z"
    }
   },
   "outputs": [
    {
     "data": {
      "text/plain": [
       "(239.00925, 178.0)"
      ]
     },
     "execution_count": 13,
     "metadata": {},
     "output_type": "execute_result"
    }
   ],
   "source": [
    "np.mean(lengths), np.median(lengths)"
   ]
  },
  {
   "cell_type": "code",
   "execution_count": 14,
   "metadata": {
    "execution": {
     "iopub.execute_input": "2020-10-12T01:18:52.874891Z",
     "iopub.status.busy": "2020-10-12T01:18:52.873857Z",
     "iopub.status.idle": "2020-10-12T01:18:53.042560Z",
     "shell.execute_reply": "2020-10-12T01:18:53.040898Z"
    },
    "scrolled": true
   },
   "outputs": [
    {
     "data": {
      "image/png": "[encoded data removed]",
      "text/plain": [
       "<Figure size 432x288 with 1 Axes>"
      ]
     },
     "metadata": {
      "needs_background": "light"
     },
     "output_type": "display_data"
    }
   ],
   "source": [
    "# sample들의 단어수 분포\n",
    "plt.hist(lengths)\n",
    "plt.show()"
   ]
  },
  {
   "cell_type": "code",
   "execution_count": 15,
   "metadata": {},
   "outputs": [
    {
     "data": {
      "image/png": "[encoded data removed]",
      "text/plain": [
       "<Figure size 432x288 with 1 Axes>"
      ]
     },
     "metadata": {
      "needs_background": "light"
     },
     "output_type": "display_data"
    }
   ],
   "source": [
    "plt.boxplot(lengths) #len, frequency\n",
    "plt.show()"
   ]
  },
  {
   "cell_type": "markdown",
   "metadata": {},
   "source": [
    "#### 최대 100개 단어만 사용하는 시퀀스로 준비"
   ]
  },
  {
   "cell_type": "code",
   "execution_count": 16,
   "metadata": {
    "execution": {
     "iopub.execute_input": "2020-10-12T01:18:53.056410Z",
     "iopub.status.busy": "2020-10-12T01:18:53.054676Z",
     "iopub.status.idle": "2020-10-12T01:18:53.509881Z",
     "shell.execute_reply": "2020-10-12T01:18:53.507938Z"
    }
   },
   "outputs": [],
   "source": [
    "from tensorflow.keras.preprocessing.sequence import pad_sequences\n",
    "\n",
    "train_seq = pad_sequences(train_input, maxlen=100)"
   ]
  },
  {
   "cell_type": "code",
   "execution_count": 23,
   "metadata": {
    "execution": {
     "iopub.execute_input": "2020-10-12T01:18:53.516113Z",
     "iopub.status.busy": "2020-10-12T01:18:53.514858Z",
     "iopub.status.idle": "2020-10-12T01:18:53.519062Z",
     "shell.execute_reply": "2020-10-12T01:18:53.520171Z"
    }
   },
   "outputs": [
    {
     "data": {
      "text/plain": [
       "(20000, 100)"
      ]
     },
     "execution_count": 23,
     "metadata": {},
     "output_type": "execute_result"
    }
   ],
   "source": [
    "train_seq.shape"
   ]
  },
  {
   "cell_type": "code",
   "execution_count": 24,
   "metadata": {
    "execution": {
     "iopub.execute_input": "2020-10-12T01:18:53.529088Z",
     "iopub.status.busy": "2020-10-12T01:18:53.527775Z",
     "iopub.status.idle": "2020-10-12T01:18:53.532885Z",
     "shell.execute_reply": "2020-10-12T01:18:53.533957Z"
    }
   },
   "outputs": [
    {
     "data": {
      "text/plain": [
       "array([ 10,   4,  20,   9,   2, 364, 352,   5,  45,   6,   2,   2,  33,\n",
       "       269,   8,   2, 142,   2,   5,   2,  17,  73,  17, 204,   5,   2,\n",
       "        19,  55,   2,   2,  92,  66, 104,  14,  20,  93,  76,   2, 151,\n",
       "        33,   4,  58,  12, 188,   2, 151,  12, 215,  69, 224, 142,  73,\n",
       "       237,   6,   2,   7,   2,   2, 188,   2, 103,  14,  31,  10,  10,\n",
       "       451,   7,   2,   5,   2,  80,  91,   2,  30,   2,  34,  14,  20,\n",
       "       151,  50,  26, 131,  49,   2,  84,  46,  50,  37,  80,  79,   6,\n",
       "         2,  46,   7,  14,  20,  10,  10, 470, 158], dtype=int32)"
      ]
     },
     "execution_count": 24,
     "metadata": {},
     "output_type": "execute_result"
    }
   ],
   "source": [
    "train_seq[0]"
   ]
  },
  {
   "cell_type": "code",
   "execution_count": 25,
   "metadata": {
    "execution": {
     "iopub.execute_input": "2020-10-12T01:18:53.541335Z",
     "iopub.status.busy": "2020-10-12T01:18:53.540161Z",
     "iopub.status.idle": "2020-10-12T01:18:53.544735Z",
     "shell.execute_reply": "2020-10-12T01:18:53.545765Z"
    }
   },
   "outputs": [
    {
     "data": {
      "text/plain": [
       "[6, 2, 46, 7, 14, 20, 10, 10, 470, 158]"
      ]
     },
     "execution_count": 25,
     "metadata": {},
     "output_type": "execute_result"
    }
   ],
   "source": [
    "train_input[0][-10:]"
   ]
  },
  {
   "cell_type": "code",
   "execution_count": 26,
   "metadata": {
    "execution": {
     "iopub.execute_input": "2020-10-12T01:18:53.553993Z",
     "iopub.status.busy": "2020-10-12T01:18:53.552689Z",
     "iopub.status.idle": "2020-10-12T01:18:53.557009Z",
     "shell.execute_reply": "2020-10-12T01:18:53.558118Z"
    },
    "scrolled": true
   },
   "outputs": [
    {
     "data": {
      "text/plain": [
       "array([  0,   0,   0,   0,   1,   2, 195,  19,  49,   2,   2, 190,   4,\n",
       "         2, 352,   2, 183,  10,  10,  13,  82,  79,   4,   2,  36,  71,\n",
       "       269,   8,   2,  25,  19,  49,   7,   4,   2,   2,   2,   2,   2,\n",
       "        10,  10,  48,  25,  40,   2,  11,   2,   2,  40,   2,   2,   5,\n",
       "         4,   2,   2,  95,  14, 238,  56, 129,   2,  10,  10,  21,   2,\n",
       "        94, 364, 352,   2,   2,  11, 190,  24, 484,   2,   7,  94, 205,\n",
       "       405,  10,  10,  87,   2,  34,  49,   2,   7,   2,   2,   2,   2,\n",
       "         2, 290,   2,  46,  48,  64,  18,   4,   2], dtype=int32)"
      ]
     },
     "execution_count": 26,
     "metadata": {},
     "output_type": "execute_result"
    }
   ],
   "source": [
    "train_seq[5]"
   ]
  },
  {
   "cell_type": "code",
   "execution_count": 27,
   "metadata": {
    "execution": {
     "iopub.execute_input": "2020-10-12T01:18:53.568279Z",
     "iopub.status.busy": "2020-10-12T01:18:53.566949Z",
     "iopub.status.idle": "2020-10-12T01:18:53.688571Z",
     "shell.execute_reply": "2020-10-12T01:18:53.687412Z"
    }
   },
   "outputs": [],
   "source": [
    "val_seq = pad_sequences(val_input, maxlen=100)"
   ]
  },
  {
   "cell_type": "markdown",
   "metadata": {},
   "source": [
    "#### 원-핫 인코딩"
   ]
  },
  {
   "cell_type": "code",
   "execution_count": 33,
   "metadata": {
    "execution": {
     "iopub.execute_input": "2020-10-12T01:18:56.004523Z",
     "iopub.status.busy": "2020-10-12T01:18:56.002786Z",
     "iopub.status.idle": "2020-10-12T01:18:57.766487Z",
     "shell.execute_reply": "2020-10-12T01:18:57.764928Z"
    }
   },
   "outputs": [],
   "source": [
    "from tensorflow.keras.utils import to_categorical\n",
    "\n",
    "train_oh = to_categorical(train_seq)"
   ]
  },
  {
   "cell_type": "code",
   "execution_count": 34,
   "metadata": {
    "execution": {
     "iopub.execute_input": "2020-10-12T01:18:57.774226Z",
     "iopub.status.busy": "2020-10-12T01:18:57.772482Z",
     "iopub.status.idle": "2020-10-12T01:18:57.777731Z",
     "shell.execute_reply": "2020-10-12T01:18:57.778538Z"
    }
   },
   "outputs": [],
   "source": [
    "val_oh = to_categorical(val_seq)"
   ]
  },
  {
   "cell_type": "code",
   "execution_count": null,
   "metadata": {
    "execution": {
     "iopub.execute_input": "2020-10-12T01:18:57.786369Z",
     "iopub.status.busy": "2020-10-12T01:18:57.785416Z",
     "iopub.status.idle": "2020-10-12T01:18:57.790217Z",
     "shell.execute_reply": "2020-10-12T01:18:57.791183Z"
    }
   },
   "outputs": [],
   "source": []
  },
  {
   "cell_type": "code",
   "execution_count": null,
   "metadata": {
    "execution": {
     "iopub.execute_input": "2020-10-12T01:18:57.798946Z",
     "iopub.status.busy": "2020-10-12T01:18:57.797788Z",
     "iopub.status.idle": "2020-10-12T01:18:57.802480Z",
     "shell.execute_reply": "2020-10-12T01:18:57.803390Z"
    }
   },
   "outputs": [],
   "source": []
  },
  {
   "cell_type": "code",
   "execution_count": null,
   "metadata": {
    "execution": {
     "iopub.execute_input": "2020-10-12T01:18:57.810383Z",
     "iopub.status.busy": "2020-10-12T01:18:57.809293Z",
     "iopub.status.idle": "2020-10-12T01:18:58.247989Z",
     "shell.execute_reply": "2020-10-12T01:18:58.248931Z"
    }
   },
   "outputs": [],
   "source": []
  },
  {
   "cell_type": "markdown",
   "metadata": {},
   "source": [
    "#### 모델 생성"
   ]
  },
  {
   "cell_type": "code",
   "execution_count": 35,
   "metadata": {
    "execution": {
     "iopub.execute_input": "2020-10-12T01:18:53.702727Z",
     "iopub.status.busy": "2020-10-12T01:18:53.694374Z",
     "iopub.status.idle": "2020-10-12T01:18:55.997285Z",
     "shell.execute_reply": "2020-10-12T01:18:55.995617Z"
    }
   },
   "outputs": [],
   "source": [
    "from tensorflow.keras import models, layers\n",
    "\n",
    "model = models.Sequential()\n",
    "\n",
    "model.add(layers.SimpleRNN(8, input_shape=(100, 500)))\n",
    "model.add(layers.Dense(1, activation='sigmoid'))"
   ]
  },
  {
   "cell_type": "code",
   "execution_count": 36,
   "metadata": {
    "execution": {
     "iopub.execute_input": "2020-10-12T01:18:58.256367Z",
     "iopub.status.busy": "2020-10-12T01:18:58.255252Z",
     "iopub.status.idle": "2020-10-12T01:18:58.261986Z",
     "shell.execute_reply": "2020-10-12T01:18:58.262846Z"
    }
   },
   "outputs": [
    {
     "name": "stdout",
     "output_type": "stream",
     "text": [
      "Model: \"sequential_2\"\n",
      "_________________________________________________________________\n",
      " Layer (type)                Output Shape              Param #   \n",
      "=================================================================\n",
      " simple_rnn_2 (SimpleRNN)    (None, 8)                 4072      \n",
      "                                                                 \n",
      " dense_2 (Dense)             (None, 1)                 9         \n",
      "                                                                 \n",
      "=================================================================\n",
      "Total params: 4,081\n",
      "Trainable params: 4,081\n",
      "Non-trainable params: 0\n",
      "_________________________________________________________________\n"
     ]
    }
   ],
   "source": [
    "model.summary()"
   ]
  },
  {
   "cell_type": "code",
   "execution_count": 37,
   "metadata": {},
   "outputs": [
    {
     "data": {
      "image/png": "[encoded data removed]",
      "text/plain": [
       "<IPython.core.display.Image object>"
      ]
     },
     "execution_count": 37,
     "metadata": {},
     "output_type": "execute_result"
    }
   ],
   "source": [
    "from tensorflow.keras.utils import plot_model\n",
    "\n",
    "plot_model(model, show_shapes=True)"
   ]
  },
  {
   "cell_type": "markdown",
   "metadata": {},
   "source": [
    "#### 모델 훈련"
   ]
  },
  {
   "cell_type": "code",
   "execution_count": 38,
   "metadata": {
    "execution": {
     "iopub.execute_input": "2020-10-12T01:18:58.286672Z",
     "iopub.status.busy": "2020-10-12T01:18:58.285571Z",
     "iopub.status.idle": "2020-10-12T01:30:36.157752Z",
     "shell.execute_reply": "2020-10-12T01:30:36.159280Z"
    },
    "scrolled": true
   },
   "outputs": [
    {
     "name": "stderr",
     "output_type": "stream",
     "text": [
      "2022-03-25 10:41:14.274573: W tensorflow/core/platform/profile_utils/cpu_utils.cc:128] Failed to get CPU frequency: 0 Hz\n"
     ]
    },
    {
     "name": "stdout",
     "output_type": "stream",
     "text": [
      "Epoch 1/100\n",
      "313/313 [==============================] - 7s 20ms/step - loss: 0.6980 - accuracy: 0.4909 - val_loss: 0.6961 - val_accuracy: 0.4996\n",
      "Epoch 2/100\n",
      "313/313 [==============================] - 7s 23ms/step - loss: 0.6950 - accuracy: 0.5023 - val_loss: 0.6943 - val_accuracy: 0.5120\n",
      "Epoch 3/100\n",
      "313/313 [==============================] - 6s 20ms/step - loss: 0.6923 - accuracy: 0.5178 - val_loss: 0.6914 - val_accuracy: 0.5314\n",
      "Epoch 4/100\n",
      "313/313 [==============================] - 6s 20ms/step - loss: 0.6859 - accuracy: 0.5559 - val_loss: 0.6827 - val_accuracy: 0.5784\n",
      "Epoch 5/100\n",
      "313/313 [==============================] - 6s 20ms/step - loss: 0.6765 - accuracy: 0.6008 - val_loss: 0.6736 - val_accuracy: 0.6092\n",
      "Epoch 6/100\n",
      "313/313 [==============================] - 6s 20ms/step - loss: 0.6652 - accuracy: 0.6356 - val_loss: 0.6621 - val_accuracy: 0.6346\n",
      "Epoch 7/100\n",
      "313/313 [==============================] - 6s 20ms/step - loss: 0.6506 - accuracy: 0.6623 - val_loss: 0.6484 - val_accuracy: 0.6538\n",
      "Epoch 8/100\n",
      "313/313 [==============================] - 6s 20ms/step - loss: 0.6310 - accuracy: 0.6924 - val_loss: 0.6268 - val_accuracy: 0.6880\n",
      "Epoch 9/100\n",
      "313/313 [==============================] - 6s 20ms/step - loss: 0.6109 - accuracy: 0.7135 - val_loss: 0.6103 - val_accuracy: 0.7088\n",
      "Epoch 10/100\n",
      "313/313 [==============================] - 7s 21ms/step - loss: 0.5928 - accuracy: 0.7309 - val_loss: 0.5915 - val_accuracy: 0.7264\n",
      "Epoch 11/100\n",
      "313/313 [==============================] - 6s 21ms/step - loss: 0.5755 - accuracy: 0.7408 - val_loss: 0.5747 - val_accuracy: 0.7354\n",
      "Epoch 12/100\n",
      "313/313 [==============================] - 6s 20ms/step - loss: 0.5590 - accuracy: 0.7531 - val_loss: 0.5607 - val_accuracy: 0.7454\n",
      "Epoch 13/100\n",
      "313/313 [==============================] - 6s 21ms/step - loss: 0.5439 - accuracy: 0.7609 - val_loss: 0.5508 - val_accuracy: 0.7464\n",
      "Epoch 14/100\n",
      "313/313 [==============================] - 6s 20ms/step - loss: 0.5305 - accuracy: 0.7677 - val_loss: 0.5362 - val_accuracy: 0.7582\n",
      "Epoch 15/100\n",
      "313/313 [==============================] - 6s 20ms/step - loss: 0.5168 - accuracy: 0.7747 - val_loss: 0.5258 - val_accuracy: 0.7596\n",
      "Epoch 16/100\n",
      "313/313 [==============================] - 6s 20ms/step - loss: 0.5052 - accuracy: 0.7801 - val_loss: 0.5257 - val_accuracy: 0.7542\n",
      "Epoch 17/100\n",
      "313/313 [==============================] - 6s 20ms/step - loss: 0.4948 - accuracy: 0.7872 - val_loss: 0.5077 - val_accuracy: 0.7646\n",
      "Epoch 18/100\n",
      "313/313 [==============================] - 7s 21ms/step - loss: 0.4849 - accuracy: 0.7901 - val_loss: 0.4996 - val_accuracy: 0.7726\n",
      "Epoch 19/100\n",
      "313/313 [==============================] - 7s 22ms/step - loss: 0.4765 - accuracy: 0.7924 - val_loss: 0.4945 - val_accuracy: 0.7728\n",
      "Epoch 20/100\n",
      "313/313 [==============================] - 6s 20ms/step - loss: 0.4688 - accuracy: 0.7965 - val_loss: 0.4867 - val_accuracy: 0.7764\n",
      "Epoch 21/100\n",
      "313/313 [==============================] - 6s 19ms/step - loss: 0.4617 - accuracy: 0.7994 - val_loss: 0.4845 - val_accuracy: 0.7770\n",
      "Epoch 22/100\n",
      "313/313 [==============================] - 6s 19ms/step - loss: 0.4558 - accuracy: 0.8015 - val_loss: 0.4788 - val_accuracy: 0.7770\n",
      "Epoch 23/100\n",
      "313/313 [==============================] - 6s 20ms/step - loss: 0.4503 - accuracy: 0.8034 - val_loss: 0.4765 - val_accuracy: 0.7782\n",
      "Epoch 24/100\n",
      "313/313 [==============================] - 6s 20ms/step - loss: 0.4457 - accuracy: 0.8048 - val_loss: 0.4729 - val_accuracy: 0.7786\n",
      "Epoch 25/100\n",
      "313/313 [==============================] - 6s 19ms/step - loss: 0.4415 - accuracy: 0.8062 - val_loss: 0.4711 - val_accuracy: 0.7822\n",
      "Epoch 26/100\n",
      "313/313 [==============================] - 6s 20ms/step - loss: 0.4377 - accuracy: 0.8090 - val_loss: 0.4708 - val_accuracy: 0.7808\n",
      "Epoch 27/100\n",
      "313/313 [==============================] - 6s 20ms/step - loss: 0.4350 - accuracy: 0.8093 - val_loss: 0.4667 - val_accuracy: 0.7826\n",
      "Epoch 28/100\n",
      "313/313 [==============================] - 6s 21ms/step - loss: 0.4320 - accuracy: 0.8114 - val_loss: 0.4677 - val_accuracy: 0.7832\n",
      "Epoch 29/100\n",
      "313/313 [==============================] - 7s 21ms/step - loss: 0.4294 - accuracy: 0.8120 - val_loss: 0.4676 - val_accuracy: 0.7820\n",
      "Epoch 30/100\n",
      "313/313 [==============================] - 7s 21ms/step - loss: 0.4266 - accuracy: 0.8133 - val_loss: 0.4662 - val_accuracy: 0.7840\n",
      "Epoch 31/100\n",
      "313/313 [==============================] - 6s 21ms/step - loss: 0.4245 - accuracy: 0.8148 - val_loss: 0.4643 - val_accuracy: 0.7856\n",
      "Epoch 32/100\n",
      "313/313 [==============================] - 6s 21ms/step - loss: 0.4223 - accuracy: 0.8141 - val_loss: 0.4639 - val_accuracy: 0.7878\n",
      "Epoch 33/100\n",
      "313/313 [==============================] - 6s 20ms/step - loss: 0.4205 - accuracy: 0.8165 - val_loss: 0.4632 - val_accuracy: 0.7864\n",
      "Epoch 34/100\n",
      "313/313 [==============================] - 6s 20ms/step - loss: 0.4183 - accuracy: 0.8159 - val_loss: 0.4665 - val_accuracy: 0.7852\n",
      "Epoch 35/100\n",
      "313/313 [==============================] - 6s 20ms/step - loss: 0.4166 - accuracy: 0.8168 - val_loss: 0.4665 - val_accuracy: 0.7834\n",
      "Epoch 36/100\n",
      "313/313 [==============================] - 6s 20ms/step - loss: 0.4150 - accuracy: 0.8176 - val_loss: 0.4615 - val_accuracy: 0.7884\n",
      "Epoch 37/100\n",
      "313/313 [==============================] - 6s 20ms/step - loss: 0.4131 - accuracy: 0.8192 - val_loss: 0.4613 - val_accuracy: 0.7896\n",
      "Epoch 38/100\n",
      "313/313 [==============================] - 6s 20ms/step - loss: 0.4114 - accuracy: 0.8227 - val_loss: 0.4624 - val_accuracy: 0.7886\n",
      "Epoch 39/100\n",
      "313/313 [==============================] - 6s 20ms/step - loss: 0.4098 - accuracy: 0.8213 - val_loss: 0.4634 - val_accuracy: 0.7870\n",
      "Epoch 40/100\n",
      "313/313 [==============================] - 6s 20ms/step - loss: 0.4078 - accuracy: 0.8225 - val_loss: 0.4626 - val_accuracy: 0.7868\n"
     ]
    }
   ],
   "source": [
    "from tensorflow.keras import callbacks, optimizers\n",
    "\n",
    "rmsprop = optimizers.RMSprop(learning_rate=1e-4)\n",
    "model.compile(optimizer=rmsprop, loss='binary_crossentropy', \n",
    "              metrics=['accuracy'])\n",
    "\n",
    "checkpoint_cb = callbacks.ModelCheckpoint('model/best-simplernn-model.h5')\n",
    "early_stopping_cb = callbacks.EarlyStopping(patience=3,\n",
    "                                            restore_best_weights=True)\n",
    "\n",
    "history = model.fit(train_oh, train_target, epochs=100, batch_size=64,\n",
    "                    validation_data=(val_oh, val_target),\n",
    "                    callbacks=[checkpoint_cb, early_stopping_cb])"
   ]
  },
  {
   "cell_type": "markdown",
   "metadata": {},
   "source": [
    "#### 모델 성능 시각화"
   ]
  },
  {
   "cell_type": "code",
   "execution_count": 39,
   "metadata": {
    "execution": {
     "iopub.execute_input": "2020-10-12T01:30:36.190161Z",
     "iopub.status.busy": "2020-10-12T01:30:36.175046Z",
     "iopub.status.idle": "2020-10-12T01:30:36.782577Z",
     "shell.execute_reply": "2020-10-12T01:30:36.784046Z"
    },
    "scrolled": true
   },
   "outputs": [
    {
     "data": {
      "image/png": "[encoded data removed]",
      "text/plain": [
       "<Figure size 648x432 with 1 Axes>"
      ]
     },
     "metadata": {
      "needs_background": "light"
     },
     "output_type": "display_data"
    }
   ],
   "source": [
    "plt.figure(figsize=(9,6))\n",
    "plt.plot(history.history['loss'])\n",
    "plt.plot(history.history['val_loss'])\n",
    "plt.xlabel('epoch')\n",
    "plt.ylabel('loss')\n",
    "plt.grid()\n",
    "plt.legend(['train', 'val'])\n",
    "plt.show()"
   ]
  },
  {
   "cell_type": "markdown",
   "metadata": {},
   "source": [
    "## 단어 임베딩 사용"
   ]
  },
  {
   "cell_type": "markdown",
   "metadata": {},
   "source": [
    "말뭉치(Corpus)\n",
    "- 자연어 연구를 위해 특정한 목적을 가지고 언어의 표본을 추출한 집합\n",
    "\n",
    "밀집 표현(Dense Representation)\n",
    "- 사용자가 설정한 값으로 모든 단어의 벡터 표현의 차원을 맞춤\n",
    "- 이 과정에서 더 이상 0과 1만 가진 값이 아니라 실수값을 가지게 됨  \n",
    "- 예:   \n",
    "    강아지 = [0 0 0 1 ......0] # 10,000 차원  \n",
    "    밀집 표현으로 변경  \n",
    "    강아지 = [0.2 1.8 1.1 .... ] # 128차원  \n",
    "    벡터의 차원이 조밀해졌다고 해서 밀집 벡터(dense bector)라고 함  \n",
    "\n",
    "예 : 단어 happy는 bad 보다 good에 더 가깝고 cat은 good 보다는 dog에 가깝다는 것을 고려하여 배열을 새로운 수치로 변경  "
   ]
  },
  {
   "cell_type": "markdown",
   "metadata": {},
   "source": [
    "- 밀집 단어 벡터(word vector)를 사용하는 것\n",
    "- 저차원의 실수형 벡터\n",
    "  - 참고. 원-핫-인코딩으로 만든 벡터는 희소고차원(어휘 사전에 있는 단어의 수와 차원이 같음)\n",
    "  - 희소벡터의 반대인 밀집벡터"
   ]
  },
  {
   "cell_type": "markdown",
   "metadata": {},
   "source": [
    "#### 단어 임베딩을 만드는 두가지 방법  \n",
    "\n",
    "1. 관심 대상인 문제와 함께 단어 임베딩 학습\n",
    "2. 사전 훈련된 단어 임베딩 이용"
   ]
  },
  {
   "cell_type": "code",
   "execution_count": 40,
   "metadata": {
    "execution": {
     "iopub.execute_input": "2020-10-12T01:30:36.795147Z",
     "iopub.status.busy": "2020-10-12T01:30:36.793959Z",
     "iopub.status.idle": "2020-10-12T01:30:37.414822Z",
     "shell.execute_reply": "2020-10-12T01:30:37.417021Z"
    }
   },
   "outputs": [
    {
     "name": "stdout",
     "output_type": "stream",
     "text": [
      "Model: \"sequential_3\"\n",
      "_________________________________________________________________\n",
      " Layer (type)                Output Shape              Param #   \n",
      "=================================================================\n",
      " embedding (Embedding)       (None, 100, 16)           8000      \n",
      "                                                                 \n",
      " simple_rnn_3 (SimpleRNN)    (None, 8)                 200       \n",
      "                                                                 \n",
      " dense_3 (Dense)             (None, 1)                 9         \n",
      "                                                                 \n",
      "=================================================================\n",
      "Total params: 8,209\n",
      "Trainable params: 8,209\n",
      "Non-trainable params: 0\n",
      "_________________________________________________________________\n"
     ]
    }
   ],
   "source": [
    "model2 = models.Sequential()\n",
    "\n",
    "model2.add(layers.Embedding(500, 16, input_length=100))\n",
    "model2.add(layers.SimpleRNN(8))\n",
    "model2.add(layers.Dense(1, activation='sigmoid'))\n",
    "\n",
    "model2.summary()"
   ]
  },
  {
   "cell_type": "code",
   "execution_count": 41,
   "metadata": {
    "execution": {
     "iopub.execute_input": "2020-10-12T01:30:37.439013Z",
     "iopub.status.busy": "2020-10-12T01:30:37.437655Z",
     "iopub.status.idle": "2020-10-12T01:40:38.584921Z",
     "shell.execute_reply": "2020-10-12T01:40:38.586340Z"
    }
   },
   "outputs": [
    {
     "name": "stdout",
     "output_type": "stream",
     "text": [
      "Epoch 1/100\n",
      "313/313 [==============================] - 3s 8ms/step - loss: 0.6858 - accuracy: 0.5590 - val_loss: 0.6716 - val_accuracy: 0.6298\n",
      "Epoch 2/100\n",
      "313/313 [==============================] - 3s 8ms/step - loss: 0.6604 - accuracy: 0.6516 - val_loss: 0.6530 - val_accuracy: 0.6674\n",
      "Epoch 3/100\n",
      "313/313 [==============================] - 3s 8ms/step - loss: 0.6419 - accuracy: 0.6862 - val_loss: 0.6368 - val_accuracy: 0.6848\n",
      "Epoch 4/100\n",
      "313/313 [==============================] - 3s 8ms/step - loss: 0.6223 - accuracy: 0.7144 - val_loss: 0.6152 - val_accuracy: 0.7240\n",
      "Epoch 5/100\n",
      "313/313 [==============================] - 3s 8ms/step - loss: 0.6014 - accuracy: 0.7366 - val_loss: 0.5962 - val_accuracy: 0.7390\n",
      "Epoch 6/100\n",
      "313/313 [==============================] - 3s 8ms/step - loss: 0.5823 - accuracy: 0.7498 - val_loss: 0.5795 - val_accuracy: 0.7460\n",
      "Epoch 7/100\n",
      "313/313 [==============================] - 3s 8ms/step - loss: 0.5639 - accuracy: 0.7588 - val_loss: 0.5630 - val_accuracy: 0.7566\n",
      "Epoch 8/100\n",
      "313/313 [==============================] - 3s 8ms/step - loss: 0.5463 - accuracy: 0.7704 - val_loss: 0.5488 - val_accuracy: 0.7570\n",
      "Epoch 9/100\n",
      "313/313 [==============================] - 3s 8ms/step - loss: 0.5302 - accuracy: 0.7755 - val_loss: 0.5336 - val_accuracy: 0.7708\n",
      "Epoch 10/100\n",
      "313/313 [==============================] - 3s 8ms/step - loss: 0.5144 - accuracy: 0.7852 - val_loss: 0.5237 - val_accuracy: 0.7688\n",
      "Epoch 11/100\n",
      "313/313 [==============================] - 3s 8ms/step - loss: 0.5008 - accuracy: 0.7907 - val_loss: 0.5121 - val_accuracy: 0.7720\n",
      "Epoch 12/100\n",
      "313/313 [==============================] - 3s 8ms/step - loss: 0.4879 - accuracy: 0.7951 - val_loss: 0.5009 - val_accuracy: 0.7770\n",
      "Epoch 13/100\n",
      "313/313 [==============================] - 3s 8ms/step - loss: 0.4762 - accuracy: 0.8002 - val_loss: 0.4975 - val_accuracy: 0.7780\n",
      "Epoch 14/100\n",
      "313/313 [==============================] - 3s 8ms/step - loss: 0.4665 - accuracy: 0.8030 - val_loss: 0.4851 - val_accuracy: 0.7788\n",
      "Epoch 15/100\n",
      "313/313 [==============================] - 3s 8ms/step - loss: 0.4572 - accuracy: 0.8060 - val_loss: 0.4784 - val_accuracy: 0.7806\n",
      "Epoch 16/100\n",
      "313/313 [==============================] - 3s 8ms/step - loss: 0.4489 - accuracy: 0.8109 - val_loss: 0.4736 - val_accuracy: 0.7802\n",
      "Epoch 17/100\n",
      "313/313 [==============================] - 3s 8ms/step - loss: 0.4419 - accuracy: 0.8115 - val_loss: 0.4703 - val_accuracy: 0.7824\n",
      "Epoch 18/100\n",
      "313/313 [==============================] - 3s 9ms/step - loss: 0.4353 - accuracy: 0.8129 - val_loss: 0.4671 - val_accuracy: 0.7828\n",
      "Epoch 19/100\n",
      "313/313 [==============================] - 3s 8ms/step - loss: 0.4300 - accuracy: 0.8151 - val_loss: 0.4647 - val_accuracy: 0.7832\n",
      "Epoch 20/100\n",
      "313/313 [==============================] - 3s 8ms/step - loss: 0.4248 - accuracy: 0.8186 - val_loss: 0.4619 - val_accuracy: 0.7862\n",
      "Epoch 21/100\n",
      "313/313 [==============================] - 3s 8ms/step - loss: 0.4206 - accuracy: 0.8192 - val_loss: 0.4597 - val_accuracy: 0.7880\n",
      "Epoch 22/100\n",
      "313/313 [==============================] - 3s 8ms/step - loss: 0.4167 - accuracy: 0.8202 - val_loss: 0.4605 - val_accuracy: 0.7858\n",
      "Epoch 23/100\n",
      "313/313 [==============================] - 3s 8ms/step - loss: 0.4128 - accuracy: 0.8213 - val_loss: 0.4594 - val_accuracy: 0.7876\n",
      "Epoch 24/100\n",
      "313/313 [==============================] - 2s 8ms/step - loss: 0.4097 - accuracy: 0.8224 - val_loss: 0.4580 - val_accuracy: 0.7872\n",
      "Epoch 25/100\n",
      "313/313 [==============================] - 3s 8ms/step - loss: 0.4070 - accuracy: 0.8238 - val_loss: 0.4594 - val_accuracy: 0.7870\n",
      "Epoch 26/100\n",
      "313/313 [==============================] - 3s 8ms/step - loss: 0.4044 - accuracy: 0.8244 - val_loss: 0.4568 - val_accuracy: 0.7894\n",
      "Epoch 27/100\n",
      "313/313 [==============================] - 3s 8ms/step - loss: 0.4014 - accuracy: 0.8260 - val_loss: 0.4592 - val_accuracy: 0.7874\n",
      "Epoch 28/100\n",
      "313/313 [==============================] - 3s 8ms/step - loss: 0.3986 - accuracy: 0.8275 - val_loss: 0.4616 - val_accuracy: 0.7864\n",
      "Epoch 29/100\n",
      "313/313 [==============================] - 3s 8ms/step - loss: 0.3966 - accuracy: 0.8295 - val_loss: 0.4593 - val_accuracy: 0.7874\n"
     ]
    }
   ],
   "source": [
    "rmsprop = optimizers.RMSprop(learning_rate=1e-4)\n",
    "model2.compile(optimizer=rmsprop, loss='binary_crossentropy', \n",
    "               metrics=['accuracy'])\n",
    "\n",
    "checkpoint_cb = callbacks.ModelCheckpoint('model/best-embedding-model.h5')\n",
    "early_stopping_cb = callbacks.EarlyStopping(patience=3,\n",
    "                                            restore_best_weights=True)\n",
    "\n",
    "history = model2.fit(train_seq, train_target, epochs=100, batch_size=64,\n",
    "                     validation_data=(val_seq, val_target),\n",
    "                     callbacks=[checkpoint_cb, early_stopping_cb])"
   ]
  },
  {
   "cell_type": "code",
   "execution_count": 42,
   "metadata": {
    "execution": {
     "iopub.execute_input": "2020-10-12T01:40:38.604725Z",
     "iopub.status.busy": "2020-10-12T01:40:38.602954Z",
     "iopub.status.idle": "2020-10-12T01:40:39.220316Z",
     "shell.execute_reply": "2020-10-12T01:40:39.221611Z"
    },
    "scrolled": true
   },
   "outputs": [
    {
     "data": {
      "image/png": "[encoded data removed]",
      "text/plain": [
       "<Figure size 648x432 with 1 Axes>"
      ]
     },
     "metadata": {
      "needs_background": "light"
     },
     "output_type": "display_data"
    }
   ],
   "source": [
    "plt.figure(figsize=(9,6))\n",
    "plt.plot(history.history['loss'])\n",
    "plt.plot(history.history['val_loss'])\n",
    "plt.xlabel('epoch')\n",
    "plt.ylabel('loss')\n",
    "plt.grid()\n",
    "plt.legend(['train', 'val'])\n",
    "plt.show()"
   ]
  },
  {
   "cell_type": "markdown",
   "metadata": {},
   "source": [
    "--- "
   ]
  },
  {
   "cell_type": "markdown",
   "metadata": {},
   "source": [
    "### [마무리]\n",
    "\n",
    "- 말뭉치 : 자연어처리에서 사용하는 텍스트 데이터의 모음. 훈련데이터셋\n",
    "- 토큰 : 텍스트에서 공백으로 구분되는 문자열. 소문자로 변환, 구둣점 삭제 등\n",
    "- 원-핫 인코딩 : 어떤 클래스에 해당하는 원소만 1, 나머지는 0인 벡터\n",
    "- 단어 임베딩 : 정수로 변화된 토큰을 비교적 작은 크기의 실수 밀집 벡터로 변환\n",
    "    - 밀집 벡터는 단어 사이의 관계를 표현\n",
    "\n",
    "\n",
    "### [핵심패키지와 함수]\n",
    "\n",
    "**TensorFlow**\n",
    "\n",
    "- pad_sequence() : 시퀀스 길이를 맞추기 위해 패딩 추가, (샘플개수, 타입스텝개수) 크기의 2차원 배열\n",
    "    - maxlen : 원하는 시퀀스 길이를 지정\n",
    "        - 이 값보다 긴 시퀀스는 잘리고 짧은 시퀀스는 패딩 됨\n",
    "        - 이 값을 지정하지 않으면 긴 시퀀스의 길이가 됨\n",
    "    - padding :패딩을 추가할 위히 지정\n",
    "        - 기본값은 'pre' : 시퀀스 앞에 패딩 추가\n",
    "        - 'post' :시퀀스 뒤에 패딩 추가\n",
    "    - truncating : 긴 시퀀스에서 잘라버릴 위치 지정\n",
    "        - 기본값은 'pre' : 시퀀스 앞부분을 자름\n",
    "        - 'post' :시퀀스 뒷부분을 자름  \n",
    "        \n",
    "        \n",
    "- to_categorical() : 정수 시퀀스를 원-핫 인코딩으로 변환\n",
    "    - 토큰을 원-핫 인코딩하거나 타깃을 원-핫 인코딩할 때 사용\n",
    "    - num_classes : 클래스 개수 지정. 지정하지 않으면 데이터에서 자동으로 찾음  \n",
    "    \n",
    "    \n",
    "- SimpleRNN : 케라스의 기본 순환층 클래스\n",
    "    - 첫번째 매개변수 : 뉴런의 개수\n",
    "    - activation : 활성화함수 지정. 기본값은 하이퍼볼릭 탄젠트 'tanh'\n",
    "    - dropout : 입력에 대한 드롭아웃 비율 지정\n",
    "    - return_sequences : 모든 타임스텝의 은닉 상태를 출력할 지 결정. 기본값은 False  \n",
    "    \n",
    "    \n",
    "- Embedding ; 단어 임베딩을 위한 클래스\n",
    "    - 첫번째 매개변수 : 어휘 사전 크기 지정\n",
    "    - 두번째 매개변수 : Embedding 층이 출력할 밀집 벡터 크기 지정\n",
    "    - input_length : 입력시퀀스의 길이 지정.\n",
    "        - Embedding 층 바로 뒤에 Flatten이나 Dense 클래스가 올 때 꼭 필요"
   ]
  }
 ],
 "metadata": {
  "kernelspec": {
   "display_name": "Python 3 (ipykernel)",
   "language": "python",
   "name": "python3"
  },
  "language_info": {
   "codemirror_mode": {
    "name": "ipython",
    "version": 3
   },
   "file_extension": ".py",
   "mimetype": "text/x-python",
   "name": "python",
   "nbconvert_exporter": "python",
   "pygments_lexer": "ipython3",
   "version": "3.9.0"
  }
 },
 "nbformat": 4,
 "nbformat_minor": 4
}

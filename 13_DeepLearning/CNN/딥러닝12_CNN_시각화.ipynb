{
 "cells": [
  {
   "cell_type": "markdown",
   "metadata": {
    "id": "pHjf9yiGmHLd"
   },
   "source": [
    "# ConvNet 시각화\n",
    "- 컨브넷 중간층의 출력(중간층에 있는 활성화) 시각화\n",
    "  - 입력된 컨브넷 층이 입력을 어떻게 변형시키는 이해. 개별적인 컨브넷 필터의 의미 파악\n",
    "- 클래스 활성화에 대한 히트맵을 이미지에 시각화\n",
    "  - 이미지의 어느 부분이 주어진 클래스에 속하는데 기여했는지 이해\n",
    "  - 이미지에서 객체 위치를 추정하는데 도움이 됨"
   ]
  },
  {
   "cell_type": "code",
   "execution_count": null,
   "metadata": {
    "colab": {
     "base_uri": "https://localhost:8080/",
     "height": 36
    },
    "executionInfo": {
     "elapsed": 258,
     "status": "ok",
     "timestamp": 1645527437518,
     "user": {
      "displayName": "Kyungmi Lee",
      "photoUrl": "https://lh3.googleusercontent.com/a/default-user=s64",
      "userId": "14076883295874579202"
     },
     "user_tz": -540
    },
    "id": "rwv5oikAEh6N",
    "outputId": "2f92343a-56f0-4fef-d4f7-52bc3418df57"
   },
   "outputs": [],
   "source": [
    "import tensorflow as tf\n",
    "tf.__version__"
   ]
  },
  {
   "cell_type": "markdown",
   "metadata": {
    "id": "rPGE1-bR-bZl"
   },
   "source": [
    "\n",
    "## **1. 중간층 활성화 시각화**\n",
    "\n",
    "- 어떤 입력이 주어졌을 때 네트워크에 있는 여러 합성곱과 풀링 층이 출력하는 특성 맵을 그리는 것\n",
    "- 층의 출력이 활성화 함수의 출력이므로 활성화라 부름\n",
    "- 네트워크에 의해 학습된 필터들이 어떻게 입력을 분해하는지 보여줌\n",
    "- 너비, 높이, 깊이(채널) 3개의 차원에 대한 특성 맵 시각화\n",
    "  - 각 채널은 비교적 독립적인 특성을 인코딩하므로 특성 맵의 각 채널 내용을 독립적인 2D 이미지로 그림"
   ]
  },
  {
   "cell_type": "markdown",
   "metadata": {
    "id": "FwPkPgr7EFPY"
   },
   "source": [
    "**1) 네트워크 모델 로드**\n",
    "- Dogs and Cats small 데이터 증식하여 생성한 네트워크 모델 로드"
   ]
  },
  {
   "cell_type": "code",
   "execution_count": null,
   "metadata": {
    "colab": {
     "base_uri": "https://localhost:8080/"
    },
    "executionInfo": {
     "elapsed": 1263,
     "status": "ok",
     "timestamp": 1645527464557,
     "user": {
      "displayName": "Kyungmi Lee",
      "photoUrl": "https://lh3.googleusercontent.com/a/default-user=s64",
      "userId": "14076883295874579202"
     },
     "user_tz": -540
    },
    "id": "v_BdUdIUmGWc",
    "outputId": "5db746ea-242b-4176-9be5-6fa8b12e070a"
   },
   "outputs": [],
   "source": [
    "from tensorflow.keras.models import load_model\n",
    "\n",
    "model = load_model('./model/cats_and_dogs_small_augmentation.h5')\n",
    "model.summary()"
   ]
  },
  {
   "cell_type": "markdown",
   "metadata": {
    "id": "aqy4KP76OOxs"
   },
   "source": [
    "**2) 개별 이미지 전처리**\n",
    "- 새로운 고양이 이미지를 입력 이미지로 선택 "
   ]
  },
  {
   "cell_type": "code",
   "execution_count": null,
   "metadata": {
    "colab": {
     "base_uri": "https://localhost:8080/"
    },
    "executionInfo": {
     "elapsed": 7005,
     "status": "ok",
     "timestamp": 1645527475694,
     "user": {
      "displayName": "Kyungmi Lee",
      "photoUrl": "https://lh3.googleusercontent.com/a/default-user=s64",
      "userId": "14076883295874579202"
     },
     "user_tz": -540
    },
    "id": "fbrWTgmlOhV5",
    "outputId": "64cdf81b-f684-481c-f288-92b6a5cdec34"
   },
   "outputs": [],
   "source": [
    "img_path = './datasets/cats_and_dogs_small/test/cats/cat.1700.jpg'\n",
    "\n",
    "from tensorflow.keras.preprocessing.image import load_img, img_to_array\n",
    "import numpy as np\n",
    "\n",
    "img = load_img(img_path, target_size=(150,150))\n",
    "img_tensor = img_to_array(img)\n",
    "img_tensor = np.expand_dims(img_tensor, axis=0)   # 이미지를 4D텐서로 변환\n",
    "img_tensor /= 255.\n",
    "\n",
    "print(img_tensor.shape)\n"
   ]
  },
  {
   "cell_type": "markdown",
   "metadata": {
    "id": "bteGc0afPtJM"
   },
   "source": [
    "- 선택 이미지 출력"
   ]
  },
  {
   "cell_type": "code",
   "execution_count": null,
   "metadata": {
    "colab": {
     "base_uri": "https://localhost:8080/",
     "height": 269
    },
    "executionInfo": {
     "elapsed": 1090,
     "status": "ok",
     "timestamp": 1645527480399,
     "user": {
      "displayName": "Kyungmi Lee",
      "photoUrl": "https://lh3.googleusercontent.com/a/default-user=s64",
      "userId": "14076883295874579202"
     },
     "user_tz": -540
    },
    "id": "r4dEaUoOPx5g",
    "outputId": "223069eb-6926-42b6-b6ad-b4834d3b86ca"
   },
   "outputs": [],
   "source": [
    " import matplotlib.pyplot as plt\n",
    "\n",
    " plt.imshow(img_tensor[0])\n",
    " plt.show()"
   ]
  },
  {
   "cell_type": "markdown",
   "metadata": {
    "id": "KZR2O_QsP6KQ"
   },
   "source": [
    "**3) 입력 텐서와 출력 텐서의 리스트로 모델 객체 생성**\n",
    "- keras의 Model 클래스를 사용하여 모델 생성\n",
    "  - 모델 객체 생성을 위한 2개의 매개변수 필요\n",
    "    - 입력 텐서(또는 입력 텐서 리스트)\n",
    "    - 출력 텐서(또는 출력 텐서 리스트)\n",
    "  - 반환 객체\n",
    "    - 특정 입력과 특정 출력을 매핑한 Sequential과 같은 케라스 모델"
   ]
  },
  {
   "cell_type": "code",
   "execution_count": null,
   "metadata": {
    "id": "yYpVkkt0RIJ6"
   },
   "outputs": [],
   "source": [
    "from tensorflow.keras.models import Model\n",
    "\n",
    "# 상위 8개 층의 출력을 추출\n",
    "layer_outputs = [layer.output for layer in model.layers[:8]]\n",
    "\n",
    "# 입력에 대해 8개 층의 출력을 반환하는 모델 생성\n",
    "activation_model = Model(inputs=model.input, outputs=layer_outputs)"
   ]
  },
  {
   "cell_type": "markdown",
   "metadata": {
    "id": "CczE79KbS8gk"
   },
   "source": [
    "**4) 예측 모드로 모델 실행(predict)**"
   ]
  },
  {
   "cell_type": "code",
   "execution_count": null,
   "metadata": {
    "id": "3FqUOUXkTCOX"
   },
   "outputs": [],
   "source": [
    "activations = activation_model.predict(img_tensor)"
   ]
  },
  {
   "cell_type": "markdown",
   "metadata": {
    "id": "P0MUBQJkTxKP"
   },
   "source": [
    "**5) 중간층 활성화 시각화**\n",
    "- 첫번째 합성곱 층 활성화"
   ]
  },
  {
   "cell_type": "code",
   "execution_count": null,
   "metadata": {
    "colab": {
     "base_uri": "https://localhost:8080/"
    },
    "executionInfo": {
     "elapsed": 237,
     "status": "ok",
     "timestamp": 1645527505835,
     "user": {
      "displayName": "Kyungmi Lee",
      "photoUrl": "https://lh3.googleusercontent.com/a/default-user=s64",
      "userId": "14076883295874579202"
     },
     "user_tz": -540
    },
    "id": "AaQ7QS8jUQ-b",
    "outputId": "34bf6c5c-21e4-4b26-e8bb-553d267555cd"
   },
   "outputs": [],
   "source": [
    "# 고양이 이미지에 대한 첫번째 합성곱 층 활성화\n",
    "first_layer_activation = activations[0]\n",
    "print(first_layer_activation.shape)"
   ]
  },
  {
   "cell_type": "markdown",
   "metadata": {
    "id": "vStKL00KULft"
   },
   "source": [
    "- 첫번째 층 활성화 중 20번째 채널 시각화"
   ]
  },
  {
   "cell_type": "code",
   "execution_count": null,
   "metadata": {
    "colab": {
     "base_uri": "https://localhost:8080/",
     "height": 294
    },
    "executionInfo": {
     "elapsed": 305,
     "status": "ok",
     "timestamp": 1645527509673,
     "user": {
      "displayName": "Kyungmi Lee",
      "photoUrl": "https://lh3.googleusercontent.com/a/default-user=s64",
      "userId": "14076883295874579202"
     },
     "user_tz": -540
    },
    "id": "k58VJiiNUh5s",
    "outputId": "68e3c4fa-0338-4e2e-87fc-cd6b70a08ffd"
   },
   "outputs": [],
   "source": [
    "import matplotlib.pyplot as plt\n",
    "\n",
    "plt.matshow(first_layer_activation[0,:,:,19], cmap='viridis')"
   ]
  },
  {
   "cell_type": "markdown",
   "metadata": {
    "id": "elgvnyKtVBew"
   },
   "source": [
    "- 첫번째 층 활성화 중 16번째 채널 시각화"
   ]
  },
  {
   "cell_type": "code",
   "execution_count": null,
   "metadata": {
    "colab": {
     "base_uri": "https://localhost:8080/",
     "height": 294
    },
    "executionInfo": {
     "elapsed": 381,
     "status": "ok",
     "timestamp": 1645527515684,
     "user": {
      "displayName": "Kyungmi Lee",
      "photoUrl": "https://lh3.googleusercontent.com/a/default-user=s64",
      "userId": "14076883295874579202"
     },
     "user_tz": -540
    },
    "id": "o8aazQMvVHJI",
    "outputId": "0094c740-5b98-4d0d-b614-3c9ae67c2ad2"
   },
   "outputs": [],
   "source": [
    "plt.matshow(first_layer_activation[0,:,:,15], cmap='viridis')"
   ]
  },
  {
   "cell_type": "markdown",
   "metadata": {
    "id": "WbwOfvwXYC3M"
   },
   "source": [
    "- 네트워크의 모든 중간층(8개) 활성화 시각화"
   ]
  },
  {
   "cell_type": "code",
   "execution_count": null,
   "metadata": {
    "colab": {
     "base_uri": "https://localhost:8080/",
     "height": 1000
    },
    "executionInfo": {
     "elapsed": 2788,
     "status": "ok",
     "timestamp": 1645527738616,
     "user": {
      "displayName": "Kyungmi Lee",
      "photoUrl": "https://lh3.googleusercontent.com/a/default-user=s64",
      "userId": "14076883295874579202"
     },
     "user_tz": -540
    },
    "id": "2fGbubdOYHka",
    "outputId": "8af1ef9e-544e-4a36-b4d1-03c1462b1cae"
   },
   "outputs": [],
   "source": [
    "layer_names = []\n",
    "for layer in model.layers[:8]:\n",
    "  layer_names.append(layer.name)\n",
    "\n",
    "images_per_row = 16\n",
    "\n",
    "for layer_name, layer_activation in zip(layer_names, activations):\n",
    "  n_features = layer_activation.shape[-1]     # 특성 맵에 있는 특성의 수\n",
    "  size = layer_activation.shape[1]            # 특성 맵의 크기는 (1, size, size, n_features)\n",
    "  n_cols = n_features // images_per_row       # 활성화 채널을 위한 그리드 크기 계산\n",
    "  display_grid = np.zeros((size*n_cols, images_per_row*size))\n",
    "\n",
    "  # 각 활성화를 하나의 큰 그리드에 채움\n",
    "  for col in range(n_cols):\n",
    "    for row in range(images_per_row):\n",
    "      channel_image = layer_activation[0, :, :, col*images_per_row+row]\n",
    "      \n",
    "      # 그래프로 나타내기 좋게 특성 변환\n",
    "      channel_image -= channel_image.mean()\n",
    "      channel_image /= channel_image.std()\n",
    "      channel_image *= 64\n",
    "      channel_image += 128\n",
    "\n",
    "      channel_image = np.clip(channel_image, 0, 255).astype('uint8')\n",
    "\n",
    "      # 그리드 출력\n",
    "      display_grid[col*size : (col+1)*size, row*size:(row+1)*size] = channel_image\n",
    "\n",
    "  scale = 1./size\n",
    "  plt.figure(figsize=(scale*display_grid.shape[1],\n",
    "                    scale*display_grid.shape[0])) \n",
    "  plt.title(layer_name)\n",
    "  plt.grid(False)\n",
    "  plt.imshow(display_grid, aspect='auto', cmap='viridis')\n",
    "\n",
    "plt.show()"
   ]
  },
  {
   "cell_type": "markdown",
   "metadata": {
    "id": "2UQY81hh7XoI"
   },
   "source": [
    "\n",
    "\n",
    "---\n",
    "\n",
    "\n",
    "\n",
    "---\n",
    "\n"
   ]
  },
  {
   "cell_type": "markdown",
   "metadata": {
    "id": "9ElN4NNS_vg9"
   },
   "source": [
    "## **2. 클래스 활성화의 히트맵 시각화**"
   ]
  },
  {
   "cell_type": "markdown",
   "metadata": {
    "id": "Fumso7NKCbty"
   },
   "source": [
    "**클래스 활성화 맵(class activation map: CAM)**\n",
    "- 특정 출력 클래스에 대해 입력 이미지의 모든 위치를 계산한 2D점수 그리드\n",
    "- 이미지의 어느 부분이 컨브넷의 최종 분류 결정에 기여하는지 이해하는데 유용함\n",
    "- 분류에 실수가 있는 경우 컨브넷의 결정 과정을 디버깅하는데 도움이 됨\n",
    "- 이미지에 특정 물체가 있는 위치를 파악하는데 사용할 수 있음"
   ]
  },
  {
   "cell_type": "markdown",
   "metadata": {
    "id": "VWXVS4whRhdc"
   },
   "source": [
    "**클래스 활성화 맵 시각화 기술**\n",
    "- Grad-CAM: Visual Explanations from Deep Networkd via Gradient-based Localization\n",
    "  - 입력 이미지가 주어지면 합성곱 층에 있는 특성 맵의 출력을 추출\n",
    "  - 특성 맵의 모든 채널 출력에 채널에 대한 클래스의 그래디언트 평균을 곱함\n",
    "\n",
    "- '입력 이미지가 각 채널을 활성화하는 정도'에 대한 공간적인 맵을 '클래스에 대한 각 채널의 중요도'로 가중치를 부여하여 '입력 이미지가 클래스를 활성화하는 정도'에 대한 공간적인 맵을 만드는 것"
   ]
  },
  {
   "cell_type": "markdown",
   "metadata": {
    "id": "h3G1qHzfC5bQ"
   },
   "source": [
    "예. VGG16 네트워크를 이용한 클래스 활성화 맵"
   ]
  },
  {
   "cell_type": "code",
   "execution_count": null,
   "metadata": {
    "colab": {
     "base_uri": "https://localhost:8080/"
    },
    "executionInfo": {
     "elapsed": 6474,
     "status": "ok",
     "timestamp": 1645529442383,
     "user": {
      "displayName": "Kyungmi Lee",
      "photoUrl": "https://lh3.googleusercontent.com/a/default-user=s64",
      "userId": "14076883295874579202"
     },
     "user_tz": -540
    },
    "id": "4wMjExvmDhmu",
    "outputId": "555dc91d-a509-4f66-c80c-bb3e02021b7a"
   },
   "outputs": [],
   "source": [
    "from tensorflow.keras.applications.vgg16 import VGG16\n",
    "\n",
    "model = VGG16(weights='imagenet')"
   ]
  },
  {
   "cell_type": "markdown",
   "metadata": {
    "id": "iKXEHY5YMoyG"
   },
   "source": [
    "VGG16을 위한 입력 이미지 전처리\n",
    "- 샘플이미지 : 초원을 걷는 어미와 새끼 코끼리 이미지\n",
    "- 이미지 로드 후 224*224 크기로 변경하고 넘파이 float32 텐서로 변경 후 전처리 함수 적용"
   ]
  },
  {
   "cell_type": "code",
   "execution_count": null,
   "metadata": {
    "id": "ohYaZrQXNH46"
   },
   "outputs": [],
   "source": [
    "from tensorflow.keras.preprocessing.image import load_img, img_to_array\n",
    "from tensorflow.keras.applications.vgg16 import preprocess_input, decode_predictions\n",
    "import numpy as np\n",
    "\n",
    "img_path = './datasets/creative_commons_elephant.jpg'\n",
    "\n",
    "img = load_img(img_path, target_size= (224,224))\n",
    "x = img_to_array(img)\n",
    "x = np.expand_dims(x, axis = 0)\n",
    "x = preprocess_input(x)"
   ]
  },
  {
   "cell_type": "code",
   "execution_count": null,
   "metadata": {
    "colab": {
     "base_uri": "https://localhost:8080/",
     "height": 269
    },
    "executionInfo": {
     "elapsed": 1079,
     "status": "ok",
     "timestamp": 1645532256471,
     "user": {
      "displayName": "Kyungmi Lee",
      "photoUrl": "https://lh3.googleusercontent.com/a/default-user=s64",
      "userId": "14076883295874579202"
     },
     "user_tz": -540
    },
    "id": "0dF5mPTpXIuG",
    "outputId": "387d904b-7ff2-42e9-8a5e-79174fff8e2d"
   },
   "outputs": [],
   "source": [
    "sample_img = plt.imread('./datasets/creative_commons_elephant.jpg')\n",
    "plt.imshow(sample_img)\n",
    "plt.show()"
   ]
  },
  {
   "cell_type": "markdown",
   "metadata": {
    "id": "a6F0IEjnPMgb"
   },
   "source": [
    "샘플 이미지에 대한 사전 훈련된 네트워크 실행\n",
    "- 예측 벡터 : pred"
   ]
  },
  {
   "cell_type": "code",
   "execution_count": null,
   "metadata": {
    "colab": {
     "base_uri": "https://localhost:8080/"
    },
    "executionInfo": {
     "elapsed": 993,
     "status": "ok",
     "timestamp": 1645530187874,
     "user": {
      "displayName": "Kyungmi Lee",
      "photoUrl": "https://lh3.googleusercontent.com/a/default-user=s64",
      "userId": "14076883295874579202"
     },
     "user_tz": -540
    },
    "id": "dZXbyjQwPduV",
    "outputId": "4132ef3c-c1c0-417e-e069-846de85f86b9"
   },
   "outputs": [],
   "source": [
    "pred = model.predict(x)"
   ]
  },
  {
   "cell_type": "markdown",
   "metadata": {
    "id": "BiG_jnR1PgBN"
   },
   "source": [
    "디코딩"
   ]
  },
  {
   "cell_type": "code",
   "execution_count": null,
   "metadata": {
    "colab": {
     "base_uri": "https://localhost:8080/"
    },
    "executionInfo": {
     "elapsed": 6,
     "status": "ok",
     "timestamp": 1645530293460,
     "user": {
      "displayName": "Kyungmi Lee",
      "photoUrl": "https://lh3.googleusercontent.com/a/default-user=s64",
      "userId": "14076883295874579202"
     },
     "user_tz": -540
    },
    "id": "50JLBCLuPlEg",
    "outputId": "3964a5ec-6a64-430b-cef9-53edf2bcef15"
   },
   "outputs": [],
   "source": [
    "print('Predicted:', decode_predictions(pred, top=3)[0])"
   ]
  },
  {
   "cell_type": "markdown",
   "metadata": {
    "id": "ATOaCka5QLv6"
   },
   "source": [
    "예측 벡터에서 최대로 활성화된 항목"
   ]
  },
  {
   "cell_type": "code",
   "execution_count": null,
   "metadata": {
    "colab": {
     "base_uri": "https://localhost:8080/"
    },
    "executionInfo": {
     "elapsed": 240,
     "status": "ok",
     "timestamp": 1645530429273,
     "user": {
      "displayName": "Kyungmi Lee",
      "photoUrl": "https://lh3.googleusercontent.com/a/default-user=s64",
      "userId": "14076883295874579202"
     },
     "user_tz": -540
    },
    "id": "g5h_wrtVQYLW",
    "outputId": "a1579844-3c9d-4627-e44f-e7ae5888441c"
   },
   "outputs": [],
   "source": [
    "np.argmax(pred[0])"
   ]
  },
  {
   "cell_type": "markdown",
   "metadata": {
    "id": "ieAxdXtyQbOE"
   },
   "source": [
    "**Grad-CAM 알고리즘 설정**"
   ]
  },
  {
   "cell_type": "code",
   "execution_count": null,
   "metadata": {
    "colab": {
     "base_uri": "https://localhost:8080/"
    },
    "executionInfo": {
     "elapsed": 269,
     "status": "ok",
     "timestamp": 1645531670872,
     "user": {
      "displayName": "Kyungmi Lee",
      "photoUrl": "https://lh3.googleusercontent.com/a/default-user=s64",
      "userId": "14076883295874579202"
     },
     "user_tz": -540
    },
    "id": "asKMFdJXSLVc",
    "outputId": "233211ad-954e-4ab5-e11a-34bbd08f3dc4"
   },
   "outputs": [],
   "source": [
    "from keras import backend as K\n",
    "african_elephant_output = model.output[:, 386]\n",
    "\n",
    "last_conv_layer = model.get_layer('block5_conv3')\n",
    "grads = K.gradients(african_elephant_output, last_conv_layer.output)[0]\n",
    "pooled_grads = K.mean(grads, axis=(0, 1, 2))\n",
    "print(pooled_grads)\n",
    "iterate = K.function([model.input],\n",
    "                     [pooled_grads, last_conv_layer.output[0]])\n",
    "pooled_grads_value, conv_layer_output_value = iterate([x])\n",
    "\n",
    "for i in range(512):\n",
    "  conv_layer_output_value[:,:,i] *= pooled_grads_value[i]\n",
    "\n",
    "heatmap = np.mean(conv_layer_output_value, axis=-1)"
   ]
  },
  {
   "cell_type": "markdown",
   "metadata": {
    "id": "ZBvuE-NpTzWD"
   },
   "source": [
    "**히트맵 후처리**\n",
    "- 시각화를 위해 0~1사이로 정규화"
   ]
  },
  {
   "cell_type": "code",
   "execution_count": null,
   "metadata": {
    "colab": {
     "base_uri": "https://localhost:8080/",
     "height": 294
    },
    "executionInfo": {
     "elapsed": 267,
     "status": "ok",
     "timestamp": 1645531674392,
     "user": {
      "displayName": "Kyungmi Lee",
      "photoUrl": "https://lh3.googleusercontent.com/a/default-user=s64",
      "userId": "14076883295874579202"
     },
     "user_tz": -540
    },
    "id": "mLOo6yyxT6dV",
    "outputId": "4291b223-bdab-426d-f62b-4b01d6a65925"
   },
   "outputs": [],
   "source": [
    "heatmap = np.maximum(heatmap, 0)\n",
    "heatmap /= np.max(heatmap)\n",
    "\n",
    "plt.matshow(heatmap)"
   ]
  },
  {
   "cell_type": "markdown",
   "metadata": {
    "id": "SebLs_tnUIZc"
   },
   "source": [
    "**openCV를 사용하여 원본 이미지에 히트맵 붙이기**"
   ]
  },
  {
   "cell_type": "code",
   "execution_count": null,
   "metadata": {
    "colab": {
     "base_uri": "https://localhost:8080/"
    },
    "executionInfo": {
     "elapsed": 234,
     "status": "ok",
     "timestamp": 1645531980485,
     "user": {
      "displayName": "Kyungmi Lee",
      "photoUrl": "https://lh3.googleusercontent.com/a/default-user=s64",
      "userId": "14076883295874579202"
     },
     "user_tz": -540
    },
    "id": "AThwck7YVSFq",
    "outputId": "2aad3d00-072a-46c1-ecea-fccbe43bf566"
   },
   "outputs": [],
   "source": [
    "import cv2\n",
    "\n",
    "img = cv2.imread(img_path)\n",
    "heatmap = cv2.resize(heatmap, (img.shape[1], img.shape[0]))\n",
    "heatmap = np.uint8(255*heatmap)\n",
    "heatmap = cv2.applyColorMap(heatmap, cv2.COLORMAP_JET)\n",
    "superimposed_img = heatmap * 0.4 + img\n",
    "cv2.imwrite('./datasets/elephant_cam.jpg', superimposed_img)\n"
   ]
  },
  {
   "cell_type": "markdown",
   "metadata": {
    "id": "a0b6S2o4aHcY"
   },
   "source": [
    "원본이미지에 클래스 활성화 히트맵을 겹친 이미지"
   ]
  },
  {
   "cell_type": "code",
   "execution_count": null,
   "metadata": {
    "colab": {
     "base_uri": "https://localhost:8080/",
     "height": 288
    },
    "executionInfo": {
     "elapsed": 787,
     "status": "ok",
     "timestamp": 1645532160102,
     "user": {
      "displayName": "Kyungmi Lee",
      "photoUrl": "https://lh3.googleusercontent.com/a/default-user=s64",
      "userId": "14076883295874579202"
     },
     "user_tz": -540
    },
    "id": "hSiEBsGlWMpN",
    "outputId": "950877ae-ab5e-42b8-91dd-a2d35ebfe527"
   },
   "outputs": [],
   "source": [
    "result = plt.imread('./datasets/elephant_cam.jpg')\n",
    "\n",
    "plt.imshow(result)\n",
    "plt.show"
   ]
  }
 ],
 "metadata": {
  "colab": {
   "authorship_tag": "ABX9TyNWpm8kwtBI6JeIRdkPXhvM",
   "collapsed_sections": [],
   "name": "2_05_CNN_컨브넷시각화.ipynb",
   "provenance": []
  },
  "kernelspec": {
   "display_name": "Python 3 (ipykernel)",
   "language": "python",
   "name": "python3"
  },
  "language_info": {
   "codemirror_mode": {
    "name": "ipython",
    "version": 3
   },
   "file_extension": ".py",
   "mimetype": "text/x-python",
   "name": "python",
   "nbconvert_exporter": "python",
   "pygments_lexer": "ipython3",
   "version": "3.9.7"
  }
 },
 "nbformat": 4,
 "nbformat_minor": 1
}

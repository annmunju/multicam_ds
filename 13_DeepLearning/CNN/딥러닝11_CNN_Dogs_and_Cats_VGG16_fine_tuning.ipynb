{
 "cells": [
  {
   "cell_type": "markdown",
   "metadata": {
    "id": "IQEAy5-_hDHM"
   },
   "source": [
    "# 사전 학습된 CNN(VGG16)을 이용한 모델의 미세조정(fine tuning)"
   ]
  },
  {
   "cell_type": "markdown",
   "metadata": {
    "id": "IQEAy5-_hDHM"
   },
   "source": [
    "- Dogs and Cats small dataset"
   ]
  },
  {
   "cell_type": "markdown",
   "metadata": {
    "id": "IQEAy5-_hDHM"
   },
   "source": [
    "### VGG16\n",
    "- University of Oxford - Visual Geometry Group\n",
    "- 2014 ILSVRC 2nd Model\n",
    "- ImageNet Large Scale Visual Recognition Challenge (ILSVRC)"
   ]
  },
  {
   "cell_type": "code",
   "execution_count": null,
   "metadata": {},
   "outputs": [],
   "source": [
    "import warnings\n",
    "warnings.filterwarnings('ignore')"
   ]
  },
  {
   "cell_type": "code",
   "execution_count": null,
   "metadata": {
    "colab": {
     "base_uri": "https://localhost:8080/",
     "height": 36
    },
    "executionInfo": {
     "elapsed": 309,
     "status": "ok",
     "timestamp": 1645508876509,
     "user": {
      "displayName": "Kyungmi Lee",
      "photoUrl": "https://lh3.googleusercontent.com/a/default-user=s64",
      "userId": "14076883295874579202"
     },
     "user_tz": -540
    },
    "id": "vns_KVWcwv9Z",
    "outputId": "3868d107-ce64-4d05-8769-fa8e9c1da14b"
   },
   "outputs": [],
   "source": [
    "import tensorflow as tf\n",
    "tf.__version__"
   ]
  },
  {
   "cell_type": "markdown",
   "metadata": {
    "id": "-vMIpPCBIr-I"
   },
   "source": [
    "### 디렉토리 설정"
   ]
  },
  {
   "cell_type": "code",
   "execution_count": null,
   "metadata": {
    "id": "bn9XnP9uMMd2"
   },
   "outputs": [],
   "source": [
    "import os\n",
    "import numpy as np\n",
    "\n",
    "base_dir ='./datasets/cats_and_dogs_small'\n",
    "train_dir = os.path.join(base_dir,'train')\n",
    "validation_dir = os.path.join(base_dir, 'validation')\n",
    "test_dir = os.path.join(base_dir, 'test')"
   ]
  },
  {
   "cell_type": "markdown",
   "metadata": {
    "id": "1Kod3XGYadBl"
   },
   "source": [
    "### 1. 데이터 증식을 위한 설정"
   ]
  },
  {
   "cell_type": "code",
   "execution_count": null,
   "metadata": {
    "colab": {
     "base_uri": "https://localhost:8080/"
    },
    "executionInfo": {
     "elapsed": 10735,
     "status": "ok",
     "timestamp": 1645508906541,
     "user": {
      "displayName": "Kyungmi Lee",
      "photoUrl": "https://lh3.googleusercontent.com/a/default-user=s64",
      "userId": "14076883295874579202"
     },
     "user_tz": -540
    },
    "id": "r4mZTCDBZ4TF",
    "outputId": "705dc2af-05a1-4a85-acdc-610d3a83ca91"
   },
   "outputs": [],
   "source": [
    "from tensorflow.keras.preprocessing.image import ImageDataGenerator\n",
    "\n",
    "train_datagen = ImageDataGenerator(\n",
    "    rescale=1./255,\n",
    "    rotation_range = 20,\n",
    "    width_shift_range = 0.1,\n",
    "    height_shift_range = 0.1,\n",
    "    shear_range = 0.1,\n",
    "    zoom_range =0.1,\n",
    "    horizontal_flip = True,\n",
    "    fill_mode='nearest'\n",
    ")\n",
    "\n",
    "test_datagen = ImageDataGenerator(rescale=1./255)\n",
    "\n",
    "train_generator = train_datagen.flow_from_directory(\n",
    "    train_dir,\n",
    "    target_size=(150, 150),\n",
    "    batch_size = 20,\n",
    "    class_mode = 'binary'\n",
    ")\n",
    "\n",
    "validation_generator = test_datagen.flow_from_directory(\n",
    "    validation_dir,\n",
    "    target_size=(150, 150),\n",
    "    batch_size=20,\n",
    "    class_mode = 'binary'\n",
    ")"
   ]
  },
  {
   "cell_type": "markdown",
   "metadata": {
    "id": "O0ENAApNwij4"
   },
   "source": [
    "### 2. Base Model 생성"
   ]
  },
  {
   "cell_type": "code",
   "execution_count": null,
   "metadata": {
    "colab": {
     "base_uri": "https://localhost:8080/"
    },
    "executionInfo": {
     "elapsed": 3857,
     "status": "ok",
     "timestamp": 1645508910385,
     "user": {
      "displayName": "Kyungmi Lee",
      "photoUrl": "https://lh3.googleusercontent.com/a/default-user=s64",
      "userId": "14076883295874579202"
     },
     "user_tz": -540
    },
    "id": "ifWXDfysFGNb",
    "outputId": "471686ef-47ed-440a-c5df-da21954ebff2"
   },
   "outputs": [],
   "source": [
    "# VGG16 합성곱 기반 층 만들기\n",
    "\n",
    "from tensorflow.keras.applications import VGG16\n",
    "\n",
    "conv_base = VGG16(weights='imagenet',\n",
    "                  include_top=False,\n",
    "                  input_shape=(150, 150, 3))"
   ]
  },
  {
   "cell_type": "code",
   "execution_count": null,
   "metadata": {
    "colab": {
     "base_uri": "https://localhost:8080/"
    },
    "executionInfo": {
     "elapsed": 555,
     "status": "ok",
     "timestamp": 1645508910923,
     "user": {
      "displayName": "Kyungmi Lee",
      "photoUrl": "https://lh3.googleusercontent.com/a/default-user=s64",
      "userId": "14076883295874579202"
     },
     "user_tz": -540
    },
    "id": "TqM8cf8AGNhx",
    "outputId": "698c913f-0b7c-412c-860f-c1da5f48ffeb"
   },
   "outputs": [],
   "source": [
    "conv_base.summary()"
   ]
  },
  {
   "cell_type": "markdown",
   "metadata": {
    "id": "vbpBK9vpfOMa"
   },
   "source": [
    "### 3. conv_base의 특정 층 미세조정 설정\n",
    "- block5_conv1 층만 미세조정 가능하도록 설정"
   ]
  },
  {
   "cell_type": "code",
   "execution_count": null,
   "metadata": {
    "id": "C_YkeSQyfwq2"
   },
   "outputs": [],
   "source": [
    "conv_base.trainable = True\n",
    "\n",
    "set_trainable = False\n",
    "for layer in conv_base.layers:\n",
    "    if layer.name == 'block5_conv1':\n",
    "        set_trainable = True\n",
    "    if set_trainable:\n",
    "        layer.trainable = True\n",
    "    else:\n",
    "        layer.trainable = False"
   ]
  },
  {
   "cell_type": "markdown",
   "metadata": {
    "id": "fiiZ_VWMeu9m"
   },
   "source": [
    "### 4. conv_base 기반 모델 정의"
   ]
  },
  {
   "cell_type": "code",
   "execution_count": null,
   "metadata": {
    "id": "2EsBYGnteoYi"
   },
   "outputs": [],
   "source": [
    "from tensorflow.keras.models import Sequential\n",
    "from tensorflow.keras.layers import Flatten, Dense\n",
    "\n",
    "model = Sequential()\n",
    "model.add(conv_base)\n",
    "model.add(Flatten())\n",
    "model.add(Dense(256, activation='relu'))\n",
    "model.add(Dense(1, activation='sigmoid'))"
   ]
  },
  {
   "cell_type": "code",
   "execution_count": null,
   "metadata": {
    "colab": {
     "base_uri": "https://localhost:8080/"
    },
    "executionInfo": {
     "elapsed": 11,
     "status": "ok",
     "timestamp": 1645508910925,
     "user": {
      "displayName": "Kyungmi Lee",
      "photoUrl": "https://lh3.googleusercontent.com/a/default-user=s64",
      "userId": "14076883295874579202"
     },
     "user_tz": -540
    },
    "id": "nxW6CqOklToo",
    "outputId": "bad00453-d6fe-4079-ba20-dda7808c5f36"
   },
   "outputs": [],
   "source": [
    "model.summary()"
   ]
  },
  {
   "cell_type": "markdown",
   "metadata": {
    "id": "UyU5PrzvoNfl"
   },
   "source": [
    "### 5. 미세조정된 합성곱 기반 층과 함께 모델 훈련\n",
    "\n",
    "- 약 45분 소요!"
   ]
  },
  {
   "cell_type": "code",
   "execution_count": null,
   "metadata": {
    "colab": {
     "base_uri": "https://localhost:8080/"
    },
    "executionInfo": {
     "elapsed": 2707542,
     "status": "ok",
     "timestamp": 1645511618462,
     "user": {
      "displayName": "Kyungmi Lee",
      "photoUrl": "https://lh3.googleusercontent.com/a/default-user=s64",
      "userId": "14076883295874579202"
     },
     "user_tz": -540
    },
    "id": "VlZT4p7_nOAd",
    "outputId": "40df391a-3489-47fc-824e-405c4edc7973"
   },
   "outputs": [],
   "source": [
    "from tensorflow.keras.optimizers import RMSprop\n",
    "\n",
    "model.compile(loss='binary_crossentropy',\n",
    "              optimizer=RMSprop(learning_rate=1e-05),\n",
    "              metrics=['acc'])\n",
    "\n",
    "history = model.fit(\n",
    "    train_generator,\n",
    "    steps_per_epoch=100,\n",
    "    epochs=100,\n",
    "    validation_data=validation_generator,\n",
    "    validation_steps=50\n",
    ")"
   ]
  },
  {
   "cell_type": "markdown",
   "metadata": {
    "id": "-jUPR4XTpqmV"
   },
   "source": [
    "### 6. 모델 성능 시각화"
   ]
  },
  {
   "cell_type": "code",
   "execution_count": null,
   "metadata": {
    "colab": {
     "base_uri": "https://localhost:8080/",
     "height": 369
    },
    "executionInfo": {
     "elapsed": 678,
     "status": "ok",
     "timestamp": 1645511619128,
     "user": {
      "displayName": "Kyungmi Lee",
      "photoUrl": "https://lh3.googleusercontent.com/a/default-user=s64",
      "userId": "14076883295874579202"
     },
     "user_tz": -540
    },
    "id": "Tn4nFnF_pbo0",
    "outputId": "87f4bdf4-48fa-48a0-e0ca-17f7e02f8056"
   },
   "outputs": [],
   "source": [
    "import matplotlib.pyplot as plt"
   ]
  },
  {
   "cell_type": "code",
   "execution_count": null,
   "metadata": {
    "colab": {
     "base_uri": "https://localhost:8080/",
     "height": 369
    },
    "executionInfo": {
     "elapsed": 678,
     "status": "ok",
     "timestamp": 1645511619128,
     "user": {
      "displayName": "Kyungmi Lee",
      "photoUrl": "https://lh3.googleusercontent.com/a/default-user=s64",
      "userId": "14076883295874579202"
     },
     "user_tz": -540
    },
    "id": "Tn4nFnF_pbo0",
    "outputId": "87f4bdf4-48fa-48a0-e0ca-17f7e02f8056"
   },
   "outputs": [],
   "source": [
    "# 모델의 훈련과 검증데이터의 정확도와 손실 그래프\n",
    "\n",
    "acc = history.history['acc']\n",
    "val_acc = history.history['val_acc']\n",
    "\n",
    "epochs = range(1, len(acc) + 1)\n",
    "\n",
    "plt.figure(figsize=(9,6))\n",
    "\n",
    "plt.subplot(121)\n",
    "plt.plot(epochs, acc, 'bo', label='Training acc')\n",
    "plt.plot(epochs, val_acc, 'b', label='Validation acc')\n",
    "plt.title('Training and Validation accuracy')\n",
    "plt.xlabel('epochs')\n",
    "plt.ylabel('Accuracy')\n",
    "plt.legend()\n",
    "plt.grid()\n",
    "plt.show()"
   ]
  },
  {
   "cell_type": "code",
   "execution_count": null,
   "metadata": {
    "colab": {
     "base_uri": "https://localhost:8080/",
     "height": 369
    },
    "executionInfo": {
     "elapsed": 678,
     "status": "ok",
     "timestamp": 1645511619128,
     "user": {
      "displayName": "Kyungmi Lee",
      "photoUrl": "https://lh3.googleusercontent.com/a/default-user=s64",
      "userId": "14076883295874579202"
     },
     "user_tz": -540
    },
    "id": "Tn4nFnF_pbo0",
    "outputId": "87f4bdf4-48fa-48a0-e0ca-17f7e02f8056"
   },
   "outputs": [],
   "source": [
    "# 모델의 훈련과 검증데이터의 손실 그래프\n",
    "\n",
    "loss = history.history['loss']\n",
    "val_loss = history.history['val_loss']\n",
    "epochs = range(1, len(acc) + 1)\n",
    "\n",
    "plt.figure(figsize=(9,6))\n",
    "\n",
    "plt.plot(epochs, loss, 'ro', label='Training loss')\n",
    "plt.plot(epochs, val_loss, 'r', label='Validation loss')\n",
    "plt.title('Training and Validation loss')\n",
    "plt.xlabel('epochs')\n",
    "plt.ylabel('Loss')\n",
    "plt.legend()\n",
    "plt.grid()\n",
    "plt.show()"
   ]
  },
  {
   "cell_type": "markdown",
   "metadata": {
    "id": "0ej0Sd-1p4Dk"
   },
   "source": [
    "### 7. 모델 저장"
   ]
  },
  {
   "cell_type": "code",
   "execution_count": null,
   "metadata": {
    "id": "J8TOXuT5p4W5"
   },
   "outputs": [],
   "source": [
    "model.save('model/cats_and_dogs_small_vgg16_feature_tuninfg.h5')"
   ]
  },
  {
   "cell_type": "markdown",
   "metadata": {
    "id": "4NlKsK5qqC1J"
   },
   "source": [
    "### 8. 모델 평가"
   ]
  },
  {
   "cell_type": "markdown",
   "metadata": {},
   "source": [
    "- 테스트 데이터"
   ]
  },
  {
   "cell_type": "code",
   "execution_count": null,
   "metadata": {
    "colab": {
     "base_uri": "https://localhost:8080/"
    },
    "executionInfo": {
     "elapsed": 3103,
     "status": "ok",
     "timestamp": 1645511622636,
     "user": {
      "displayName": "Kyungmi Lee",
      "photoUrl": "https://lh3.googleusercontent.com/a/default-user=s64",
      "userId": "14076883295874579202"
     },
     "user_tz": -540
    },
    "id": "JygvLrdoqYiM",
    "outputId": "4889dbdd-12ac-4d31-e106-c0802899b472"
   },
   "outputs": [],
   "source": [
    "test_datagen = ImageDataGenerator(rescale = 1./255)\n",
    "\n",
    "test_generator = test_datagen.flow_from_directory(\n",
    "                 test_dir,\n",
    "                 target_size = (150, 150),\n",
    "                 batch_size = 20,\n",
    "                 class_mode = 'binary')"
   ]
  },
  {
   "cell_type": "markdown",
   "metadata": {},
   "source": [
    "- 모델 로드"
   ]
  },
  {
   "cell_type": "code",
   "execution_count": null,
   "metadata": {
    "id": "bACWc1VyqkEp"
   },
   "outputs": [],
   "source": [
    "from tensorflow.keras.models import load_model\n",
    "\n",
    "model_path='./model/cats_and_dogs_small_vgg16_feature_ext2.h5'\n",
    "model2 = load_model(model_path)"
   ]
  },
  {
   "cell_type": "markdown",
   "metadata": {},
   "source": [
    "- 모델 평가"
   ]
  },
  {
   "cell_type": "code",
   "execution_count": null,
   "metadata": {
    "colab": {
     "base_uri": "https://localhost:8080/"
    },
    "executionInfo": {
     "elapsed": 92859,
     "status": "ok",
     "timestamp": 1645511716965,
     "user": {
      "displayName": "Kyungmi Lee",
      "photoUrl": "https://lh3.googleusercontent.com/a/default-user=s64",
      "userId": "14076883295874579202"
     },
     "user_tz": -540
    },
    "id": "rXyKwbGtqDMX",
    "outputId": "6be9bc80-6c4f-4c76-884a-f25de83428ed"
   },
   "outputs": [],
   "source": [
    "loss, accuracy = model2.evaluate(test_generator,\n",
    "                                steps = 50)\n",
    "\n",
    "print('Loss = {:.5f}'.format(loss))\n",
    "print('Accuracy = {:.5f}'.format(accuracy))"
   ]
  }
 ],
 "metadata": {
  "colab": {
   "authorship_tag": "ABX9TyPDk24A7f/YQDZ+qFZxyjrX",
   "collapsed_sections": [],
   "name": "2_04_CNN_Dogs_and_Cats_VGG16_fine_tuning.ipynb",
   "provenance": [
    {
     "file_id": "1yRZEcKnMoG4gQUWqwYKELopC4bjhdKDb",
     "timestamp": 1645437563489
    },
    {
     "file_id": "1Ajy2-PkPYHohH7jtCCST7TtvcY8LtFLF",
     "timestamp": 1645343818351
    }
   ]
  },
  "kernelspec": {
   "display_name": "Python 3 (ipykernel)",
   "language": "python",
   "name": "python3"
  },
  "language_info": {
   "codemirror_mode": {
    "name": "ipython",
    "version": 3
   },
   "file_extension": ".py",
   "mimetype": "text/x-python",
   "name": "python",
   "nbconvert_exporter": "python",
   "pygments_lexer": "ipython3",
   "version": "3.9.7"
  }
 },
 "nbformat": 4,
 "nbformat_minor": 1
}

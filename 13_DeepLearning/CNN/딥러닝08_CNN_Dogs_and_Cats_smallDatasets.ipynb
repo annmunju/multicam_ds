{
 "cells": [
  {
   "cell_type": "markdown",
   "metadata": {
    "id": "IQEAy5-_hDHM"
   },
   "source": [
    "# 소규모 데이터셋에서 CNN 훈련\n",
    "\n",
    "- 데이터셋 : [Dogs vs. Cats dataset](https://www.kaggle.com/c/dogs-vs-cats/data)\n",
    "  - 2013년 강아지 고양이 캐글 경연 대회에서 사용\n",
    "  - 25000개 강아지와 고양이 이미지(각 12500개) 압축파일\n",
    "  - 이진 분류 문제\n",
    "  - train dataset의 일부 사용"
   ]
  },
  {
   "cell_type": "markdown",
   "metadata": {},
   "source": [
    "### Import module "
   ]
  },
  {
   "cell_type": "code",
   "execution_count": 1,
   "metadata": {},
   "outputs": [],
   "source": [
    "import warnings\n",
    "warnings.filterwarnings('ignore')"
   ]
  },
  {
   "cell_type": "code",
   "execution_count": 2,
   "metadata": {
    "scrolled": true
   },
   "outputs": [
    {
     "data": {
      "text/plain": [
       "'2.7.0'"
      ]
     },
     "execution_count": 2,
     "metadata": {},
     "output_type": "execute_result"
    }
   ],
   "source": [
    "import tensorflow as tf\n",
    "\n",
    "tf.__version__"
   ]
  },
  {
   "cell_type": "markdown",
   "metadata": {},
   "source": [
    "- GPU 설정 확인"
   ]
  },
  {
   "cell_type": "code",
   "execution_count": 3,
   "metadata": {},
   "outputs": [
    {
     "name": "stdout",
     "output_type": "stream",
     "text": [
      "GPU Information - /device:GPU:0 \n",
      "\n",
      "zsh:1: command not found: nvidia-smi\n"
     ]
    }
   ],
   "source": [
    "# GPU 설정 확인\n",
    "print('GPU Information -', tf.test.gpu_device_name(), '\\n')\n",
    "\n",
    "!nvidia-smi"
   ]
  },
  {
   "cell_type": "markdown",
   "metadata": {},
   "source": [
    "---"
   ]
  },
  {
   "cell_type": "markdown",
   "metadata": {
    "id": "nLlKaLPauDWg"
   },
   "source": [
    "### 데이터 준비\n",
    "\n",
    "- cats_and_dogs_small 폴더 아래 train, validation, test 폴더 생성\n",
    "- 각 폴더별로 cats, dogs 폴더 생성하여 데이터 저장\n",
    "    - train/cats : 1000개,\n",
    "    - train/dogs : 1000개\n",
    "    - validation/cats : 500개\n",
    "    - validation/dogs : 500개\n",
    "    - test/cats : 500개\n",
    "    - test/dogs : 500개"
   ]
  },
  {
   "cell_type": "code",
   "execution_count": 5,
   "metadata": {
    "id": "lYIRgZOTEia-"
   },
   "outputs": [],
   "source": [
    "import os, shutil\n",
    "\n",
    "# 원본 데이터 압축 해제한 디렉토리 경로\n",
    "original_dataset_dir = '../수업답안/datasets/cats_and_dogs/train'\n",
    "\n",
    "# 소규모 데이터셋 저장 디렉토리\n",
    "base_dir = '../수업답안/datasets/cats_and_dogs_small'\n",
    "\n",
    "os.mkdir(base_dir)\n",
    "\n",
    "# 훈련, 검증, 테스트 분할을 위한 디렉토리\n",
    "train_dir = os.path.join(base_dir, 'train')\n",
    "os.mkdir(train_dir)\n",
    "validation_dir = os.path.join(base_dir, 'validation')\n",
    "os.mkdir(validation_dir)\n",
    "test_dir = os.path.join(base_dir, 'test')\n",
    "os.mkdir(test_dir)\n",
    "\n",
    "# 훈련용 고양이/강아지 이미지 디렉토리\n",
    "train_cats_dir = os.path.join(train_dir, 'cats')\n",
    "os.mkdir(train_cats_dir)\n",
    "train_dogs_dir = os.path.join(train_dir, 'dogs')\n",
    "os.mkdir(train_dogs_dir)\n",
    "\n",
    "# 검증용 고양이/강아지 이미지 디렉토리\n",
    "validation_cats_dir = os.path.join(validation_dir, 'cats')\n",
    "os.mkdir(validation_cats_dir)\n",
    "validation_dogs_dir = os.path.join(validation_dir, 'dogs')\n",
    "os.mkdir(validation_dogs_dir)\n",
    "\n",
    "# 테스트용 고양이/강아지 이미지 디렉토리\n",
    "test_cats_dir = os.path.join(test_dir, 'cats')\n",
    "os.mkdir(test_cats_dir)\n",
    "test_dogs_dir = os.path.join(test_dir, 'dogs')\n",
    "os.mkdir(test_dogs_dir)"
   ]
  },
  {
   "cell_type": "code",
   "execution_count": 6,
   "metadata": {
    "id": "xbA0HwgkFPCh"
   },
   "outputs": [],
   "source": [
    "# 1000개 고양이 이미지를 train_cats_dir에 복사\n",
    "fnames = ['cat.{}.jpg'.format(i) for i in range(1000)]\n",
    "for fname in fnames:\n",
    "    src = os.path.join(original_dataset_dir, fname)\n",
    "    dst = os.path.join(train_cats_dir, fname)\n",
    "    shutil.copyfile(src, dst)\n",
    "\n",
    "# 500개 고양이 이미지를 validation_cats_dir에 복사\n",
    "fnames = ['cat.{}.jpg'.format(i) for i in range(1000, 1500)]\n",
    "for fname in fnames:\n",
    "    src = os.path.join(original_dataset_dir, fname)\n",
    "    dst = os.path.join(validation_cats_dir, fname)\n",
    "    shutil.copyfile(src, dst)\n",
    "\n",
    "# 500개 고양이 이미지를 test_cats_dir에 복사\n",
    "fnames = ['cat.{}.jpg'.format(i) for i in range(1500, 2000)]\n",
    "for fname in fnames:\n",
    "    src = os.path.join(original_dataset_dir, fname)\n",
    "    dst = os.path.join(test_cats_dir, fname)\n",
    "    shutil.copyfile(src, dst)\n",
    "\n",
    "\n",
    "# 1000개 개 이미지를 train_dogs_dir에 복사\n",
    "fnames = ['dog.{}.jpg'.format(i) for i in range(1000)]\n",
    "for fname in fnames:\n",
    "    src = os.path.join(original_dataset_dir, fname)\n",
    "    dst = os.path.join(train_dogs_dir, fname)\n",
    "    shutil.copyfile(src, dst)\n",
    "\n",
    "# 500개 개 이미지를 validation_dogs_dir에 복사\n",
    "fnames = ['dog.{}.jpg'.format(i) for i in range(1000, 1500)]\n",
    "for fname in fnames:\n",
    "    src = os.path.join(original_dataset_dir, fname)\n",
    "    dst = os.path.join(validation_dogs_dir, fname)\n",
    "    shutil.copyfile(src, dst)\n",
    "\n",
    "# 500개 개 이미지를 test_dogs_dir에 복사\n",
    "fnames = ['dog.{}.jpg'.format(i) for i in range(1500, 2000)]\n",
    "for fname in fnames:\n",
    "    src = os.path.join(original_dataset_dir, fname)\n",
    "    dst = os.path.join(test_dogs_dir, fname)\n",
    "    shutil.copyfile(src, dst)"
   ]
  },
  {
   "cell_type": "code",
   "execution_count": 7,
   "metadata": {
    "colab": {
     "base_uri": "https://localhost:8080/"
    },
    "executionInfo": {
     "elapsed": 29868,
     "status": "ok",
     "timestamp": 1645342290784,
     "user": {
      "displayName": "Kyungmi Lee",
      "photoUrl": "https://lh3.googleusercontent.com/a/default-user=s64",
      "userId": "14076883295874579202"
     },
     "user_tz": -540
    },
    "id": "YgFmRU61uXel",
    "outputId": "7886a9a7-18e5-47f0-bb7a-b5b3e719e0b8",
    "scrolled": false
   },
   "outputs": [
    {
     "name": "stdout",
     "output_type": "stream",
     "text": [
      "훈련용 고양이 이미지 전체 개수: 1000\n",
      "훈련용 개 이미지 전체 개수: 1000\n",
      "검증용 고양이 이미지 전체 개수: 500\n",
      "검증용 개 이미지 전체 개수: 500\n",
      "테스트용 고양이 이미지 전체 개수: 500\n",
      "테스트용 개 이미지 전체 개수: 500\n"
     ]
    }
   ],
   "source": [
    "# 저장된 파일 개수 확인\n",
    "print('훈련용 고양이 이미지 전체 개수:', len(os.listdir(train_cats_dir)))\n",
    "print('훈련용 개 이미지 전체 개수:', len(os.listdir(train_dogs_dir)))\n",
    "print('검증용 고양이 이미지 전체 개수:', len(os.listdir(validation_cats_dir)))\n",
    "print('검증용 개 이미지 전체 개수:', len(os.listdir(validation_dogs_dir)))\n",
    "print('테스트용 고양이 이미지 전체 개수:', len(os.listdir(test_cats_dir)))\n",
    "print('테스트용 개 이미지 전체 개수:', len(os.listdir(test_dogs_dir)))"
   ]
  },
  {
   "cell_type": "markdown",
   "metadata": {},
   "source": [
    "### 디렉토리 설정"
   ]
  },
  {
   "cell_type": "code",
   "execution_count": null,
   "metadata": {},
   "outputs": [],
   "source": [
    "# 앞의 이미지 데이터 폴더에 저장된 경우 폴더명만 지정하여 사용\n",
    "# import os\n",
    "\n",
    "# base_dir = './datasets/cats_and_dogs_small'\n",
    "\n",
    "# train_dir = os.path.join(base_dir, 'train')\n",
    "# validation_dir = os.path.join(base_dir, 'validation')\n",
    "# test_dir = os.path.join(base_dir, 'test')"
   ]
  },
  {
   "cell_type": "markdown",
   "metadata": {
    "id": "djT1ElNVvosc"
   },
   "source": [
    "### 1. 네트워크 모델 구성\n",
    "\n",
    "- Conv2D(relu 활성화 함수 사용) 4개\n",
    "- MaxPooling2D 4개\n",
    "- Flatten"
   ]
  },
  {
   "cell_type": "code",
   "execution_count": 8,
   "metadata": {
    "id": "Xg6Gq2vdvrvg"
   },
   "outputs": [],
   "source": [
    "from tensorflow.keras.layers import Conv2D, MaxPooling2D, Flatten, Dense\n",
    "from tensorflow.keras.models import Sequential\n",
    "\n",
    "model = Sequential()\n",
    "model.add(Conv2D(32, (3,3), activation='relu', input_shape=(150, 150, 3)))\n",
    "model.add(MaxPooling2D((2,2)))\n",
    "model.add(Conv2D(64, (3,3), activation='relu'))\n",
    "model.add(MaxPooling2D((2,2)))\n",
    "model.add(Conv2D(128, (3,3), activation='relu'))\n",
    "model.add(MaxPooling2D((2,2)))\n",
    "model.add(Conv2D(128, (3,3), activation='relu'))\n",
    "model.add(MaxPooling2D((2,2)))\n",
    "\n",
    "model.add(Flatten())\n",
    "model.add(Dense(512, activation='relu'))\n",
    "model.add(Dense(1, activation='sigmoid'))"
   ]
  },
  {
   "cell_type": "markdown",
   "metadata": {
    "id": "W8F0Ufnyz3qo"
   },
   "source": [
    "- 모델 요약 보기"
   ]
  },
  {
   "cell_type": "code",
   "execution_count": 9,
   "metadata": {
    "colab": {
     "base_uri": "https://localhost:8080/"
    },
    "executionInfo": {
     "elapsed": 365,
     "status": "ok",
     "timestamp": 1645253194982,
     "user": {
      "displayName": "Kyungmi Lee",
      "photoUrl": "https://lh3.googleusercontent.com/a/default-user=s64",
      "userId": "14076883295874579202"
     },
     "user_tz": -540
    },
    "id": "zLgEz78sz10s",
    "outputId": "1343a368-aaf4-4b9f-c737-58b09f7dcd72",
    "scrolled": true
   },
   "outputs": [
    {
     "name": "stdout",
     "output_type": "stream",
     "text": [
      "Model: \"sequential\"\n",
      "_________________________________________________________________\n",
      " Layer (type)                Output Shape              Param #   \n",
      "=================================================================\n",
      " conv2d (Conv2D)             (None, 148, 148, 32)      896       \n",
      "                                                                 \n",
      " max_pooling2d (MaxPooling2D  (None, 74, 74, 32)       0         \n",
      " )                                                               \n",
      "                                                                 \n",
      " conv2d_1 (Conv2D)           (None, 72, 72, 64)        18496     \n",
      "                                                                 \n",
      " max_pooling2d_1 (MaxPooling  (None, 36, 36, 64)       0         \n",
      " 2D)                                                             \n",
      "                                                                 \n",
      " conv2d_2 (Conv2D)           (None, 34, 34, 128)       73856     \n",
      "                                                                 \n",
      " max_pooling2d_2 (MaxPooling  (None, 17, 17, 128)      0         \n",
      " 2D)                                                             \n",
      "                                                                 \n",
      " conv2d_3 (Conv2D)           (None, 15, 15, 128)       147584    \n",
      "                                                                 \n",
      " max_pooling2d_3 (MaxPooling  (None, 7, 7, 128)        0         \n",
      " 2D)                                                             \n",
      "                                                                 \n",
      " flatten (Flatten)           (None, 6272)              0         \n",
      "                                                                 \n",
      " dense (Dense)               (None, 512)               3211776   \n",
      "                                                                 \n",
      " dense_1 (Dense)             (None, 1)                 513       \n",
      "                                                                 \n",
      "=================================================================\n",
      "Total params: 3,453,121\n",
      "Trainable params: 3,453,121\n",
      "Non-trainable params: 0\n",
      "_________________________________________________________________\n"
     ]
    }
   ],
   "source": [
    "model.summary()"
   ]
  },
  {
   "cell_type": "code",
   "execution_count": 10,
   "metadata": {},
   "outputs": [
    {
     "name": "stdout",
     "output_type": "stream",
     "text": [
      "('You must install pydot (`pip install pydot`) and install graphviz (see instructions at https://graphviz.gitlab.io/download/) ', 'for plot_model/model_to_dot to work.')\n"
     ]
    }
   ],
   "source": [
    "from tensorflow.keras.utils import plot_model\n",
    "\n",
    "plot_model(model, show_shapes=True)"
   ]
  },
  {
   "cell_type": "markdown",
   "metadata": {
    "id": "p-kg4E3n0ClY"
   },
   "source": [
    "### 2. 모델 훈련 설정 및 컴파일"
   ]
  },
  {
   "cell_type": "code",
   "execution_count": 11,
   "metadata": {
    "id": "X0Rp_EpD0Gz7"
   },
   "outputs": [],
   "source": [
    "from tensorflow.keras.optimizers import RMSprop\n",
    "\n",
    "optimizer = RMSprop(learning_rate=1e-04)\n",
    "\n",
    "model.compile(loss='binary_crossentropy',\n",
    "              optimizer=optimizer,\n",
    "              metrics=['accuracy'])"
   ]
  },
  {
   "cell_type": "markdown",
   "metadata": {
    "id": "wTkrtm-Q0ebt"
   },
   "source": [
    "### 3. 데이터 전처리"
   ]
  },
  {
   "cell_type": "code",
   "execution_count": 12,
   "metadata": {
    "colab": {
     "base_uri": "https://localhost:8080/"
    },
    "executionInfo": {
     "elapsed": 659,
     "status": "ok",
     "timestamp": 1645255366096,
     "user": {
      "displayName": "Kyungmi Lee",
      "photoUrl": "https://lh3.googleusercontent.com/a/default-user=s64",
      "userId": "14076883295874579202"
     },
     "user_tz": -540
    },
    "id": "6-WTwPhJ0nTS",
    "outputId": "546fdef0-dbd6-42e5-a5a5-0714200b1b5a"
   },
   "outputs": [
    {
     "name": "stdout",
     "output_type": "stream",
     "text": [
      "Found 2000 images belonging to 2 classes.\n",
      "Found 1000 images belonging to 2 classes.\n"
     ]
    }
   ],
   "source": [
    "# ImageDataGenerator를 사용하여 디렉터리에서 이미지 읽기\n",
    "\n",
    "from tensorflow.keras.preprocessing.image import ImageDataGenerator\n",
    "\n",
    "train_datagen = ImageDataGenerator(rescale=1./255)\n",
    "test_datagen = ImageDataGenerator(rescale=1./255)\n",
    "\n",
    "train_generator = train_datagen.flow_from_directory(\n",
    "    train_dir,\n",
    "    target_size = (150, 150),\n",
    "    batch_size = 20,\n",
    "    class_mode='binary'\n",
    ")\n",
    "\n",
    "validation_generator = test_datagen.flow_from_directory(\n",
    "    validation_dir,\n",
    "    target_size = (150, 150),\n",
    "    batch_size = 20,\n",
    "    class_mode = 'binary'\n",
    ")"
   ]
  },
  {
   "cell_type": "markdown",
   "metadata": {},
   "source": [
    "### 4. 모델 훈련"
   ]
  },
  {
   "cell_type": "markdown",
   "metadata": {
    "id": "9_SWq1CGRDlG"
   },
   "source": [
    "#### 배치 제너레이터를 사용하여 모델 훈련\n",
    ": fit_generator() 메서드\n",
    "- fit 메서드와 동일"
   ]
  },
  {
   "cell_type": "code",
   "execution_count": 13,
   "metadata": {
    "colab": {
     "base_uri": "https://localhost:8080/"
    },
    "executionInfo": {
     "elapsed": 3924394,
     "status": "ok",
     "timestamp": 1645266113655,
     "user": {
      "displayName": "Kyungmi Lee",
      "photoUrl": "https://lh3.googleusercontent.com/a/default-user=s64",
      "userId": "14076883295874579202"
     },
     "user_tz": -540
    },
    "id": "Sz7YKojpQfDB",
    "outputId": "e29b3cc4-dbfc-4649-c104-fb91c17d639b"
   },
   "outputs": [
    {
     "name": "stdout",
     "output_type": "stream",
     "text": [
      "Epoch 1/60\n",
      "100/100 [==============================] - 12s 93ms/step - loss: 0.6873 - accuracy: 0.5385 - val_loss: 0.6691 - val_accuracy: 0.6030\n",
      "Epoch 2/60\n",
      "100/100 [==============================] - 8s 83ms/step - loss: 0.6551 - accuracy: 0.6190 - val_loss: 0.6342 - val_accuracy: 0.6430\n",
      "Epoch 3/60\n",
      "100/100 [==============================] - 8s 84ms/step - loss: 0.6084 - accuracy: 0.6660 - val_loss: 0.5980 - val_accuracy: 0.6760\n",
      "Epoch 4/60\n",
      "100/100 [==============================] - 8s 84ms/step - loss: 0.5646 - accuracy: 0.6975 - val_loss: 0.5839 - val_accuracy: 0.6920\n",
      "Epoch 5/60\n",
      "100/100 [==============================] - 8s 82ms/step - loss: 0.5358 - accuracy: 0.7310 - val_loss: 0.5859 - val_accuracy: 0.6810\n",
      "Epoch 6/60\n",
      "100/100 [==============================] - 8s 82ms/step - loss: 0.5147 - accuracy: 0.7375 - val_loss: 0.5803 - val_accuracy: 0.6720\n",
      "Epoch 7/60\n",
      "100/100 [==============================] - 9s 88ms/step - loss: 0.4830 - accuracy: 0.7580 - val_loss: 0.6732 - val_accuracy: 0.6470\n",
      "Epoch 8/60\n",
      "100/100 [==============================] - 8s 84ms/step - loss: 0.4653 - accuracy: 0.7725 - val_loss: 0.6038 - val_accuracy: 0.6770\n",
      "Epoch 9/60\n",
      "100/100 [==============================] - 9s 88ms/step - loss: 0.4378 - accuracy: 0.7960 - val_loss: 0.5544 - val_accuracy: 0.7200\n",
      "Epoch 10/60\n",
      "100/100 [==============================] - 9s 91ms/step - loss: 0.4110 - accuracy: 0.8135 - val_loss: 0.5790 - val_accuracy: 0.7100\n",
      "Epoch 11/60\n",
      "100/100 [==============================] - 9s 90ms/step - loss: 0.3871 - accuracy: 0.8235 - val_loss: 0.5631 - val_accuracy: 0.7150\n",
      "Epoch 12/60\n",
      "100/100 [==============================] - 9s 88ms/step - loss: 0.3605 - accuracy: 0.8415 - val_loss: 0.5726 - val_accuracy: 0.7180\n",
      "Epoch 13/60\n",
      "100/100 [==============================] - 9s 88ms/step - loss: 0.3360 - accuracy: 0.8520 - val_loss: 0.6024 - val_accuracy: 0.7220\n",
      "Epoch 14/60\n",
      "100/100 [==============================] - 9s 92ms/step - loss: 0.3178 - accuracy: 0.8720 - val_loss: 0.5539 - val_accuracy: 0.7330\n",
      "Epoch 15/60\n",
      "100/100 [==============================] - 10s 97ms/step - loss: 0.2873 - accuracy: 0.8855 - val_loss: 0.5643 - val_accuracy: 0.7330\n",
      "Epoch 16/60\n",
      "100/100 [==============================] - 10s 97ms/step - loss: 0.2672 - accuracy: 0.8940 - val_loss: 0.6007 - val_accuracy: 0.7170\n",
      "Epoch 17/60\n",
      "100/100 [==============================] - 8s 82ms/step - loss: 0.2432 - accuracy: 0.9065 - val_loss: 0.8505 - val_accuracy: 0.6940\n",
      "Epoch 18/60\n",
      "100/100 [==============================] - 10s 101ms/step - loss: 0.2219 - accuracy: 0.9175 - val_loss: 0.6049 - val_accuracy: 0.7350\n",
      "Epoch 19/60\n",
      "100/100 [==============================] - 10s 102ms/step - loss: 0.2010 - accuracy: 0.9295 - val_loss: 0.6154 - val_accuracy: 0.7360\n",
      "Epoch 20/60\n",
      "100/100 [==============================] - 10s 103ms/step - loss: 0.1809 - accuracy: 0.9390 - val_loss: 0.7583 - val_accuracy: 0.7220\n",
      "Epoch 21/60\n",
      "100/100 [==============================] - 10s 97ms/step - loss: 0.1620 - accuracy: 0.9430 - val_loss: 0.7213 - val_accuracy: 0.7260\n",
      "Epoch 22/60\n",
      "100/100 [==============================] - 10s 99ms/step - loss: 0.1355 - accuracy: 0.9560 - val_loss: 0.6749 - val_accuracy: 0.7280\n",
      "Epoch 23/60\n",
      "100/100 [==============================] - 10s 103ms/step - loss: 0.1283 - accuracy: 0.9580 - val_loss: 0.6889 - val_accuracy: 0.7290\n",
      "Epoch 24/60\n",
      "100/100 [==============================] - 10s 103ms/step - loss: 0.1067 - accuracy: 0.9655 - val_loss: 0.8645 - val_accuracy: 0.7050\n",
      "Epoch 25/60\n",
      "100/100 [==============================] - 11s 107ms/step - loss: 0.0934 - accuracy: 0.9700 - val_loss: 0.7861 - val_accuracy: 0.7330\n",
      "Epoch 26/60\n",
      "100/100 [==============================] - 11s 107ms/step - loss: 0.0785 - accuracy: 0.9775 - val_loss: 0.7994 - val_accuracy: 0.7260\n",
      "Epoch 27/60\n",
      "100/100 [==============================] - 10s 102ms/step - loss: 0.0690 - accuracy: 0.9775 - val_loss: 0.8605 - val_accuracy: 0.7240\n",
      "Epoch 28/60\n",
      "100/100 [==============================] - 11s 105ms/step - loss: 0.0632 - accuracy: 0.9815 - val_loss: 0.8726 - val_accuracy: 0.7270\n",
      "Epoch 29/60\n",
      "100/100 [==============================] - 10s 104ms/step - loss: 0.0464 - accuracy: 0.9900 - val_loss: 0.9492 - val_accuracy: 0.7110\n",
      "Epoch 30/60\n",
      "100/100 [==============================] - 11s 107ms/step - loss: 0.0415 - accuracy: 0.9885 - val_loss: 0.9791 - val_accuracy: 0.7270\n",
      "Epoch 31/60\n",
      "100/100 [==============================] - 10s 102ms/step - loss: 0.0390 - accuracy: 0.9920 - val_loss: 1.0355 - val_accuracy: 0.7250\n",
      "Epoch 32/60\n",
      "100/100 [==============================] - 11s 105ms/step - loss: 0.0402 - accuracy: 0.9915 - val_loss: 1.1031 - val_accuracy: 0.7250\n",
      "Epoch 33/60\n",
      "100/100 [==============================] - 11s 109ms/step - loss: 0.0318 - accuracy: 0.9915 - val_loss: 0.9874 - val_accuracy: 0.7170\n",
      "Epoch 34/60\n",
      "100/100 [==============================] - 10s 102ms/step - loss: 0.0223 - accuracy: 0.9955 - val_loss: 1.0580 - val_accuracy: 0.7300\n",
      "Epoch 35/60\n",
      "100/100 [==============================] - 11s 106ms/step - loss: 0.0266 - accuracy: 0.9925 - val_loss: 1.1484 - val_accuracy: 0.7260\n",
      "Epoch 36/60\n",
      "100/100 [==============================] - 10s 104ms/step - loss: 0.0161 - accuracy: 0.9960 - val_loss: 1.4089 - val_accuracy: 0.7020\n",
      "Epoch 37/60\n",
      "100/100 [==============================] - 11s 108ms/step - loss: 0.0194 - accuracy: 0.9945 - val_loss: 1.1637 - val_accuracy: 0.7130\n",
      "Epoch 38/60\n",
      "100/100 [==============================] - 10s 105ms/step - loss: 0.0142 - accuracy: 0.9965 - val_loss: 1.2453 - val_accuracy: 0.7250\n",
      "Epoch 39/60\n",
      "100/100 [==============================] - 11s 106ms/step - loss: 0.0142 - accuracy: 0.9975 - val_loss: 1.3417 - val_accuracy: 0.7220\n",
      "Epoch 40/60\n",
      "100/100 [==============================] - 11s 105ms/step - loss: 0.0141 - accuracy: 0.9970 - val_loss: 1.3040 - val_accuracy: 0.7290\n",
      "Epoch 41/60\n",
      "100/100 [==============================] - 11s 108ms/step - loss: 0.0124 - accuracy: 0.9970 - val_loss: 1.3084 - val_accuracy: 0.7220\n",
      "Epoch 42/60\n",
      "100/100 [==============================] - 10s 104ms/step - loss: 0.0093 - accuracy: 0.9970 - val_loss: 1.4272 - val_accuracy: 0.7200\n",
      "Epoch 43/60\n",
      "100/100 [==============================] - 11s 105ms/step - loss: 0.0091 - accuracy: 0.9975 - val_loss: 1.3635 - val_accuracy: 0.7320\n",
      "Epoch 44/60\n",
      "100/100 [==============================] - 10s 99ms/step - loss: 0.0057 - accuracy: 0.9980 - val_loss: 1.4394 - val_accuracy: 0.7180\n",
      "Epoch 45/60\n",
      "100/100 [==============================] - 11s 105ms/step - loss: 0.0086 - accuracy: 0.9975 - val_loss: 1.5514 - val_accuracy: 0.7190\n",
      "Epoch 46/60\n",
      "100/100 [==============================] - 10s 104ms/step - loss: 0.0135 - accuracy: 0.9950 - val_loss: 1.4534 - val_accuracy: 0.7230\n",
      "Epoch 47/60\n",
      "100/100 [==============================] - 10s 103ms/step - loss: 0.0087 - accuracy: 0.9970 - val_loss: 1.5795 - val_accuracy: 0.7250\n",
      "Epoch 48/60\n",
      "100/100 [==============================] - 11s 107ms/step - loss: 0.0054 - accuracy: 0.9980 - val_loss: 1.5521 - val_accuracy: 0.7220\n",
      "Epoch 49/60\n",
      "100/100 [==============================] - 10s 104ms/step - loss: 0.0094 - accuracy: 0.9980 - val_loss: 1.5905 - val_accuracy: 0.7200\n",
      "Epoch 50/60\n",
      "100/100 [==============================] - 10s 96ms/step - loss: 0.0099 - accuracy: 0.9975 - val_loss: 1.5981 - val_accuracy: 0.7240\n",
      "Epoch 51/60\n",
      "100/100 [==============================] - 10s 98ms/step - loss: 0.0025 - accuracy: 0.9995 - val_loss: 1.7796 - val_accuracy: 0.7190\n",
      "Epoch 52/60\n",
      "100/100 [==============================] - 10s 102ms/step - loss: 0.0100 - accuracy: 0.9965 - val_loss: 1.6994 - val_accuracy: 0.7210\n",
      "Epoch 53/60\n",
      "100/100 [==============================] - 11s 109ms/step - loss: 0.0077 - accuracy: 0.9970 - val_loss: 1.6615 - val_accuracy: 0.7210\n",
      "Epoch 54/60\n",
      "100/100 [==============================] - 11s 105ms/step - loss: 0.0031 - accuracy: 0.9985 - val_loss: 1.7436 - val_accuracy: 0.7400\n",
      "Epoch 55/60\n",
      "100/100 [==============================] - 11s 108ms/step - loss: 0.0107 - accuracy: 0.9970 - val_loss: 1.7222 - val_accuracy: 0.7250\n",
      "Epoch 56/60\n",
      "100/100 [==============================] - 11s 106ms/step - loss: 0.0097 - accuracy: 0.9980 - val_loss: 1.8525 - val_accuracy: 0.7250\n",
      "Epoch 57/60\n",
      "100/100 [==============================] - 10s 104ms/step - loss: 0.0063 - accuracy: 0.9990 - val_loss: 1.7402 - val_accuracy: 0.7260\n",
      "Epoch 58/60\n",
      "100/100 [==============================] - 10s 104ms/step - loss: 0.0070 - accuracy: 0.9985 - val_loss: 1.7946 - val_accuracy: 0.7250\n",
      "Epoch 59/60\n",
      "100/100 [==============================] - 10s 105ms/step - loss: 0.0036 - accuracy: 0.9985 - val_loss: 1.8180 - val_accuracy: 0.7290\n",
      "Epoch 60/60\n",
      "100/100 [==============================] - 11s 108ms/step - loss: 0.0074 - accuracy: 0.9975 - val_loss: 1.7794 - val_accuracy: 0.7190\n"
     ]
    }
   ],
   "source": [
    "# 배치 제너레이터를 사용하여 모델 훈련\n",
    "\n",
    "history = model.fit(\n",
    "    train_generator,\n",
    "    steps_per_epoch=100,\n",
    "    epochs=60,  \n",
    "    validation_data=validation_generator,\n",
    "    validation_steps=50\n",
    ")"
   ]
  },
  {
   "cell_type": "markdown",
   "metadata": {
    "id": "6PC9Lb2jRLFP"
   },
   "source": [
    "### 5. 학습 결과 시각화"
   ]
  },
  {
   "cell_type": "markdown",
   "metadata": {},
   "source": [
    "- Accuracy Visualization"
   ]
  },
  {
   "cell_type": "code",
   "execution_count": 14,
   "metadata": {
    "colab": {
     "base_uri": "https://localhost:8080/",
     "height": 334
    },
    "executionInfo": {
     "elapsed": 808,
     "status": "ok",
     "timestamp": 1645267100417,
     "user": {
      "displayName": "Kyungmi Lee",
      "photoUrl": "https://lh3.googleusercontent.com/a/default-user=s64",
      "userId": "14076883295874579202"
     },
     "user_tz": -540
    },
    "id": "FQdci6p7g4k1",
    "outputId": "b872302f-9384-4956-de2d-afe01974877c"
   },
   "outputs": [
    {
     "data": {
      "text/plain": [
       "<matplotlib.legend.Legend at 0x2899f4e50>"
      ]
     },
     "execution_count": 14,
     "metadata": {},
     "output_type": "execute_result"
    },
    {
     "data": {
      "image/png": "[encoded data removed]",
      "text/plain": [
       "<Figure size 648x432 with 1 Axes>"
      ]
     },
     "metadata": {
      "needs_background": "light"
     },
     "output_type": "display_data"
    }
   ],
   "source": [
    "import matplotlib.pyplot as plt\n",
    "\n",
    "acc = history.history['accuracy']\n",
    "val_acc = history.history['val_accuracy']\n",
    "loss = history.history['loss']\n",
    "val_loss = history.history['val_loss']\n",
    "\n",
    "epochs = range(1, len(acc) + 1)\n",
    "\n",
    "plt.figure(figsize = (9, 6))\n",
    "plt.plot(epochs, acc, 'bo', label='Training acc')\n",
    "plt.plot(epochs, val_acc, 'b', label='Validation acc')\n",
    "plt.title('Training and Validation accuracy')\n",
    "plt.xlabel('Epochs')\n",
    "plt.ylabel('Accuracy')\n",
    "plt.grid()\n",
    "plt.legend()"
   ]
  },
  {
   "cell_type": "markdown",
   "metadata": {},
   "source": [
    "- Loss Visualization"
   ]
  },
  {
   "cell_type": "code",
   "execution_count": 15,
   "metadata": {
    "colab": {
     "base_uri": "https://localhost:8080/",
     "height": 334
    },
    "executionInfo": {
     "elapsed": 808,
     "status": "ok",
     "timestamp": 1645267100417,
     "user": {
      "displayName": "Kyungmi Lee",
      "photoUrl": "https://lh3.googleusercontent.com/a/default-user=s64",
      "userId": "14076883295874579202"
     },
     "user_tz": -540
    },
    "id": "FQdci6p7g4k1",
    "outputId": "b872302f-9384-4956-de2d-afe01974877c",
    "scrolled": true
   },
   "outputs": [
    {
     "data": {
      "image/png": "[encoded data removed]",
      "text/plain": [
       "<Figure size 648x432 with 1 Axes>"
      ]
     },
     "metadata": {
      "needs_background": "light"
     },
     "output_type": "display_data"
    }
   ],
   "source": [
    "loss = history.history['loss']\n",
    "val_loss = history.history['val_loss']\n",
    "\n",
    "epochs = range(1, len(acc) + 1)\n",
    "\n",
    "plt.figure(figsize = (9, 6))\n",
    "plt.plot(epochs, loss, 'ro', label='Training loss')\n",
    "plt.plot(epochs, val_loss, 'r', label='Validation loss')\n",
    "plt.title('Training and Validation loss')\n",
    "plt.xlabel('Epochs')\n",
    "plt.ylabel('Loss')\n",
    "plt.legend()\n",
    "plt.grid()\n",
    "plt.show()"
   ]
  },
  {
   "cell_type": "markdown",
   "metadata": {},
   "source": [
    "### 6. 모델 평가하기"
   ]
  },
  {
   "cell_type": "code",
   "execution_count": 16,
   "metadata": {},
   "outputs": [
    {
     "name": "stdout",
     "output_type": "stream",
     "text": [
      "Found 1000 images belonging to 2 classes.\n"
     ]
    }
   ],
   "source": [
    "test_datagen = ImageDataGenerator(rescale = 1./255)\n",
    "\n",
    "test_generator = test_datagen.flow_from_directory(\n",
    "                 test_dir,\n",
    "                 target_size = (150, 150),\n",
    "                 batch_size = 20,\n",
    "                 class_mode = 'binary')"
   ]
  },
  {
   "cell_type": "markdown",
   "metadata": {},
   "source": [
    "- Loss & Accuracy"
   ]
  },
  {
   "cell_type": "code",
   "execution_count": 17,
   "metadata": {},
   "outputs": [
    {
     "name": "stdout",
     "output_type": "stream",
     "text": [
      "50/50 [==============================] - 2s 32ms/step - loss: 1.8377 - accuracy: 0.7330\n",
      "Loss = 1.83768\n",
      "Accuracy = 0.73300\n"
     ]
    }
   ],
   "source": [
    "loss, accuracy = model.evaluate(test_generator,\n",
    "                                steps = 50)\n",
    "\n",
    "print('Loss = {:.5f}'.format(loss))\n",
    "print('Accuracy = {:.5f}'.format(accuracy))"
   ]
  },
  {
   "cell_type": "markdown",
   "metadata": {},
   "source": [
    "### 7. Model Save & Load"
   ]
  },
  {
   "cell_type": "markdown",
   "metadata": {
    "id": "erN5o5n0f8PO"
   },
   "source": [
    "- 모델 저장하기 : model.save()"
   ]
  },
  {
   "cell_type": "code",
   "execution_count": 18,
   "metadata": {
    "id": "FDK6BUk5eHVI"
   },
   "outputs": [],
   "source": [
    "model.save('./model/cats_and_dogs_small_1.h5')"
   ]
  },
  {
   "cell_type": "markdown",
   "metadata": {},
   "source": [
    "- 모델 로드하기: load_model()"
   ]
  },
  {
   "cell_type": "code",
   "execution_count": 19,
   "metadata": {},
   "outputs": [],
   "source": [
    "from tensorflow.keras.models import load_model\n",
    "\n",
    "model_path = './model/cats_and_dogs_small_1.h5'\n",
    "model_small = load_model(model_path)"
   ]
  },
  {
   "cell_type": "code",
   "execution_count": 20,
   "metadata": {},
   "outputs": [
    {
     "name": "stdout",
     "output_type": "stream",
     "text": [
      "50/50 [==============================] - 2s 35ms/step - loss: 1.8377 - accuracy: 0.7330\n",
      "Loss = 1.83768\n",
      "Accuracy = 0.73300\n"
     ]
    }
   ],
   "source": [
    "loss, accuracy = model_small.evaluate(test_generator,\n",
    "                                      steps = 50)\n",
    "\n",
    "print('Loss = {:.5f}'.format(loss))\n",
    "print('Accuracy = {:.5f}'.format(accuracy))"
   ]
  },
  {
   "cell_type": "code",
   "execution_count": null,
   "metadata": {},
   "outputs": [],
   "source": []
  }
 ],
 "metadata": {
  "colab": {
   "authorship_tag": "ABX9TyOStEEXu5X7hy1OWb0w0EKw",
   "collapsed_sections": [],
   "name": "2_01_CNN_Dogs_and_Cats_smallDatasets.ipynb",
   "provenance": [
    {
     "file_id": "1yRZEcKnMoG4gQUWqwYKELopC4bjhdKDb",
     "timestamp": 1645344049262
    },
    {
     "file_id": "1Ajy2-PkPYHohH7jtCCST7TtvcY8LtFLF",
     "timestamp": 1645343818351
    }
   ]
  },
  "kernelspec": {
   "display_name": "Python 3 (ipykernel)",
   "language": "python",
   "name": "python3"
  },
  "language_info": {
   "codemirror_mode": {
    "name": "ipython",
    "version": 3
   },
   "file_extension": ".py",
   "mimetype": "text/x-python",
   "name": "python",
   "nbconvert_exporter": "python",
   "pygments_lexer": "ipython3",
   "version": "3.9.9"
  }
 },
 "nbformat": 4,
 "nbformat_minor": 1
}

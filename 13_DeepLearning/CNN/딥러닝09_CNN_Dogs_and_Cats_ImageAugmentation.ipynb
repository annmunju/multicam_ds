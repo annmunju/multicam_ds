{
 "cells": [
  {
   "cell_type": "markdown",
   "metadata": {
    "id": "IQEAy5-_hDHM"
   },
   "source": [
    "## augmentation을 이용한 CNN 모델 학습\n",
    "\n",
    "### → 과대적합 방지책\n",
    "\n",
    "- 데이터셋 : [Dogs vs. Cats dataset](https://www.kaggle.com/c/dogs-vs-cats/data)"
   ]
  },
  {
   "cell_type": "code",
   "execution_count": null,
   "metadata": {},
   "outputs": [],
   "source": [
    "import warnings\n",
    "warnings.filterwarnings('ignore')"
   ]
  },
  {
   "cell_type": "code",
   "execution_count": null,
   "metadata": {
    "colab": {
     "base_uri": "https://localhost:8080/"
    },
    "executionInfo": {
     "elapsed": 4456,
     "status": "ok",
     "timestamp": 1645415591714,
     "user": {
      "displayName": "Kyungmi Lee",
      "photoUrl": "https://lh3.googleusercontent.com/a/default-user=s64",
      "userId": "14076883295874579202"
     },
     "user_tz": -540
    },
    "id": "9Urk34TrpmQM",
    "outputId": "f1c75a66-4400-478e-ad50-095de2f03efb"
   },
   "outputs": [],
   "source": [
    "import tensorflow as tf\n",
    "tf.__version__"
   ]
  },
  {
   "cell_type": "markdown",
   "metadata": {
    "id": "0_FrurF0lit-"
   },
   "source": [
    "### 데이터 증식 사용\n",
    "\n",
    "- 과대적합 : 학습할 샘플이 너무 적은 경우 새로운 데이터에 일반화할 수 있는 모델을 훈련시킬 수 없어 발생\n",
    "- 데이터 증식 : 기존 훈련 샘플로부터 더 많은 훈련 데이터를 생성\n",
    "\n",
    "\n",
    "- **ImageDataGenerator()**를 이용하여 데이터 증식 : 여러 종류의 랜덤 변환을 적용하도록 설정가능\n",
    "  - rotation_range80)\n",
    "  - width_shift_range\n",
    "  - height_shift_range\n",
    "  - shear_range\n",
    "  - zoom_range\n",
    "  - horizontal_flip \n",
    "  - fill_mode "
   ]
  },
  {
   "cell_type": "markdown",
   "metadata": {
    "id": "qSTUWKKBY9GK"
   },
   "source": [
    "### 데이터 준비"
   ]
  },
  {
   "cell_type": "markdown",
   "metadata": {
    "id": "qSTUWKKBY9GK"
   },
   "source": [
    "- 디렉토리 설정: 이미지 데이터가 있는 경로"
   ]
  },
  {
   "cell_type": "code",
   "execution_count": null,
   "metadata": {
    "id": "InyIbUtAY8eQ"
   },
   "outputs": [],
   "source": [
    "base_dir = './datasets/cats_and_dogs_small'\n",
    "train_dir = os.path.join(base_dir, 'train')\n",
    "validation_dir = os.path.join(base_dir, 'validation')\n",
    "test_dir = os.path.join(base_dir, 'test')"
   ]
  },
  {
   "cell_type": "markdown",
   "metadata": {
    "id": "HXSAgZVibuqY"
   },
   "source": [
    "### 이미지 데이터 증식 샘플 \n",
    "1. 데이터 증식 설정\n",
    "2. 랜덤하게 증식된 훈련 이미지 그리기"
   ]
  },
  {
   "cell_type": "markdown",
   "metadata": {
    "id": "tYtm8RuCcEGU"
   },
   "source": [
    "#### 1. 데이터 증식 설정 : ImageDataGenerator() 사용"
   ]
  },
  {
   "cell_type": "code",
   "execution_count": null,
   "metadata": {
    "id": "6-WTwPhJ0nTS"
   },
   "outputs": [],
   "source": [
    "# ImageDataGenerator를 사용하여 데이터 증식 설정\n",
    "from tensorflow.keras.preprocessing.image import ImageDataGenerator\n",
    "\n",
    "datagen = ImageDataGenerator(\n",
    "    rotation_range = 20,\n",
    "    width_shift_range = 0.1,\n",
    "    height_shift_range = 0.1,\n",
    "    shear_range = 0.1,\n",
    "    zoom_range = 0.1,\n",
    "    horizontal_flip = True,\n",
    "    fill_mode = 'nearest'\n",
    ")"
   ]
  },
  {
   "cell_type": "markdown",
   "metadata": {
    "id": "B2YKns5TeR99"
   },
   "source": [
    "#### 2. 랜덤하게 증식된 훈련 이미지 그리기"
   ]
  },
  {
   "cell_type": "code",
   "execution_count": null,
   "metadata": {
    "colab": {
     "base_uri": "https://localhost:8080/",
     "height": 1000
    },
    "executionInfo": {
     "elapsed": 2830,
     "status": "ok",
     "timestamp": 1645416837279,
     "user": {
      "displayName": "Kyungmi Lee",
      "photoUrl": "https://lh3.googleusercontent.com/a/default-user=s64",
      "userId": "14076883295874579202"
     },
     "user_tz": -540
    },
    "id": "ViAhqq0QtkB7",
    "outputId": "6c942b61-1647-4ab6-d01e-b72b13189e9a"
   },
   "outputs": [],
   "source": [
    "# 랜덤하게 증식된 훈련 이미지 그리기\n",
    "import matplotlib.pyplot as plt\n",
    "from tensorflow.keras.preprocessing import image\n",
    "\n",
    "fnames = sorted([os.path.join(train_cats_dir, fname) for fname in os.listdir(train_cats_dir)])\n",
    "\n",
    "# 증식할 이미지 선택\n",
    "img_path = fnames[77] \n",
    "img = image.load_img(img_path, target_size=(150, 150))\n",
    "\n",
    "x = image.img_to_array(img)   # (150,150,3) 크기의 넘파이 배열로 변환\n",
    "x = x.reshape((1,)+x.shape)   # (1, 150, 150, 3) 크기로 변환\n",
    "\n",
    "# 랜덤하게 변환된 이미지 배치를 생성\n",
    "# 무한 반복되므로 중지 시점 정해야 함:4개 이미지 생성하고 중단 \n",
    "i = 0\n",
    "for batch in datagen.flow(x, batch_size=1):\n",
    "    plt.figure(i)\n",
    "    imgplot = plt.imshow(image.array_to_img(batch[0]))\n",
    "    i += 1\n",
    "    if i%4 == 0:\n",
    "        break       \n",
    "\n",
    "plt.show()\n"
   ]
  },
  {
   "cell_type": "markdown",
   "metadata": {
    "id": "g-p0gr4pw7a-"
   },
   "source": [
    "## 드롭아웃 층 포함한 새로운 ConvNet 정의 및 훈련\n",
    "- 과대적합을 억제하기 위해 완전 연결 분류기 직전에 Dropout층을 추가함\n",
    "- 데이터 증식 제너레이터를 사용하여 컨브넷 훈련 "
   ]
  },
  {
   "cell_type": "markdown",
   "metadata": {
    "id": "iyL4igrRcFCO"
   },
   "source": [
    "### 1. 이미지 증식(Image Augmentation)"
   ]
  },
  {
   "cell_type": "markdown",
   "metadata": {},
   "source": [
    "- Normalization & Augmentation\n",
    "    - ImageDataGenerator( )\n",
    "\n",
    "\n",
    "- Resizing & Generator\n",
    "    - flow_from_directory( )"
   ]
  },
  {
   "cell_type": "code",
   "execution_count": null,
   "metadata": {
    "colab": {
     "base_uri": "https://localhost:8080/"
    },
    "executionInfo": {
     "elapsed": 11883,
     "status": "ok",
     "timestamp": 1645417188293,
     "user": {
      "displayName": "Kyungmi Lee",
      "photoUrl": "https://lh3.googleusercontent.com/a/default-user=s64",
      "userId": "14076883295874579202"
     },
     "user_tz": -540
    },
    "id": "BoqIi0uu3LzM",
    "outputId": "d44702d7-71c7-4b52-f8c7-f53b20516a00"
   },
   "outputs": [],
   "source": [
    "from tensorflow.keras.preprocessing.image import ImageDataGenerator\n",
    "\n",
    "train_datagen = ImageDataGenerator(\n",
    "    rescale = 1./255,\n",
    "    rotation_range = 40,\n",
    "    width_shift_range = 0.2,\n",
    "    height_shift_range = 0.2,\n",
    "    shear_range = 0.2,\n",
    "    zoom_range = 0.2,\n",
    "    horizontal_flip = True\n",
    ")\n",
    "\n",
    "# 검증데이터, 테스트 데이터는 증식되어서는 안됨\n",
    "test_datagen = ImageDataGenerator(rescale=1./255)\n",
    "\n",
    "train_generator = train_datagen.flow_from_directory(\n",
    "    train_dir,\n",
    "    target_size=(150,150),\n",
    "    batch_size=20,\n",
    "    class_mode='binary'\n",
    ")\n",
    "\n",
    "validation_generator = test_datagen.flow_from_directory(\n",
    "    validation_dir,\n",
    "    target_size=(150,150),\n",
    "    batch_size=20,\n",
    "    class_mode='binary'\n",
    ")"
   ]
  },
  {
   "cell_type": "markdown",
   "metadata": {
    "id": "swR_OGRvgCNT"
   },
   "source": [
    "### 2. 모델 정의"
   ]
  },
  {
   "cell_type": "code",
   "execution_count": null,
   "metadata": {
    "id": "7cxpul4T08bF"
   },
   "outputs": [],
   "source": [
    "# 드롭아웃을 포함한 새로운 컨브넷 정의하기\n",
    "from tensorflow.keras.layers import Conv2D, MaxPooling2D, Dense, Flatten, Dropout\n",
    "from tensorflow.keras.models import Sequential\n",
    "\n",
    "model = Sequential()\n",
    "model.add(Conv2D(32, (3,3), activation='relu', input_shape=(150, 150, 3)))\n",
    "model.add(MaxPooling2D(2,2))\n",
    "model.add(Conv2D(64, (3,3), activation='relu'))\n",
    "model.add(MaxPooling2D(2,2))\n",
    "model.add(Conv2D(128, (3,3), activation='relu'))\n",
    "model.add(MaxPooling2D(2,2))\n",
    "model.add(Conv2D(128, (3,3), activation='relu'))\n",
    "model.add(MaxPooling2D(2,2))\n",
    "\n",
    "model.add(Flatten())\n",
    "model.add(Dropout(0.5))\n",
    "model.add(Dense(512, activation='relu'))\n",
    "model.add(Dense(1, activation='sigmoid'))"
   ]
  },
  {
   "cell_type": "code",
   "execution_count": null,
   "metadata": {
    "colab": {
     "base_uri": "https://localhost:8080/"
    },
    "executionInfo": {
     "elapsed": 251,
     "status": "ok",
     "timestamp": 1645417323678,
     "user": {
      "displayName": "Kyungmi Lee",
      "photoUrl": "https://lh3.googleusercontent.com/a/default-user=s64",
      "userId": "14076883295874579202"
     },
     "user_tz": -540
    },
    "id": "Cax86X8cDT2D",
    "outputId": "6a2fbbbd-d887-447f-a7b3-67b57fea387f"
   },
   "outputs": [],
   "source": [
    "model.summary()"
   ]
  },
  {
   "cell_type": "markdown",
   "metadata": {
    "id": "ntsDDa4-22As"
   },
   "source": [
    "### 3. 모델 컴파일"
   ]
  },
  {
   "cell_type": "code",
   "execution_count": null,
   "metadata": {
    "id": "4N-Djwepgiru"
   },
   "outputs": [],
   "source": [
    "model.compile(loss='binary_crossentropy',\n",
    "              optimizer='adam',\n",
    "              metrics=['acc'])"
   ]
  },
  {
   "cell_type": "markdown",
   "metadata": {
    "id": "RhrAzyAychwC"
   },
   "source": [
    "### 4. 모델 학습\n",
    "- GPU 기반: 48분 소요\n",
    "    - epochs : 60 -> 100"
   ]
  },
  {
   "cell_type": "code",
   "execution_count": null,
   "metadata": {
    "colab": {
     "base_uri": "https://localhost:8080/"
    },
    "executionInfo": {
     "elapsed": 2878751,
     "status": "ok",
     "timestamp": 1645420806931,
     "user": {
      "displayName": "Kyungmi Lee",
      "photoUrl": "https://lh3.googleusercontent.com/a/default-user=s64",
      "userId": "14076883295874579202"
     },
     "user_tz": -540
    },
    "id": "CJKXdg3GYgFN",
    "outputId": "96acdee9-8826-46e7-82d6-cfad12e3d101"
   },
   "outputs": [],
   "source": [
    "history = model.fit(\n",
    "    train_generator,\n",
    "    steps_per_epoch=100,\n",
    "    epochs=100,\n",
    "    validation_data=validation_generator,\n",
    "    validation_steps=50\n",
    ")"
   ]
  },
  {
   "cell_type": "markdown",
   "metadata": {
    "id": "22cEt1Zf-B9R"
   },
   "source": [
    "### 5. 모델 학습 결과 시각화\n",
    "- 데이터 증식과 드롭아웃을 적용한 모델의 훈련과 검증데이터의 정확도와 손실 그래프"
   ]
  },
  {
   "cell_type": "code",
   "execution_count": null,
   "metadata": {
    "colab": {
     "base_uri": "https://localhost:8080/",
     "height": 369
    },
    "executionInfo": {
     "elapsed": 1496,
     "status": "ok",
     "timestamp": 1645422214414,
     "user": {
      "displayName": "Kyungmi Lee",
      "photoUrl": "https://lh3.googleusercontent.com/a/default-user=s64",
      "userId": "14076883295874579202"
     },
     "user_tz": -540
    },
    "id": "-VVi0jPF9v9P",
    "outputId": "a63fcf3e-841c-4cfa-822d-9cb6bb19fb4a"
   },
   "outputs": [],
   "source": [
    "# 데이터 증식과 드롭아웃을 적용한 모델의 훈련과 검증데이터의 정확도 그래프\n",
    "\n",
    "acc = history.history['acc']\n",
    "val_acc = history.history['val_acc']\n",
    "\n",
    "epochs = range(1, len(acc) + 1)\n",
    "\n",
    "plt.figure(figsize=(9,6))\n",
    "plt.plot(epochs, acc, 'bo', label='Training acc')\n",
    "plt.plot(epochs, val_acc, 'b', label='Validation acc')\n",
    "plt.title('Training and Validation accuracy')\n",
    "plt.xlabel('epochs')\n",
    "plt.ylabel('Accuracy')\n",
    "plt.legend()\n",
    "plt.grid()\n",
    "plt.show()"
   ]
  },
  {
   "cell_type": "code",
   "execution_count": null,
   "metadata": {
    "colab": {
     "base_uri": "https://localhost:8080/",
     "height": 369
    },
    "executionInfo": {
     "elapsed": 1496,
     "status": "ok",
     "timestamp": 1645422214414,
     "user": {
      "displayName": "Kyungmi Lee",
      "photoUrl": "https://lh3.googleusercontent.com/a/default-user=s64",
      "userId": "14076883295874579202"
     },
     "user_tz": -540
    },
    "id": "-VVi0jPF9v9P",
    "outputId": "a63fcf3e-841c-4cfa-822d-9cb6bb19fb4a"
   },
   "outputs": [],
   "source": [
    "# 데이터 증식과 드롭아웃을 적용한 모델의 훈련과 검증데이터의 손실 그래프\n",
    "\n",
    "loss = history.history['loss']\n",
    "val_loss = history.history['val_loss']\n",
    "\n",
    "epochs = range(1, len(acc) + 1)\n",
    "\n",
    "plt.figure(figsize = (9, 6))\n",
    "plt.plot(epochs, loss, 'ro', label='Training loss')\n",
    "plt.plot(epochs, val_loss, 'r', label='Validation loss')\n",
    "plt.title('Training and Validation loss')\n",
    "plt.xlabel('epochs')\n",
    "plt.ylabel('Loss')\n",
    "plt.legend()\n",
    "plt.grid()\n",
    "plt.show()"
   ]
  },
  {
   "cell_type": "markdown",
   "metadata": {
    "id": "-t7r96Vmf17y"
   },
   "source": [
    "### 6. 모델 평가\n",
    " - test_generator"
   ]
  },
  {
   "cell_type": "code",
   "execution_count": null,
   "metadata": {
    "colab": {
     "base_uri": "https://localhost:8080/"
    },
    "executionInfo": {
     "elapsed": 4322,
     "status": "ok",
     "timestamp": 1645421578885,
     "user": {
      "displayName": "Kyungmi Lee",
      "photoUrl": "https://lh3.googleusercontent.com/a/default-user=s64",
      "userId": "14076883295874579202"
     },
     "user_tz": -540
    },
    "id": "bwG0YcOcgtxG",
    "outputId": "8a84a5c4-e114-43a4-d5f5-7c55141f76c6"
   },
   "outputs": [],
   "source": [
    "test_datagen = ImageDataGenerator(rescale = 1./255)\n",
    "\n",
    "test_generator = test_datagen.flow_from_directory(\n",
    "                 test_dir,\n",
    "                 target_size = (150, 150),\n",
    "                 batch_size = 20,\n",
    "                 class_mode = 'binary')"
   ]
  },
  {
   "cell_type": "code",
   "execution_count": null,
   "metadata": {
    "colab": {
     "base_uri": "https://localhost:8080/"
    },
    "executionInfo": {
     "elapsed": 147424,
     "status": "ok",
     "timestamp": 1645421729261,
     "user": {
      "displayName": "Kyungmi Lee",
      "photoUrl": "https://lh3.googleusercontent.com/a/default-user=s64",
      "userId": "14076883295874579202"
     },
     "user_tz": -540
    },
    "id": "eq66o80Gf2FL",
    "outputId": "4610eafc-61b7-4383-e268-b4c5e07d9185"
   },
   "outputs": [],
   "source": [
    "loss, accuracy = model.evaluate(test_generator,\n",
    "                                       steps = 50)\n",
    "\n",
    "print('Loss = {:.5f}'.format(loss))\n",
    "print('Accuracy = {:.5f}'.format(accuracy))"
   ]
  },
  {
   "cell_type": "markdown",
   "metadata": {
    "id": "xlldJ5Cn-UXF"
   },
   "source": [
    "### 7. 모델 저장"
   ]
  },
  {
   "cell_type": "code",
   "execution_count": null,
   "metadata": {
    "id": "JdUtsgNQ85qC"
   },
   "outputs": [],
   "source": [
    "model.save('./model/cats_and_dogs_small_augmentation.h5')"
   ]
  },
  {
   "cell_type": "code",
   "execution_count": null,
   "metadata": {
    "colab": {
     "base_uri": "https://localhost:8080/"
    },
    "executionInfo": {
     "elapsed": 614,
     "status": "ok",
     "timestamp": 1645421747655,
     "user": {
      "displayName": "Kyungmi Lee",
      "photoUrl": "https://lh3.googleusercontent.com/a/default-user=s64",
      "userId": "14076883295874579202"
     },
     "user_tz": -540
    },
    "id": "Ju4Hnlhgf6DO",
    "outputId": "8cabd2a1-b649-4ae8-c057-45d4761415cd"
   },
   "outputs": [],
   "source": [
    "!ls -l /model"
   ]
  },
  {
   "cell_type": "markdown",
   "metadata": {
    "id": "BcpXjs3Afa_Y"
   },
   "source": [
    "### 8. 모델 로드(load)\n",
    "\n",
    "- 저장된 모델 로드"
   ]
  },
  {
   "cell_type": "code",
   "execution_count": null,
   "metadata": {
    "id": "LLKfsXZtfbTC"
   },
   "outputs": [],
   "source": [
    "from tensorflow.keras.models import load_model\n",
    "\n",
    "path = './model/cats_and_dogs_small_augmentation.h5'\n",
    "model_google = load_model(path)"
   ]
  },
  {
   "cell_type": "markdown",
   "metadata": {},
   "source": [
    "- Loss & Accuracy"
   ]
  },
  {
   "cell_type": "code",
   "execution_count": null,
   "metadata": {
    "colab": {
     "base_uri": "https://localhost:8080/"
    },
    "executionInfo": {
     "elapsed": 11288,
     "status": "ok",
     "timestamp": 1645421794281,
     "user": {
      "displayName": "Kyungmi Lee",
      "photoUrl": "https://lh3.googleusercontent.com/a/default-user=s64",
      "userId": "14076883295874579202"
     },
     "user_tz": -540
    },
    "id": "ADVQcyONhBfA",
    "outputId": "032f2ab8-2f6e-473b-b4cc-58451ae8db1e"
   },
   "outputs": [],
   "source": [
    "loss, accuracy = model_google.evaluate(test_generator,\n",
    "                                       steps = 50)\n",
    "\n",
    "print('Loss = {:.5f}'.format(loss))\n",
    "print('Accuracy = {:.5f}'.format(accuracy))"
   ]
  }
 ],
 "metadata": {
  "colab": {
   "authorship_tag": "ABX9TyOTTCr3njfhBjEOzljVULkz",
   "collapsed_sections": [],
   "name": "2_02_CNN_Dogs_and_Cats_Augmentation.ipynb",
   "provenance": [
    {
     "file_id": "1s0jdqYI7m5wkF_A8W3dvNZI-X9GV48Uq",
     "timestamp": 1645358910105
    },
    {
     "file_id": "1yRZEcKnMoG4gQUWqwYKELopC4bjhdKDb",
     "timestamp": 1645344049262
    },
    {
     "file_id": "1Ajy2-PkPYHohH7jtCCST7TtvcY8LtFLF",
     "timestamp": 1645343818351
    }
   ]
  },
  "kernelspec": {
   "display_name": "Python 3 (ipykernel)",
   "language": "python",
   "name": "python3"
  },
  "language_info": {
   "codemirror_mode": {
    "name": "ipython",
    "version": 3
   },
   "file_extension": ".py",
   "mimetype": "text/x-python",
   "name": "python",
   "nbconvert_exporter": "python",
   "pygments_lexer": "ipython3",
   "version": "3.9.7"
  }
 },
 "nbformat": 4,
 "nbformat_minor": 1
}

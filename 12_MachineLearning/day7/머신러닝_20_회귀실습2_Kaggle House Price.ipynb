{
 "cells": [
  {
   "cell_type": "markdown",
   "metadata": {},
   "source": [
    "# 회귀 실습 : 캐글 주택 가격_고급 회귀 기법"
   ]
  },
  {
   "cell_type": "markdown",
   "metadata": {},
   "source": [
    "- 데이터  \n",
    "\n",
    "https://www.kaggle.com/c/house-prices-advanced-regression-techniques/data  \n",
    "\n",
    "- train.csv  다운로드 받아서 house_price.csv로 저장"
   ]
  },
  {
   "cell_type": "markdown",
   "metadata": {},
   "source": [
    "**house_price 데이터** \n",
    "- 79개의 변수로 구성\n",
    "- 미국 아이오와 주의 에임즈(Ames) 지방의 주택 가격 정보 데이터\n",
    "\n",
    "**성능 평가 : RMSLE(Root Mean Squared Log Error)**"
   ]
  },
  {
   "cell_type": "markdown",
   "metadata": {},
   "source": [
    "**전체 회귀 분석 과정**\n",
    "- 데이터 전처리\n",
    "- 선형 회귀 모델 학습/예측/평가\n",
    "- 회귀 트리 모델 학습/에측/평가\n",
    "- 회귀 모델의 예측 결과 혼합을 통한 최종 예측\n",
    "- 스태킹 앙상블 모델을 통한 회귀 예측"
   ]
  },
  {
   "cell_type": "markdown",
   "metadata": {},
   "source": [
    "## 데이터 전처리(Preprocessing)"
   ]
  },
  {
   "cell_type": "markdown",
   "metadata": {},
   "source": [
    "### 테이터 탐색\n",
    "- 결측치 확인\n",
    "- 피처(변수)별 분포"
   ]
  },
  {
   "cell_type": "code",
   "execution_count": null,
   "metadata": {},
   "outputs": [],
   "source": [
    "import warnings\n",
    "warnings.filterwarnings('ignore')\n",
    "import pandas as pd\n",
    "import numpy as np\n",
    "import seaborn as sns\n",
    "import matplotlib.pyplot as plt\n",
    "%matplotlib inline"
   ]
  },
  {
   "cell_type": "code",
   "execution_count": null,
   "metadata": {},
   "outputs": [],
   "source": [
    "\n",
    "# Target 값 : SalePrice (마지막 칼럼)"
   ]
  },
  {
   "cell_type": "markdown",
   "metadata": {},
   "source": [
    "주요 피처들\n",
    "\n",
    "- 1stFlrSF: First Floor square feet  \n",
    "- 2ndFlrSF: Second floor square feet  \n",
    "- GrLivArea: Above grade (ground) living area square feet      \n",
    "- Bedroom: Bedrooms above grade (does NOT include basement bedrooms)  \n",
    "- LotArea: Lot size in square feet      \n",
    "- GarageArea: Size of garage in square feet      \n",
    "- OverallQual: Rates the overall material and finish of the house  \n",
    "       10\tVery Excellent  \n",
    "       9\tExcellent  \n",
    "       8\tVery Good  \n",
    "       7\tGood  \n",
    "       6\tAbove Average  \n",
    "       5\tAverage  \n",
    "       4\tBelow Average  \n",
    "       3\tFair  \n",
    "       2\tPoor  \n",
    "       1\tVery Poor\t  \n",
    "- OverallCond: Rates the overall condition of the house  \n",
    "       10\tVery Excellent  \n",
    "       9\tExcellent  \n",
    "       8\tVery Good  \n",
    "       7\tGood  \n",
    "       6\tAbove Average\t  \n",
    "       5\tAverage  \n",
    "       4\tBelow Average\t  \n",
    "       3\tFair  \n",
    "       2\tPoor  \n",
    "       1\tVery Poor  \n",
    "- YearBuilt: Original construction date  \n",
    "- Neighborhood: Physical locations within Ames city limits  \n",
    "   Blmngtn  Bloomington Heights  \n",
    "   Blueste  Bluestem  \n",
    "   BrDale   Briardale  \n",
    "   .....\n",
    "\n",
    "- RoofMatl: Roof material  \n",
    "\tClyTile\tClay or Tile  \n",
    "\tCompShg\tStandard (Composite) Shingle  \n",
    "\tMembran\tMembrane  \n",
    "\tMetal\tMetal  \n",
    "\t.....\n",
    "\n",
    "- RoofStyle: Type of roof  \n",
    "\tFlat\tFlat  \n",
    "\tGable\tGable  \n",
    "\tGambrel\tGabrel (Barn)  \n",
    "\t....."
   ]
  },
  {
   "cell_type": "code",
   "execution_count": null,
   "metadata": {},
   "outputs": [],
   "source": []
  },
  {
   "cell_type": "markdown",
   "metadata": {},
   "source": [
    "**데이터 타입 확인**"
   ]
  },
  {
   "cell_type": "code",
   "execution_count": null,
   "metadata": {},
   "outputs": [],
   "source": []
  },
  {
   "cell_type": "markdown",
   "metadata": {},
   "source": [
    "**Null 컬럼 및 갯수 확인**"
   ]
  },
  {
   "cell_type": "code",
   "execution_count": null,
   "metadata": {},
   "outputs": [],
   "source": [
    "# Null 컬럼 확인 : Null이 있는 컬럼그 그 건수를 내림차순으로 출력\n"
   ]
  },
  {
   "cell_type": "code",
   "execution_count": null,
   "metadata": {
    "scrolled": true
   },
   "outputs": [],
   "source": [
    "# Null 컬럼과 그 건수 출력\n"
   ]
  },
  {
   "cell_type": "code",
   "execution_count": null,
   "metadata": {},
   "outputs": [],
   "source": [
    "# 참고 : 전체 피처들의 Null 수 확인\n"
   ]
  },
  {
   "cell_type": "code",
   "execution_count": null,
   "metadata": {},
   "outputs": [],
   "source": [
    "# 참고 : 데이터 타입별 수 : 시리즈 인덱스 확인\n"
   ]
  },
  {
   "cell_type": "code",
   "execution_count": null,
   "metadata": {},
   "outputs": [],
   "source": [
    "# 참고 : 시리즈 값 \n"
   ]
  },
  {
   "cell_type": "markdown",
   "metadata": {},
   "source": [
    "### 회귀 모델 적용하기 전에 타깃(y) 값의 분포가 대칭 분포인지 확인"
   ]
  },
  {
   "cell_type": "markdown",
   "metadata": {},
   "source": [
    "**타겟값 SalePrice의 분포 확인**"
   ]
  },
  {
   "cell_type": "code",
   "execution_count": null,
   "metadata": {},
   "outputs": [],
   "source": []
  },
  {
   "cell_type": "markdown",
   "metadata": {},
   "source": [
    "**SalePrice의 로그 변환**"
   ]
  },
  {
   "cell_type": "code",
   "execution_count": null,
   "metadata": {},
   "outputs": [],
   "source": [
    "# SalePrice 로그 변환\n"
   ]
  },
  {
   "cell_type": "code",
   "execution_count": null,
   "metadata": {},
   "outputs": [],
   "source": [
    "# 결과값을 로그 변환하고 다시 분포도 확인\n"
   ]
  },
  {
   "cell_type": "markdown",
   "metadata": {},
   "source": [
    "### 결측치 처리"
   ]
  },
  {
   "cell_type": "code",
   "execution_count": null,
   "metadata": {
    "scrolled": true
   },
   "outputs": [],
   "source": [
    "# Null 컬럼과 그 건수 출력\n"
   ]
  },
  {
   "cell_type": "code",
   "execution_count": null,
   "metadata": {},
   "outputs": [],
   "source": [
    "# Null 이 너무 많은 컬럼들과 불필요한 컬럼 삭제\n"
   ]
  },
  {
   "cell_type": "code",
   "execution_count": null,
   "metadata": {},
   "outputs": [],
   "source": [
    "# Drop 하지 않는 숫자형 Null컬럼들은 평균값으로 대체\n"
   ]
  },
  {
   "cell_type": "code",
   "execution_count": null,
   "metadata": {},
   "outputs": [],
   "source": [
    "# Null 값이 있는 피처명과 타입 추출\n"
   ]
  },
  {
   "cell_type": "code",
   "execution_count": null,
   "metadata": {},
   "outputs": [],
   "source": [
    "# 참고 : Null의 개수 확인\n"
   ]
  },
  {
   "cell_type": "markdown",
   "metadata": {},
   "source": [
    "### 원-핫 인코딩 변환"
   ]
  },
  {
   "cell_type": "markdown",
   "metadata": {},
   "source": [
    ": 문자열값은 모두 카테고리값. 판다스의 get_dummies( )를 이용하여 원-핫 인코딩 수행"
   ]
  },
  {
   "cell_type": "code",
   "execution_count": null,
   "metadata": {
    "scrolled": true
   },
   "outputs": [],
   "source": [
    "# 원-핫 인코딩 수행 전/후 데이터 shape 출력\n"
   ]
  },
  {
   "cell_type": "code",
   "execution_count": null,
   "metadata": {},
   "outputs": [],
   "source": []
  },
  {
   "cell_type": "code",
   "execution_count": null,
   "metadata": {},
   "outputs": [],
   "source": []
  },
  {
   "cell_type": "code",
   "execution_count": null,
   "metadata": {
    "scrolled": true
   },
   "outputs": [],
   "source": []
  },
  {
   "cell_type": "code",
   "execution_count": null,
   "metadata": {},
   "outputs": [],
   "source": []
  },
  {
   "cell_type": "code",
   "execution_count": null,
   "metadata": {},
   "outputs": [],
   "source": []
  },
  {
   "cell_type": "code",
   "execution_count": null,
   "metadata": {},
   "outputs": [],
   "source": []
  },
  {
   "cell_type": "code",
   "execution_count": null,
   "metadata": {},
   "outputs": [],
   "source": []
  },
  {
   "cell_type": "code",
   "execution_count": null,
   "metadata": {},
   "outputs": [],
   "source": []
  },
  {
   "cell_type": "markdown",
   "metadata": {},
   "source": [
    "## 선형 회귀 모델의 학습/예측/평가"
   ]
  },
  {
   "cell_type": "markdown",
   "metadata": {},
   "source": [
    "LinearRegression, Ridge, Lasso를 이용해 선형 계열의 회귀 모델 만들기"
   ]
  },
  {
   "cell_type": "markdown",
   "metadata": {},
   "source": [
    "**RMSE 평가 함수 생성**"
   ]
  },
  {
   "cell_type": "code",
   "execution_count": null,
   "metadata": {},
   "outputs": [],
   "source": [
    "# 단일 모델의 RMSE 값 반환\n",
    "def get_rmse(model): # 학습된 모델을 받아서 예측\n",
    "    pass\n",
    "\n",
    "\n",
    "# 여러 모델의 RMSE 값 반환\n",
    "def get_rmses(models):\n",
    "    pass"
   ]
  },
  {
   "cell_type": "markdown",
   "metadata": {},
   "source": [
    "### 선형 회귀 모델 학습, 예측, 평가(1)\n",
    "- LinearRegression, Ridge, Lasso 회귀"
   ]
  },
  {
   "cell_type": "code",
   "execution_count": null,
   "metadata": {},
   "outputs": [],
   "source": [
    "from sklearn.linear_model import LinearRegression, Ridge, Lasso\n",
    "from sklearn.model_selection import train_test_split\n",
    "from sklearn.metrics import mean_squared_error\n",
    "\n"
   ]
  },
  {
   "cell_type": "markdown",
   "metadata": {},
   "source": [
    "**get_top_bottom_coef(model) 함수 정의**\n",
    "\n",
    "피처 수가 많으므로 회귀 계수 값의 상위 10개, 하위 10개(-값으로 가장 큰 10개)의  \n",
    "피처명과 회귀 계수값을 가지는 Series 반환하는 함수 생성  "
   ]
  },
  {
   "cell_type": "code",
   "execution_count": null,
   "metadata": {},
   "outputs": [],
   "source": [
    "def get_top_bottom_coef(model):\n",
    "    pass\n"
   ]
  },
  {
   "cell_type": "markdown",
   "metadata": {},
   "source": [
    "**인자로 입력되는 여러개의 회귀 모델들에 대한 회귀계수값과 컬럼명 시각화**"
   ]
  },
  {
   "cell_type": "code",
   "execution_count": null,
   "metadata": {},
   "outputs": [],
   "source": [
    "def visualize_coefficient(models):\n",
    "    pass"
   ]
  },
  {
   "cell_type": "code",
   "execution_count": null,
   "metadata": {},
   "outputs": [],
   "source": [
    "# 앞 예제에서 학습한 lr_reg, ridge_reg, lasso_reg 모델의 회귀 계수 시각화 \n"
   ]
  },
  {
   "cell_type": "markdown",
   "metadata": {},
   "source": [
    "**5 폴드 교차검증으로 모델별로 RMSE와 평균 RMSE출력**"
   ]
  },
  {
   "cell_type": "code",
   "execution_count": null,
   "metadata": {},
   "outputs": [],
   "source": [
    "from sklearn.model_selection import cross_val_score\n",
    "\n",
    "def get_avg_rmse_cv(models):\n",
    "    pass"
   ]
  },
  {
   "cell_type": "code",
   "execution_count": null,
   "metadata": {},
   "outputs": [],
   "source": [
    "# 앞 예제에서 학습한 lr_reg, ridge_reg, lasso_reg 모델의 CV RMSE값 출력           \n"
   ]
  },
  {
   "cell_type": "markdown",
   "metadata": {},
   "source": [
    "**각 모델들의 alpha값을 변경하면서 하이퍼 파라미터 튜닝** "
   ]
  },
  {
   "cell_type": "code",
   "execution_count": null,
   "metadata": {},
   "outputs": [],
   "source": [
    "from sklearn.model_selection import GridSearchCV\n",
    "\n",
    "def get_best_params(model, params):\n",
    "    pass"
   ]
  },
  {
   "cell_type": "code",
   "execution_count": null,
   "metadata": {},
   "outputs": [],
   "source": []
  },
  {
   "cell_type": "markdown",
   "metadata": {},
   "source": [
    "**최적화된 alpha값으로 재학습/예측/평가**"
   ]
  },
  {
   "cell_type": "code",
   "execution_count": null,
   "metadata": {},
   "outputs": [],
   "source": [
    "# 앞의 최적화 alpha값으로 학습데이터로 학습, 테스트 데이터로 예측 및 평가 수행. \n",
    "\n",
    "# 모든 모델의 RMSE 출력\n",
    "\n",
    "# 모든 모델의 회귀 계수 시각화 \n"
   ]
  },
  {
   "cell_type": "markdown",
   "metadata": {},
   "source": [
    "## 선형 회귀 모델 학습/예측/평가(2)\n",
    "\n",
    "- 피처 데이터의 분포 확인(왜도) -> 로그변환  \n",
    "- 이상치 데이터 처리"
   ]
  },
  {
   "cell_type": "markdown",
   "metadata": {},
   "source": [
    "### 1) 피처별 왜도(skewness) 측정"
   ]
  },
  {
   "cell_type": "markdown",
   "metadata": {},
   "source": [
    "**숫자형 피처들의 왜도 계산**"
   ]
  },
  {
   "cell_type": "code",
   "execution_count": null,
   "metadata": {
    "scrolled": true
   },
   "outputs": [],
   "source": [
    "# 숫자 피처별 왜도 계산\n",
    "from scipy.stats import skew\n",
    "\n"
   ]
  },
  {
   "cell_type": "markdown",
   "metadata": {},
   "source": [
    "**왜도가 1이상이 피처들 추출**"
   ]
  },
  {
   "cell_type": "code",
   "execution_count": null,
   "metadata": {},
   "outputs": [],
   "source": [
    "# skew 정도가 1 이상인 컬럼들만 추출. \n"
   ]
  },
  {
   "cell_type": "markdown",
   "metadata": {},
   "source": [
    "**왜도가 1 이상이 피처들 로그 변환**"
   ]
  },
  {
   "cell_type": "code",
   "execution_count": null,
   "metadata": {},
   "outputs": [],
   "source": [
    "# 추출된 왜곡 정도가 높은 피처를 로그 변환\n"
   ]
  },
  {
   "cell_type": "code",
   "execution_count": null,
   "metadata": {
    "scrolled": true
   },
   "outputs": [],
   "source": [
    "# 로그 변환 후 다시 왜곡 정도를 확인해 보면\n"
   ]
  },
  {
   "cell_type": "markdown",
   "metadata": {},
   "source": [
    "**왜도가 큰 피처들의 로그변환 후 원-핫 인코딩 적용 후 회귀모델 최적 파라미터 튜닝**"
   ]
  },
  {
   "cell_type": "code",
   "execution_count": null,
   "metadata": {},
   "outputs": [],
   "source": [
    "# 원-핫 인코딩\n",
    "\n",
    "# 피처/타겟 데이터 세트 다시 생성\n",
    "\n",
    "# 피처들을 로그 변환 후 다시 최적 하이퍼 파라미터와 RMSE 출력\n"
   ]
  },
  {
   "cell_type": "markdown",
   "metadata": {},
   "source": [
    "**최적 파라미터로 재학습/예측/평가**"
   ]
  },
  {
   "cell_type": "code",
   "execution_count": null,
   "metadata": {},
   "outputs": [],
   "source": [
    "# 앞의 최적화 alpha값으로 학습데이터로 학습, 테스트 데이터로 예측 및 평가 수행. \n",
    "\n",
    "# 모든 모델의 RMSE 출력\n",
    "\n",
    "# 모든 모델의 회귀 계수 시각화 \n"
   ]
  },
  {
   "cell_type": "markdown",
   "metadata": {},
   "source": [
    "### 2) 이상치 처리\n",
    "\n",
    "- 회귀 계수가 큰 피처들은 예측에 많은 영향을 미치는 중요 피처이므로 이상치 데이터 처리가 중요함  \n",
    "- 먼저 세 개 모델 모두에서 가장 큰 회귀 계수를 가지는 GrLivArea(주거 공간 크기) 피처의 데이터 분포 확인"
   ]
  },
  {
   "cell_type": "markdown",
   "metadata": {},
   "source": [
    "**GrLivArea값과 SalePrice와의 산점도**"
   ]
  },
  {
   "cell_type": "code",
   "execution_count": null,
   "metadata": {},
   "outputs": [],
   "source": [
    "# 주택 가격 데이터가 변환되기 이전의 원본 데이터 세트에서\n",
    "# GrLivArea(주거 공간 크기)와 타깃 값인 SalePrice의 관계 시각화\n"
   ]
  },
  {
   "cell_type": "markdown",
   "metadata": {},
   "source": [
    "**이상치 데이터 삭제**"
   ]
  },
  {
   "cell_type": "code",
   "execution_count": null,
   "metadata": {
    "scrolled": true
   },
   "outputs": [],
   "source": []
  },
  {
   "cell_type": "code",
   "execution_count": null,
   "metadata": {},
   "outputs": [],
   "source": [
    "# house_df_ohe에서 이상치 데이터 필터링\n"
   ]
  },
  {
   "cell_type": "code",
   "execution_count": null,
   "metadata": {},
   "outputs": [],
   "source": [
    "# DataFrame의 index를 이용하여 아웃라이어 레코드 삭제 \n"
   ]
  },
  {
   "cell_type": "markdown",
   "metadata": {},
   "source": [
    "**릿지, 라쏘 모델 최적화**"
   ]
  },
  {
   "cell_type": "code",
   "execution_count": null,
   "metadata": {},
   "outputs": [],
   "source": [
    "# house_df_ohe 기반으로 피처/타깃 데이터 세트 다시 생성하고\n",
    "# 릿지와 라쏘 모델의 최적화 수행\n",
    "\n"
   ]
  },
  {
   "cell_type": "markdown",
   "metadata": {},
   "source": [
    "**이상치가 제거된 데이터세트 기반으로 최적화 된 alpha 적용하여 학습/평가**"
   ]
  },
  {
   "cell_type": "code",
   "execution_count": null,
   "metadata": {},
   "outputs": [],
   "source": [
    "# 이상치가 제거된 데이터 세트를 기반으로 \n",
    "# 다시 분할된 데이터 세트의 RMSE 수치 및 회귀 계수 시각화\n",
    "\n",
    "# 앞의 최적화 alpha값으로 학습데이터로 학습, 테스트 데이터로 예측 및 평가 수행. \n",
    "\n",
    "# 모든 모델의 RMSE 출력\n",
    "\n",
    "# 모든 모델의 회귀 계수 시각화 \n"
   ]
  },
  {
   "cell_type": "markdown",
   "metadata": {},
   "source": [
    "## 회귀 트리 학습/예측/평가 \n",
    "\n",
    "**XGBoost와 LightGBM 학습/예측/평가**"
   ]
  },
  {
   "cell_type": "markdown",
   "metadata": {},
   "source": [
    "**XGBoost 회귀트리**"
   ]
  },
  {
   "cell_type": "code",
   "execution_count": null,
   "metadata": {},
   "outputs": [],
   "source": [
    "# 수행 시간이 오래 걸릴 수 있는 관계로\n",
    "# 하이퍼 파라미터 설정을 미리 적용한 상태로\n",
    "# 5 폴드 세트에 대한 평균 RMSE 값 추출\n",
    "\n",
    "# XGBoost 회귀 트리\n"
   ]
  },
  {
   "cell_type": "markdown",
   "metadata": {},
   "source": [
    "**LightGBM 회귀 트리**"
   ]
  },
  {
   "cell_type": "code",
   "execution_count": null,
   "metadata": {},
   "outputs": [],
   "source": [
    "# LightGBM 회귀 트리\n",
    "\n"
   ]
  },
  {
   "cell_type": "markdown",
   "metadata": {},
   "source": [
    "**트리 회귀 모델의 피처 중요도 시각화**"
   ]
  },
  {
   "cell_type": "code",
   "execution_count": null,
   "metadata": {},
   "outputs": [],
   "source": [
    "# 모델의 중요도 상위 20개의 피처명과 그때의 중요도값을 Series로 반환\n",
    "\n",
    "def get_top_features(model):\n",
    "    ftr_importances_values = model.feature_importances_\n",
    "    ftr_importances = pd.Series(ftr_importances_values, index=X_features.columns  )\n",
    "    ftr_top20 = ftr_importances.sort_values(ascending=False)[:20]\n",
    "    return ftr_top20\n",
    "\n",
    "def visualize_ftr_importances(models):\n",
    "    fig, axs = plt.subplots(figsize=(24,10),nrows=1, ncols=2)\n",
    "    fig.tight_layout() \n",
    "    for i_num, model in enumerate(models):\n",
    "        ftr_top20 = get_top_features(model)\n",
    "        axs[i_num].set_title(model.__class__.__name__+' Feature Importances', size=25)\n",
    "        for label in (axs[i_num].get_xticklabels() + axs[i_num].get_yticklabels()):\n",
    "            label.set_fontsize(22)\n",
    "        sns.barplot(x=ftr_top20.values, y=ftr_top20.index , ax=axs[i_num])"
   ]
  },
  {
   "cell_type": "code",
   "execution_count": null,
   "metadata": {},
   "outputs": [],
   "source": []
  },
  {
   "cell_type": "markdown",
   "metadata": {},
   "source": [
    "### 회귀 모델들의 예측 결과 혼합을 통한 최종 예측"
   ]
  },
  {
   "cell_type": "code",
   "execution_count": null,
   "metadata": {},
   "outputs": [],
   "source": [
    "# 앞에서 구한 릿지 모델(40%)과 라쏘 모델(60%) 혼합\n",
    "# 개별 모델과 최종 혼합 모델의 RMSE 추출\n",
    "\n",
    "# 최종 혼합 모델과 개별 모델의 RMSE 값 출력하는 함수 생성\n",
    "def get_rmse_pred(preds):\n",
    "    for key in preds.keys():\n",
    "        pred_value = preds[key]\n",
    "        mse = mean_squared_error(y_test , pred_value)\n",
    "        rmse = np.sqrt(mse)\n",
    "        print('{0} 모델의 RMSE: {1}'.format(key, rmse))\n",
    "\n",
    "# 개별 모델의 학습\n",
    "\n",
    "# 개별 모델 예측\n",
    "\n",
    "# 개별 모델 예측값 혼합으로 최종 예측값 도출\n",
    "\n",
    "#최종 혼합 모델, 개별모델의 RMSE 값 출력\n",
    "\n"
   ]
  },
  {
   "cell_type": "code",
   "execution_count": null,
   "metadata": {},
   "outputs": [],
   "source": [
    "# XBBoost와 LightGBM 혼합 (각 50%)\n",
    "\n",
    "# XGBRegressor()에 objective='reg:squarederror' 추가 ('reg:lineaqr'가 변경됨)\n"
   ]
  },
  {
   "cell_type": "markdown",
   "metadata": {},
   "source": [
    "## 스태킹 모델을 통한 회귀 예측"
   ]
  },
  {
   "cell_type": "code",
   "execution_count": null,
   "metadata": {},
   "outputs": [],
   "source": [
    "from sklearn.model_selection import KFold\n",
    "from sklearn.metrics import mean_absolute_error\n",
    "\n",
    "def get_stacking_base_datasets(model, X_train_n, y_train_n, X_test_n, n_folds ):\n",
    "    kf = KFold(n_splits=n_folds, shuffle=True, random_state=0)\n",
    "    \n",
    "    train_fold_pred = np.zeros((X_train_n.shape[0] ,1 ))\n",
    "    test_pred = np.zeros((X_test_n.shape[0],n_folds))\n",
    "    print(model.__class__.__name__ , ' model 시작 ')\n",
    "    \n",
    "    for folder_counter, (train_index, valid_index) in enumerate(kf.split(X_train_n)):\n",
    "        print('\\t 폴드 세트: ',folder_counter,' 시작 ')\n",
    "        X_tr = X_train_n[train_index] \n",
    "        y_tr = y_train_n[train_index] \n",
    "        X_te = X_train_n[valid_index]  \n",
    "        \n",
    "        model.fit(X_tr , y_tr)       \n",
    "        train_fold_pred[valid_index, :] = model.predict(X_te).reshape(-1,1)\n",
    "        test_pred[:, folder_counter] = model.predict(X_test_n)\n",
    "            \n",
    "    test_pred_mean = np.mean(test_pred, axis=1).reshape(-1,1)    \n",
    "    \n",
    "    return train_fold_pred, test_pred_mean"
   ]
  },
  {
   "cell_type": "code",
   "execution_count": null,
   "metadata": {
    "scrolled": true
   },
   "outputs": [],
   "source": [
    "# 기반 모델별로 get_stacking_base_datasets() 함수 적용해서 \n",
    "# 메타 모델이 사용할 학습/테스트 피처 데이터 세트 추출\n",
    "\n",
    "# get_stacking_base_datasets( )은 넘파이 ndarray를 인자로 사용하므로 DataFrame을 넘파이로 변환. \n",
    "X_train_n = X_train.values\n",
    "X_test_n = X_test.values\n",
    "y_train_n = y_train.values\n",
    "\n",
    "# 각 개별 기반(Base)모델이 생성한 학습용/테스트용 데이터 반환. \n",
    "ridge_train, ridge_test = get_stacking_base_datasets(ridge_reg, \n",
    "                                                     X_train_n, \n",
    "                                                     y_train_n, \n",
    "                                                     X_test_n, 5)\n",
    "lasso_train, lasso_test = get_stacking_base_datasets(lasso_reg,\n",
    "                                                     X_train_n, \n",
    "                                                     y_train_n, \n",
    "                                                     X_test_n, 5)\n",
    "xgb_train, xgb_test = get_stacking_base_datasets(xgb_reg, \n",
    "                                                 X_train_n, \n",
    "                                                 y_train_n, \n",
    "                                                 X_test_n, 5)  \n",
    "lgbm_train, lgbm_test = get_stacking_base_datasets(lgbm_reg, \n",
    "                                                   X_train_n, \n",
    "                                                   y_train_n, \n",
    "                                                   X_test_n, 5)"
   ]
  },
  {
   "cell_type": "code",
   "execution_count": null,
   "metadata": {},
   "outputs": [],
   "source": [
    "# 개별 모델이 반환한 학습 및 테스트용 데이터 세트를 Stacking 형태로 결합.  \n",
    "Stack_final_X_train = np.concatenate((ridge_train, lasso_train, \n",
    "                                      xgb_train, lgbm_train), axis=1)\n",
    "Stack_final_X_test = np.concatenate((ridge_test, lasso_test, \n",
    "                                     xgb_test, lgbm_test), axis=1)\n",
    "\n",
    "# 최종 메타 모델은 라쏘 모델을 적용. \n",
    "meta_model_lasso = Lasso(alpha=0.0005)\n",
    "\n",
    "#기반 모델의 예측값을 기반으로 새롭게 만들어진 학습 및 테스트용 데이터로 예측하고 RMSE 측정.\n",
    "meta_model_lasso.fit(Stack_final_X_train, y_train)\n",
    "final = meta_model_lasso.predict(Stack_final_X_test)\n",
    "mse = mean_squared_error(y_test , final)\n",
    "rmse = np.sqrt(mse)\n",
    "\n",
    "print('스태킹 회귀 모델의 최종 RMSE 값은:', rmse)"
   ]
  },
  {
   "cell_type": "code",
   "execution_count": null,
   "metadata": {},
   "outputs": [],
   "source": [
    "# 참고\n",
    "# SalePrice - the property's sale price in dollars. This is the target variable that you're trying to predict.\n",
    "# MSSubClass: The building class\n",
    "# MSZoning: The general zoning classification\n",
    "# LotFrontage: Linear feet of street connected to property\n",
    "# LotArea: Lot size in square feet\n",
    "# Street: Type of road access\n",
    "# Alley: Type of alley access\n",
    "# LotShape: General shape of property\n",
    "# LandContour: Flatness of the property\n",
    "# Utilities: Type of utilities available\n",
    "# LotConfig: Lot configuration\n",
    "# LandSlope: Slope of property\n",
    "# Neighborhood: Physical locations within Ames city limits\n",
    "# Condition1: Proximity to main road or railroad\n",
    "\n",
    "# Condition2: Proximity to main road or railroad (if a second is present)\n",
    "# BldgType: Type of dwelling\n",
    "# HouseStyle: Style of dwelling\n",
    "# OverallQual: Overall material and finish quality\n",
    "# OverallCond: Overall condition rating\n",
    "# YearBuilt: Original construction date\n",
    "# YearRemodAdd: Remodel date\n",
    "# RoofStyle: Type of roof\n",
    "# RoofMatl: Roof material\n",
    "# Exterior1st: Exterior covering on house\n",
    "# Exterior2nd: Exterior covering on house (if more than one material)\n",
    "# MasVnrType: Masonry veneer type\n",
    "# MasVnrArea: Masonry veneer area in square feet\n",
    "# ExterQual: Exterior material quality\n",
    "# ExterCond: Present condition of the material on the exterior\n",
    "# Foundation: Type of foundation\n",
    "# BsmtQual: Height of the basement\n",
    "# BsmtCond: General condition of the basement\n",
    "# BsmtExposure: Walkout or garden level basement walls\n",
    "# BsmtFinType1: Quality of basement finished area\n",
    "# BsmtFinSF1: Type 1 finished square feet\n",
    "# BsmtFinType2: Quality of second finished area (if present)\n",
    "# BsmtFinSF2: Type 2 finished square feet\n",
    "# BsmtUnfSF: Unfinished square feet of basement area\n",
    "# TotalBsmtSF: Total square feet of basement area\n",
    "# Heating: Type of heating\n",
    "# HeatingQC: Heating quality and condition\n",
    "# CentralAir: Central air conditioning\n",
    "# Electrical: Electrical system\n",
    "# 1stFlrSF: First Floor square feet\n",
    "# 2ndFlrSF: Second floor square feet\n",
    "# LowQualFinSF: Low quality finished square feet (all floors)\n",
    "# GrLivArea: Above grade (ground) living area square feet\n",
    "# BsmtFullBath: Basement full bathrooms\n",
    "# BsmtHalfBath: Basement half bathrooms\n",
    "# FullBath: Full bathrooms above grade\n",
    "# HalfBath: Half baths above grade\n",
    "# Bedroom: Number of bedrooms above basement level\n",
    "# Kitchen: Number of kitchens\n",
    "# KitchenQual: Kitchen quality\n",
    "# TotRmsAbvGrd: Total rooms above grade (does not include bathrooms)\n",
    "# Functional: Home functionality rating\n",
    "# Fireplaces: Number of fireplaces\n",
    "# FireplaceQu: Fireplace quality\n",
    "# GarageType: Garage location\n",
    "# GarageYrBlt: Year garage was built\n",
    "# GarageFinish: Interior finish of the garage\n",
    "# GarageCars: Size of garage in car capacity\n",
    "# GarageArea: Size of garage in square feet\n",
    "# GarageQual: Garage quality\n",
    "# GarageCond: Garage condition\n",
    "# PavedDrive: Paved driveway\n",
    "# WoodDeckSF: Wood deck area in square feet\n",
    "# OpenPorchSF: Open porch area in square feet\n",
    "# EnclosedPorch: Enclosed porch area in square feet\n",
    "# 3SsnPorch: Three season porch area in square feet\n",
    "# ScreenPorch: Screen porch area in square feet\n",
    "# PoolArea: Pool area in square feet\n",
    "# PoolQC: Pool quality\n",
    "# Fence: Fence quality\n",
    "# MiscFeature: Miscellaneous feature not covered in other categories\n",
    "# MiscVal: $Value of miscellaneous feature\n",
    "# MoSold: Month Sold\n",
    "# YrSold: Year Sold\n",
    "# SaleType: Type of sale\n",
    "# SaleCondition: Condition of sale"
   ]
  }
 ],
 "metadata": {
  "kernelspec": {
   "display_name": "Python 3 (ipykernel)",
   "language": "python",
   "name": "python3"
  },
  "language_info": {
   "codemirror_mode": {
    "name": "ipython",
    "version": 3
   },
   "file_extension": ".py",
   "mimetype": "text/x-python",
   "name": "python",
   "nbconvert_exporter": "python",
   "pygments_lexer": "ipython3",
   "version": "3.9.7"
  }
 },
 "nbformat": 4,
 "nbformat_minor": 2
}

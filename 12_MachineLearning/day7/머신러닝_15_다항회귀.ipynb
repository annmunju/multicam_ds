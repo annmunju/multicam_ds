{
 "cells": [
  {
   "cell_type": "code",
   "execution_count": 1,
   "metadata": {},
   "outputs": [],
   "source": [
    "# 모듈 임포트\n",
    "from sklearn.linear_model import LinearRegression\n",
    "from sklearn.model_selection import train_test_split\n",
    "from sklearn.metrics import mean_squared_error, r2_score\n",
    "from sklearn.preprocessing import PolynomialFeatures\n",
    "import numpy as np\n",
    "import pandas as pd\n",
    "import matplotlib.pyplot as plt\n",
    "import seaborn as sns\n"
   ]
  },
  {
   "cell_type": "markdown",
   "metadata": {},
   "source": [
    "# 다항 회귀(Polynomial Regression)"
   ]
  },
  {
   "cell_type": "markdown",
   "metadata": {},
   "source": [
    "- Polynomial Regression과 과대적합/과소적합의 이해"
   ]
  },
  {
   "cell_type": "markdown",
   "metadata": {},
   "source": [
    "## 다항 회귀(Polynomial Regression) 이해"
   ]
  },
  {
   "cell_type": "markdown",
   "metadata": {},
   "source": [
    "**다중선형회귀**\n",
    "\n",
    "$ y = w_0 + w_1 X_{1} + w_2 X_{2} + w_3 X_{3} + ... + w_n X_{n} $\n",
    "- 독립변수(festure)와 종속변수(target)의 관계가 일차방정식으로 표현된 회귀\n",
    "- 직선으로 표현"
   ]
  },
  {
   "cell_type": "markdown",
   "metadata": {},
   "source": [
    "**다항회귀**\n",
    "\n",
    "$ y = w_0 + w_1 X_{1} + w_2 X_{2} + w_3 X_{1}X_{2} + w_4 X_{1}^2 + w_5 X_{2}^2 $\n",
    "\n",
    "- 회귀가 독립변수의 일차식이 아닌 2차식, 3차식 등 다항식으로 표현되는 회귀식\n",
    "- 선형회귀임\n",
    "\n",
    "$ z=[X_{1} , X_{2} , X_{1}X_{2} , X_{1}^2, X_{2}^2 ] $라고 하면\n",
    "\n",
    "$ y = w_0 + w_1 Z_{1} + w_2 Z_{2} + w_3 Z_{3} + w_4 Z_{4} + w_5 Z_{5} $"
   ]
  },
  {
   "cell_type": "markdown",
   "metadata": {},
   "source": [
    "**사이킷런은 다항회귀를 위한 클래스를 명시적으로 제공하지 않음**\n",
    "- 다항 회귀가 선형 회귀이므로 PolynomalFeatures 클래스를 통해 독립변수(피처)를 다항식 피처로 변환\n",
    "\n",
    "PolynomialFeatures(degree=차수)\n",
    "\n",
    "fit_transform(피처)"
   ]
  },
  {
   "cell_type": "code",
   "execution_count": 108,
   "metadata": {},
   "outputs": [
    {
     "name": "stdout",
     "output_type": "stream",
     "text": [
      "[[1 2]\n",
      " [1 3]]\n"
     ]
    },
    {
     "data": {
      "text/plain": [
       "array([[1., 1., 2., 1., 2., 4.],\n",
       "       [1., 1., 3., 1., 3., 9.]])"
      ]
     },
     "execution_count": 108,
     "metadata": {},
     "output_type": "execute_result"
    }
   ],
   "source": [
    "X = np.array([1,2,1,3]).reshape(2,2)\n",
    "print(X)\n",
    "\n",
    "poly = PolynomialFeatures(degree=2)\n",
    "poly.fit_transform(X)"
   ]
  },
  {
   "cell_type": "code",
   "execution_count": 109,
   "metadata": {},
   "outputs": [
    {
     "name": "stdout",
     "output_type": "stream",
     "text": [
      "[[1 2 3]\n",
      " [2 2 3]\n",
      " [1 2 3]]\n"
     ]
    },
    {
     "data": {
      "text/plain": [
       "array([[ 1.,  1.,  2.,  3.,  1.,  2.,  3.,  4.,  6.,  9.,  1.,  2.,  3.,\n",
       "         4.,  6.,  9.,  8., 12., 18., 27.],\n",
       "       [ 1.,  2.,  2.,  3.,  4.,  4.,  6.,  4.,  6.,  9.,  8.,  8., 12.,\n",
       "         8., 12., 18.,  8., 12., 18., 27.],\n",
       "       [ 1.,  1.,  2.,  3.,  1.,  2.,  3.,  4.,  6.,  9.,  1.,  2.,  3.,\n",
       "         4.,  6.,  9.,  8., 12., 18., 27.]])"
      ]
     },
     "execution_count": 109,
     "metadata": {},
     "output_type": "execute_result"
    }
   ],
   "source": [
    "X = np.array([1,2,3,2,2,3,1,2,3]).reshape(3,3)\n",
    "print(X)\n",
    "\n",
    "poly3 = PolynomialFeatures(degree=3)\n",
    "poly3.fit_transform(X)"
   ]
  },
  {
   "cell_type": "code",
   "execution_count": 110,
   "metadata": {
    "scrolled": true
   },
   "outputs": [
    {
     "name": "stdout",
     "output_type": "stream",
     "text": [
      "[[ 0  1  2]\n",
      " [ 3  4  5]\n",
      " [ 6  7  8]\n",
      " [ 9 10 11]]\n"
     ]
    },
    {
     "data": {
      "text/plain": [
       "array([[1.000e+00, 0.000e+00, 1.000e+00, 2.000e+00, 0.000e+00, 0.000e+00,\n",
       "        0.000e+00, 1.000e+00, 2.000e+00, 4.000e+00, 0.000e+00, 0.000e+00,\n",
       "        0.000e+00, 0.000e+00, 0.000e+00, 0.000e+00, 1.000e+00, 2.000e+00,\n",
       "        4.000e+00, 8.000e+00],\n",
       "       [1.000e+00, 3.000e+00, 4.000e+00, 5.000e+00, 9.000e+00, 1.200e+01,\n",
       "        1.500e+01, 1.600e+01, 2.000e+01, 2.500e+01, 2.700e+01, 3.600e+01,\n",
       "        4.500e+01, 4.800e+01, 6.000e+01, 7.500e+01, 6.400e+01, 8.000e+01,\n",
       "        1.000e+02, 1.250e+02],\n",
       "       [1.000e+00, 6.000e+00, 7.000e+00, 8.000e+00, 3.600e+01, 4.200e+01,\n",
       "        4.800e+01, 4.900e+01, 5.600e+01, 6.400e+01, 2.160e+02, 2.520e+02,\n",
       "        2.880e+02, 2.940e+02, 3.360e+02, 3.840e+02, 3.430e+02, 3.920e+02,\n",
       "        4.480e+02, 5.120e+02],\n",
       "       [1.000e+00, 9.000e+00, 1.000e+01, 1.100e+01, 8.100e+01, 9.000e+01,\n",
       "        9.900e+01, 1.000e+02, 1.100e+02, 1.210e+02, 7.290e+02, 8.100e+02,\n",
       "        8.910e+02, 9.000e+02, 9.900e+02, 1.089e+03, 1.000e+03, 1.100e+03,\n",
       "        1.210e+03, 1.331e+03]])"
      ]
     },
     "execution_count": 110,
     "metadata": {},
     "output_type": "execute_result"
    }
   ],
   "source": [
    "X = np.arange(12).reshape(4,3)\n",
    "print(X)\n",
    "\n",
    "poly3 = PolynomialFeatures(degree=3)\n",
    "poly3.fit_transform(X)"
   ]
  },
  {
   "cell_type": "markdown",
   "metadata": {},
   "source": [
    "**3차 다항식 결정값을 구하는 함수 polynomial_func(X) 생성**\n",
    "\n",
    "즉 회귀식은 결정값 $y = 1+ 2x_1 + 3x_1^2 + 4x_2^3$ "
   ]
  },
  {
   "cell_type": "code",
   "execution_count": null,
   "metadata": {},
   "outputs": [],
   "source": []
  },
  {
   "cell_type": "code",
   "execution_count": null,
   "metadata": {},
   "outputs": [],
   "source": []
  },
  {
   "cell_type": "code",
   "execution_count": null,
   "metadata": {},
   "outputs": [],
   "source": []
  },
  {
   "cell_type": "markdown",
   "metadata": {},
   "source": [
    "**3차 다항식 계수의 피처값과 3차 다항식 결정값으로 학습**"
   ]
  },
  {
   "cell_type": "code",
   "execution_count": 111,
   "metadata": {},
   "outputs": [
    {
     "name": "stdout",
     "output_type": "stream",
     "text": [
      "[[2 3]\n",
      " [4 2]\n",
      " [9 1]]\n",
      "3차 다항식 계수 [[  1.   2.   3.   4.   6.   9.   8.  12.  18.  27.]\n",
      " [  1.   4.   2.  16.   8.   4.  64.  32.  16.   8.]\n",
      " [  1.   9.   1.  81.   9.   1. 729.  81.   9.   1.]]\n",
      "다항 (polynomial) 회귀계수 [-0.   -0.12  0.07 -0.47 -0.15  0.37  0.42 -1.2   0.11  1.43]\n"
     ]
    }
   ],
   "source": [
    "from sklearn.linear_model import LinearRegression\n",
    "\n",
    "# X = np.arange(0, 4).reshape(2,2)\n",
    "X = np.array([2,3,4,2,9,1]).reshape(3,2)\n",
    "print(X)\n",
    "y = 1 + 2 * X[:, 0] + 3*X[:, 0]**2 + 4*X[:, 1]**3\n",
    "\n",
    "poly_ftr = PolynomialFeatures(degree=3).fit_transform(X)\n",
    "print('3차 다항식 계수', poly_ftr)\n",
    "\n",
    "model = LinearRegression()\n",
    "model.fit(poly_ftr, y)\n",
    "print('다항 (polynomial) 회귀계수',np.round(model.coef_, 2))"
   ]
  },
  {
   "cell_type": "markdown",
   "metadata": {},
   "source": [
    "### 파이프라인(Pipeline)을 이용한 3차 다항회귀 학습  \n",
    "\n",
    "사이킷런의 Pipeline 객체는 Feature 엔지니어링 변환과 모델 학습/예측을 순차적으로 결합"
   ]
  },
  {
   "cell_type": "markdown",
   "metadata": {},
   "source": [
    "**`sklearn.pipeline의 Pipeline 클래스`**\n",
    "\n",
    "- 연속된 변환을 순서대로 처리할 수 있도록 도와주는 클래스\n",
    "\n",
    "- 형식 : 연속된 단계를 나타내는 (name, transforms) 튜플 목록을 입력받음\n",
    "    - 마지막 단계에서는 transforms와 estimator를 모두 사용할 수 있고, 그외는 transforms여야 함\n",
    "    - transforms는 fit_transform() 메서드를 가지고 있어야 함\n",
    "    - estrimator는 fit(), predict() 메서드를 가지고 있어야 함\n",
    "    \n",
    "- 파이프라인의 fit() 메서드 호출:\n",
    "    - 모든 transforms의 fit_transform() 메서드를 순서대로 호출하면서 한 단계의 출력을 다음 단계의 입력으로 전달\n",
    "    - 마지막 단계에서는 fit()메서드만 호출\n",
    "\n",
    "- 파이프라인 객체는 마지막 estimator와 동일한 메서드를 제공"
   ]
  },
  {
   "cell_type": "code",
   "execution_count": 112,
   "metadata": {},
   "outputs": [
    {
     "data": {
      "text/plain": [
       "Pipeline(steps=[('poly', PolynomialFeatures(degree=3)),\n",
       "                ('linear', LinearRegression())])"
      ]
     },
     "execution_count": 112,
     "metadata": {},
     "output_type": "execute_result"
    }
   ],
   "source": [
    "from sklearn.pipeline import Pipeline\n",
    "\n",
    "pipe = Pipeline([('poly', PolynomialFeatures(degree=3)), ('linear', LinearRegression())])\n",
    "\n",
    "pipe.fit(X, y)"
   ]
  },
  {
   "cell_type": "code",
   "execution_count": 113,
   "metadata": {},
   "outputs": [
    {
     "data": {
      "text/plain": [
       "array([-0.  , -0.12,  0.07, -0.47, -0.15,  0.37,  0.42, -1.2 ,  0.11,\n",
       "        1.43])"
      ]
     },
     "execution_count": 113,
     "metadata": {},
     "output_type": "execute_result"
    }
   ],
   "source": [
    "np.round(pipe.named_steps['linear'].coef_, 2)"
   ]
  },
  {
   "cell_type": "markdown",
   "metadata": {},
   "source": [
    "### 가상 데이터 생성 및 다항 회귀 추정"
   ]
  },
  {
   "cell_type": "markdown",
   "metadata": {},
   "source": [
    "**가상 데이터 생성**"
   ]
  },
  {
   "cell_type": "code",
   "execution_count": 114,
   "metadata": {},
   "outputs": [],
   "source": [
    "# 2차 다항식 : 0.5*X^2 + 2*X +2\n",
    "\n",
    "n = 100\n",
    "X = np.random.rand(n, 1)*6 - 3 # 0~1 사이 값을 n행 1열\n",
    "y = 0.5*X**2 + 2*X + 2 + np.random.randn(n, 1) # randn 평균 0, 분산 1 인 normal 데이터"
   ]
  },
  {
   "cell_type": "code",
   "execution_count": 115,
   "metadata": {},
   "outputs": [
    {
     "data": {
      "text/plain": [
       "((100, 1), (100, 1))"
      ]
     },
     "execution_count": 115,
     "metadata": {},
     "output_type": "execute_result"
    }
   ],
   "source": [
    "X.shape, y.shape"
   ]
  },
  {
   "cell_type": "markdown",
   "metadata": {},
   "source": [
    "**scatterplot**"
   ]
  },
  {
   "cell_type": "code",
   "execution_count": 116,
   "metadata": {
    "scrolled": false
   },
   "outputs": [
    {
     "data": {
      "text/plain": [
       "<matplotlib.collections.PathCollection at 0x14d0dbfa0>"
      ]
     },
     "execution_count": 116,
     "metadata": {},
     "output_type": "execute_result"
    },
    {
     "data": {
      "image/png": "[encoded data removed]",
      "text/plain": [
       "<Figure size 432x288 with 1 Axes>"
      ]
     },
     "metadata": {
      "needs_background": "light"
     },
     "output_type": "display_data"
    }
   ],
   "source": [
    "plt.scatter(X, y)"
   ]
  },
  {
   "cell_type": "markdown",
   "metadata": {},
   "source": [
    "- 비선형적으로 분포\n",
    "- 사이킷런의 PolynomialFeatures를 사용"
   ]
  },
  {
   "cell_type": "markdown",
   "metadata": {},
   "source": [
    "**다항식으로 변환**"
   ]
  },
  {
   "cell_type": "code",
   "execution_count": 117,
   "metadata": {},
   "outputs": [
    {
     "data": {
      "text/plain": [
       "Pipeline(steps=[('poly', PolynomialFeatures(include_bias=False)),\n",
       "                ('linear', LinearRegression())])"
      ]
     },
     "execution_count": 117,
     "metadata": {},
     "output_type": "execute_result"
    }
   ],
   "source": [
    "pipe = Pipeline([('poly', PolynomialFeatures(degree=2, include_bias=False)), ('linear', LinearRegression())])\n",
    "\n",
    "pipe.fit(X, y)"
   ]
  },
  {
   "cell_type": "code",
   "execution_count": 118,
   "metadata": {},
   "outputs": [
    {
     "data": {
      "text/plain": [
       "array([[-1.39202281e+00,  1.93772750e+00],\n",
       "       [ 2.85390553e+00,  8.14477676e+00],\n",
       "       [ 1.50447838e+00,  2.26345520e+00],\n",
       "       [-4.75318390e-01,  2.25927572e-01],\n",
       "       [-1.11773700e+00,  1.24933600e+00],\n",
       "       [ 2.01539159e+00,  4.06180325e+00],\n",
       "       [ 1.66566199e+00,  2.77442986e+00],\n",
       "       [ 2.53783650e+00,  6.44061409e+00],\n",
       "       [ 9.60969062e-01,  9.23461538e-01],\n",
       "       [-2.80166633e+00,  7.84933423e+00],\n",
       "       [-1.80720124e+00,  3.26597632e+00],\n",
       "       [-1.14747818e+00,  1.31670617e+00],\n",
       "       [-2.10304963e+00,  4.42281776e+00],\n",
       "       [ 9.01682780e-01,  8.13031835e-01],\n",
       "       [-1.32374833e+00,  1.75230964e+00],\n",
       "       [-9.40785251e-01,  8.85076888e-01],\n",
       "       [-2.88618016e+00,  8.33003590e+00],\n",
       "       [ 2.79602914e+00,  7.81777898e+00],\n",
       "       [ 2.79492350e+00,  7.81159737e+00],\n",
       "       [ 1.62624964e+00,  2.64468789e+00],\n",
       "       [-1.32779785e+00,  1.76304714e+00],\n",
       "       [ 1.28926454e+00,  1.66220306e+00],\n",
       "       [ 2.69093810e+00,  7.24114785e+00],\n",
       "       [ 8.62441851e-01,  7.43805946e-01],\n",
       "       [ 2.48679207e+00,  6.18413482e+00],\n",
       "       [-1.19368131e+00,  1.42487506e+00],\n",
       "       [-2.80901823e+00,  7.89058342e+00],\n",
       "       [-2.54473470e+00,  6.47567468e+00],\n",
       "       [-1.79620127e+00,  3.22633901e+00],\n",
       "       [ 2.59493663e+00,  6.73369612e+00],\n",
       "       [-2.50937995e+00,  6.29698773e+00],\n",
       "       [-2.54337959e+00,  6.46877976e+00],\n",
       "       [-1.53742812e+00,  2.36368522e+00],\n",
       "       [-1.75500385e+00,  3.08003850e+00],\n",
       "       [ 3.93689804e-01,  1.54991662e-01],\n",
       "       [-1.72478911e+00,  2.97489746e+00],\n",
       "       [-2.04901984e+00,  4.19848232e+00],\n",
       "       [-2.32320722e+00,  5.39729177e+00],\n",
       "       [ 2.72141107e+00,  7.40607822e+00],\n",
       "       [-7.29634833e-01,  5.32366989e-01],\n",
       "       [ 2.49659933e+00,  6.23300819e+00],\n",
       "       [-1.03370622e+00,  1.06854854e+00],\n",
       "       [-9.15447419e-01,  8.38043977e-01],\n",
       "       [ 4.72930619e-01,  2.23663370e-01],\n",
       "       [-2.13072548e+00,  4.53999108e+00],\n",
       "       [-1.39047889e+00,  1.93343154e+00],\n",
       "       [-2.32591785e+00,  5.40989383e+00],\n",
       "       [-9.40316214e-01,  8.84194583e-01],\n",
       "       [-1.53977999e+00,  2.37092242e+00],\n",
       "       [-1.61241400e+00,  2.59987891e+00],\n",
       "       [ 4.04171622e-01,  1.63354700e-01],\n",
       "       [ 1.42308590e+00,  2.02517349e+00],\n",
       "       [-1.50238830e+00,  2.25717059e+00],\n",
       "       [ 1.71361817e+00,  2.93648723e+00],\n",
       "       [-3.80997310e-02,  1.45158950e-03],\n",
       "       [-1.95841626e-01,  3.83539426e-02],\n",
       "       [ 9.47108369e-01,  8.97014263e-01],\n",
       "       [-2.06778355e+00,  4.27572879e+00],\n",
       "       [-2.40179799e+00,  5.76863360e+00],\n",
       "       [ 1.95260502e+00,  3.81266636e+00],\n",
       "       [-2.92591745e+00,  8.56099292e+00],\n",
       "       [ 6.53330800e-01,  4.26841135e-01],\n",
       "       [-9.93818410e-01,  9.87675032e-01],\n",
       "       [-2.28767648e+00,  5.23346370e+00],\n",
       "       [ 8.77411031e-01,  7.69850118e-01],\n",
       "       [-3.48655062e-02,  1.21560352e-03],\n",
       "       [-5.29063893e-01,  2.79908603e-01],\n",
       "       [ 4.28301364e-01,  1.83442059e-01],\n",
       "       [ 2.98985515e+00,  8.93923382e+00],\n",
       "       [-6.50990897e-01,  4.23789147e-01],\n",
       "       [-8.37102284e-01,  7.00740234e-01],\n",
       "       [ 2.87465888e+00,  8.26366365e+00],\n",
       "       [-4.48111191e-01,  2.00803639e-01],\n",
       "       [ 3.90352825e-01,  1.52375328e-01],\n",
       "       [ 8.40487869e-01,  7.06419859e-01],\n",
       "       [-9.56043262e-01,  9.14018720e-01],\n",
       "       [-1.48731645e+00,  2.21211021e+00],\n",
       "       [ 2.09650298e-01,  4.39532473e-02],\n",
       "       [-2.67898802e+00,  7.17697682e+00],\n",
       "       [-2.10240832e+00,  4.42012074e+00],\n",
       "       [-9.84231766e-01,  9.68712170e-01],\n",
       "       [ 2.84648035e+00,  8.10245041e+00],\n",
       "       [ 2.14351332e+00,  4.59464937e+00],\n",
       "       [ 1.53651357e+00,  2.36087395e+00],\n",
       "       [ 8.82009007e-01,  7.77939889e-01],\n",
       "       [-2.69860573e+00,  7.28247290e+00],\n",
       "       [ 1.24071940e+00,  1.53938464e+00],\n",
       "       [ 2.77520226e+00,  7.70174758e+00],\n",
       "       [ 1.11889139e+00,  1.25191794e+00],\n",
       "       [-2.23585194e+00,  4.99903388e+00],\n",
       "       [ 8.55468047e-01,  7.31825579e-01],\n",
       "       [-1.16400160e+00,  1.35489971e+00],\n",
       "       [-1.20828904e+00,  1.45996241e+00],\n",
       "       [ 1.85890614e+00,  3.45553205e+00],\n",
       "       [ 2.37404440e+00,  5.63608682e+00],\n",
       "       [-2.18545003e+00,  4.77619185e+00],\n",
       "       [ 1.70023328e+00,  2.89079319e+00],\n",
       "       [ 1.11756124e+00,  1.24894312e+00],\n",
       "       [-1.35895833e+00,  1.84676775e+00],\n",
       "       [ 6.49509386e-01,  4.21862443e-01]])"
      ]
     },
     "execution_count": 118,
     "metadata": {},
     "output_type": "execute_result"
    }
   ],
   "source": [
    "X_poly"
   ]
  },
  {
   "cell_type": "markdown",
   "metadata": {},
   "source": [
    "**선형회귀 LinearRegression 적용하여 회귀계수 추정**"
   ]
  },
  {
   "cell_type": "code",
   "execution_count": 119,
   "metadata": {
    "scrolled": true
   },
   "outputs": [
    {
     "data": {
      "text/plain": [
       "array([[1.97, 0.52]])"
      ]
     },
     "execution_count": 119,
     "metadata": {},
     "output_type": "execute_result"
    }
   ],
   "source": [
    "np.round(pipe.named_steps['linear'].coef_, 2)"
   ]
  },
  {
   "cell_type": "code",
   "execution_count": 120,
   "metadata": {},
   "outputs": [
    {
     "data": {
      "text/plain": [
       "array([1.94])"
      ]
     },
     "execution_count": 120,
     "metadata": {},
     "output_type": "execute_result"
    }
   ],
   "source": [
    "np.round(pipe.named_steps['linear'].intercept_, 2)"
   ]
  },
  {
   "cell_type": "markdown",
   "metadata": {},
   "source": [
    "**다항회귀식 시각화**"
   ]
  },
  {
   "cell_type": "code",
   "execution_count": 121,
   "metadata": {},
   "outputs": [],
   "source": [
    "poly3 = PolynomialFeatures(degree=2, include_bias=False)\n",
    "\n",
    "X_new = np.linspace(-3, 3, 100).reshape(100, 1)\n",
    "X_poly = poly3.fit_transform(X_new)\n",
    "\n",
    "lr2 = LinearRegression()\n",
    "lr2.fit(X_poly, y)\n",
    "\n",
    "y_pred = lr2.predict(X_poly)"
   ]
  },
  {
   "cell_type": "code",
   "execution_count": 122,
   "metadata": {},
   "outputs": [
    {
     "data": {
      "text/plain": [
       "[<matplotlib.lines.Line2D at 0x14d14c2b0>]"
      ]
     },
     "execution_count": 122,
     "metadata": {},
     "output_type": "execute_result"
    },
    {
     "data": {
      "image/png": "[encoded data removed]",
      "text/plain": [
       "<Figure size 432x288 with 1 Axes>"
      ]
     },
     "metadata": {
      "needs_background": "light"
     },
     "output_type": "display_data"
    }
   ],
   "source": [
    "plt.scatter(X, y)\n",
    "plt.plot(X_new, y_pred)"
   ]
  },
  {
   "cell_type": "code",
   "execution_count": 140,
   "metadata": {},
   "outputs": [
    {
     "data": {
      "image/png": "[encoded data removed]",
      "text/plain": [
       "<Figure size 432x288 with 1 Axes>"
      ]
     },
     "metadata": {
      "needs_background": "light"
     },
     "output_type": "display_data"
    }
   ],
   "source": [
    "poly_feat = PolynomialFeatures(degree=10, include_bias=False)\n",
    "X_poly = poly_feat.fit_transform(X)\n",
    "\n",
    "lin_reg = LinearRegression()\n",
    "lin_reg.fit(X_poly, y)\n",
    "\n",
    "X_new=np.linspace(-3, 3, 100).reshape(100, 1)\n",
    "X_new_poly = poly_feat.transform(X_new)\n",
    "y_new = lin_reg.predict(X_new_poly)\n",
    "plt.plot(X, y, \"b.\")\n",
    "plt.plot(X_new, y_new, \"r-\", linewidth=2, label=\"Predictions\")\n",
    "plt.xlabel(\"$x_1$\", fontsize=18)\n",
    "plt.ylabel(\"$y$\", rotation=0, fontsize=18)\n",
    "plt.legend(loc=\"upper left\", fontsize=14)\n",
    "plt.axis([-3, 3, 0, 10])\n",
    "plt.show()"
   ]
  },
  {
   "cell_type": "markdown",
   "metadata": {},
   "source": [
    "### 다항회귀를 이용한 보스톤 집값 예측"
   ]
  },
  {
   "cell_type": "code",
   "execution_count": 102,
   "metadata": {},
   "outputs": [
    {
     "name": "stderr",
     "output_type": "stream",
     "text": [
      "/opt/homebrew/Caskroom/miniforge/base/envs/multi_crawling/lib/python3.9/site-packages/sklearn/utils/deprecation.py:87: FutureWarning: Function load_boston is deprecated; `load_boston` is deprecated in 1.0 and will be removed in 1.2.\n",
      "\n",
      "    The Boston housing prices dataset has an ethical problem. You can refer to\n",
      "    the documentation of this function for further details.\n",
      "\n",
      "    The scikit-learn maintainers therefore strongly discourage the use of this\n",
      "    dataset unless the purpose of the code is to study and educate about\n",
      "    ethical issues in data science and machine learning.\n",
      "\n",
      "    In this special case, you can fetch the dataset from the original\n",
      "    source::\n",
      "\n",
      "        import pandas as pd\n",
      "        import numpy as np\n",
      "\n",
      "\n",
      "        data_url = \"http://lib.stat.cmu.edu/datasets/boston\"\n",
      "        raw_df = pd.read_csv(data_url, sep=\"\\s+\", skiprows=22, header=None)\n",
      "        data = np.hstack([raw_df.values[::2, :], raw_df.values[1::2, :2]])\n",
      "        target = raw_df.values[1::2, 2]\n",
      "\n",
      "    Alternative datasets include the California housing dataset (i.e.\n",
      "    :func:`~sklearn.datasets.fetch_california_housing`) and the Ames housing\n",
      "    dataset. You can load the datasets as follows::\n",
      "\n",
      "        from sklearn.datasets import fetch_california_housing\n",
      "        housing = fetch_california_housing()\n",
      "\n",
      "    for the California housing dataset and::\n",
      "\n",
      "        from sklearn.datasets import fetch_openml\n",
      "        housing = fetch_openml(name=\"house_prices\", as_frame=True)\n",
      "\n",
      "    for the Ames housing dataset.\n",
      "    \n",
      "  warnings.warn(msg, category=FutureWarning)\n"
     ]
    }
   ],
   "source": [
    "# 모듈 임포트\n",
    "from sklearn.datasets import load_boston\n",
    "from sklearn.linear_model import LinearRegression\n",
    "from sklearn.model_selection import train_test_split\n",
    "from sklearn.metrics import mean_squared_error, r2_score\n",
    "\n",
    "# features & target\n",
    "boston = load_boston()\n",
    "\n",
    "X = boston.data\n",
    "y = boston.target\n",
    "\n",
    "# train & test dataset split\n",
    "X_train, X_test, y_train, y_test = train_test_split(X, y, test_size=0.3, random_state=156)\n"
   ]
  },
  {
   "cell_type": "code",
   "execution_count": 103,
   "metadata": {},
   "outputs": [],
   "source": [
    "bostonM = Pipeline([('poly',PolynomialFeatures(degree=2)), ('linear',LinearRegression())])\n"
   ]
  },
  {
   "cell_type": "code",
   "execution_count": 104,
   "metadata": {},
   "outputs": [
    {
     "data": {
      "text/plain": [
       "array([ 1.0906374e+09, -8.1400000e+00, -1.0000000e-01, -7.0000000e+00,\n",
       "        3.6980000e+01,  2.5363000e+02,  3.0970000e+01,  1.0900000e+00,\n",
       "       -1.2020000e+01,  3.1000000e+00, -6.0000000e-02,  7.7500000e+00,\n",
       "        2.0000000e-02,  4.6000000e-01, -0.0000000e+00,  2.7000000e-01,\n",
       "        6.8000000e-01,  1.8600000e+00, -1.2000000e-01,  9.0000000e-02,\n",
       "        0.0000000e+00, -2.0000000e-01,  5.8000000e-01, -6.0000000e-02,\n",
       "        8.7000000e-01, -0.0000000e+00,  4.0000000e-02, -0.0000000e+00,\n",
       "       -2.0000000e-02, -1.7000000e-01, -2.0900000e+00, -2.0000000e-02,\n",
       "        0.0000000e+00, -2.0000000e-02,  1.0000000e-02,  0.0000000e+00,\n",
       "       -2.0000000e-02,  0.0000000e+00, -1.0000000e-02,  5.0000000e-02,\n",
       "       -4.9000000e-01, -9.0000000e-02,  2.9000000e-01,  1.0000000e-02,\n",
       "        2.1000000e-01, -5.0000000e-02,  0.0000000e+00, -3.0000000e-02,\n",
       "        1.0000000e-02, -1.0000000e-02,  3.6980000e+01, -2.9240000e+01,\n",
       "       -5.9500000e+00, -5.0000000e-02,  1.7700000e+00, -2.0000000e-02,\n",
       "        3.0000000e-02, -1.9000000e+00,  2.0000000e-02, -1.3000000e-01,\n",
       "       -7.7010000e+01, -5.0600000e+00, -5.1000000e-01,  2.2740000e+01,\n",
       "       -4.9600000e+00,  5.2000000e-01, -1.7680000e+01, -1.2000000e-01,\n",
       "        1.3100000e+00, -3.0000000e-02, -8.0000000e-02, -2.4000000e-01,\n",
       "       -1.8000000e-01, -1.0000000e-02, -7.6000000e-01,  0.0000000e+00,\n",
       "       -1.9000000e-01, -0.0000000e+00, -2.0000000e-02,  2.0000000e-02,\n",
       "       -0.0000000e+00, -0.0000000e+00, -0.0000000e+00, -1.0000000e-02,\n",
       "        6.6000000e-01, -2.5000000e-01,  0.0000000e+00, -1.8000000e-01,\n",
       "       -0.0000000e+00,  8.0000000e-02, -1.4000000e-01,  1.0000000e-02,\n",
       "       -1.0000000e-01,  0.0000000e+00, -7.0000000e-02, -0.0000000e+00,\n",
       "        0.0000000e+00, -0.0000000e+00,  0.0000000e+00,  9.0000000e-02,\n",
       "        1.0000000e-02,  1.0000000e-02, -0.0000000e+00,  0.0000000e+00,\n",
       "        1.0000000e-02])"
      ]
     },
     "execution_count": 104,
     "metadata": {},
     "output_type": "execute_result"
    }
   ],
   "source": [
    "bostonM.fit(X_train, y_train)\n",
    "np.round(bostonM.named_steps['linear'].coef_, 2)"
   ]
  },
  {
   "cell_type": "code",
   "execution_count": 105,
   "metadata": {},
   "outputs": [
    {
     "data": {
      "text/plain": [
       "(105,)"
      ]
     },
     "execution_count": 105,
     "metadata": {},
     "output_type": "execute_result"
    }
   ],
   "source": [
    "bostonM.named_steps['linear'].coef_.shape"
   ]
  },
  {
   "cell_type": "code",
   "execution_count": 106,
   "metadata": {},
   "outputs": [
    {
     "name": "stdout",
     "output_type": "stream",
     "text": [
      "24.282312584016385\n",
      "4.927708654538779\n",
      "0.6591816646787887\n"
     ]
    }
   ],
   "source": [
    "pred = bostonM.predict(X_test)\n",
    "mse = mean_squared_error(y_test, pred)\n",
    "r2 = r2_score(y_test, pred)\n",
    "\n",
    "print(mse)\n",
    "print(np.sqrt(mse))\n",
    "print(r2)"
   ]
  },
  {
   "cell_type": "code",
   "execution_count": null,
   "metadata": {},
   "outputs": [],
   "source": []
  },
  {
   "cell_type": "code",
   "execution_count": null,
   "metadata": {},
   "outputs": [],
   "source": [
    "\n"
   ]
  },
  {
   "cell_type": "code",
   "execution_count": null,
   "metadata": {},
   "outputs": [],
   "source": []
  }
 ],
 "metadata": {
  "kernelspec": {
   "display_name": "Python 3 (ipykernel)",
   "language": "python",
   "name": "python3"
  },
  "language_info": {
   "codemirror_mode": {
    "name": "ipython",
    "version": 3
   },
   "file_extension": ".py",
   "mimetype": "text/x-python",
   "name": "python",
   "nbconvert_exporter": "python",
   "pygments_lexer": "ipython3",
   "version": "3.9.0"
  }
 },
 "nbformat": 4,
 "nbformat_minor": 4
}

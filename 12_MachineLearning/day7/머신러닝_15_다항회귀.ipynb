{
 "cells": [
  {
   "cell_type": "code",
   "execution_count": 4,
   "metadata": {},
   "outputs": [],
   "source": [
    "# 모듈 임포트\n",
    "from sklearn.linear_model import LinearRegression\n",
    "from sklearn.model_selection import train_test_split\n",
    "from sklearn.metrics import mean_squared_error, r2_score\n",
    "from sklearn.preprocessing import PolynomialFeatures\n",
    "import numpy as np\n",
    "import pandas as pd\n",
    "import matplotlib.pyplot as plt\n",
    "import seaborn as sns\n",
    "# 내가 만든고\n",
    "from reg import Regression"
   ]
  },
  {
   "cell_type": "markdown",
   "metadata": {},
   "source": [
    "# 다항 회귀(Polynomial Regression)"
   ]
  },
  {
   "cell_type": "markdown",
   "metadata": {},
   "source": [
    "- Polynomial Regression과 과대적합/과소적합의 이해"
   ]
  },
  {
   "cell_type": "markdown",
   "metadata": {},
   "source": [
    "## 다항 회귀(Polynomial Regression) 이해"
   ]
  },
  {
   "cell_type": "markdown",
   "metadata": {},
   "source": [
    "**다중선형회귀**\n",
    "\n",
    "$ y = w_0 + w_1 X_{1} + w_2 X_{2} + w_3 X_{3} + ... + w_n X_{n} $\n",
    "- 독립변수(festure)와 종속변수(target)의 관계가 일차방정식으로 표현된 회귀\n",
    "- 직선으로 표현"
   ]
  },
  {
   "cell_type": "markdown",
   "metadata": {},
   "source": [
    "**다항회귀**\n",
    "\n",
    "$ y = w_0 + w_1 X_{1} + w_2 X_{2} + w_3 X_{1}X_{2} + w_4 X_{1}^2 + w_5 X_{2}^2 $\n",
    "\n",
    "- 회귀가 독립변수의 일차식이 아닌 2차식, 3차식 등 다항식으로 표현되는 회귀식\n",
    "- 선형회귀임\n",
    "\n",
    "$ z=[X_{1} , X_{2} , X_{1}X_{2} , X_{1}^2, X_{2}^2 ] $라고 하면\n",
    "\n",
    "$ y = w_0 + w_1 Z_{1} + w_2 Z_{2} + w_3 Z_{3} + w_4 Z_{4} + w_5 Z_{5} $"
   ]
  },
  {
   "cell_type": "markdown",
   "metadata": {},
   "source": [
    "**사이킷런은 다항회귀를 위한 클래스를 명시적으로 제공하지 않음**\n",
    "- 다항 회귀가 선형 회귀이므로 PolynomalFeatures 클래스를 통해 독립변수(피처)를 다항식 피처로 변환\n",
    "\n",
    "PolynomialFeatures(degree=차수)\n",
    "\n",
    "fit_transform(피처)"
   ]
  },
  {
   "cell_type": "code",
   "execution_count": 17,
   "metadata": {},
   "outputs": [
    {
     "name": "stdout",
     "output_type": "stream",
     "text": [
      "[[1 2]\n",
      " [1 3]]\n"
     ]
    },
    {
     "data": {
      "text/plain": [
       "array([[1., 1., 2., 1., 2., 4.],\n",
       "       [1., 1., 3., 1., 3., 9.]])"
      ]
     },
     "execution_count": 17,
     "metadata": {},
     "output_type": "execute_result"
    }
   ],
   "source": [
    "X = np.array([1,2,1,3]).reshape(2,2)\n",
    "print(X)\n",
    "\n",
    "poly = PolynomialFeatures(degree=2)\n",
    "poly.fit_transform(X)"
   ]
  },
  {
   "cell_type": "code",
   "execution_count": 19,
   "metadata": {},
   "outputs": [
    {
     "name": "stdout",
     "output_type": "stream",
     "text": [
      "[[1 2 3]\n",
      " [2 2 3]\n",
      " [1 2 3]]\n"
     ]
    },
    {
     "data": {
      "text/plain": [
       "array([[ 1.,  1.,  2.,  3.,  1.,  2.,  3.,  4.,  6.,  9.,  1.,  2.,  3.,\n",
       "         4.,  6.,  9.,  8., 12., 18., 27.],\n",
       "       [ 1.,  2.,  2.,  3.,  4.,  4.,  6.,  4.,  6.,  9.,  8.,  8., 12.,\n",
       "         8., 12., 18.,  8., 12., 18., 27.],\n",
       "       [ 1.,  1.,  2.,  3.,  1.,  2.,  3.,  4.,  6.,  9.,  1.,  2.,  3.,\n",
       "         4.,  6.,  9.,  8., 12., 18., 27.]])"
      ]
     },
     "execution_count": 19,
     "metadata": {},
     "output_type": "execute_result"
    }
   ],
   "source": [
    "X = np.array([1,2,3,2,2,3,1,2,3]).reshape(3,3)\n",
    "print(X)\n",
    "\n",
    "poly3 = PolynomialFeatures(degree=3)\n",
    "poly3.fit_transform(X)"
   ]
  },
  {
   "cell_type": "code",
   "execution_count": 10,
   "metadata": {
    "scrolled": true
   },
   "outputs": [
    {
     "name": "stdout",
     "output_type": "stream",
     "text": [
      "[[ 0  1  2]\n",
      " [ 3  4  5]\n",
      " [ 6  7  8]\n",
      " [ 9 10 11]]\n"
     ]
    },
    {
     "data": {
      "text/plain": [
       "array([[1.000e+00, 0.000e+00, 1.000e+00, 2.000e+00, 0.000e+00, 0.000e+00,\n",
       "        0.000e+00, 1.000e+00, 2.000e+00, 4.000e+00, 0.000e+00, 0.000e+00,\n",
       "        0.000e+00, 0.000e+00, 0.000e+00, 0.000e+00, 1.000e+00, 2.000e+00,\n",
       "        4.000e+00, 8.000e+00],\n",
       "       [1.000e+00, 3.000e+00, 4.000e+00, 5.000e+00, 9.000e+00, 1.200e+01,\n",
       "        1.500e+01, 1.600e+01, 2.000e+01, 2.500e+01, 2.700e+01, 3.600e+01,\n",
       "        4.500e+01, 4.800e+01, 6.000e+01, 7.500e+01, 6.400e+01, 8.000e+01,\n",
       "        1.000e+02, 1.250e+02],\n",
       "       [1.000e+00, 6.000e+00, 7.000e+00, 8.000e+00, 3.600e+01, 4.200e+01,\n",
       "        4.800e+01, 4.900e+01, 5.600e+01, 6.400e+01, 2.160e+02, 2.520e+02,\n",
       "        2.880e+02, 2.940e+02, 3.360e+02, 3.840e+02, 3.430e+02, 3.920e+02,\n",
       "        4.480e+02, 5.120e+02],\n",
       "       [1.000e+00, 9.000e+00, 1.000e+01, 1.100e+01, 8.100e+01, 9.000e+01,\n",
       "        9.900e+01, 1.000e+02, 1.100e+02, 1.210e+02, 7.290e+02, 8.100e+02,\n",
       "        8.910e+02, 9.000e+02, 9.900e+02, 1.089e+03, 1.000e+03, 1.100e+03,\n",
       "        1.210e+03, 1.331e+03]])"
      ]
     },
     "execution_count": 10,
     "metadata": {},
     "output_type": "execute_result"
    }
   ],
   "source": [
    "X = np.arange(12).reshape(4,3)\n",
    "print(X)\n",
    "\n",
    "poly3 = PolynomialFeatures(degree=3)\n",
    "poly3.fit_transform(X)"
   ]
  },
  {
   "cell_type": "markdown",
   "metadata": {},
   "source": [
    "**3차 다항식 결정값을 구하는 함수 polynomial_func(X) 생성**\n",
    "\n",
    "즉 회귀식은 결정값 $y = 1+ 2x_1 + 3x_1^2 + 4x_2^3$ "
   ]
  },
  {
   "cell_type": "code",
   "execution_count": null,
   "metadata": {},
   "outputs": [],
   "source": []
  },
  {
   "cell_type": "code",
   "execution_count": null,
   "metadata": {},
   "outputs": [],
   "source": []
  },
  {
   "cell_type": "code",
   "execution_count": null,
   "metadata": {},
   "outputs": [],
   "source": []
  },
  {
   "cell_type": "markdown",
   "metadata": {},
   "source": [
    "**3차 다항식 계수의 피처값과 3차 다항식 결정값으로 학습**"
   ]
  },
  {
   "cell_type": "code",
   "execution_count": 30,
   "metadata": {},
   "outputs": [
    {
     "name": "stdout",
     "output_type": "stream",
     "text": [
      "[[2 3]\n",
      " [4 2]\n",
      " [9 1]]\n",
      "3차 다항식 계수 [[  1.   2.   3.   4.   6.   9.   8.  12.  18.  27.]\n",
      " [  1.   4.   2.  16.   8.   4.  64.  32.  16.   8.]\n",
      " [  1.   9.   1.  81.   9.   1. 729.  81.   9.   1.]]\n",
      "다항 (polynomial) 회귀계수 [-0.   -0.12  0.07 -0.47 -0.15  0.37  0.42 -1.2   0.11  1.43]\n"
     ]
    }
   ],
   "source": [
    "from sklearn.linear_model import LinearRegression\n",
    "\n",
    "# X = np.arange(0, 4).reshape(2,2)\n",
    "X = np.array([2,3,4,2,9,1]).reshape(3,2)\n",
    "print(X)\n",
    "y = 1 + 2 * X[:, 0] + 3*X[:, 0]**2 + 4*X[:, 1]**3\n",
    "\n",
    "poly_ftr = PolynomialFeatures(degree=3).fit_transform(X)\n",
    "print('3차 다항식 계수', poly_ftr)\n",
    "\n",
    "model = LinearRegression()\n",
    "model.fit(poly_ftr, y)\n",
    "print('다항 (polynomial) 회귀계수',np.round(model.coef_, 2))"
   ]
  },
  {
   "cell_type": "markdown",
   "metadata": {},
   "source": [
    "### 파이프라인(Pipeline)을 이용한 3차 다항회귀 학습  \n",
    "\n",
    "사이킷런의 Pipeline 객체는 Feature 엔지니어링 변환과 모델 학습/예측을 순차적으로 결합"
   ]
  },
  {
   "cell_type": "markdown",
   "metadata": {},
   "source": [
    "**`sklearn.pipeline의 Pipeline 클래스`**\n",
    "\n",
    "- 연속된 변환을 순서대로 처리할 수 있도록 도와주는 클래스\n",
    "\n",
    "- 형식 : 연속된 단계를 나타내는 (name, transforms) 튜플 목록을 입력받음\n",
    "    - 마지막 단계에서는 transforms와 estimator를 모두 사용할 수 있고, 그외는 transforms여야 함\n",
    "    - transforms는 fit_transform() 메서드를 가지고 있어야 함\n",
    "    - estrimator는 fit(), predict() 메서드를 가지고 있어야 함\n",
    "    \n",
    "- 파이프라인의 fit() 메서드 호출:\n",
    "    - 모든 transforms의 fit_transform() 메서드를 순서대로 호출하면서 한 단계의 출력을 다음 단계의 입력으로 전달\n",
    "    - 마지막 단계에서는 fit()메서드만 호출\n",
    "\n",
    "- 파이프라인 객체는 마지막 estimator와 동일한 메서드를 제공"
   ]
  },
  {
   "cell_type": "code",
   "execution_count": 34,
   "metadata": {},
   "outputs": [
    {
     "data": {
      "text/plain": [
       "Pipeline(steps=[('poly', PolynomialFeatures(degree=3)),\n",
       "                ('linear', LinearRegression())])"
      ]
     },
     "execution_count": 34,
     "metadata": {},
     "output_type": "execute_result"
    }
   ],
   "source": [
    "from sklearn.pipeline import Pipeline\n",
    "\n",
    "pipe = Pipeline([('poly', PolynomialFeatures(degree=3)), ('linear', LinearRegression())])\n",
    "\n",
    "pipe.fit(X, y)"
   ]
  },
  {
   "cell_type": "code",
   "execution_count": 37,
   "metadata": {},
   "outputs": [
    {
     "data": {
      "text/plain": [
       "array([-0.  , -0.12,  0.07, -0.47, -0.15,  0.37,  0.42, -1.2 ,  0.11,\n",
       "        1.43])"
      ]
     },
     "execution_count": 37,
     "metadata": {},
     "output_type": "execute_result"
    }
   ],
   "source": [
    "np.round(pipe.named_steps['linear'].coef_, 2)"
   ]
  },
  {
   "cell_type": "markdown",
   "metadata": {},
   "source": [
    "### 가상 데이터 생성 및 다항 회귀 추정"
   ]
  },
  {
   "cell_type": "markdown",
   "metadata": {},
   "source": [
    "**가상 데이터 생성**"
   ]
  },
  {
   "cell_type": "code",
   "execution_count": 52,
   "metadata": {},
   "outputs": [],
   "source": [
    "# 2차 다항식 : 0.5*X^2 + 2*X +2\n",
    "\n",
    "n = 100\n",
    "X = np.random.rand(n, 1)*6 - 3 # 0~1 사이 값을 n행 1열\n",
    "y = 0.5*X**2 + 2*X + 2 + np.random.randn(n, 1) # randn 평균 0, 분산 1 인 normal 데이터"
   ]
  },
  {
   "cell_type": "code",
   "execution_count": 53,
   "metadata": {},
   "outputs": [
    {
     "data": {
      "text/plain": [
       "((100, 1), (100, 1))"
      ]
     },
     "execution_count": 53,
     "metadata": {},
     "output_type": "execute_result"
    }
   ],
   "source": [
    "X.shape, y.shape"
   ]
  },
  {
   "cell_type": "markdown",
   "metadata": {},
   "source": [
    "**scatterplot**"
   ]
  },
  {
   "cell_type": "code",
   "execution_count": 54,
   "metadata": {
    "scrolled": false
   },
   "outputs": [
    {
     "data": {
      "text/plain": [
       "<matplotlib.collections.PathCollection at 0x14bce6970>"
      ]
     },
     "execution_count": 54,
     "metadata": {},
     "output_type": "execute_result"
    },
    {
     "data": {
      "image/png": "[encoded data removed]",
      "text/plain": [
       "<Figure size 432x288 with 1 Axes>"
      ]
     },
     "metadata": {
      "needs_background": "light"
     },
     "output_type": "display_data"
    }
   ],
   "source": [
    "plt.scatter(X, y)"
   ]
  },
  {
   "cell_type": "markdown",
   "metadata": {},
   "source": [
    "- 비선형적으로 분포\n",
    "- 사이킷런의 PolynomialFeatures를 사용"
   ]
  },
  {
   "cell_type": "markdown",
   "metadata": {},
   "source": [
    "**다항식으로 변환**"
   ]
  },
  {
   "cell_type": "code",
   "execution_count": 57,
   "metadata": {},
   "outputs": [
    {
     "data": {
      "text/plain": [
       "Pipeline(steps=[('poly', PolynomialFeatures(include_bias=False)),\n",
       "                ('linear', LinearRegression())])"
      ]
     },
     "execution_count": 57,
     "metadata": {},
     "output_type": "execute_result"
    }
   ],
   "source": [
    "pipe = Pipeline([('poly', PolynomialFeatures(degree=2, include_bias=False)), ('linear', LinearRegression())])\n",
    "\n",
    "pipe.fit(X, y)"
   ]
  },
  {
   "cell_type": "markdown",
   "metadata": {},
   "source": [
    "**선형회귀 LinearRegression 적용하여 회귀계수 추정**"
   ]
  },
  {
   "cell_type": "code",
   "execution_count": 58,
   "metadata": {
    "scrolled": true
   },
   "outputs": [
    {
     "data": {
      "text/plain": [
       "array([[2.07, 0.54]])"
      ]
     },
     "execution_count": 58,
     "metadata": {},
     "output_type": "execute_result"
    }
   ],
   "source": [
    "np.round(pipe.named_steps['linear'].coef_, 2)"
   ]
  },
  {
   "cell_type": "code",
   "execution_count": 59,
   "metadata": {},
   "outputs": [
    {
     "data": {
      "text/plain": [
       "array([1.87])"
      ]
     },
     "execution_count": 59,
     "metadata": {},
     "output_type": "execute_result"
    }
   ],
   "source": [
    "np.round(pipe.named_steps['linear'].intercept_, 2)"
   ]
  },
  {
   "cell_type": "markdown",
   "metadata": {},
   "source": [
    "**다항회귀식 시각화**"
   ]
  },
  {
   "cell_type": "code",
   "execution_count": 66,
   "metadata": {},
   "outputs": [
    {
     "ename": "TypeError",
     "evalue": "'NoneType' object is not callable",
     "output_type": "error",
     "traceback": [
      "\u001b[0;31m---------------------------------------------------------------------------\u001b[0m",
      "\u001b[0;31mTypeError\u001b[0m                                 Traceback (most recent call last)",
      "\u001b[1;32m/Users/anmunju/Documents/multicam_ds/12_MachineLearning/day7/머신러닝_15_다항회귀.ipynb Cell 34'\u001b[0m in \u001b[0;36m<module>\u001b[0;34m\u001b[0m\n\u001b[0;32m----> <a href='vscode-notebook-cell:/Users/anmunju/Documents/multicam_ds/12_MachineLearning/day7/%EB%A8%B8%EC%8B%A0%EB%9F%AC%EB%8B%9D_15_%EB%8B%A4%ED%95%AD%ED%9A%8C%EA%B7%80.ipynb#ch0000049?line=0'>1</a>\u001b[0m np\u001b[39m.\u001b[39;49mnewaxis()\n",
      "\u001b[0;31mTypeError\u001b[0m: 'NoneType' object is not callable"
     ]
    }
   ],
   "source": []
  },
  {
   "cell_type": "code",
   "execution_count": 64,
   "metadata": {},
   "outputs": [
    {
     "ename": "AttributeError",
     "evalue": "'numpy.ndarray' object has no attribute '_final_estimator'",
     "output_type": "error",
     "traceback": [
      "\u001b[0;31m---------------------------------------------------------------------------\u001b[0m",
      "\u001b[0;31mAttributeError\u001b[0m                            Traceback (most recent call last)",
      "\u001b[1;32m/Users/anmunju/Documents/multicam_ds/12_MachineLearning/day7/머신러닝_15_다항회귀.ipynb Cell 34'\u001b[0m in \u001b[0;36m<module>\u001b[0;34m\u001b[0m\n\u001b[1;32m      <a href='vscode-notebook-cell:/Users/anmunju/Documents/multicam_ds/12_MachineLearning/day7/%EB%A8%B8%EC%8B%A0%EB%9F%AC%EB%8B%9D_15_%EB%8B%A4%ED%95%AD%ED%9A%8C%EA%B7%80.ipynb#ch0000033?line=0'>1</a>\u001b[0m plt\u001b[39m.\u001b[39mscatter(X, y)\n\u001b[0;32m----> <a href='vscode-notebook-cell:/Users/anmunju/Documents/multicam_ds/12_MachineLearning/day7/%EB%A8%B8%EC%8B%A0%EB%9F%AC%EB%8B%9D_15_%EB%8B%A4%ED%95%AD%ED%9A%8C%EA%B7%80.ipynb#ch0000033?line=1'>2</a>\u001b[0m plt\u001b[39m.\u001b[39mplot(X, Pipeline\u001b[39m.\u001b[39;49mpredict(X[:, np\u001b[39m.\u001b[39;49mnewaxis]), label\u001b[39m=\u001b[39m\u001b[39m'\u001b[39m\u001b[39mModel\u001b[39m\u001b[39m'\u001b[39m)\n",
      "File \u001b[0;32m/opt/homebrew/Caskroom/miniforge/base/envs/multi_crawling/lib/python3.9/site-packages/sklearn/utils/metaestimators.py:123\u001b[0m, in \u001b[0;36m_AvailableIfDescriptor.__get__.<locals>.<lambda>\u001b[0;34m(*args, **kwargs)\u001b[0m\n\u001b[1;32m    <a href='file:///opt/homebrew/Caskroom/miniforge/base/envs/multi_crawling/lib/python3.9/site-packages/sklearn/utils/metaestimators.py?line=118'>119</a>\u001b[0m         \u001b[39mreturn\u001b[39;00m \u001b[39mself\u001b[39m\u001b[39m.\u001b[39mfn(\u001b[39m*\u001b[39margs, \u001b[39m*\u001b[39m\u001b[39m*\u001b[39mkwargs)\n\u001b[1;32m    <a href='file:///opt/homebrew/Caskroom/miniforge/base/envs/multi_crawling/lib/python3.9/site-packages/sklearn/utils/metaestimators.py?line=120'>121</a>\u001b[0m     \u001b[39m# This makes it possible to use the decorated method as an unbound method,\u001b[39;00m\n\u001b[1;32m    <a href='file:///opt/homebrew/Caskroom/miniforge/base/envs/multi_crawling/lib/python3.9/site-packages/sklearn/utils/metaestimators.py?line=121'>122</a>\u001b[0m     \u001b[39m# for instance when monkeypatching.\u001b[39;00m\n\u001b[0;32m--> <a href='file:///opt/homebrew/Caskroom/miniforge/base/envs/multi_crawling/lib/python3.9/site-packages/sklearn/utils/metaestimators.py?line=122'>123</a>\u001b[0m     out \u001b[39m=\u001b[39m \u001b[39mlambda\u001b[39;00m \u001b[39m*\u001b[39margs, \u001b[39m*\u001b[39m\u001b[39m*\u001b[39mkwargs: fn(\u001b[39m*\u001b[39;49margs, \u001b[39m*\u001b[39;49m\u001b[39m*\u001b[39;49mkwargs)  \u001b[39m# noqa\u001b[39;00m\n\u001b[1;32m    <a href='file:///opt/homebrew/Caskroom/miniforge/base/envs/multi_crawling/lib/python3.9/site-packages/sklearn/utils/metaestimators.py?line=123'>124</a>\u001b[0m \u001b[39m# update the docstring of the returned function\u001b[39;00m\n\u001b[1;32m    <a href='file:///opt/homebrew/Caskroom/miniforge/base/envs/multi_crawling/lib/python3.9/site-packages/sklearn/utils/metaestimators.py?line=124'>125</a>\u001b[0m update_wrapper(out, \u001b[39mself\u001b[39m\u001b[39m.\u001b[39mfn)\n",
      "File \u001b[0;32m/opt/homebrew/Caskroom/miniforge/base/envs/multi_crawling/lib/python3.9/site-packages/sklearn/utils/metaestimators.py:117\u001b[0m, in \u001b[0;36m_AvailableIfDescriptor.__get__.<locals>.fn\u001b[0;34m(*args, **kwargs)\u001b[0m\n\u001b[1;32m    <a href='file:///opt/homebrew/Caskroom/miniforge/base/envs/multi_crawling/lib/python3.9/site-packages/sklearn/utils/metaestimators.py?line=115'>116</a>\u001b[0m \u001b[39mdef\u001b[39;00m \u001b[39mfn\u001b[39m(\u001b[39m*\u001b[39margs, \u001b[39m*\u001b[39m\u001b[39m*\u001b[39mkwargs):\n\u001b[0;32m--> <a href='file:///opt/homebrew/Caskroom/miniforge/base/envs/multi_crawling/lib/python3.9/site-packages/sklearn/utils/metaestimators.py?line=116'>117</a>\u001b[0m     \u001b[39mif\u001b[39;00m \u001b[39mnot\u001b[39;00m \u001b[39mself\u001b[39;49m\u001b[39m.\u001b[39;49mcheck(args[\u001b[39m0\u001b[39;49m]):\n\u001b[1;32m    <a href='file:///opt/homebrew/Caskroom/miniforge/base/envs/multi_crawling/lib/python3.9/site-packages/sklearn/utils/metaestimators.py?line=117'>118</a>\u001b[0m         \u001b[39mraise\u001b[39;00m attr_err\n\u001b[1;32m    <a href='file:///opt/homebrew/Caskroom/miniforge/base/envs/multi_crawling/lib/python3.9/site-packages/sklearn/utils/metaestimators.py?line=118'>119</a>\u001b[0m     \u001b[39mreturn\u001b[39;00m \u001b[39mself\u001b[39m\u001b[39m.\u001b[39mfn(\u001b[39m*\u001b[39margs, \u001b[39m*\u001b[39m\u001b[39m*\u001b[39mkwargs)\n",
      "File \u001b[0;32m/opt/homebrew/Caskroom/miniforge/base/envs/multi_crawling/lib/python3.9/site-packages/sklearn/pipeline.py:45\u001b[0m, in \u001b[0;36m_final_estimator_has.<locals>.check\u001b[0;34m(self)\u001b[0m\n\u001b[1;32m     <a href='file:///opt/homebrew/Caskroom/miniforge/base/envs/multi_crawling/lib/python3.9/site-packages/sklearn/pipeline.py?line=42'>43</a>\u001b[0m \u001b[39mdef\u001b[39;00m \u001b[39mcheck\u001b[39m(\u001b[39mself\u001b[39m):\n\u001b[1;32m     <a href='file:///opt/homebrew/Caskroom/miniforge/base/envs/multi_crawling/lib/python3.9/site-packages/sklearn/pipeline.py?line=43'>44</a>\u001b[0m     \u001b[39m# raise original `AttributeError` if `attr` does not exist\u001b[39;00m\n\u001b[0;32m---> <a href='file:///opt/homebrew/Caskroom/miniforge/base/envs/multi_crawling/lib/python3.9/site-packages/sklearn/pipeline.py?line=44'>45</a>\u001b[0m     \u001b[39mgetattr\u001b[39m(\u001b[39mself\u001b[39;49m\u001b[39m.\u001b[39;49m_final_estimator, attr)\n\u001b[1;32m     <a href='file:///opt/homebrew/Caskroom/miniforge/base/envs/multi_crawling/lib/python3.9/site-packages/sklearn/pipeline.py?line=45'>46</a>\u001b[0m     \u001b[39mreturn\u001b[39;00m \u001b[39mTrue\u001b[39;00m\n",
      "\u001b[0;31mAttributeError\u001b[0m: 'numpy.ndarray' object has no attribute '_final_estimator'"
     ]
    },
    {
     "data": {
      "image/png": "[encoded data removed]",
      "text/plain": [
       "<Figure size 432x288 with 1 Axes>"
      ]
     },
     "metadata": {
      "needs_background": "light"
     },
     "output_type": "display_data"
    }
   ],
   "source": [
    "plt.scatter(X, y)\n",
    "plt.plot(X, Pipeline.predict(X[:, np.newaxis]), label='Model')"
   ]
  },
  {
   "cell_type": "markdown",
   "metadata": {},
   "source": [
    "### 다항회귀를 이용한 보스톤 집값 예측"
   ]
  },
  {
   "cell_type": "code",
   "execution_count": null,
   "metadata": {},
   "outputs": [],
   "source": []
  },
  {
   "cell_type": "code",
   "execution_count": null,
   "metadata": {},
   "outputs": [],
   "source": [
    "\n"
   ]
  },
  {
   "cell_type": "code",
   "execution_count": null,
   "metadata": {},
   "outputs": [],
   "source": []
  },
  {
   "cell_type": "code",
   "execution_count": null,
   "metadata": {},
   "outputs": [],
   "source": [
    "\n"
   ]
  },
  {
   "cell_type": "code",
   "execution_count": null,
   "metadata": {},
   "outputs": [],
   "source": []
  },
  {
   "cell_type": "code",
   "execution_count": null,
   "metadata": {},
   "outputs": [],
   "source": []
  },
  {
   "cell_type": "code",
   "execution_count": null,
   "metadata": {},
   "outputs": [],
   "source": [
    "\n"
   ]
  },
  {
   "cell_type": "code",
   "execution_count": null,
   "metadata": {},
   "outputs": [],
   "source": []
  }
 ],
 "metadata": {
  "kernelspec": {
   "display_name": "Python 3 (ipykernel)",
   "language": "python",
   "name": "python3"
  },
  "language_info": {
   "codemirror_mode": {
    "name": "ipython",
    "version": 3
   },
   "file_extension": ".py",
   "mimetype": "text/x-python",
   "name": "python",
   "nbconvert_exporter": "python",
   "pygments_lexer": "ipython3",
   "version": "3.9.0"
  }
 },
 "nbformat": 4,
 "nbformat_minor": 4
}

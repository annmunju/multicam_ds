{
 "cells": [
  {
   "cell_type": "markdown",
   "metadata": {},
   "source": [
    "# 사이킷런을 이용한 머신러닝"
   ]
  },
  {
   "attachments": {},
   "cell_type": "markdown",
   "metadata": {},
   "source": [
    "- 파이썬 머신러닝 라이브러리 중 가장 많이 사용되는 라이브러리\n",
    "- 파이썬스러운 API\n",
    "    - 파이썬 기반의 다른 머신러닝 패키지도 사이킷런 스타일API 지향\n",
    "- 머신러닝을 위한 다양한 알고리즘 개발을 위해 편리한 프레임워크와 API 제공\n",
    "- 오랜 기간 실전 환경에서 검증, 매우 많은 환경에서 사용된 라이브러리\n",
    "\n",
    "https://scikit-learn.org/stable/"
   ]
  },
  {
   "cell_type": "code",
   "execution_count": null,
   "metadata": {
    "scrolled": true
   },
   "outputs": [],
   "source": [
    "# 사이킷런 버전 확인\n"
   ]
  },
  {
   "cell_type": "raw",
   "metadata": {},
   "source": [
    "# Anaconda 설치기 기본으로 사이킷런 설치됨\n",
    "\n",
    "# 설치 명령어\n",
    "conda install scikit-learn\n",
    "\n",
    "# 또는\n",
    "pip install scikit-learn"
   ]
  },
  {
   "attachments": {},
   "cell_type": "markdown",
   "metadata": {},
   "source": [
    "## 사이킷런을 이용한 붓꽃(iris) 데이터 분류\n",
    "\n",
    "\n",
    "\n",
    "### 붓꽃 데이터 세트\n",
    "- sklearn.datasets에 들어 있음\n",
    "- load_iris()를 통해 로드해서 사용\n",
    "- 머신러닝 각 분야에서 알고리즘을 측정하기 위한 기본 자료로 다양하게 활용\n",
    "- 4가지 속성(피처)을 가진 3가지 붓꽃 품종의 50개 샘플 포함\n",
    "\n",
    "**3가지 붓꽃 품종**\n",
    "- Setosa\n",
    "- Versicolor\n",
    "- Virginica\n",
    "\n",
    "http://www.lac.inpe.br/~rafael.santos/Docs/CAP394/WholeStory-Iris.html"
   ]
  },
  {
   "attachments": {},
   "cell_type": "markdown",
   "metadata": {},
   "source": [
    "### 붓꽃의 4가지 속성(피처 (Feature))\n",
    "- 꽃받침 길이 : Sepal Length\n",
    "- 꽃받침 너비 : Sepal Width\n",
    "- 꽃잎의 길이 : Petal Length\n",
    "- 꽃잎의 너비 : Petal Width"
   ]
  },
  {
   "attachments": {},
   "cell_type": "markdown",
   "metadata": {},
   "source": [
    "### 분류를 위한 학습 및 예측 프로세스\n",
    "\n",
    "- 0단계. 데이터 세트 준비\n",
    "    - 데이터 세트 로딩, 데이터 프레임으로 변환\n",
    "\n",
    "\n",
    "- 1단계. 데이터 세트 분리\n",
    "    - 데이터를 학습 데이터와 테스트 데이터로 분리\n",
    "\n",
    "\n",
    "- 2단계. 모델 학습\n",
    "    - 학습 데이터를 기반으로 ML 알고리즘을 적용해 모델 학습\n",
    "\n",
    "\n",
    "- 3단계. 예측 수행\n",
    "    - 학습된 ML 모델을 이용해 테스트 데이터의 분류(붓꽃 종류) 예측\n",
    "\n",
    "\n",
    "- 4단계. 모델 성능 평가\n",
    "    - 예측된 결과값과 테스트 데이터 실제 값 비교하여 ML 모델 성능 평가"
   ]
  },
  {
   "cell_type": "markdown",
   "metadata": {},
   "source": [
    "용어 정리\n",
    "\n",
    "피처(Feature) : 데이터 세트 속성\n",
    "- feature_names : sepal length, sepal with, petal length, petal width\n",
    "    \n",
    "레이블(label) :\n",
    "- 품종 (setosa, versicolor, virginica)\n",
    "- 학습 : 결정값(주어진 정답)\n",
    "- 테스트 : 타깃값(target)(예측해야 할 값)\n",
    "- target(숫자) : 0, 1, 2\n",
    "- target_names : setosa, versicolor, virginica\n",
    "- 레이블 = 결정값 = 타겟값"
   ]
  },
  {
   "cell_type": "markdown",
   "metadata": {},
   "source": [
    "**붓꽃 예측을 위한 사이킷런 필요 모듈 로딩**"
   ]
  },
  {
   "cell_type": "code",
   "execution_count": null,
   "metadata": {},
   "outputs": [],
   "source": []
  },
  {
   "cell_type": "markdown",
   "metadata": {},
   "source": [
    "**붓꽃 데이터 예측 프로세스에서 사용하는 함수 및 클래스**\n"
   ]
  },
  {
   "cell_type": "markdown",
   "metadata": {},
   "source": [
    "**데이터 세트 로딩**"
   ]
  },
  {
   "cell_type": "code",
   "execution_count": null,
   "metadata": {},
   "outputs": [],
   "source": []
  },
  {
   "cell_type": "code",
   "execution_count": null,
   "metadata": {},
   "outputs": [],
   "source": [
    "# 붓꽃 데이터 세트 로딩\n"
   ]
  },
  {
   "cell_type": "code",
   "execution_count": null,
   "metadata": {},
   "outputs": [],
   "source": [
    "# iris.data : Iris 데이터 세트에서 \n",
    "# 피처(feature)만으로 된 데이터를 numpy로 가지고 있음\n"
   ]
  },
  {
   "cell_type": "code",
   "execution_count": null,
   "metadata": {},
   "outputs": [],
   "source": [
    "# iris.target은 붓꽃 데이터 세트에서 \n",
    "# 레이블(결정 값) 데이터를 numpy로 가지고 있음 (숫자)\n",
    "# 레이블 = 결정값 = 정답(품종을 숫자로 표현)\n"
   ]
  },
  {
   "cell_type": "code",
   "execution_count": null,
   "metadata": {
    "scrolled": true
   },
   "outputs": [],
   "source": [
    "# 붓꽃 데이터 DataFrame으로 변환 \n"
   ]
  },
  {
   "cell_type": "code",
   "execution_count": null,
   "metadata": {},
   "outputs": [],
   "source": [
    "###############################  참고  ####################################"
   ]
  },
  {
   "cell_type": "code",
   "execution_count": null,
   "metadata": {},
   "outputs": [],
   "source": []
  },
  {
   "cell_type": "code",
   "execution_count": null,
   "metadata": {},
   "outputs": [],
   "source": []
  },
  {
   "cell_type": "code",
   "execution_count": null,
   "metadata": {},
   "outputs": [],
   "source": []
  },
  {
   "cell_type": "code",
   "execution_count": null,
   "metadata": {},
   "outputs": [],
   "source": []
  },
  {
   "cell_type": "code",
   "execution_count": null,
   "metadata": {},
   "outputs": [],
   "source": []
  },
  {
   "cell_type": "code",
   "execution_count": null,
   "metadata": {
    "scrolled": true
   },
   "outputs": [],
   "source": []
  },
  {
   "cell_type": "code",
   "execution_count": null,
   "metadata": {},
   "outputs": [],
   "source": [
    "###############################  참고  ####################################"
   ]
  },
  {
   "cell_type": "markdown",
   "metadata": {},
   "source": [
    "### 학습 데이터와 테스트 데이터 세트로 분리"
   ]
  },
  {
   "cell_type": "markdown",
   "metadata": {},
   "source": [
    "**train_test_split() 함수** 사용\n",
    "* train_test_split(iris_data, iris_label, test_size=0.3, random_state=11)\n",
    "\n",
    "\n",
    "* train_test_split(피처 데이터 세트, 레이블 데이터 세트, 테스트 데이터 세트 비율, 난수 발생값)\n",
    "    * 피처 데이터 세트 : 피처(feature)만으로 된 데이터(numpy) [5.1, 3.5, 1.4, 0.2],...\n",
    "    * 레이블 데이터 세트 : 레이블(결정 값) 데이터(numpy) [0 0 0 ... 1 1 1 .... 2 2 2]  \n",
    "    * test_size(테스트 데이터 세트 비율) : 전체 데이터 세트 중 테스트 데이터 세트 비율 (0.3)\n",
    "    * random_state(난수 발생값) : 수행할 때마다 동일한 데이터 세트로 분리하기 위해 시드값 고정 (실습용)"
   ]
  },
  {
   "cell_type": "markdown",
   "metadata": {},
   "source": [
    "train_test_split() 반환값\n",
    "* X_train : 학습용 피처 데이터 세트  (feature)\n",
    "* X_test : 테스트용 피처 데이터 세트  (feature)\n",
    "* y_train : 학습용 레이블 데이터 세트 (target)\n",
    "* y_test : 테스트용 레이블 데이터 세트 (target)\n",
    "\n",
    "* feature : 대문자 X_\n",
    "* label(target) : 소문자 y_"
   ]
  },
  {
   "cell_type": "code",
   "execution_count": null,
   "metadata": {},
   "outputs": [],
   "source": [
    "#학습 데이터와 테스트 데이터 세트로 분리\n"
   ]
  },
  {
   "cell_type": "code",
   "execution_count": null,
   "metadata": {},
   "outputs": [],
   "source": [
    "# 학습용 피처 데이터 세트\n"
   ]
  },
  {
   "cell_type": "code",
   "execution_count": null,
   "metadata": {
    "scrolled": true
   },
   "outputs": [],
   "source": [
    "# 테스트용 피처 데이터 세트\n"
   ]
  },
  {
   "cell_type": "code",
   "execution_count": null,
   "metadata": {},
   "outputs": [],
   "source": [
    "# 학습용 레이블 데이터 세트\n"
   ]
  },
  {
   "cell_type": "code",
   "execution_count": null,
   "metadata": {
    "scrolled": true
   },
   "outputs": [],
   "source": [
    "# 테스트용 레이블 데이터 세트\n"
   ]
  },
  {
   "cell_type": "markdown",
   "metadata": {},
   "source": [
    "### 학습 데이터 세트로 학습(Train) 수행"
   ]
  },
  {
   "cell_type": "markdown",
   "metadata": {},
   "source": [
    "ML 알고리즘으로 의사결정 트리 알고리즘을 이용해서 학습과 예측 수행  \n",
    "DecisionTreeClassifier 클래스의 fit()/predict() 메소드 사용  "
   ]
  },
  {
   "cell_type": "code",
   "execution_count": null,
   "metadata": {},
   "outputs": [],
   "source": [
    "# DecisionTreeClassifier 객체 생성 \n",
    "\n",
    "\n",
    "# 학습 수행 \n",
    "\n",
    "\n",
    "# 학습용 피처 데이터, 학습용 레이블(정답) 데이터"
   ]
  },
  {
   "cell_type": "markdown",
   "metadata": {},
   "source": [
    "### 테스트 데이터 세트로 예측(Predict) 수행"
   ]
  },
  {
   "cell_type": "code",
   "execution_count": null,
   "metadata": {},
   "outputs": [],
   "source": [
    "# 학습이 완료된 DecisionTreeClassifier 객체에서 테스트 데이터 세트로 예측 수행. \n",
    "\n",
    "\n",
    "# 테스트용 피처 데이터"
   ]
  },
  {
   "cell_type": "code",
   "execution_count": null,
   "metadata": {},
   "outputs": [],
   "source": []
  },
  {
   "cell_type": "markdown",
   "metadata": {},
   "source": [
    "### 예측 정확도(accuracy) 평가"
   ]
  },
  {
   "cell_type": "code",
   "execution_count": null,
   "metadata": {},
   "outputs": [],
   "source": []
  }
 ],
 "metadata": {
  "kernelspec": {
   "display_name": "Python 3 (ipykernel)",
   "language": "python",
   "name": "python3"
  },
  "language_info": {
   "codemirror_mode": {
    "name": "ipython",
    "version": 3
   },
   "file_extension": ".py",
   "mimetype": "text/x-python",
   "name": "python",
   "nbconvert_exporter": "python",
   "pygments_lexer": "ipython3",
   "version": "3.9.7"
  }
 },
 "nbformat": 4,
 "nbformat_minor": 2
}

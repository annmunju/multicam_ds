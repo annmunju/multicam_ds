{
 "cells": [
  {
   "cell_type": "markdown",
   "metadata": {},
   "source": [
    "# 데이터 전처리"
   ]
  },
  {
   "cell_type": "markdown",
   "metadata": {},
   "source": [
    "## 넘파이로 데이터 준비하기"
   ]
  },
  {
   "cell_type": "code",
   "execution_count": 1,
   "metadata": {
    "colab": {},
    "colab_type": "code",
    "id": "0-OTt0n1LMjf"
   },
   "outputs": [],
   "source": [
    "import numpy as np"
   ]
  },
  {
   "cell_type": "code",
   "execution_count": 2,
   "metadata": {
    "colab": {},
    "colab_type": "code",
    "id": "SLUDuHl8oJZX"
   },
   "outputs": [],
   "source": [
    "fish_length = [25.4, 26.3, 26.5, 29.0, 29.0, 29.7, 29.7, 30.0, 30.0, 30.7, 31.0, 31.0, \n",
    "                31.5, 32.0, 32.0, 32.0, 33.0, 33.0, 33.5, 33.5, 34.0, 34.0, 34.5, 35.0, \n",
    "                35.0, 35.0, 35.0, 36.0, 36.0, 37.0, 38.5, 38.5, 39.5, 41.0, 41.0, 9.8, \n",
    "                10.5, 10.6, 11.0, 11.2, 11.3, 11.8, 11.8, 12.0, 12.2, 12.4, 13.0, 14.3, 15.0]\n",
    "fish_weight = [242.0, 290.0, 340.0, 363.0, 430.0, 450.0, 500.0, 390.0, 450.0, 500.0, 475.0, 500.0, \n",
    "                500.0, 340.0, 600.0, 600.0, 700.0, 700.0, 610.0, 650.0, 575.0, 685.0, 620.0, 680.0, \n",
    "                700.0, 725.0, 720.0, 714.0, 850.0, 1000.0, 920.0, 955.0, 925.0, 975.0, 950.0, 6.7, \n",
    "                7.5, 7.0, 9.7, 9.8, 8.7, 10.0, 9.9, 9.8, 12.2, 13.4, 12.2, 19.7, 19.9]"
   ]
  },
  {
   "cell_type": "markdown",
   "metadata": {
    "colab": {
     "base_uri": "https://localhost:8080/",
     "height": 69
    },
    "colab_type": "code",
    "executionInfo": {
     "elapsed": 1766,
     "status": "ok",
     "timestamp": 1586946244606,
     "user": {
      "displayName": "Haesun Park",
      "photoUrl": "https://lh3.googleusercontent.com/a-/AOh14GhsWlS7sKQL-9fIkg3FmxpTMz_u-KDSs8y__P1ngQ=s64",
      "userId": "14935388527648823821"
     },
     "user_tz": -540
    },
    "id": "zNlIVTw_lUIk",
    "outputId": "eddce28d-8e26-4519-af4d-e8316b7f1d06"
   },
   "source": [
    "**두 리스트 열방향으로 합치기: 2차원 배열로**"
   ]
  },
  {
   "cell_type": "code",
   "execution_count": 6,
   "metadata": {
    "colab": {},
    "colab_type": "code",
    "id": "ILMRbWnkLZVF"
   },
   "outputs": [
    {
     "data": {
      "text/plain": [
       "array([[  25.4,  242. ],\n",
       "       [  26.3,  290. ],\n",
       "       [  26.5,  340. ],\n",
       "       [  29. ,  363. ],\n",
       "       [  29. ,  430. ],\n",
       "       [  29.7,  450. ],\n",
       "       [  29.7,  500. ],\n",
       "       [  30. ,  390. ],\n",
       "       [  30. ,  450. ],\n",
       "       [  30.7,  500. ],\n",
       "       [  31. ,  475. ],\n",
       "       [  31. ,  500. ],\n",
       "       [  31.5,  500. ],\n",
       "       [  32. ,  340. ],\n",
       "       [  32. ,  600. ],\n",
       "       [  32. ,  600. ],\n",
       "       [  33. ,  700. ],\n",
       "       [  33. ,  700. ],\n",
       "       [  33.5,  610. ],\n",
       "       [  33.5,  650. ],\n",
       "       [  34. ,  575. ],\n",
       "       [  34. ,  685. ],\n",
       "       [  34.5,  620. ],\n",
       "       [  35. ,  680. ],\n",
       "       [  35. ,  700. ],\n",
       "       [  35. ,  725. ],\n",
       "       [  35. ,  720. ],\n",
       "       [  36. ,  714. ],\n",
       "       [  36. ,  850. ],\n",
       "       [  37. , 1000. ],\n",
       "       [  38.5,  920. ],\n",
       "       [  38.5,  955. ],\n",
       "       [  39.5,  925. ],\n",
       "       [  41. ,  975. ],\n",
       "       [  41. ,  950. ],\n",
       "       [   9.8,    6.7],\n",
       "       [  10.5,    7.5],\n",
       "       [  10.6,    7. ],\n",
       "       [  11. ,    9.7],\n",
       "       [  11.2,    9.8],\n",
       "       [  11.3,    8.7],\n",
       "       [  11.8,   10. ],\n",
       "       [  11.8,    9.9],\n",
       "       [  12. ,    9.8],\n",
       "       [  12.2,   12.2],\n",
       "       [  12.4,   13.4],\n",
       "       [  13. ,   12.2],\n",
       "       [  14.3,   19.7],\n",
       "       [  15. ,   19.9]])"
      ]
     },
     "execution_count": 6,
     "metadata": {},
     "output_type": "execute_result"
    }
   ],
   "source": [
    "fish_data = np.column_stack((fish_length, fish_weight))\n",
    "fish_data"
   ]
  },
  {
   "cell_type": "markdown",
   "metadata": {},
   "source": [
    "**라벨 데이터**"
   ]
  },
  {
   "cell_type": "code",
   "execution_count": 8,
   "metadata": {
    "colab": {},
    "colab_type": "code",
    "id": "-ScgL2hIL0FB"
   },
   "outputs": [
    {
     "data": {
      "text/plain": [
       "array([1., 1., 1., 1., 1., 1., 1., 1., 1., 1., 1., 1., 1., 1., 1., 1., 1.,\n",
       "       1., 1., 1., 1., 1., 1., 1., 1., 1., 1., 1., 1., 1., 1., 1., 1., 1.,\n",
       "       1., 0., 0., 0., 0., 0., 0., 0., 0., 0., 0., 0., 0., 0., 0.])"
      ]
     },
     "execution_count": 8,
     "metadata": {},
     "output_type": "execute_result"
    }
   ],
   "source": [
    "fish_target = np.concatenate((np.ones(35), np.zeros(14)))\n",
    "fish_target"
   ]
  },
  {
   "cell_type": "code",
   "execution_count": null,
   "metadata": {
    "colab": {
     "base_uri": "https://localhost:8080/",
     "height": 69
    },
    "colab_type": "code",
    "executionInfo": {
     "elapsed": 1740,
     "status": "ok",
     "timestamp": 1586946244608,
     "user": {
      "displayName": "Haesun Park",
      "photoUrl": "https://lh3.googleusercontent.com/a-/AOh14GhsWlS7sKQL-9fIkg3FmxpTMz_u-KDSs8y__P1ngQ=s64",
      "userId": "14935388527648823821"
     },
     "user_tz": -540
    },
    "id": "ZepGdT9uL7tA",
    "outputId": "804be353-3d2a-4753-cb0b-1cbef617da45"
   },
   "outputs": [],
   "source": []
  },
  {
   "cell_type": "markdown",
   "metadata": {},
   "source": [
    "## 사이킷런으로 훈련 데이터와 테스트 데이터 나누기"
   ]
  },
  {
   "cell_type": "code",
   "execution_count": 35,
   "metadata": {
    "colab": {},
    "colab_type": "code",
    "id": "vpkI83t3KBsF"
   },
   "outputs": [],
   "source": [
    "from sklearn.model_selection import train_test_split"
   ]
  },
  {
   "cell_type": "markdown",
   "metadata": {},
   "source": [
    "**train_test_split(매개변수들)**\n",
    "- *array : feature dataset, label dataset \n",
    "- test_size = None \n",
    "- train_size = None\n",
    "- shuffle = True\n",
    "- stratify = None  -> 층화표본추출\n",
    "- random_state = None"
   ]
  },
  {
   "cell_type": "markdown",
   "metadata": {},
   "source": [
    "**데이터 분포를 반영한 분할**"
   ]
  },
  {
   "cell_type": "code",
   "execution_count": 36,
   "metadata": {
    "colab": {},
    "colab_type": "code",
    "id": "l-gm9r-jKMJY"
   },
   "outputs": [
    {
     "name": "stdout",
     "output_type": "stream",
     "text": [
      "[[  29.7  500. ]\n",
      " [  12.2   12.2]\n",
      " [  33.   700. ]\n",
      " [  11.3    8.7]\n",
      " [  39.5  925. ]\n",
      " [  29.   430. ]\n",
      " [  36.   714. ]\n",
      " [  36.   850. ]\n",
      " [  31.   475. ]\n",
      " [  35.   720. ]\n",
      " [  37.  1000. ]\n",
      " [  11.2    9.8]\n",
      " [  34.5  620. ]\n",
      " [  12.     9.8]\n",
      " [  29.   363. ]\n",
      " [  33.   700. ]\n",
      " [  30.7  500. ]\n",
      " [  38.5  955. ]\n",
      " [  33.5  650. ]\n",
      " [  14.3   19.7]\n",
      " [  31.5  500. ]\n",
      " [  25.4  242. ]\n",
      " [   9.8    6.7]\n",
      " [  32.   600. ]\n",
      " [  10.5    7.5]\n",
      " [  33.5  610. ]\n",
      " [  10.6    7. ]\n",
      " [  35.   700. ]\n",
      " [  32.   600. ]\n",
      " [  35.   725. ]\n",
      " [  13.    12.2]\n",
      " [  30.   450. ]\n",
      " [  32.   340. ]\n",
      " [  15.    19.9]\n",
      " [  30.   390. ]\n",
      " [  41.   975. ]]\n",
      "\n",
      "[[ 11.    9.7]\n",
      " [ 11.8   9.9]\n",
      " [ 29.7 450. ]\n",
      " [ 11.8  10. ]\n",
      " [ 26.5 340. ]\n",
      " [ 12.4  13.4]\n",
      " [ 34.  685. ]\n",
      " [ 34.  575. ]\n",
      " [ 38.5 920. ]\n",
      " [ 35.  680. ]\n",
      " [ 26.3 290. ]\n",
      " [ 31.  500. ]\n",
      " [ 41.  950. ]]\n",
      "\n",
      "[1. 0. 1. 0. 1. 1. 1. 1. 1. 1. 1. 0. 1. 0. 1. 1. 1. 1. 1. 0. 1. 1. 0. 1.\n",
      " 0. 1. 0. 1. 1. 1. 0. 1. 1. 0. 1. 1.]\n",
      "\n",
      "[0. 0. 1. 0. 1. 0. 1. 1. 1. 1. 1. 1. 1.]\n"
     ]
    }
   ],
   "source": [
    "train_input, test_input, train_target, test_target = train_test_split(fish_data, fish_target, stratify = fish_target, random_state=42)\n",
    "print(train_input)\n",
    "print()\n",
    "print(test_input)\n",
    "print()\n",
    "print(train_target)\n",
    "print()\n",
    "print(test_target)"
   ]
  },
  {
   "cell_type": "markdown",
   "metadata": {},
   "source": [
    "## 성능 평가 및 테스트"
   ]
  },
  {
   "cell_type": "code",
   "execution_count": 45,
   "metadata": {
    "colab": {
     "base_uri": "https://localhost:8080/",
     "height": 35
    },
    "colab_type": "code",
    "executionInfo": {
     "elapsed": 2215,
     "status": "ok",
     "timestamp": 1586946245127,
     "user": {
      "displayName": "Haesun Park",
      "photoUrl": "https://lh3.googleusercontent.com/a-/AOh14GhsWlS7sKQL-9fIkg3FmxpTMz_u-KDSs8y__P1ngQ=s64",
      "userId": "14935388527648823821"
     },
     "user_tz": -540
    },
    "id": "HhB-Alz--6U4",
    "outputId": "ec8fab29-c9f2-44b5-c412-4ad5a94572d6"
   },
   "outputs": [],
   "source": [
    "from sklearn.neighbors import KNeighborsClassifier"
   ]
  },
  {
   "cell_type": "code",
   "execution_count": 46,
   "metadata": {},
   "outputs": [
    {
     "data": {
      "text/plain": [
       "1.0"
      ]
     },
     "execution_count": 46,
     "metadata": {},
     "output_type": "execute_result"
    }
   ],
   "source": [
    "kn = KNeighborsClassifier()\n",
    "kn.fit(train_input, train_target)\n",
    "kn.score(test_input, test_target)"
   ]
  },
  {
   "cell_type": "markdown",
   "metadata": {},
   "source": [
    "### 도미 데이터 : 길이 25, 무게 150에 대한 분류 결과는?"
   ]
  },
  {
   "cell_type": "code",
   "execution_count": 48,
   "metadata": {
    "colab": {
     "base_uri": "https://localhost:8080/",
     "height": 35
    },
    "colab_type": "code",
    "executionInfo": {
     "elapsed": 2209,
     "status": "ok",
     "timestamp": 1586946245128,
     "user": {
      "displayName": "Haesun Park",
      "photoUrl": "https://lh3.googleusercontent.com/a-/AOh14GhsWlS7sKQL-9fIkg3FmxpTMz_u-KDSs8y__P1ngQ=s64",
      "userId": "14935388527648823821"
     },
     "user_tz": -540
    },
    "id": "JRKoCZFeT9xE",
    "outputId": "e55a114c-dbab-482f-92a2-80b7f97d32a6"
   },
   "outputs": [
    {
     "data": {
      "text/plain": [
       "array([0.])"
      ]
     },
     "execution_count": 48,
     "metadata": {},
     "output_type": "execute_result"
    }
   ],
   "source": [
    "kn.predict([[25, 150]])"
   ]
  },
  {
   "cell_type": "markdown",
   "metadata": {},
   "source": [
    "**테스트할 도미 데이터를 포함한 산점도**"
   ]
  },
  {
   "cell_type": "code",
   "execution_count": 49,
   "metadata": {
    "colab": {},
    "colab_type": "code",
    "id": "jSEc853pQHSu"
   },
   "outputs": [],
   "source": [
    "import matplotlib.pyplot as plt"
   ]
  },
  {
   "cell_type": "code",
   "execution_count": 51,
   "metadata": {
    "colab": {
     "base_uri": "https://localhost:8080/",
     "height": 279
    },
    "colab_type": "code",
    "executionInfo": {
     "elapsed": 2200,
     "status": "ok",
     "timestamp": 1586946245128,
     "user": {
      "displayName": "Haesun Park",
      "photoUrl": "https://lh3.googleusercontent.com/a-/AOh14GhsWlS7sKQL-9fIkg3FmxpTMz_u-KDSs8y__P1ngQ=s64",
      "userId": "14935388527648823821"
     },
     "user_tz": -540
    },
    "id": "1-GE9ic9_XRU",
    "outputId": "75a11b7d-df93-4560-9aff-194077c8bc70"
   },
   "outputs": [
    {
     "data": {
      "image/png": "[encoded data removed]",
      "text/plain": [
       "<Figure size 432x288 with 1 Axes>"
      ]
     },
     "metadata": {
      "needs_background": "light"
     },
     "output_type": "display_data"
    }
   ],
   "source": [
    "plt.scatter(train_input[:,0], train_input[:,1])\n",
    "plt.scatter(test_input[:,0], test_input[:,1])\n",
    "plt.scatter(25, 150, marker='^')\n",
    "plt.show()"
   ]
  },
  {
   "cell_type": "markdown",
   "metadata": {},
   "source": [
    "**테스트할 도미데이터와 이웃하는 데이터들**"
   ]
  },
  {
   "cell_type": "code",
   "execution_count": 53,
   "metadata": {
    "colab": {},
    "colab_type": "code",
    "id": "G_jwm_ouQKQ7"
   },
   "outputs": [
    {
     "name": "stdout",
     "output_type": "stream",
     "text": [
      "[[ 92.00086956 130.48375378 130.73859415 138.32150953 138.39320793]] [[21 33 19 30  1]]\n"
     ]
    }
   ],
   "source": [
    "dist, idx = kn.kneighbors([[25, 150]])\n",
    "print(dist, idx)"
   ]
  },
  {
   "cell_type": "code",
   "execution_count": 54,
   "metadata": {},
   "outputs": [
    {
     "data": {
      "text/plain": [
       "array([[[ 25.4, 242. ],\n",
       "        [ 15. ,  19.9],\n",
       "        [ 14.3,  19.7],\n",
       "        [ 13. ,  12.2],\n",
       "        [ 12.2,  12.2]]])"
      ]
     },
     "execution_count": 54,
     "metadata": {},
     "output_type": "execute_result"
    }
   ],
   "source": [
    "train_input[idx]"
   ]
  },
  {
   "cell_type": "code",
   "execution_count": 58,
   "metadata": {},
   "outputs": [
    {
     "data": {
      "image/png": "[encoded data removed]",
      "text/plain": [
       "<Figure size 432x288 with 1 Axes>"
      ]
     },
     "metadata": {
      "needs_background": "light"
     },
     "output_type": "display_data"
    }
   ],
   "source": [
    "plt.scatter(train_input[:,0], train_input[:,1])\n",
    "# plt.scatter(test_input[:,0], test_input[:,1])\n",
    "plt.scatter(train_input[idx, 0], train_input[idx, 1], marker='D')\n",
    "plt.scatter(25, 150, marker='^')\n",
    "plt.show()"
   ]
  },
  {
   "cell_type": "markdown",
   "metadata": {},
   "source": [
    "## 기준을 맞춰라"
   ]
  },
  {
   "cell_type": "code",
   "execution_count": 59,
   "metadata": {
    "colab": {
     "base_uri": "https://localhost:8080/",
     "height": 279
    },
    "colab_type": "code",
    "executionInfo": {
     "elapsed": 2739,
     "status": "ok",
     "timestamp": 1586946245699,
     "user": {
      "displayName": "Haesun Park",
      "photoUrl": "https://lh3.googleusercontent.com/a-/AOh14GhsWlS7sKQL-9fIkg3FmxpTMz_u-KDSs8y__P1ngQ=s64",
      "userId": "14935388527648823821"
     },
     "user_tz": -540
    },
    "id": "P6PXDboiTx_j",
    "outputId": "b8683f98-b099-47a1-83ee-944da738d0a2"
   },
   "outputs": [
    {
     "data": {
      "image/png": "[encoded data removed]",
      "text/plain": [
       "<Figure size 432x288 with 1 Axes>"
      ]
     },
     "metadata": {
      "needs_background": "light"
     },
     "output_type": "display_data"
    }
   ],
   "source": [
    "plt.scatter(train_input[:,0], train_input[:,1])\n",
    "# plt.scatter(test_input[:,0], test_input[:,1])\n",
    "plt.scatter(train_input[idx, 0], train_input[idx, 1], marker='D')\n",
    "plt.xlim(0,1000)\n",
    "plt.scatter(25, 150, marker='^')\n",
    "plt.show()"
   ]
  },
  {
   "cell_type": "markdown",
   "metadata": {},
   "source": [
    "- 최근접이웃 알고리즘은 거리를 기반으로 가까운 이웃을 결정\n",
    "- 거리 계산 시 자료의 값이 큰 변수에 더 큰 영향을 받게 됨"
   ]
  },
  {
   "cell_type": "markdown",
   "metadata": {},
   "source": [
    "### 두 변수의 스케일을 갖게 = 정규화\n",
    "- 표준점수(Z-Score)"
   ]
  },
  {
   "cell_type": "code",
   "execution_count": 62,
   "metadata": {
    "colab": {},
    "colab_type": "code",
    "id": "Yi9xncqkUGIZ"
   },
   "outputs": [],
   "source": [
    "mean = np.mean(train_input, axis=0)"
   ]
  },
  {
   "cell_type": "code",
   "execution_count": 63,
   "metadata": {
    "colab": {
     "base_uri": "https://localhost:8080/",
     "height": 35
    },
    "colab_type": "code",
    "executionInfo": {
     "elapsed": 2730,
     "status": "ok",
     "timestamp": 1586946245699,
     "user": {
      "displayName": "Haesun Park",
      "photoUrl": "https://lh3.googleusercontent.com/a-/AOh14GhsWlS7sKQL-9fIkg3FmxpTMz_u-KDSs8y__P1ngQ=s64",
      "userId": "14935388527648823821"
     },
     "user_tz": -540
    },
    "id": "f7CuQC8IUsty",
    "outputId": "116fb663-23ab-4109-fa20-d044f8f7b9bc"
   },
   "outputs": [
    {
     "data": {
      "text/plain": [
       "array([ 27.29722222, 454.09722222])"
      ]
     },
     "execution_count": 63,
     "metadata": {},
     "output_type": "execute_result"
    }
   ],
   "source": [
    "mean"
   ]
  },
  {
   "cell_type": "code",
   "execution_count": 64,
   "metadata": {},
   "outputs": [
    {
     "data": {
      "text/plain": [
       "array([  9.98244253, 323.29893931])"
      ]
     },
     "execution_count": 64,
     "metadata": {},
     "output_type": "execute_result"
    }
   ],
   "source": [
    "std = np.std(train_input, axis=0)\n",
    "std"
   ]
  },
  {
   "cell_type": "code",
   "execution_count": 66,
   "metadata": {},
   "outputs": [
    {
     "name": "stdout",
     "output_type": "stream",
     "text": [
      "1.603655480014115e-16\n",
      "1.0\n"
     ]
    }
   ],
   "source": [
    "# (train_input - mean) / std\n",
    "train_scaled = (train_input - mean) / std\n",
    "print(np.mean(train_scaled))\n",
    "print(np.std(train_scaled))\n"
   ]
  },
  {
   "cell_type": "code",
   "execution_count": 67,
   "metadata": {
    "colab": {},
    "colab_type": "code",
    "id": "jmSFa3LzUteI"
   },
   "outputs": [
    {
     "data": {
      "text/plain": [
       "array([ 5.24271984e-16, -1.97372982e-16])"
      ]
     },
     "execution_count": 67,
     "metadata": {},
     "output_type": "execute_result"
    }
   ],
   "source": [
    "np.mean(train_scaled, axis=0)"
   ]
  },
  {
   "cell_type": "code",
   "execution_count": 68,
   "metadata": {},
   "outputs": [
    {
     "data": {
      "text/plain": [
       "array([1., 1.])"
      ]
     },
     "execution_count": 68,
     "metadata": {},
     "output_type": "execute_result"
    }
   ],
   "source": [
    "np.std(train_scaled, axis=0)"
   ]
  },
  {
   "cell_type": "code",
   "execution_count": 74,
   "metadata": {},
   "outputs": [
    {
     "data": {
      "image/png": "[encoded data removed]",
      "text/plain": [
       "<Figure size 432x288 with 1 Axes>"
      ]
     },
     "metadata": {
      "needs_background": "light"
     },
     "output_type": "display_data"
    }
   ],
   "source": [
    "plt.scatter(train_scaled[:,0], train_scaled[:,1])\n",
    "plt.xlabel('length')\n",
    "plt.ylabel('weight')\n",
    "\n",
    "plt.show()"
   ]
  },
  {
   "cell_type": "markdown",
   "metadata": {},
   "source": [
    "### 전처리 데이터로 모델 훈련하기"
   ]
  },
  {
   "cell_type": "code",
   "execution_count": 75,
   "metadata": {
    "colab": {
     "base_uri": "https://localhost:8080/",
     "height": 279
    },
    "colab_type": "code",
    "executionInfo": {
     "elapsed": 2722,
     "status": "ok",
     "timestamp": 1586946245700,
     "user": {
      "displayName": "Haesun Park",
      "photoUrl": "https://lh3.googleusercontent.com/a-/AOh14GhsWlS7sKQL-9fIkg3FmxpTMz_u-KDSs8y__P1ngQ=s64",
      "userId": "14935388527648823821"
     },
     "user_tz": -540
    },
    "id": "P4dx2WDOVDMD",
    "outputId": "007a36c6-a1a1-47cc-87c7-cac87ce3338c",
    "scrolled": true
   },
   "outputs": [
    {
     "data": {
      "image/png": "[encoded data removed]",
      "text/plain": [
       "<Figure size 432x288 with 1 Axes>"
      ]
     },
     "metadata": {
      "needs_background": "light"
     },
     "output_type": "display_data"
    }
   ],
   "source": [
    "plt.scatter(train_scaled[:,0], train_scaled[:,1])\n",
    "plt.xlabel('length')\n",
    "plt.ylabel('weight')\n",
    "plt.scatter(25,150)\n",
    "\n",
    "plt.show()"
   ]
  },
  {
   "cell_type": "markdown",
   "metadata": {},
   "source": [
    "**테스트 데이터도 스케일링**"
   ]
  },
  {
   "cell_type": "code",
   "execution_count": 76,
   "metadata": {
    "colab": {},
    "colab_type": "code",
    "id": "Kjd2W6ZbVlgG"
   },
   "outputs": [],
   "source": [
    "new = ([25, 150]-mean)/std"
   ]
  },
  {
   "cell_type": "code",
   "execution_count": 78,
   "metadata": {
    "colab": {
     "base_uri": "https://localhost:8080/",
     "height": 279
    },
    "colab_type": "code",
    "executionInfo": {
     "elapsed": 3248,
     "status": "ok",
     "timestamp": 1586946246235,
     "user": {
      "displayName": "Haesun Park",
      "photoUrl": "https://lh3.googleusercontent.com/a-/AOh14GhsWlS7sKQL-9fIkg3FmxpTMz_u-KDSs8y__P1ngQ=s64",
      "userId": "14935388527648823821"
     },
     "user_tz": -540
    },
    "id": "5-Zq-jIMVbV-",
    "outputId": "30faf470-c5a5-40aa-c949-890d73a6e7aa"
   },
   "outputs": [
    {
     "data": {
      "image/png": "[encoded data removed]",
      "text/plain": [
       "<Figure size 432x288 with 1 Axes>"
      ]
     },
     "metadata": {
      "needs_background": "light"
     },
     "output_type": "display_data"
    }
   ],
   "source": [
    "plt.scatter(train_scaled[:,0], train_scaled[:,1])\n",
    "plt.xlabel('length')\n",
    "plt.ylabel('weight')\n",
    "plt.scatter(new[0], new[1], marker='^')\n",
    "\n",
    "plt.show()"
   ]
  },
  {
   "cell_type": "code",
   "execution_count": 79,
   "metadata": {
    "colab": {
     "base_uri": "https://localhost:8080/",
     "height": 69
    },
    "colab_type": "code",
    "executionInfo": {
     "elapsed": 3244,
     "status": "ok",
     "timestamp": 1586946246236,
     "user": {
      "displayName": "Haesun Park",
      "photoUrl": "https://lh3.googleusercontent.com/a-/AOh14GhsWlS7sKQL-9fIkg3FmxpTMz_u-KDSs8y__P1ngQ=s64",
      "userId": "14935388527648823821"
     },
     "user_tz": -540
    },
    "id": "NbsFki8MVtrn",
    "outputId": "32009b15-bd67-49db-a0d4-cd46c4d87e7f"
   },
   "outputs": [
    {
     "data": {
      "text/plain": [
       "KNeighborsClassifier()"
      ]
     },
     "execution_count": 79,
     "metadata": {},
     "output_type": "execute_result"
    }
   ],
   "source": [
    "kn.fit(train_scaled, train_target)"
   ]
  },
  {
   "cell_type": "code",
   "execution_count": 80,
   "metadata": {
    "colab": {},
    "colab_type": "code",
    "id": "5uc_k1nlWnNN"
   },
   "outputs": [],
   "source": [
    "test_scaled = (test_input - mean)/std"
   ]
  },
  {
   "cell_type": "code",
   "execution_count": 81,
   "metadata": {
    "colab": {
     "base_uri": "https://localhost:8080/",
     "height": 35
    },
    "colab_type": "code",
    "executionInfo": {
     "elapsed": 3235,
     "status": "ok",
     "timestamp": 1586946246236,
     "user": {
      "displayName": "Haesun Park",
      "photoUrl": "https://lh3.googleusercontent.com/a-/AOh14GhsWlS7sKQL-9fIkg3FmxpTMz_u-KDSs8y__P1ngQ=s64",
      "userId": "14935388527648823821"
     },
     "user_tz": -540
    },
    "id": "6PfEwPLxWvdz",
    "outputId": "22ed21d8-5dce-48d3-dd0e-ae2b8d941326"
   },
   "outputs": [
    {
     "data": {
      "text/plain": [
       "1.0"
      ]
     },
     "execution_count": 81,
     "metadata": {},
     "output_type": "execute_result"
    }
   ],
   "source": [
    "kn.score(test_scaled, test_target)"
   ]
  },
  {
   "cell_type": "code",
   "execution_count": 82,
   "metadata": {
    "colab": {
     "base_uri": "https://localhost:8080/",
     "height": 35
    },
    "colab_type": "code",
    "executionInfo": {
     "elapsed": 3229,
     "status": "ok",
     "timestamp": 1586946246237,
     "user": {
      "displayName": "Haesun Park",
      "photoUrl": "https://lh3.googleusercontent.com/a-/AOh14GhsWlS7sKQL-9fIkg3FmxpTMz_u-KDSs8y__P1ngQ=s64",
      "userId": "14935388527648823821"
     },
     "user_tz": -540
    },
    "id": "mox3oWCLWzGW",
    "outputId": "a1a28b56-5e4e-4457-fcc1-0ed37100a417"
   },
   "outputs": [
    {
     "data": {
      "text/plain": [
       "array([1.])"
      ]
     },
     "execution_count": 82,
     "metadata": {},
     "output_type": "execute_result"
    }
   ],
   "source": [
    "kn.predict([new])"
   ]
  },
  {
   "cell_type": "code",
   "execution_count": 85,
   "metadata": {
    "colab": {
     "base_uri": "https://localhost:8080/",
     "height": 279
    },
    "colab_type": "code",
    "executionInfo": {
     "elapsed": 3221,
     "status": "ok",
     "timestamp": 1586946246237,
     "user": {
      "displayName": "Haesun Park",
      "photoUrl": "https://lh3.googleusercontent.com/a-/AOh14GhsWlS7sKQL-9fIkg3FmxpTMz_u-KDSs8y__P1ngQ=s64",
      "userId": "14935388527648823821"
     },
     "user_tz": -540
    },
    "id": "bHWAbdefW9W6",
    "outputId": "568827d0-f35e-44ea-c8e8-0ba8a3965d28"
   },
   "outputs": [],
   "source": [
    "dist, idx = kn.kneighbors([new])"
   ]
  },
  {
   "cell_type": "code",
   "execution_count": 86,
   "metadata": {},
   "outputs": [
    {
     "data": {
      "text/plain": [
       "array([[21, 14, 34, 32,  5]])"
      ]
     },
     "execution_count": 86,
     "metadata": {},
     "output_type": "execute_result"
    }
   ],
   "source": [
    "idx"
   ]
  },
  {
   "cell_type": "code",
   "execution_count": 87,
   "metadata": {},
   "outputs": [
    {
     "data": {
      "image/png": "[encoded data removed]",
      "text/plain": [
       "<Figure size 432x288 with 1 Axes>"
      ]
     },
     "metadata": {
      "needs_background": "light"
     },
     "output_type": "display_data"
    }
   ],
   "source": [
    "plt.scatter(train_scaled[:,0], train_scaled[:,1])\n",
    "plt.xlabel('length')\n",
    "plt.ylabel('weight')\n",
    "plt.scatter(new[0], new[1], marker='^')\n",
    "plt.scatter(train_scaled[idx, 0],train_scaled[idx, 1], marker='D')\n",
    "\n",
    "plt.show()"
   ]
  },
  {
   "cell_type": "code",
   "execution_count": null,
   "metadata": {},
   "outputs": [],
   "source": []
  }
 ],
 "metadata": {
  "colab": {
   "authorship_tag": "ABX9TyPNxLB7vUl4gZRQv82Jl/eF",
   "collapsed_sections": [],
   "name": "2-2. 데이터 전처리",
   "provenance": []
  },
  "kernelspec": {
   "display_name": "Python 3 (ipykernel)",
   "language": "python",
   "name": "python3"
  },
  "language_info": {
   "codemirror_mode": {
    "name": "ipython",
    "version": 3
   },
   "file_extension": ".py",
   "mimetype": "text/x-python",
   "name": "python",
   "nbconvert_exporter": "python",
   "pygments_lexer": "ipython3",
   "version": "3.9.9"
  }
 },
 "nbformat": 4,
 "nbformat_minor": 1
}

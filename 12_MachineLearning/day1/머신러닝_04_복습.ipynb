{
 "cells": [
  {
   "cell_type": "code",
   "execution_count": 2,
   "metadata": {},
   "outputs": [],
   "source": [
    "from sklearn.datasets import load_iris"
   ]
  },
  {
   "cell_type": "code",
   "execution_count": 8,
   "metadata": {},
   "outputs": [
    {
     "name": "stdout",
     "output_type": "stream",
     "text": [
      "dict_keys(['data', 'target', 'frame', 'target_names', 'DESCR', 'feature_names', 'filename', 'data_module'])\n"
     ]
    }
   ],
   "source": [
    "iris = load_iris()\n",
    "print(iris.keys())\n",
    "iris_data = iris.data\n",
    "iris_label = iris.target"
   ]
  },
  {
   "cell_type": "code",
   "execution_count": 17,
   "metadata": {},
   "outputs": [],
   "source": [
    "from sklearn.tree import DecisionTreeClassifier\n",
    "from sklearn.model_selection import StratifiedKFold\n",
    "from sklearn.metrics import accuracy_score"
   ]
  },
  {
   "cell_type": "code",
   "execution_count": 20,
   "metadata": {},
   "outputs": [],
   "source": [
    "import numpy as np"
   ]
  },
  {
   "cell_type": "code",
   "execution_count": 13,
   "metadata": {},
   "outputs": [],
   "source": [
    "dt = DecisionTreeClassifier()\n",
    "st_kfold = StratifiedKFold(n_splits=3)"
   ]
  },
  {
   "cell_type": "code",
   "execution_count": 18,
   "metadata": {},
   "outputs": [],
   "source": [
    "cv_acc = []"
   ]
  },
  {
   "cell_type": "code",
   "execution_count": 22,
   "metadata": {},
   "outputs": [
    {
     "name": "stdout",
     "output_type": "stream",
     "text": [
      "{0: 33, 1: 33, 2: 34}\n",
      "{0: 17, 1: 17, 2: 16}\n",
      "0.98\n",
      "{0: 33, 1: 34, 2: 33}\n",
      "{0: 17, 1: 16, 2: 17}\n",
      "0.94\n",
      "{0: 34, 1: 33, 2: 33}\n",
      "{0: 16, 1: 17, 2: 17}\n",
      "0.98\n",
      "0.9666666666666667\n"
     ]
    }
   ],
   "source": [
    "for train_index, test_index in st_kfold.split(iris_data, iris_label):\n",
    "    \n",
    "    train_data = iris_data[train_index]\n",
    "    train_label = iris_label[train_index]\n",
    "\n",
    "    test_data = iris_data[test_index]\n",
    "    test_label = iris_label[test_index]\n",
    "\n",
    "    dt.fit(train_data, train_label)\n",
    "    pred = dt.predict(test_data)\n",
    "    acc = accuracy_score(test_label, pred)\n",
    "\n",
    "    # 각 라벨에 담긴 value 값 세서 딕셔너리에 반환\n",
    "    train_unique, train_counts = np.unique(train_label, return_counts=True)\n",
    "    train_cnt = dict(zip(train_unique, train_counts))\n",
    "    test_unique, test_counts = np.unique(test_label, return_counts=True)\n",
    "    test_cnt = dict(zip(test_unique, test_counts))\n",
    "\n",
    "    print(train_cnt)\n",
    "    print(test_cnt)\n",
    "    print(acc)\n",
    "\n",
    "    cv_acc.append(acc)\n",
    "\n",
    "print(np.mean(cv_acc))"
   ]
  }
 ],
 "metadata": {
  "interpreter": {
   "hash": "08b123dd7174979f42e8d8d99436980ff337f7b8b34ef63d166a44720f231f79"
  },
  "kernelspec": {
   "display_name": "Python 3.9.9 ('mulcam_ds')",
   "language": "python",
   "name": "python3"
  },
  "language_info": {
   "codemirror_mode": {
    "name": "ipython",
    "version": 3
   },
   "file_extension": ".py",
   "mimetype": "text/x-python",
   "name": "python",
   "nbconvert_exporter": "python",
   "pygments_lexer": "ipython3",
   "version": "3.9.9"
  },
  "orig_nbformat": 4
 },
 "nbformat": 4,
 "nbformat_minor": 2
}

{
 "cells": [
  {
   "cell_type": "code",
   "execution_count": 22,
   "metadata": {},
   "outputs": [],
   "source": [
    "import numpy as np"
   ]
  },
  {
   "cell_type": "code",
   "execution_count": 23,
   "metadata": {},
   "outputs": [],
   "source": [
    "a = np.array([[5, 7, -5, 100, 73], [35, 23, 4, 190, 33], [49, 85, 662, 39, 81], [124, -59, 86, 46, 52], [27, 7, 8, 33, -56]])"
   ]
  },
  {
   "cell_type": "code",
   "execution_count": 24,
   "metadata": {},
   "outputs": [
    {
     "name": "stdout",
     "output_type": "stream",
     "text": [
      "[[  5   7   0 100  73]\n",
      " [ 35  23   4  90  33]\n",
      " [ 49  85  62  39  81]\n",
      " [ 24   0  86  46  52]\n",
      " [ 27   7   8  33   0]]\n"
     ]
    }
   ],
   "source": [
    "for i in range(5):\n",
    "    for j in range(5):\n",
    "        if a[i][j] < 0 : a[i][j] = 0\n",
    "        if a[i][j] > 100 : a[i][j] %= 100\n",
    "\n",
    "print(a)"
   ]
  },
  {
   "cell_type": "code",
   "execution_count": 25,
   "metadata": {},
   "outputs": [
    {
     "name": "stdout",
     "output_type": "stream",
     "text": [
      "296\n"
     ]
    }
   ],
   "source": [
    "maxA = 0\n",
    "for i in range(4):\n",
    "    for j in range(4):\n",
    "        sumA = a[i][j] + a[i+1][j] + a[i][j+1] + a[i+1][j+1]\n",
    "        # print(f'i: {i}, j: {j}, sum: {sumA}')\n",
    "        if maxA < sumA : maxA = sumA\n",
    "        # print(f'maxA : {maxA}')\n",
    "\n",
    "print(maxA)"
   ]
  },
  {
   "cell_type": "code",
   "execution_count": 26,
   "metadata": {},
   "outputs": [],
   "source": [
    "def findArraySumMax(array):\n",
    "    \n",
    "    for i in range(5):\n",
    "        for j in range(5):\n",
    "            if array[i][j] < 0 : array[i][j] = 0\n",
    "            if array[i][j] > 100 : array[i][j] %= 100\n",
    "\n",
    "    maxA = 0\n",
    "    for i in range(4):\n",
    "        for j in range(4):\n",
    "            sumA = array[i][j] + array[i+1][j] + array[i][j+1] + array[i+1][j+1]\n",
    "            # print(f'i: {i}, j: {j}, sum: {sumA}')\n",
    "            if maxA < sumA : maxA = sumA\n",
    "            # print(f'maxA : {maxA}')\n",
    "\n",
    "    return maxA"
   ]
  },
  {
   "cell_type": "code",
   "execution_count": 27,
   "metadata": {},
   "outputs": [
    {
     "data": {
      "text/plain": [
       "296"
      ]
     },
     "execution_count": 27,
     "metadata": {},
     "output_type": "execute_result"
    }
   ],
   "source": [
    "a = np.array([[5, 7, -5, 100, 73], [35, 23, 4, 190, 33], [49, 85, 662, 39, 81], [124, -59, 86, 46, 52], [27, 7, 8, 33, -56]])\n",
    "findArraySumMax(a)"
   ]
  }
 ],
 "metadata": {
  "interpreter": {
   "hash": "08b123dd7174979f42e8d8d99436980ff337f7b8b34ef63d166a44720f231f79"
  },
  "kernelspec": {
   "display_name": "Python 3.9.9 64-bit ('mulcam_ds': conda)",
   "language": "python",
   "name": "python3"
  },
  "language_info": {
   "codemirror_mode": {
    "name": "ipython",
    "version": 3
   },
   "file_extension": ".py",
   "mimetype": "text/x-python",
   "name": "python",
   "nbconvert_exporter": "python",
   "pygments_lexer": "ipython3",
   "version": "3.9.9"
  },
  "orig_nbformat": 4
 },
 "nbformat": 4,
 "nbformat_minor": 2
}

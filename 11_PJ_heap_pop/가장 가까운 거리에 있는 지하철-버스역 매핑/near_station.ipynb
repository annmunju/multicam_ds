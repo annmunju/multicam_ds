{
 "cells": [
  {
   "cell_type": "code",
   "execution_count": 1,
   "metadata": {},
   "outputs": [],
   "source": [
    "import pandas as pd\n",
    "# 여러 변수 출력 코드\n",
    "from IPython.core.interactiveshell import InteractiveShell\n",
    "InteractiveShell.ast_node_interactivity=\"all\""
   ]
  },
  {
   "cell_type": "code",
   "execution_count": 2,
   "metadata": {},
   "outputs": [],
   "source": [
    "df_bus = pd.read_csv('bus_station_coordinate.csv', encoding='cp949')"
   ]
  },
  {
   "cell_type": "code",
   "execution_count": 3,
   "metadata": {},
   "outputs": [],
   "source": [
    "df_sub = pd.read_csv('subway_station_coordinate.csv')"
   ]
  },
  {
   "cell_type": "code",
   "execution_count": 18,
   "metadata": {},
   "outputs": [
    {
     "data": {
      "text/html": [
       "<div>\n",
       "<style scoped>\n",
       "    .dataframe tbody tr th:only-of-type {\n",
       "        vertical-align: middle;\n",
       "    }\n",
       "\n",
       "    .dataframe tbody tr th {\n",
       "        vertical-align: top;\n",
       "    }\n",
       "\n",
       "    .dataframe thead th {\n",
       "        text-align: right;\n",
       "    }\n",
       "</style>\n",
       "<table border=\"1\" class=\"dataframe\">\n",
       "  <thead>\n",
       "    <tr style=\"text-align: right;\">\n",
       "      <th></th>\n",
       "      <th>정류장_ID</th>\n",
       "      <th>정류장_명칭</th>\n",
       "      <th>정류장_유형</th>\n",
       "      <th>정류장_번호</th>\n",
       "      <th>위도</th>\n",
       "      <th>경도</th>\n",
       "      <th>버스도착정보안내기_설치_여부</th>\n",
       "    </tr>\n",
       "  </thead>\n",
       "  <tbody>\n",
       "    <tr>\n",
       "      <th>0</th>\n",
       "      <td>717104358</td>\n",
       "      <td>계수사거리(경유)</td>\n",
       "      <td>가상정류장</td>\n",
       "      <td>0.0</td>\n",
       "      <td>126.817473</td>\n",
       "      <td>37.452473</td>\n",
       "      <td>미설치</td>\n",
       "    </tr>\n",
       "    <tr>\n",
       "      <th>1</th>\n",
       "      <td>500000288</td>\n",
       "      <td>행사장입구</td>\n",
       "      <td>마을버스</td>\n",
       "      <td>25965.0</td>\n",
       "      <td>126.691556</td>\n",
       "      <td>37.321742</td>\n",
       "      <td>미설치</td>\n",
       "    </tr>\n",
       "    <tr>\n",
       "      <th>2</th>\n",
       "      <td>500000287</td>\n",
       "      <td>행사장입구</td>\n",
       "      <td>마을버스</td>\n",
       "      <td>25095.0</td>\n",
       "      <td>126.691728</td>\n",
       "      <td>37.321942</td>\n",
       "      <td>미설치</td>\n",
       "    </tr>\n",
       "    <tr>\n",
       "      <th>3</th>\n",
       "      <td>500000286</td>\n",
       "      <td>아남중전기</td>\n",
       "      <td>일반차로</td>\n",
       "      <td>25963.0</td>\n",
       "      <td>126.710485</td>\n",
       "      <td>37.319934</td>\n",
       "      <td>미설치</td>\n",
       "    </tr>\n",
       "    <tr>\n",
       "      <th>4</th>\n",
       "      <td>500000285</td>\n",
       "      <td>3Z</td>\n",
       "      <td>일반차로</td>\n",
       "      <td>25964.0</td>\n",
       "      <td>126.707130</td>\n",
       "      <td>37.320566</td>\n",
       "      <td>미설치</td>\n",
       "    </tr>\n",
       "  </tbody>\n",
       "</table>\n",
       "</div>"
      ],
      "text/plain": [
       "      정류장_ID     정류장_명칭 정류장_유형   정류장_번호          위도         경도 버스도착정보안내기_설치_여부\n",
       "0  717104358  계수사거리(경유)  가상정류장      0.0  126.817473  37.452473           미설치  \n",
       "1  500000288      행사장입구   마을버스  25965.0  126.691556  37.321742           미설치  \n",
       "2  500000287      행사장입구   마을버스  25095.0  126.691728  37.321942           미설치  \n",
       "3  500000286      아남중전기   일반차로  25963.0  126.710485  37.319934           미설치  \n",
       "4  500000285         3Z   일반차로  25964.0  126.707130  37.320566           미설치  "
      ]
     },
     "execution_count": 18,
     "metadata": {},
     "output_type": "execute_result"
    },
    {
     "data": {
      "text/plain": [
       "69942"
      ]
     },
     "execution_count": 18,
     "metadata": {},
     "output_type": "execute_result"
    },
    {
     "data": {
      "text/html": [
       "<div>\n",
       "<style scoped>\n",
       "    .dataframe tbody tr th:only-of-type {\n",
       "        vertical-align: middle;\n",
       "    }\n",
       "\n",
       "    .dataframe tbody tr th {\n",
       "        vertical-align: top;\n",
       "    }\n",
       "\n",
       "    .dataframe thead th {\n",
       "        text-align: right;\n",
       "    }\n",
       "</style>\n",
       "<table border=\"1\" class=\"dataframe\">\n",
       "  <thead>\n",
       "    <tr style=\"text-align: right;\">\n",
       "      <th></th>\n",
       "      <th>line</th>\n",
       "      <th>name</th>\n",
       "      <th>code</th>\n",
       "      <th>lat</th>\n",
       "      <th>lng</th>\n",
       "      <th>distance</th>\n",
       "    </tr>\n",
       "  </thead>\n",
       "  <tbody>\n",
       "    <tr>\n",
       "      <th>0</th>\n",
       "      <td>01호선</td>\n",
       "      <td>녹양</td>\n",
       "      <td>1908.0</td>\n",
       "      <td>37.759380</td>\n",
       "      <td>127.042292</td>\n",
       "      <td>222.0</td>\n",
       "    </tr>\n",
       "    <tr>\n",
       "      <th>1</th>\n",
       "      <td>01호선</td>\n",
       "      <td>남영</td>\n",
       "      <td>1002.0</td>\n",
       "      <td>37.541021</td>\n",
       "      <td>126.971300</td>\n",
       "      <td>215.0</td>\n",
       "    </tr>\n",
       "    <tr>\n",
       "      <th>2</th>\n",
       "      <td>01호선</td>\n",
       "      <td>용산</td>\n",
       "      <td>1003.0</td>\n",
       "      <td>37.529849</td>\n",
       "      <td>126.964561</td>\n",
       "      <td>215.0</td>\n",
       "    </tr>\n",
       "    <tr>\n",
       "      <th>3</th>\n",
       "      <td>01호선</td>\n",
       "      <td>노량진</td>\n",
       "      <td>1004.0</td>\n",
       "      <td>37.514219</td>\n",
       "      <td>126.942454</td>\n",
       "      <td>216.0</td>\n",
       "    </tr>\n",
       "    <tr>\n",
       "      <th>4</th>\n",
       "      <td>01호선</td>\n",
       "      <td>대방</td>\n",
       "      <td>1005.0</td>\n",
       "      <td>37.513342</td>\n",
       "      <td>126.926382</td>\n",
       "      <td>217.0</td>\n",
       "    </tr>\n",
       "  </tbody>\n",
       "</table>\n",
       "</div>"
      ],
      "text/plain": [
       "   line name    code        lat         lng  distance\n",
       "0  01호선   녹양  1908.0  37.759380  127.042292     222.0\n",
       "1  01호선   남영  1002.0  37.541021  126.971300     215.0\n",
       "2  01호선   용산  1003.0  37.529849  126.964561     215.0\n",
       "3  01호선  노량진  1004.0  37.514219  126.942454     216.0\n",
       "4  01호선   대방  1005.0  37.513342  126.926382     217.0"
      ]
     },
     "execution_count": 18,
     "metadata": {},
     "output_type": "execute_result"
    }
   ],
   "source": [
    "df_bus.head()\n",
    "len(df_bus)\n",
    "df_sub.head()"
   ]
  },
  {
   "cell_type": "code",
   "execution_count": 5,
   "metadata": {},
   "outputs": [
    {
     "name": "stdout",
     "output_type": "stream",
     "text": [
      "Requirement already satisfied: haversine in /opt/homebrew/Caskroom/miniforge/base/envs/mulcam_ds/lib/python3.9/site-packages (2.5.1)\n"
     ]
    }
   ],
   "source": [
    "!pip install haversine"
   ]
  },
  {
   "cell_type": "code",
   "execution_count": 6,
   "metadata": {},
   "outputs": [],
   "source": [
    "from haversine import haversine"
   ]
  },
  {
   "cell_type": "code",
   "execution_count": 30,
   "metadata": {},
   "outputs": [
    {
     "data": {
      "text/plain": [
       "(37.486881, 126.947837)"
      ]
     },
     "execution_count": 30,
     "metadata": {},
     "output_type": "execute_result"
    },
    {
     "name": "stderr",
     "output_type": "stream",
     "text": [
      "<ipython-input-30-5d10a807e06f>:7: SettingWithCopyWarning: \n",
      "A value is trying to be set on a copy of a slice from a DataFrame\n",
      "\n",
      "See the caveats in the documentation: https://pandas.pydata.org/pandas-docs/stable/user_guide/indexing.html#returning-a-view-versus-a-copy\n",
      "  df_sub['distance'][i] = haversine(bus_spot, (df_sub['lat'][i], df_sub['lng'][i]))\n"
     ]
    },
    {
     "data": {
      "text/plain": [
       "line              02호선\n",
       "name             서울대입구\n",
       "code             228.0\n",
       "lat          37.481247\n",
       "lng         126.952739\n",
       "distance           0.0\n",
       "Name: 111, dtype: object"
      ]
     },
     "execution_count": 30,
     "metadata": {},
     "output_type": "execute_result"
    }
   ],
   "source": [
    "df_bus_one = df_bus.loc[60000]\n",
    "bus_spot = (df_bus_one['경도'], df_bus_one['위도'])\n",
    "bus_spot\n",
    "\n",
    "df_sub['distance'] = 0\n",
    "for i in range(len(df_sub)):\n",
    "    df_sub['distance'][i] = haversine(bus_spot, (df_sub['lat'][i], df_sub['lng'][i]))\n",
    "\n"
   ]
  },
  {
   "cell_type": "code",
   "execution_count": 31,
   "metadata": {},
   "outputs": [
    {
     "data": {
      "text/plain": [
       "line              02호선\n",
       "name             서울대입구\n",
       "code             228.0\n",
       "lat          37.481247\n",
       "lng         126.952739\n",
       "distance           0.0\n",
       "Name: 111, dtype: object"
      ]
     },
     "execution_count": 31,
     "metadata": {},
     "output_type": "execute_result"
    },
    {
     "data": {
      "text/plain": [
       "정류장_ID              120000149\n",
       "정류장_명칭                   현대시장\n",
       "정류장_유형                   일반차로\n",
       "정류장_번호                21251.0\n",
       "위도                 126.947837\n",
       "경도                  37.486881\n",
       "버스도착정보안내기_설치_여부         설치   \n",
       "line                     02호선\n",
       "name                    서울대입구\n",
       "code                    228.0\n",
       "lat                 37.481247\n",
       "lng                126.952739\n",
       "distance                  0.0\n",
       "dtype: object"
      ]
     },
     "execution_count": 31,
     "metadata": {},
     "output_type": "execute_result"
    }
   ],
   "source": [
    "near_sub = df_sub.loc[df_sub['distance'].idxmin()]\n",
    "near = pd.concat([df_bus_one, near_sub])\n",
    "near_sub\n",
    "near"
   ]
  },
  {
   "cell_type": "code",
   "execution_count": null,
   "metadata": {},
   "outputs": [
    {
     "data": {
      "text/html": [
       "<div>\n",
       "<style scoped>\n",
       "    .dataframe tbody tr th:only-of-type {\n",
       "        vertical-align: middle;\n",
       "    }\n",
       "\n",
       "    .dataframe tbody tr th {\n",
       "        vertical-align: top;\n",
       "    }\n",
       "\n",
       "    .dataframe thead th {\n",
       "        text-align: right;\n",
       "    }\n",
       "</style>\n",
       "<table border=\"1\" class=\"dataframe\">\n",
       "  <thead>\n",
       "    <tr style=\"text-align: right;\">\n",
       "      <th></th>\n",
       "      <th>정류장_ID</th>\n",
       "      <th>정류장_명칭</th>\n",
       "      <th>정류장_유형</th>\n",
       "      <th>정류장_번호</th>\n",
       "      <th>위도</th>\n",
       "      <th>경도</th>\n",
       "      <th>버스도착정보안내기_설치_여부</th>\n",
       "      <th>line</th>\n",
       "      <th>name</th>\n",
       "      <th>code</th>\n",
       "      <th>lat</th>\n",
       "      <th>lng</th>\n",
       "      <th>distance</th>\n",
       "    </tr>\n",
       "  </thead>\n",
       "  <tbody>\n",
       "  </tbody>\n",
       "</table>\n",
       "</div>"
      ],
      "text/plain": [
       "Empty DataFrame\n",
       "Columns: [정류장_ID, 정류장_명칭, 정류장_유형, 정류장_번호, 위도, 경도, 버스도착정보안내기_설치_여부, line, name, code, lat, lng, distance]\n",
       "Index: []"
      ]
     },
     "execution_count": 13,
     "metadata": {},
     "output_type": "execute_result"
    }
   ],
   "source": [
    "new_df = pd.DataFrame(columns=near.keys())\n",
    "new_df"
   ]
  },
  {
   "cell_type": "code",
   "execution_count": 46,
   "metadata": {},
   "outputs": [
    {
     "name": "stdout",
     "output_type": "stream",
     "text": [
      "Collecting tqdm\n",
      "  Downloading tqdm-4.62.3-py2.py3-none-any.whl (76 kB)\n",
      "     |████████████████████████████████| 76 kB 8.1 MB/s             \n",
      "\u001b[?25hInstalling collected packages: tqdm\n",
      "Successfully installed tqdm-4.62.3\n"
     ]
    }
   ],
   "source": [
    "!pip install tqdm"
   ]
  },
  {
   "cell_type": "code",
   "execution_count": 47,
   "metadata": {},
   "outputs": [],
   "source": [
    "import time\n",
    "from tqdm import tqdm"
   ]
  },
  {
   "cell_type": "code",
   "execution_count": 48,
   "metadata": {},
   "outputs": [
    {
     "name": "stderr",
     "output_type": "stream",
     "text": [
      "  0%|          | 0/69942 [00:00<?, ?it/s]<ipython-input-48-269a7340a9b6>:9: SettingWithCopyWarning: \n",
      "A value is trying to be set on a copy of a slice from a DataFrame\n",
      "\n",
      "See the caveats in the documentation: https://pandas.pydata.org/pandas-docs/stable/user_guide/indexing.html#returning-a-view-versus-a-copy\n",
      "  df_sub['distance'][i] = haversine(bus_spot, (df_sub['lat'][i], df_sub['lng'][i])) #모든 구간 거리계산 완료\n",
      "/opt/homebrew/Caskroom/miniforge/base/envs/mulcam_ds/lib/python3.9/site-packages/pandas/core/indexing.py:1732: SettingWithCopyWarning: \n",
      "A value is trying to be set on a copy of a slice from a DataFrame\n",
      "\n",
      "See the caveats in the documentation: https://pandas.pydata.org/pandas-docs/stable/user_guide/indexing.html#returning-a-view-versus-a-copy\n",
      "  self._setitem_single_block(indexer, value, name)\n",
      " 55%|█████▌    | 38578/69942 [17:50<15:00, 34.81it/s]"
     ]
    }
   ],
   "source": [
    "\n",
    "for j in tqdm(range(len(df_bus))):\n",
    "\n",
    "    df_bus_one = df_bus.loc[j]\n",
    "    bus_spot = (df_bus_one['경도'], df_bus_one['위도']) #버스 지점 하나\n",
    "\n",
    "    #거리계산 시작\n",
    "    df_sub['distance'] = 0 #거리 열 추가\n",
    "    for i in range(len(df_sub)):\n",
    "        df_sub['distance'][i] = haversine(bus_spot, (df_sub['lat'][i], df_sub['lng'][i])) #모든 구간 거리계산 완료\n",
    "\n",
    "    try:\n",
    "        #그 중에 가장 가까운 행(내림차순으로 가장 첫번째 행)\n",
    "        near_sub = df_sub.loc[df_sub['distance'].idxmin()]\n",
    "        \n",
    "    except:\n",
    "        near_sub = pd.Series({\"line\":'','name':'','code':'','lat':'','lng':'','distance':''})\n",
    "\n",
    "    near = pd.concat([df_bus_one, near_sub]) #버스 정보 + 가장 가까운 지하철역 정보\n",
    "\n",
    "    #비어있던 new_df에 한줄씩 추가\n",
    "    new_df.loc[j] = near"
   ]
  },
  {
   "cell_type": "code",
   "execution_count": 43,
   "metadata": {},
   "outputs": [
    {
     "data": {
      "text/plain": [
       "line        \n",
       "name        \n",
       "code        \n",
       "lat         \n",
       "lng         \n",
       "distance    \n",
       "dtype: object"
      ]
     },
     "execution_count": 43,
     "metadata": {},
     "output_type": "execute_result"
    }
   ],
   "source": [
    "# line              01호선\n",
    "# name                역곡\n",
    "# code            1803.0\n",
    "# lat          37.485178\n",
    "# lng         126.811502\n",
    "# distance           3.0\n",
    "# Name: 49, dtype: object\n",
    "\n",
    "near_sub = pd.Series({\"line\":'','name':'','code':'','lat':'','lng':'','distance':''})\n",
    "near_sub"
   ]
  },
  {
   "cell_type": "code",
   "execution_count": 33,
   "metadata": {},
   "outputs": [
    {
     "data": {
      "text/html": [
       "<div>\n",
       "<style scoped>\n",
       "    .dataframe tbody tr th:only-of-type {\n",
       "        vertical-align: middle;\n",
       "    }\n",
       "\n",
       "    .dataframe tbody tr th {\n",
       "        vertical-align: top;\n",
       "    }\n",
       "\n",
       "    .dataframe thead th {\n",
       "        text-align: right;\n",
       "    }\n",
       "</style>\n",
       "<table border=\"1\" class=\"dataframe\">\n",
       "  <thead>\n",
       "    <tr style=\"text-align: right;\">\n",
       "      <th></th>\n",
       "      <th>정류장_ID</th>\n",
       "      <th>정류장_명칭</th>\n",
       "      <th>정류장_유형</th>\n",
       "      <th>정류장_번호</th>\n",
       "      <th>위도</th>\n",
       "      <th>경도</th>\n",
       "      <th>버스도착정보안내기_설치_여부</th>\n",
       "      <th>line</th>\n",
       "      <th>name</th>\n",
       "      <th>code</th>\n",
       "      <th>lat</th>\n",
       "      <th>lng</th>\n",
       "      <th>distance</th>\n",
       "    </tr>\n",
       "  </thead>\n",
       "  <tbody>\n",
       "    <tr>\n",
       "      <th>0</th>\n",
       "      <td>717104358</td>\n",
       "      <td>계수사거리(경유)</td>\n",
       "      <td>가상정류장</td>\n",
       "      <td>0.0</td>\n",
       "      <td>126.817473</td>\n",
       "      <td>37.452473</td>\n",
       "      <td>미설치</td>\n",
       "      <td>01호선</td>\n",
       "      <td>녹양</td>\n",
       "      <td>1908.0</td>\n",
       "      <td>37.759380</td>\n",
       "      <td>127.042292</td>\n",
       "      <td>39.0</td>\n",
       "    </tr>\n",
       "    <tr>\n",
       "      <th>1</th>\n",
       "      <td>500000288</td>\n",
       "      <td>행사장입구</td>\n",
       "      <td>마을버스</td>\n",
       "      <td>25965.0</td>\n",
       "      <td>126.691556</td>\n",
       "      <td>37.321742</td>\n",
       "      <td>미설치</td>\n",
       "      <td>01호선</td>\n",
       "      <td>녹양</td>\n",
       "      <td>1908.0</td>\n",
       "      <td>37.759380</td>\n",
       "      <td>127.042292</td>\n",
       "      <td>57.0</td>\n",
       "    </tr>\n",
       "    <tr>\n",
       "      <th>2</th>\n",
       "      <td>500000287</td>\n",
       "      <td>행사장입구</td>\n",
       "      <td>마을버스</td>\n",
       "      <td>25095.0</td>\n",
       "      <td>126.691728</td>\n",
       "      <td>37.321942</td>\n",
       "      <td>미설치</td>\n",
       "      <td>01호선</td>\n",
       "      <td>녹양</td>\n",
       "      <td>1908.0</td>\n",
       "      <td>37.759380</td>\n",
       "      <td>127.042292</td>\n",
       "      <td>57.0</td>\n",
       "    </tr>\n",
       "    <tr>\n",
       "      <th>3</th>\n",
       "      <td>500000286</td>\n",
       "      <td>아남중전기</td>\n",
       "      <td>일반차로</td>\n",
       "      <td>25963.0</td>\n",
       "      <td>126.710485</td>\n",
       "      <td>37.319934</td>\n",
       "      <td>미설치</td>\n",
       "      <td>01호선</td>\n",
       "      <td>녹양</td>\n",
       "      <td>1908.0</td>\n",
       "      <td>37.759380</td>\n",
       "      <td>127.042292</td>\n",
       "      <td>56.0</td>\n",
       "    </tr>\n",
       "    <tr>\n",
       "      <th>4</th>\n",
       "      <td>500000285</td>\n",
       "      <td>3Z</td>\n",
       "      <td>일반차로</td>\n",
       "      <td>25964.0</td>\n",
       "      <td>126.707130</td>\n",
       "      <td>37.320566</td>\n",
       "      <td>미설치</td>\n",
       "      <td>01호선</td>\n",
       "      <td>녹양</td>\n",
       "      <td>1908.0</td>\n",
       "      <td>37.759380</td>\n",
       "      <td>127.042292</td>\n",
       "      <td>57.0</td>\n",
       "    </tr>\n",
       "    <tr>\n",
       "      <th>...</th>\n",
       "      <td>...</td>\n",
       "      <td>...</td>\n",
       "      <td>...</td>\n",
       "      <td>...</td>\n",
       "      <td>...</td>\n",
       "      <td>...</td>\n",
       "      <td>...</td>\n",
       "      <td>...</td>\n",
       "      <td>...</td>\n",
       "      <td>...</td>\n",
       "      <td>...</td>\n",
       "      <td>...</td>\n",
       "      <td>...</td>\n",
       "    </tr>\n",
       "    <tr>\n",
       "      <th>63295</th>\n",
       "      <td>114000112</td>\n",
       "      <td>신곡시장.금빛새마을금고</td>\n",
       "      <td>일반차로</td>\n",
       "      <td>15215.0</td>\n",
       "      <td>126.843743</td>\n",
       "      <td>37.519643</td>\n",
       "      <td>설치</td>\n",
       "      <td>02호선</td>\n",
       "      <td>신정네거리</td>\n",
       "      <td>249.0</td>\n",
       "      <td>37.520074</td>\n",
       "      <td>126.852912</td>\n",
       "      <td>0.0</td>\n",
       "    </tr>\n",
       "    <tr>\n",
       "      <th>63296</th>\n",
       "      <td>114000111</td>\n",
       "      <td>동방아파트.신월종합사회복지관</td>\n",
       "      <td>일반차로</td>\n",
       "      <td>15214.0</td>\n",
       "      <td>126.846290</td>\n",
       "      <td>37.521426</td>\n",
       "      <td>미설치</td>\n",
       "      <td>02호선</td>\n",
       "      <td>신정네거리</td>\n",
       "      <td>249.0</td>\n",
       "      <td>37.520074</td>\n",
       "      <td>126.852912</td>\n",
       "      <td>0.0</td>\n",
       "    </tr>\n",
       "    <tr>\n",
       "      <th>63297</th>\n",
       "      <td>114000110</td>\n",
       "      <td>동방아파트</td>\n",
       "      <td>일반차로</td>\n",
       "      <td>15213.0</td>\n",
       "      <td>126.846325</td>\n",
       "      <td>37.521882</td>\n",
       "      <td>미설치</td>\n",
       "      <td>02호선</td>\n",
       "      <td>신정네거리</td>\n",
       "      <td>249.0</td>\n",
       "      <td>37.520074</td>\n",
       "      <td>126.852912</td>\n",
       "      <td>0.0</td>\n",
       "    </tr>\n",
       "    <tr>\n",
       "      <th>63298</th>\n",
       "      <td>114000109</td>\n",
       "      <td>신정네거리.신정119안전센터</td>\n",
       "      <td>일반차로</td>\n",
       "      <td>15212.0</td>\n",
       "      <td>126.850730</td>\n",
       "      <td>37.522023</td>\n",
       "      <td>설치</td>\n",
       "      <td>02호선</td>\n",
       "      <td>신정네거리</td>\n",
       "      <td>249.0</td>\n",
       "      <td>37.520074</td>\n",
       "      <td>126.852912</td>\n",
       "      <td>0.0</td>\n",
       "    </tr>\n",
       "    <tr>\n",
       "      <th>63299</th>\n",
       "      <td>114000108</td>\n",
       "      <td>신정네거리해누리분수광장</td>\n",
       "      <td>일반차로</td>\n",
       "      <td>15211.0</td>\n",
       "      <td>126.851514</td>\n",
       "      <td>37.521886</td>\n",
       "      <td>미설치</td>\n",
       "      <td>02호선</td>\n",
       "      <td>신정네거리</td>\n",
       "      <td>249.0</td>\n",
       "      <td>37.520074</td>\n",
       "      <td>126.852912</td>\n",
       "      <td>0.0</td>\n",
       "    </tr>\n",
       "  </tbody>\n",
       "</table>\n",
       "<p>400 rows × 13 columns</p>\n",
       "</div>"
      ],
      "text/plain": [
       "          정류장_ID           정류장_명칭 정류장_유형   정류장_번호          위도         경도  \\\n",
       "0      717104358        계수사거리(경유)  가상정류장      0.0  126.817473  37.452473   \n",
       "1      500000288            행사장입구   마을버스  25965.0  126.691556  37.321742   \n",
       "2      500000287            행사장입구   마을버스  25095.0  126.691728  37.321942   \n",
       "3      500000286            아남중전기   일반차로  25963.0  126.710485  37.319934   \n",
       "4      500000285               3Z   일반차로  25964.0  126.707130  37.320566   \n",
       "...          ...              ...    ...      ...         ...        ...   \n",
       "63295  114000112     신곡시장.금빛새마을금고   일반차로  15215.0  126.843743  37.519643   \n",
       "63296  114000111  동방아파트.신월종합사회복지관   일반차로  15214.0  126.846290  37.521426   \n",
       "63297  114000110            동방아파트   일반차로  15213.0  126.846325  37.521882   \n",
       "63298  114000109  신정네거리.신정119안전센터   일반차로  15212.0  126.850730  37.522023   \n",
       "63299  114000108     신정네거리해누리분수광장   일반차로  15211.0  126.851514  37.521886   \n",
       "\n",
       "      버스도착정보안내기_설치_여부  line   name    code        lat         lng  distance  \n",
       "0               미설치    01호선     녹양  1908.0  37.759380  127.042292      39.0  \n",
       "1               미설치    01호선     녹양  1908.0  37.759380  127.042292      57.0  \n",
       "2               미설치    01호선     녹양  1908.0  37.759380  127.042292      57.0  \n",
       "3               미설치    01호선     녹양  1908.0  37.759380  127.042292      56.0  \n",
       "4               미설치    01호선     녹양  1908.0  37.759380  127.042292      57.0  \n",
       "...               ...   ...    ...     ...        ...         ...       ...  \n",
       "63295           설치     02호선  신정네거리   249.0  37.520074  126.852912       0.0  \n",
       "63296           미설치    02호선  신정네거리   249.0  37.520074  126.852912       0.0  \n",
       "63297           미설치    02호선  신정네거리   249.0  37.520074  126.852912       0.0  \n",
       "63298           설치     02호선  신정네거리   249.0  37.520074  126.852912       0.0  \n",
       "63299           미설치    02호선  신정네거리   249.0  37.520074  126.852912       0.0  \n",
       "\n",
       "[400 rows x 13 columns]"
      ]
     },
     "execution_count": 33,
     "metadata": {},
     "output_type": "execute_result"
    }
   ],
   "source": [
    "new_df"
   ]
  },
  {
   "cell_type": "code",
   "execution_count": null,
   "metadata": {},
   "outputs": [],
   "source": [
    "near = pd.Series({\"\"})"
   ]
  },
  {
   "cell_type": "code",
   "execution_count": null,
   "metadata": {},
   "outputs": [],
   "source": [
    "new_df.to_csv('거리계산완료.csv')"
   ]
  }
 ],
 "metadata": {
  "interpreter": {
   "hash": "08b123dd7174979f42e8d8d99436980ff337f7b8b34ef63d166a44720f231f79"
  },
  "kernelspec": {
   "display_name": "Python 3.9.9 ('mulcam_ds')",
   "language": "python",
   "name": "python3"
  },
  "language_info": {
   "codemirror_mode": {
    "name": "ipython",
    "version": 3
   },
   "file_extension": ".py",
   "mimetype": "text/x-python",
   "name": "python",
   "nbconvert_exporter": "python",
   "pygments_lexer": "ipython3",
   "version": "3.9.9"
  },
  "orig_nbformat": 4
 },
 "nbformat": 4,
 "nbformat_minor": 2
}

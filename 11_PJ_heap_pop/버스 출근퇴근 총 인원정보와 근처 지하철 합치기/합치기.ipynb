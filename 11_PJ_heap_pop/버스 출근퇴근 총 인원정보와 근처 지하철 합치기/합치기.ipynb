{
 "cells": [
  {
   "cell_type": "code",
   "execution_count": 2,
   "metadata": {},
   "outputs": [],
   "source": [
    "import pandas as pd"
   ]
  },
  {
   "cell_type": "code",
   "execution_count": 9,
   "metadata": {},
   "outputs": [
    {
     "name": "stderr",
     "output_type": "stream",
     "text": [
      "/var/folders/hr/y8znbyhd4058w4d5l14qqsv80000gn/T/ipykernel_35751/1924582625.py:1: DtypeWarning: Columns (4) have mixed types. Specify dtype option on import or set low_memory=False.\n",
      "  df_출퇴근 = pd.read_csv('버스_출근퇴근_총_인원정보_2101수정완료.csv', index_col=0)\n"
     ]
    },
    {
     "data": {
      "text/html": [
       "<div>\n",
       "<style scoped>\n",
       "    .dataframe tbody tr th:only-of-type {\n",
       "        vertical-align: middle;\n",
       "    }\n",
       "\n",
       "    .dataframe tbody tr th {\n",
       "        vertical-align: top;\n",
       "    }\n",
       "\n",
       "    .dataframe thead th {\n",
       "        text-align: right;\n",
       "    }\n",
       "</style>\n",
       "<table border=\"1\" class=\"dataframe\">\n",
       "  <thead>\n",
       "    <tr style=\"text-align: right;\">\n",
       "      <th></th>\n",
       "      <th>정류장_ID</th>\n",
       "      <th>line</th>\n",
       "      <th>name</th>\n",
       "      <th>lat</th>\n",
       "      <th>lng</th>\n",
       "      <th>distance</th>\n",
       "    </tr>\n",
       "  </thead>\n",
       "  <tbody>\n",
       "    <tr>\n",
       "      <th>0</th>\n",
       "      <td>500000286</td>\n",
       "      <td>04호선</td>\n",
       "      <td>정왕</td>\n",
       "      <td>37.351735</td>\n",
       "      <td>126.742989</td>\n",
       "      <td>4.556560</td>\n",
       "    </tr>\n",
       "    <tr>\n",
       "      <th>1</th>\n",
       "      <td>500000285</td>\n",
       "      <td>04호선</td>\n",
       "      <td>정왕</td>\n",
       "      <td>37.351735</td>\n",
       "      <td>126.742989</td>\n",
       "      <td>4.697111</td>\n",
       "    </tr>\n",
       "  </tbody>\n",
       "</table>\n",
       "</div>"
      ],
      "text/plain": [
       "      정류장_ID  line name        lat         lng  distance\n",
       "0  500000286  04호선   정왕  37.351735  126.742989  4.556560\n",
       "1  500000285  04호선   정왕  37.351735  126.742989  4.697111"
      ]
     },
     "execution_count": 9,
     "metadata": {},
     "output_type": "execute_result"
    }
   ],
   "source": [
    "df_출퇴근 = pd.read_csv('버스_출근퇴근_총_인원정보_2101수정완료.csv', index_col=0)\n",
    "df_지하철 = pd.read_csv('버스_근처_지하철(최종).csv', usecols=(1,8,9,10,11,12))\n",
    "# df_출퇴근\n",
    "df_지하철.head(2)"
   ]
  },
  {
   "cell_type": "code",
   "execution_count": 10,
   "metadata": {},
   "outputs": [
    {
     "data": {
      "text/plain": [
       "Index(['사용년월', '노선번호', '노선명', '표준버스정류장ID', '역명', '경도', '위도', '출근', '퇴근',\n",
       "       '총 이동량'],\n",
       "      dtype='object')"
      ]
     },
     "execution_count": 10,
     "metadata": {},
     "output_type": "execute_result"
    }
   ],
   "source": [
    "df_출퇴근.keys()"
   ]
  },
  {
   "cell_type": "code",
   "execution_count": 11,
   "metadata": {},
   "outputs": [
    {
     "data": {
      "text/plain": [
       "1834738"
      ]
     },
     "execution_count": 11,
     "metadata": {},
     "output_type": "execute_result"
    }
   ],
   "source": [
    "len(df_출퇴근)"
   ]
  },
  {
   "cell_type": "code",
   "execution_count": 12,
   "metadata": {},
   "outputs": [
    {
     "data": {
      "text/plain": [
       "Index(['정류장_ID', 'line', 'name', 'lat', 'lng', 'distance'], dtype='object')"
      ]
     },
     "execution_count": 12,
     "metadata": {},
     "output_type": "execute_result"
    }
   ],
   "source": [
    "df_지하철.keys()"
   ]
  },
  {
   "cell_type": "code",
   "execution_count": 13,
   "metadata": {},
   "outputs": [],
   "source": [
    "df_지하철.rename(columns={\"정류장_ID\":\"표준버스정류장ID\"}, inplace=True)"
   ]
  },
  {
   "cell_type": "code",
   "execution_count": 17,
   "metadata": {},
   "outputs": [],
   "source": [
    "df_near_subway = pd.merge(df_출퇴근,df_지하철)\n",
    "df_near_subway\n",
    "df_near_subway.to_csv(\"버스_출근퇴근_총_인원정보와_근처_지하철_2101수정완료.csv\") # 참고로 마을버스 제외, 근처 지하철 정보 없는 경우 제외됨"
   ]
  },
  {
   "cell_type": "code",
   "execution_count": 15,
   "metadata": {},
   "outputs": [
    {
     "data": {
      "text/plain": [
       "Index(['사용년월', '노선번호', '노선명', '표준버스정류장ID', '역명', '경도', '위도', '출근', '퇴근',\n",
       "       '총 이동량', 'line', 'name', 'lat', 'lng', 'distance'],\n",
       "      dtype='object')"
      ]
     },
     "execution_count": 15,
     "metadata": {},
     "output_type": "execute_result"
    }
   ],
   "source": [
    "df_near_subway.keys()"
   ]
  },
  {
   "cell_type": "code",
   "execution_count": 16,
   "metadata": {},
   "outputs": [
    {
     "data": {
      "text/plain": [
       "1490531"
      ]
     },
     "execution_count": 16,
     "metadata": {},
     "output_type": "execute_result"
    }
   ],
   "source": [
    "len(df_near_subway)"
   ]
  },
  {
   "cell_type": "code",
   "execution_count": 18,
   "metadata": {},
   "outputs": [
    {
     "data": {
      "text/html": [
       "<div>\n",
       "<style scoped>\n",
       "    .dataframe tbody tr th:only-of-type {\n",
       "        vertical-align: middle;\n",
       "    }\n",
       "\n",
       "    .dataframe tbody tr th {\n",
       "        vertical-align: top;\n",
       "    }\n",
       "\n",
       "    .dataframe thead th {\n",
       "        text-align: right;\n",
       "    }\n",
       "</style>\n",
       "<table border=\"1\" class=\"dataframe\">\n",
       "  <thead>\n",
       "    <tr style=\"text-align: right;\">\n",
       "      <th></th>\n",
       "      <th>사용년월</th>\n",
       "      <th>노선번호</th>\n",
       "      <th>노선명</th>\n",
       "      <th>표준버스정류장ID</th>\n",
       "      <th>역명</th>\n",
       "      <th>경도</th>\n",
       "      <th>위도</th>\n",
       "      <th>출근</th>\n",
       "      <th>퇴근</th>\n",
       "      <th>총 이동량</th>\n",
       "      <th>line</th>\n",
       "      <th>name</th>\n",
       "      <th>lat</th>\n",
       "      <th>lng</th>\n",
       "      <th>distance</th>\n",
       "    </tr>\n",
       "  </thead>\n",
       "  <tbody>\n",
       "    <tr>\n",
       "      <th>0</th>\n",
       "      <td>201801</td>\n",
       "      <td>100</td>\n",
       "      <td>100번(하계동~용산구청)</td>\n",
       "      <td>100000002</td>\n",
       "      <td>창경궁.서울대학교병원</td>\n",
       "      <td>126.996566</td>\n",
       "      <td>37.579183</td>\n",
       "      <td>2224</td>\n",
       "      <td>384</td>\n",
       "      <td>2608</td>\n",
       "      <td>04호선</td>\n",
       "      <td>혜화</td>\n",
       "      <td>37.582336</td>\n",
       "      <td>127.001844</td>\n",
       "      <td>0.582445</td>\n",
       "    </tr>\n",
       "    <tr>\n",
       "      <th>1</th>\n",
       "      <td>201801</td>\n",
       "      <td>710</td>\n",
       "      <td>710번(상암차고지~수유역)</td>\n",
       "      <td>100000002</td>\n",
       "      <td>창경궁.서울대학교병원</td>\n",
       "      <td>126.996566</td>\n",
       "      <td>37.579183</td>\n",
       "      <td>1278</td>\n",
       "      <td>781</td>\n",
       "      <td>2059</td>\n",
       "      <td>04호선</td>\n",
       "      <td>혜화</td>\n",
       "      <td>37.582336</td>\n",
       "      <td>127.001844</td>\n",
       "      <td>0.582445</td>\n",
       "    </tr>\n",
       "    <tr>\n",
       "      <th>2</th>\n",
       "      <td>201801</td>\n",
       "      <td>160</td>\n",
       "      <td>160번(도봉산~온수동)</td>\n",
       "      <td>100000002</td>\n",
       "      <td>창경궁.서울대학교병원</td>\n",
       "      <td>126.996566</td>\n",
       "      <td>37.579183</td>\n",
       "      <td>1440</td>\n",
       "      <td>1265</td>\n",
       "      <td>2705</td>\n",
       "      <td>04호선</td>\n",
       "      <td>혜화</td>\n",
       "      <td>37.582336</td>\n",
       "      <td>127.001844</td>\n",
       "      <td>0.582445</td>\n",
       "    </tr>\n",
       "    <tr>\n",
       "      <th>3</th>\n",
       "      <td>201801</td>\n",
       "      <td>162</td>\n",
       "      <td>162번(정릉~여의도)</td>\n",
       "      <td>100000002</td>\n",
       "      <td>창경궁.서울대학교병원</td>\n",
       "      <td>126.996566</td>\n",
       "      <td>37.579183</td>\n",
       "      <td>2205</td>\n",
       "      <td>986</td>\n",
       "      <td>3191</td>\n",
       "      <td>04호선</td>\n",
       "      <td>혜화</td>\n",
       "      <td>37.582336</td>\n",
       "      <td>127.001844</td>\n",
       "      <td>0.582445</td>\n",
       "    </tr>\n",
       "    <tr>\n",
       "      <th>4</th>\n",
       "      <td>201801</td>\n",
       "      <td>151</td>\n",
       "      <td>151번(우이동~중앙대)</td>\n",
       "      <td>100000002</td>\n",
       "      <td>창경궁.서울대학교병원</td>\n",
       "      <td>126.996566</td>\n",
       "      <td>37.579183</td>\n",
       "      <td>1790</td>\n",
       "      <td>1352</td>\n",
       "      <td>3142</td>\n",
       "      <td>04호선</td>\n",
       "      <td>혜화</td>\n",
       "      <td>37.582336</td>\n",
       "      <td>127.001844</td>\n",
       "      <td>0.582445</td>\n",
       "    </tr>\n",
       "    <tr>\n",
       "      <th>...</th>\n",
       "      <td>...</td>\n",
       "      <td>...</td>\n",
       "      <td>...</td>\n",
       "      <td>...</td>\n",
       "      <td>...</td>\n",
       "      <td>...</td>\n",
       "      <td>...</td>\n",
       "      <td>...</td>\n",
       "      <td>...</td>\n",
       "      <td>...</td>\n",
       "      <td>...</td>\n",
       "      <td>...</td>\n",
       "      <td>...</td>\n",
       "      <td>...</td>\n",
       "      <td>...</td>\n",
       "    </tr>\n",
       "    <tr>\n",
       "      <th>1490526</th>\n",
       "      <td>202112</td>\n",
       "      <td>1017</td>\n",
       "      <td>1017번(월계동~상왕십리)</td>\n",
       "      <td>105000559</td>\n",
       "      <td>e편한세상청계센트럴포레아파트</td>\n",
       "      <td>127.030252</td>\n",
       "      <td>37.570682</td>\n",
       "      <td>324</td>\n",
       "      <td>122</td>\n",
       "      <td>446</td>\n",
       "      <td>01호선</td>\n",
       "      <td>신설동</td>\n",
       "      <td>37.575297</td>\n",
       "      <td>127.025087</td>\n",
       "      <td>0.685960</td>\n",
       "    </tr>\n",
       "    <tr>\n",
       "      <th>1490527</th>\n",
       "      <td>202112</td>\n",
       "      <td>241</td>\n",
       "      <td>241번(중랑차고지~논현역)</td>\n",
       "      <td>105000559</td>\n",
       "      <td>e편한세상청계센트럴포레아파트</td>\n",
       "      <td>127.030252</td>\n",
       "      <td>37.570682</td>\n",
       "      <td>603</td>\n",
       "      <td>111</td>\n",
       "      <td>714</td>\n",
       "      <td>01호선</td>\n",
       "      <td>신설동</td>\n",
       "      <td>37.575297</td>\n",
       "      <td>127.025087</td>\n",
       "      <td>0.685960</td>\n",
       "    </tr>\n",
       "    <tr>\n",
       "      <th>1490528</th>\n",
       "      <td>202112</td>\n",
       "      <td>202</td>\n",
       "      <td>202번(불암동~후암동)</td>\n",
       "      <td>105000559</td>\n",
       "      <td>e편한세상청계센트럴포레아파트</td>\n",
       "      <td>127.030252</td>\n",
       "      <td>37.570682</td>\n",
       "      <td>753</td>\n",
       "      <td>692</td>\n",
       "      <td>1445</td>\n",
       "      <td>01호선</td>\n",
       "      <td>신설동</td>\n",
       "      <td>37.575297</td>\n",
       "      <td>127.025087</td>\n",
       "      <td>0.685960</td>\n",
       "    </tr>\n",
       "    <tr>\n",
       "      <th>1490529</th>\n",
       "      <td>202112</td>\n",
       "      <td>7728</td>\n",
       "      <td>7728번(대화동~신촌)</td>\n",
       "      <td>218000361</td>\n",
       "      <td>DMC두산위브더퍼스트</td>\n",
       "      <td>126.898315</td>\n",
       "      <td>37.609871</td>\n",
       "      <td>607</td>\n",
       "      <td>525</td>\n",
       "      <td>1132</td>\n",
       "      <td>06호선</td>\n",
       "      <td>구산</td>\n",
       "      <td>37.611377</td>\n",
       "      <td>126.917270</td>\n",
       "      <td>1.678049</td>\n",
       "    </tr>\n",
       "    <tr>\n",
       "      <th>1490530</th>\n",
       "      <td>202112</td>\n",
       "      <td>7728</td>\n",
       "      <td>7728번(대화동~신촌)</td>\n",
       "      <td>218000360</td>\n",
       "      <td>DMC두산위브더퍼스트</td>\n",
       "      <td>126.898568</td>\n",
       "      <td>37.610063</td>\n",
       "      <td>154</td>\n",
       "      <td>63</td>\n",
       "      <td>217</td>\n",
       "      <td>06호선</td>\n",
       "      <td>구산</td>\n",
       "      <td>37.611377</td>\n",
       "      <td>126.917270</td>\n",
       "      <td>1.653851</td>\n",
       "    </tr>\n",
       "  </tbody>\n",
       "</table>\n",
       "<p>1490531 rows × 15 columns</p>\n",
       "</div>"
      ],
      "text/plain": [
       "           사용년월  노선번호              노선명  표준버스정류장ID               역명  \\\n",
       "0        201801   100   100번(하계동~용산구청)  100000002      창경궁.서울대학교병원   \n",
       "1        201801   710  710번(상암차고지~수유역)  100000002      창경궁.서울대학교병원   \n",
       "2        201801   160    160번(도봉산~온수동)  100000002      창경궁.서울대학교병원   \n",
       "3        201801   162     162번(정릉~여의도)  100000002      창경궁.서울대학교병원   \n",
       "4        201801   151    151번(우이동~중앙대)  100000002      창경궁.서울대학교병원   \n",
       "...         ...   ...              ...        ...              ...   \n",
       "1490526  202112  1017  1017번(월계동~상왕십리)  105000559  e편한세상청계센트럴포레아파트   \n",
       "1490527  202112   241  241번(중랑차고지~논현역)  105000559  e편한세상청계센트럴포레아파트   \n",
       "1490528  202112   202    202번(불암동~후암동)  105000559  e편한세상청계센트럴포레아파트   \n",
       "1490529  202112  7728    7728번(대화동~신촌)  218000361      DMC두산위브더퍼스트   \n",
       "1490530  202112  7728    7728번(대화동~신촌)  218000360      DMC두산위브더퍼스트   \n",
       "\n",
       "                 경도         위도    출근    퇴근  총 이동량  line name        lat  \\\n",
       "0        126.996566  37.579183  2224   384   2608  04호선   혜화  37.582336   \n",
       "1        126.996566  37.579183  1278   781   2059  04호선   혜화  37.582336   \n",
       "2        126.996566  37.579183  1440  1265   2705  04호선   혜화  37.582336   \n",
       "3        126.996566  37.579183  2205   986   3191  04호선   혜화  37.582336   \n",
       "4        126.996566  37.579183  1790  1352   3142  04호선   혜화  37.582336   \n",
       "...             ...        ...   ...   ...    ...   ...  ...        ...   \n",
       "1490526  127.030252  37.570682   324   122    446  01호선  신설동  37.575297   \n",
       "1490527  127.030252  37.570682   603   111    714  01호선  신설동  37.575297   \n",
       "1490528  127.030252  37.570682   753   692   1445  01호선  신설동  37.575297   \n",
       "1490529  126.898315  37.609871   607   525   1132  06호선   구산  37.611377   \n",
       "1490530  126.898568  37.610063   154    63    217  06호선   구산  37.611377   \n",
       "\n",
       "                lng  distance  \n",
       "0        127.001844  0.582445  \n",
       "1        127.001844  0.582445  \n",
       "2        127.001844  0.582445  \n",
       "3        127.001844  0.582445  \n",
       "4        127.001844  0.582445  \n",
       "...             ...       ...  \n",
       "1490526  127.025087  0.685960  \n",
       "1490527  127.025087  0.685960  \n",
       "1490528  127.025087  0.685960  \n",
       "1490529  126.917270  1.678049  \n",
       "1490530  126.917270  1.653851  \n",
       "\n",
       "[1490531 rows x 15 columns]"
      ]
     },
     "execution_count": 18,
     "metadata": {},
     "output_type": "execute_result"
    }
   ],
   "source": [
    "df_near_subway"
   ]
  },
  {
   "cell_type": "code",
   "execution_count": null,
   "metadata": {},
   "outputs": [],
   "source": []
  }
 ],
 "metadata": {
  "interpreter": {
   "hash": "ecab3b44ec85b3fc152ce43053029da2d7fea401295eddadd715c90b258d02c3"
  },
  "kernelspec": {
   "display_name": "Python 3.9.0 ('multi_crawling')",
   "language": "python",
   "name": "python3"
  },
  "language_info": {
   "codemirror_mode": {
    "name": "ipython",
    "version": 3
   },
   "file_extension": ".py",
   "mimetype": "text/x-python",
   "name": "python",
   "nbconvert_exporter": "python",
   "pygments_lexer": "ipython3",
   "version": "3.9.0"
  },
  "orig_nbformat": 4
 },
 "nbformat": 4,
 "nbformat_minor": 2
}

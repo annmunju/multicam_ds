{
 "cells": [
  {
   "cell_type": "code",
   "execution_count": 1,
   "id": "a5c28340",
   "metadata": {},
   "outputs": [],
   "source": [
    "import numpy as np"
   ]
  },
  {
   "cell_type": "code",
   "execution_count": 2,
   "id": "51f2327c",
   "metadata": {},
   "outputs": [
    {
     "data": {
      "text/plain": [
       "'1.22.0'"
      ]
     },
     "execution_count": 2,
     "metadata": {},
     "output_type": "execute_result"
    }
   ],
   "source": [
    "np.__version__"
   ]
  },
  {
   "cell_type": "markdown",
   "id": "ed5f1fe4",
   "metadata": {},
   "source": [
    "## array(object, dtype, ...)\n",
    "\n",
    "형식 : arr_obj = np.array(seq_data)"
   ]
  },
  {
   "cell_type": "code",
   "execution_count": 4,
   "id": "e036d7ac",
   "metadata": {},
   "outputs": [
    {
     "data": {
      "text/plain": [
       "[1, 2, 3]"
      ]
     },
     "execution_count": 4,
     "metadata": {},
     "output_type": "execute_result"
    }
   ],
   "source": [
    "data1 = [1,2,3]\n",
    "data1"
   ]
  },
  {
   "cell_type": "code",
   "execution_count": 5,
   "id": "b339987f",
   "metadata": {},
   "outputs": [
    {
     "data": {
      "text/plain": [
       "[1, 2, 3, 3, 5, 5]"
      ]
     },
     "execution_count": 5,
     "metadata": {},
     "output_type": "execute_result"
    }
   ],
   "source": [
    "data2 = [1, 2, 3, 3, 5, 5]\n",
    "data2"
   ]
  },
  {
   "cell_type": "code",
   "execution_count": 7,
   "id": "8e632f91",
   "metadata": {},
   "outputs": [
    {
     "data": {
      "text/plain": [
       "array([1, 2, 3])"
      ]
     },
     "execution_count": 7,
     "metadata": {},
     "output_type": "execute_result"
    }
   ],
   "source": [
    "arr1 = np.array(data1)\n",
    "arr1"
   ]
  },
  {
   "cell_type": "markdown",
   "id": "d139271f",
   "metadata": {},
   "source": [
    "### array 크기 확인 : shape"
   ]
  },
  {
   "cell_type": "code",
   "execution_count": 8,
   "id": "988a0225",
   "metadata": {},
   "outputs": [
    {
     "data": {
      "text/plain": [
       "(3,)"
      ]
     },
     "execution_count": 8,
     "metadata": {},
     "output_type": "execute_result"
    }
   ],
   "source": [
    "arr1.shape"
   ]
  },
  {
   "cell_type": "code",
   "execution_count": 9,
   "id": "72c1438d",
   "metadata": {},
   "outputs": [
    {
     "data": {
      "text/plain": [
       "array([1, 2, 3, 4, 5])"
      ]
     },
     "execution_count": 9,
     "metadata": {},
     "output_type": "execute_result"
    }
   ],
   "source": [
    "arr2 = np.array([1,2,3,4,5])\n",
    "arr2"
   ]
  },
  {
   "cell_type": "code",
   "execution_count": 10,
   "id": "1e7d0ae3",
   "metadata": {},
   "outputs": [
    {
     "data": {
      "text/plain": [
       "(5,)"
      ]
     },
     "execution_count": 10,
     "metadata": {},
     "output_type": "execute_result"
    }
   ],
   "source": [
    "arr2.shape"
   ]
  },
  {
   "cell_type": "markdown",
   "id": "d058a775",
   "metadata": {},
   "source": [
    "### array 자료형 확인 : dtype"
   ]
  },
  {
   "cell_type": "code",
   "execution_count": 26,
   "id": "c6a85d52",
   "metadata": {},
   "outputs": [
    {
     "data": {
      "text/plain": [
       "dtype('int64')"
      ]
     },
     "execution_count": 26,
     "metadata": {},
     "output_type": "execute_result"
    }
   ],
   "source": [
    "arr2.dtype"
   ]
  },
  {
   "cell_type": "code",
   "execution_count": 27,
   "id": "96142c6c",
   "metadata": {},
   "outputs": [],
   "source": [
    "arr3 = np.array([1, 2, 3, 3.5, 4])"
   ]
  },
  {
   "cell_type": "code",
   "execution_count": 28,
   "id": "4f4ae384",
   "metadata": {},
   "outputs": [
    {
     "data": {
      "text/plain": [
       "dtype('float64')"
      ]
     },
     "execution_count": 28,
     "metadata": {},
     "output_type": "execute_result"
    }
   ],
   "source": [
    "arr3.dtype"
   ]
  },
  {
   "cell_type": "code",
   "execution_count": 29,
   "id": "13230e37",
   "metadata": {},
   "outputs": [
    {
     "data": {
      "text/plain": [
       "(5,)"
      ]
     },
     "execution_count": 29,
     "metadata": {},
     "output_type": "execute_result"
    }
   ],
   "source": [
    "arr3.shape"
   ]
  },
  {
   "cell_type": "code",
   "execution_count": 30,
   "id": "296e800b",
   "metadata": {},
   "outputs": [],
   "source": [
    "arr4 = np.array([[1,2,3],[4,5,6],[7,8,9]])"
   ]
  },
  {
   "cell_type": "code",
   "execution_count": 31,
   "id": "3f654bb3",
   "metadata": {},
   "outputs": [
    {
     "data": {
      "text/plain": [
       "array([[1, 2, 3],\n",
       "       [4, 5, 6],\n",
       "       [7, 8, 9]])"
      ]
     },
     "execution_count": 31,
     "metadata": {},
     "output_type": "execute_result"
    }
   ],
   "source": [
    "arr4"
   ]
  },
  {
   "cell_type": "code",
   "execution_count": 32,
   "id": "68e273c6",
   "metadata": {},
   "outputs": [
    {
     "data": {
      "text/plain": [
       "dtype('int64')"
      ]
     },
     "execution_count": 32,
     "metadata": {},
     "output_type": "execute_result"
    }
   ],
   "source": [
    "arr4.dtype"
   ]
  },
  {
   "cell_type": "markdown",
   "id": "6506d0a3",
   "metadata": {},
   "source": [
    "## numpy 자료형\n",
    "\n",
    "- 부호가 있는 정수 int(8, 16, 32, 64)\n",
    "- 부호가 없는 정수 uint(8, 16, 32, 64)\n",
    "- 실수 float(16, 32, 64, 128)\n",
    "- 복소수 complex(64, 128, 256)\n",
    "- 불리언 bool\n",
    "- 문자열 string_\n",
    "- 파이썬 오브젝트 object\n",
    "- 유니코드 unicode_"
   ]
  },
  {
   "cell_type": "markdown",
   "id": "2c2ecb6c",
   "metadata": {},
   "source": [
    "## 범위를 지정해 배열 생성\n",
    "\n",
    "### 1) np.arange() 함수 : np.arange([start,] stop[, step])"
   ]
  },
  {
   "cell_type": "code",
   "execution_count": 33,
   "id": "2e9a0ade",
   "metadata": {},
   "outputs": [
    {
     "data": {
      "text/plain": [
       "array([0, 1, 2, 3, 4, 5, 6, 7, 8, 9])"
      ]
     },
     "execution_count": 33,
     "metadata": {},
     "output_type": "execute_result"
    }
   ],
   "source": [
    "np.arange(10)"
   ]
  },
  {
   "cell_type": "code",
   "execution_count": 34,
   "id": "cc3cb110",
   "metadata": {},
   "outputs": [
    {
     "data": {
      "text/plain": [
       "array([1, 2, 3, 4])"
      ]
     },
     "execution_count": 34,
     "metadata": {},
     "output_type": "execute_result"
    }
   ],
   "source": [
    "np.arange(1,5)"
   ]
  },
  {
   "cell_type": "code",
   "execution_count": 35,
   "id": "5399769a",
   "metadata": {},
   "outputs": [
    {
     "data": {
      "text/plain": [
       "array([5, 4, 3, 2])"
      ]
     },
     "execution_count": 35,
     "metadata": {},
     "output_type": "execute_result"
    }
   ],
   "source": [
    "np.arange(5,1,-1)"
   ]
  },
  {
   "cell_type": "code",
   "execution_count": 37,
   "id": "a1c29cec",
   "metadata": {},
   "outputs": [
    {
     "data": {
      "text/plain": [
       "array([[ 0,  1,  2,  3],\n",
       "       [ 4,  5,  6,  7],\n",
       "       [ 8,  9, 10, 11]])"
      ]
     },
     "execution_count": 37,
     "metadata": {},
     "output_type": "execute_result"
    }
   ],
   "source": [
    "np.arange(12).reshape(3,4)"
   ]
  },
  {
   "cell_type": "code",
   "execution_count": 40,
   "id": "745275a3",
   "metadata": {},
   "outputs": [],
   "source": [
    "# np.arange(12).reshape(3,3)\n",
    "# reshape 크기가 안맞으면 불가능! (n,m) n*m"
   ]
  },
  {
   "cell_type": "markdown",
   "id": "ff840368",
   "metadata": {},
   "source": [
    "### 2) np.linspace() 함수 : np.linspace(start, stop[, num=50])"
   ]
  },
  {
   "cell_type": "code",
   "execution_count": 41,
   "id": "62feeeac",
   "metadata": {},
   "outputs": [
    {
     "data": {
      "text/plain": [
       "array([ 1.,  2.,  3.,  4.,  5.,  6.,  7.,  8.,  9., 10.])"
      ]
     },
     "execution_count": 41,
     "metadata": {},
     "output_type": "execute_result"
    }
   ],
   "source": [
    "np.linspace(1,10,10)"
   ]
  },
  {
   "cell_type": "code",
   "execution_count": 42,
   "id": "baa65294",
   "metadata": {},
   "outputs": [
    {
     "data": {
      "text/plain": [
       "array([0.        , 0.16534698, 0.33069396, 0.49604095, 0.66138793,\n",
       "       0.82673491, 0.99208189, 1.15742887, 1.32277585, 1.48812284,\n",
       "       1.65346982, 1.8188168 , 1.98416378, 2.14951076, 2.31485774,\n",
       "       2.48020473, 2.64555171, 2.81089869, 2.97624567, 3.14159265])"
      ]
     },
     "execution_count": 42,
     "metadata": {},
     "output_type": "execute_result"
    }
   ],
   "source": [
    "np.linspace(0, np.pi, 20)"
   ]
  },
  {
   "cell_type": "code",
   "execution_count": 43,
   "id": "40eb303b",
   "metadata": {},
   "outputs": [
    {
     "data": {
      "text/plain": [
       "array([ 1.        ,  1.18367347,  1.36734694,  1.55102041,  1.73469388,\n",
       "        1.91836735,  2.10204082,  2.28571429,  2.46938776,  2.65306122,\n",
       "        2.83673469,  3.02040816,  3.20408163,  3.3877551 ,  3.57142857,\n",
       "        3.75510204,  3.93877551,  4.12244898,  4.30612245,  4.48979592,\n",
       "        4.67346939,  4.85714286,  5.04081633,  5.2244898 ,  5.40816327,\n",
       "        5.59183673,  5.7755102 ,  5.95918367,  6.14285714,  6.32653061,\n",
       "        6.51020408,  6.69387755,  6.87755102,  7.06122449,  7.24489796,\n",
       "        7.42857143,  7.6122449 ,  7.79591837,  7.97959184,  8.16326531,\n",
       "        8.34693878,  8.53061224,  8.71428571,  8.89795918,  9.08163265,\n",
       "        9.26530612,  9.44897959,  9.63265306,  9.81632653, 10.        ])"
      ]
     },
     "execution_count": 43,
     "metadata": {},
     "output_type": "execute_result"
    }
   ],
   "source": [
    "np.linspace(1,10)"
   ]
  },
  {
   "cell_type": "markdown",
   "id": "17287c9d",
   "metadata": {},
   "source": [
    "## 특별한 형태의 배열 생성\n",
    "\n",
    "### np.zeros(), np.ones(), np.eye() 함수\n",
    "\n",
    "1) 모든 요소가 0인 배열 생성 : np.zeros(shape, dtype=..)"
   ]
  },
  {
   "cell_type": "code",
   "execution_count": 44,
   "id": "4ea5c9f8",
   "metadata": {},
   "outputs": [
    {
     "data": {
      "text/plain": [
       "array([0, 0, 0, 0, 0, 0, 0, 0, 0, 0])"
      ]
     },
     "execution_count": 44,
     "metadata": {},
     "output_type": "execute_result"
    }
   ],
   "source": [
    "np.zeros(10, dtype=int)"
   ]
  },
  {
   "cell_type": "code",
   "execution_count": 45,
   "id": "d20f3157",
   "metadata": {},
   "outputs": [
    {
     "data": {
      "text/plain": [
       "array([[0., 0., 0., 0., 0.],\n",
       "       [0., 0., 0., 0., 0.],\n",
       "       [0., 0., 0., 0., 0.]])"
      ]
     },
     "execution_count": 45,
     "metadata": {},
     "output_type": "execute_result"
    }
   ],
   "source": [
    "np.zeros((3,5))"
   ]
  },
  {
   "cell_type": "code",
   "execution_count": 46,
   "id": "18abef92",
   "metadata": {},
   "outputs": [
    {
     "data": {
      "text/plain": [
       "array([[0., 0., 0.],\n",
       "       [0., 0., 0.],\n",
       "       [0., 0., 0.],\n",
       "       [0., 0., 0.],\n",
       "       [0., 0., 0.]])"
      ]
     },
     "execution_count": 46,
     "metadata": {},
     "output_type": "execute_result"
    }
   ],
   "source": [
    "np.zeros((3,5)).reshape(5,3)"
   ]
  },
  {
   "cell_type": "markdown",
   "id": "54003c3f",
   "metadata": {},
   "source": [
    "2) 모든 요소가 1인 배열 생성 : np.ones(shape, dtype = ...)"
   ]
  },
  {
   "cell_type": "code",
   "execution_count": 47,
   "id": "1e07d221",
   "metadata": {},
   "outputs": [
    {
     "data": {
      "text/plain": [
       "array([1., 1., 1., 1., 1., 1., 1., 1., 1., 1.])"
      ]
     },
     "execution_count": 47,
     "metadata": {},
     "output_type": "execute_result"
    }
   ],
   "source": [
    "np.ones(10)"
   ]
  },
  {
   "cell_type": "code",
   "execution_count": 48,
   "id": "b5f3ea57",
   "metadata": {},
   "outputs": [
    {
     "data": {
      "text/plain": [
       "array([[1, 1, 1, 1, 1],\n",
       "       [1, 1, 1, 1, 1],\n",
       "       [1, 1, 1, 1, 1]])"
      ]
     },
     "execution_count": 48,
     "metadata": {},
     "output_type": "execute_result"
    }
   ],
   "source": [
    "np.ones((3,5), dtype=int)"
   ]
  },
  {
   "cell_type": "markdown",
   "id": "c7051f02",
   "metadata": {},
   "source": [
    "3) 대각요소가 1인 배열 생성 : np.eye(n, m, k=K, dtype=..)"
   ]
  },
  {
   "cell_type": "code",
   "execution_count": 52,
   "id": "9c7609d8",
   "metadata": {},
   "outputs": [
    {
     "data": {
      "text/plain": [
       "array([[1., 0., 0.],\n",
       "       [0., 1., 0.],\n",
       "       [0., 0., 1.]])"
      ]
     },
     "execution_count": 52,
     "metadata": {},
     "output_type": "execute_result"
    }
   ],
   "source": [
    "np.eye(3)"
   ]
  },
  {
   "cell_type": "code",
   "execution_count": 53,
   "id": "d512c3ac",
   "metadata": {},
   "outputs": [
    {
     "data": {
      "text/plain": [
       "array([[1., 0., 0., 0.],\n",
       "       [0., 1., 0., 0.],\n",
       "       [0., 0., 1., 0.]])"
      ]
     },
     "execution_count": 53,
     "metadata": {},
     "output_type": "execute_result"
    }
   ],
   "source": [
    "np.eye(3,4)"
   ]
  },
  {
   "cell_type": "code",
   "execution_count": 54,
   "id": "e941807c",
   "metadata": {},
   "outputs": [
    {
     "data": {
      "text/plain": [
       "array([[0., 1., 0., 0.],\n",
       "       [0., 0., 1., 0.],\n",
       "       [0., 0., 0., 1.]])"
      ]
     },
     "execution_count": 54,
     "metadata": {},
     "output_type": "execute_result"
    }
   ],
   "source": [
    "np.eye(3,4,1)"
   ]
  },
  {
   "cell_type": "code",
   "execution_count": 61,
   "id": "9e470f09",
   "metadata": {},
   "outputs": [
    {
     "data": {
      "text/plain": [
       "array([[0, 0, 1, 0],\n",
       "       [0, 0, 0, 1],\n",
       "       [0, 0, 0, 0],\n",
       "       [0, 0, 0, 0]])"
      ]
     },
     "execution_count": 61,
     "metadata": {},
     "output_type": "execute_result"
    }
   ],
   "source": [
    "np.eye(4,4,2,'int') # K = 2 (2열 밀려남), dtype = 'int'"
   ]
  },
  {
   "cell_type": "code",
   "execution_count": 70,
   "id": "4ace8bbe",
   "metadata": {},
   "outputs": [
    {
     "data": {
      "text/plain": [
       "array([[b'1', b'', b'', b'', b''],\n",
       "       [b'', b'1', b'', b'', b''],\n",
       "       [b'', b'', b'1', b'', b''],\n",
       "       [b'', b'', b'', b'1', b''],\n",
       "       [b'', b'', b'', b'', b'1']], dtype='|S1')"
      ]
     },
     "execution_count": 70,
     "metadata": {},
     "output_type": "execute_result"
    }
   ],
   "source": [
    "np.eye(5,5,dtype='string_')"
   ]
  },
  {
   "cell_type": "markdown",
   "id": "12719f0e",
   "metadata": {},
   "source": [
    "4) 대각요소가 1인 배열 생성 2: np.identify(n, dtype=..)"
   ]
  },
  {
   "cell_type": "code",
   "execution_count": 72,
   "id": "4c9d65f9",
   "metadata": {},
   "outputs": [
    {
     "data": {
      "text/plain": [
       "array([[1, 0, 0, 0, 0],\n",
       "       [0, 1, 0, 0, 0],\n",
       "       [0, 0, 1, 0, 0],\n",
       "       [0, 0, 0, 1, 0],\n",
       "       [0, 0, 0, 0, 1]])"
      ]
     },
     "execution_count": 72,
     "metadata": {},
     "output_type": "execute_result"
    }
   ],
   "source": [
    "# n*n 크기의 단위 행렬 생성\n",
    "\n",
    "np.identity(5,dtype=int)"
   ]
  },
  {
   "cell_type": "markdown",
   "id": "39b771c5",
   "metadata": {},
   "source": [
    "5) 초기화 되지 않은 배열 생성 : np.empty(shape, dtype=float)"
   ]
  },
  {
   "cell_type": "code",
   "execution_count": 73,
   "id": "b006c468",
   "metadata": {},
   "outputs": [
    {
     "data": {
      "text/plain": [
       "array([0., 0., 0., 0.])"
      ]
     },
     "execution_count": 73,
     "metadata": {},
     "output_type": "execute_result"
    }
   ],
   "source": [
    "np.empty(4)"
   ]
  },
  {
   "cell_type": "markdown",
   "id": "f092f15f",
   "metadata": {},
   "source": [
    "---"
   ]
  },
  {
   "cell_type": "markdown",
   "id": "d061ec7b",
   "metadata": {},
   "source": [
    "## 배열의 데이터 타입 변환 : astype()\n",
    "\n",
    "[형식]\n",
    "\n",
    "dtype : int,float,str"
   ]
  },
  {
   "cell_type": "markdown",
   "id": "68572a1a",
   "metadata": {},
   "source": [
    "### 문자열 배열을 숫자형 배열로 변환"
   ]
  },
  {
   "cell_type": "code",
   "execution_count": 89,
   "id": "704a81dd",
   "metadata": {},
   "outputs": [
    {
     "name": "stdout",
     "output_type": "stream",
     "text": [
      "<U4\n",
      "float64\n"
     ]
    }
   ],
   "source": [
    "data = ['1', '2', '1.5', '3.14']\n",
    "\n",
    "str_a1 = np.array(data)\n",
    "# >> array(['1', '2', '1.5', '3.14'], dtype='<U4')\n",
    "num_a1 = str_a1.astype(float)\n",
    "# >> array([1.  , 2.  , 1.5 , 3.14]) : 가장 긴 자리수에 맞춰 저장됨\n",
    "\n",
    "print(str_a1.dtype)\n",
    "print(num_a1.dtype)"
   ]
  },
  {
   "cell_type": "code",
   "execution_count": 97,
   "id": "cb4218bf",
   "metadata": {},
   "outputs": [
    {
     "data": {
      "text/plain": [
       "dtype('int64')"
      ]
     },
     "execution_count": 97,
     "metadata": {},
     "output_type": "execute_result"
    }
   ],
   "source": [
    "data2 = ['1', '2', '4', '3']\n",
    "# str_a2 = np.array(data).astype(int) : ValueError (float 포함)\n",
    "str_a2 = np.array(data2).astype(int)\n",
    "str_a2.dtype"
   ]
  },
  {
   "cell_type": "markdown",
   "id": "68c8d672",
   "metadata": {},
   "source": [
    "### 실수형 배열을 정수형 배열로 변환"
   ]
  },
  {
   "cell_type": "code",
   "execution_count": 100,
   "id": "8a505807",
   "metadata": {},
   "outputs": [],
   "source": [
    "data3 = [10, 21, 0.549, 4.75, 5.98]\n",
    "\n",
    "num_f1 = np.array(data3)\n",
    "num_i1 = num_f1.astype(int)"
   ]
  },
  {
   "cell_type": "code",
   "execution_count": 101,
   "id": "2cbe2228",
   "metadata": {},
   "outputs": [
    {
     "data": {
      "text/plain": [
       "array([10, 21,  0,  4,  5])"
      ]
     },
     "execution_count": 101,
     "metadata": {},
     "output_type": "execute_result"
    }
   ],
   "source": [
    "num_i1"
   ]
  },
  {
   "cell_type": "markdown",
   "id": "34089f0d",
   "metadata": {},
   "source": [
    "### 숫자형 배열을 문자열 배열로 변환"
   ]
  },
  {
   "cell_type": "code",
   "execution_count": 102,
   "id": "ef5eee98",
   "metadata": {},
   "outputs": [
    {
     "data": {
      "text/plain": [
       "array(['10.0', '21.0', '0.549', '4.75', '5.98'], dtype='<U32')"
      ]
     },
     "execution_count": 102,
     "metadata": {},
     "output_type": "execute_result"
    }
   ],
   "source": [
    "num_f1.astype('U')"
   ]
  },
  {
   "cell_type": "code",
   "execution_count": 107,
   "id": "d009f520",
   "metadata": {},
   "outputs": [
    {
     "data": {
      "text/plain": [
       "array([b'10', b'21', b'0', b'4', b'5'], dtype='|S21')"
      ]
     },
     "execution_count": 107,
     "metadata": {},
     "output_type": "execute_result"
    }
   ],
   "source": [
    "num_i1.astype('a') # num_i1.astype('S')"
   ]
  },
  {
   "cell_type": "markdown",
   "id": "d1b3db22",
   "metadata": {},
   "source": [
    "---"
   ]
  },
  {
   "cell_type": "markdown",
   "id": "063fe714",
   "metadata": {},
   "source": [
    "## 난수배열 생성\n",
    "\n",
    "### random.rand(), random.randint()"
   ]
  },
  {
   "cell_type": "code",
   "execution_count": 115,
   "id": "a2189bd7",
   "metadata": {},
   "outputs": [
    {
     "data": {
      "text/plain": [
       "array([0.18081856, 0.73552543, 0.31005588, 0.78221677])"
      ]
     },
     "execution_count": 115,
     "metadata": {},
     "output_type": "execute_result"
    }
   ],
   "source": [
    "np.random.rand(4)"
   ]
  },
  {
   "cell_type": "code",
   "execution_count": 110,
   "id": "ecd2759f",
   "metadata": {},
   "outputs": [
    {
     "data": {
      "text/plain": [
       "array([[0.8523509 , 0.53013047, 0.12733061],\n",
       "       [0.10158506, 0.71868225, 0.80807532]])"
      ]
     },
     "execution_count": 110,
     "metadata": {},
     "output_type": "execute_result"
    }
   ],
   "source": [
    "np.random.rand(2,3)"
   ]
  },
  {
   "cell_type": "code",
   "execution_count": 111,
   "id": "540a7efe",
   "metadata": {},
   "outputs": [
    {
     "data": {
      "text/plain": [
       "array([[[0.77959976, 0.91697309, 0.47176178, 0.89987902],\n",
       "        [0.23081891, 0.45491162, 0.33181965, 0.01572869],\n",
       "        [0.48308224, 0.42361819, 0.02245016, 0.77470336]],\n",
       "\n",
       "       [[0.74350602, 0.66714276, 0.5760056 , 0.23347669],\n",
       "        [0.16620778, 0.44642812, 0.01710379, 0.80296654],\n",
       "        [0.61857977, 0.08923439, 0.92965589, 0.73801151]]])"
      ]
     },
     "execution_count": 111,
     "metadata": {},
     "output_type": "execute_result"
    }
   ],
   "source": [
    "np.random.rand(2,3,4)"
   ]
  },
  {
   "cell_type": "code",
   "execution_count": 124,
   "id": "6f0013bc",
   "metadata": {},
   "outputs": [
    {
     "data": {
      "text/plain": [
       "2"
      ]
     },
     "execution_count": 124,
     "metadata": {},
     "output_type": "execute_result"
    }
   ],
   "source": [
    "np.random.randint(5) # 0~5"
   ]
  },
  {
   "cell_type": "code",
   "execution_count": 128,
   "id": "5e0e018e",
   "metadata": {},
   "outputs": [
    {
     "data": {
      "text/plain": [
       "17"
      ]
     },
     "execution_count": 128,
     "metadata": {},
     "output_type": "execute_result"
    }
   ],
   "source": [
    "np.random.randint(10,20) # 10~20"
   ]
  },
  {
   "cell_type": "code",
   "execution_count": 130,
   "id": "aada214a",
   "metadata": {},
   "outputs": [
    {
     "data": {
      "text/plain": [
       "array([[10, 19, 17],\n",
       "       [12, 11, 19]])"
      ]
     },
     "execution_count": 130,
     "metadata": {},
     "output_type": "execute_result"
    }
   ],
   "source": [
    "np.random.randint(10, 20, size = (2,3)) # 10~20. 2행 3열"
   ]
  },
  {
   "cell_type": "markdown",
   "id": "694bb944",
   "metadata": {},
   "source": [
    "---"
   ]
  },
  {
   "cell_type": "markdown",
   "id": "ba54211d",
   "metadata": {},
   "source": [
    "# Array 연산\n",
    "\n",
    "## 기본 연산 (합 차 곱 나누기 등)\n",
    ": 기본적으로 동일한 크기의 array 간 연산 수행"
   ]
  },
  {
   "cell_type": "code",
   "execution_count": 144,
   "id": "edfd5335",
   "metadata": {},
   "outputs": [
    {
     "data": {
      "text/plain": [
       "array([[1, 3, 4],\n",
       "       [4, 3, 6]])"
      ]
     },
     "execution_count": 144,
     "metadata": {},
     "output_type": "execute_result"
    }
   ],
   "source": [
    "arr1 = np.array([[1,3,4],[4,3,6]])\n",
    "arr1"
   ]
  },
  {
   "cell_type": "code",
   "execution_count": 145,
   "id": "4deba003",
   "metadata": {},
   "outputs": [
    {
     "data": {
      "text/plain": [
       "array([[10, 11, 12],\n",
       "       [13, 14, 15]])"
      ]
     },
     "execution_count": 145,
     "metadata": {},
     "output_type": "execute_result"
    }
   ],
   "source": [
    "arr2 = np.arange(10,16).reshape(2,3)\n",
    "arr2"
   ]
  },
  {
   "cell_type": "markdown",
   "id": "95de308e",
   "metadata": {},
   "source": [
    "### 배열의 곱"
   ]
  },
  {
   "cell_type": "code",
   "execution_count": 146,
   "id": "1055d1de",
   "metadata": {},
   "outputs": [
    {
     "data": {
      "text/plain": [
       "array([[10, 33, 48],\n",
       "       [52, 42, 90]])"
      ]
     },
     "execution_count": 146,
     "metadata": {},
     "output_type": "execute_result"
    }
   ],
   "source": [
    "arr1 * arr2"
   ]
  },
  {
   "cell_type": "markdown",
   "id": "2588e2e3",
   "metadata": {},
   "source": [
    "### 배열의 차"
   ]
  },
  {
   "cell_type": "code",
   "execution_count": 147,
   "id": "7757afa3",
   "metadata": {},
   "outputs": [
    {
     "data": {
      "text/plain": [
       "array([[ -9,  -8,  -8],\n",
       "       [ -9, -11,  -9]])"
      ]
     },
     "execution_count": 147,
     "metadata": {},
     "output_type": "execute_result"
    }
   ],
   "source": [
    "arr1 - arr2"
   ]
  },
  {
   "cell_type": "markdown",
   "id": "e59fe3ce",
   "metadata": {},
   "source": [
    "### 배열의 합"
   ]
  },
  {
   "cell_type": "code",
   "execution_count": 148,
   "id": "a21fdbc1",
   "metadata": {},
   "outputs": [
    {
     "data": {
      "text/plain": [
       "array([[11, 14, 16],\n",
       "       [17, 17, 21]])"
      ]
     },
     "execution_count": 148,
     "metadata": {},
     "output_type": "execute_result"
    }
   ],
   "source": [
    "arr1 + arr2"
   ]
  },
  {
   "cell_type": "markdown",
   "id": "a1a1076c",
   "metadata": {},
   "source": [
    "### 배열의 비교 연산"
   ]
  },
  {
   "cell_type": "code",
   "execution_count": 149,
   "id": "dd2c004c",
   "metadata": {
    "scrolled": true
   },
   "outputs": [
    {
     "data": {
      "text/plain": [
       "array([[False, False, False],\n",
       "       [ True,  True,  True]])"
      ]
     },
     "execution_count": 149,
     "metadata": {},
     "output_type": "execute_result"
    }
   ],
   "source": [
    "arr2 > 12"
   ]
  },
  {
   "cell_type": "markdown",
   "id": "81a4495c",
   "metadata": {},
   "source": [
    "## 배열의 Broadcasting\n",
    ": 서로 크기가 다른 array들의 연산 가능하도록 자동적으로 변환\n",
    "\n",
    "### 브로드캐스팅이 일어나는 조건\n",
    "- 하나는 1차원이고 또 다른 하나는 다른 array의 행이나 열의 배열의 차원이 동일해야함. "
   ]
  },
  {
   "cell_type": "code",
   "execution_count": 150,
   "id": "00db1dc2",
   "metadata": {},
   "outputs": [
    {
     "data": {
      "text/plain": [
       "array([[1, 3, 4],\n",
       "       [4, 3, 6]])"
      ]
     },
     "execution_count": 150,
     "metadata": {},
     "output_type": "execute_result"
    }
   ],
   "source": [
    "arr1"
   ]
  },
  {
   "cell_type": "code",
   "execution_count": 153,
   "id": "39dad496",
   "metadata": {},
   "outputs": [
    {
     "data": {
      "text/plain": [
       "array([10, 11, 12])"
      ]
     },
     "execution_count": 153,
     "metadata": {},
     "output_type": "execute_result"
    }
   ],
   "source": [
    "arr3 = np.array([10,11,12])\n",
    "arr3"
   ]
  },
  {
   "cell_type": "code",
   "execution_count": 152,
   "id": "d5804d15",
   "metadata": {},
   "outputs": [
    {
     "data": {
      "text/plain": [
       "((2, 3), (3,))"
      ]
     },
     "execution_count": 152,
     "metadata": {},
     "output_type": "execute_result"
    }
   ],
   "source": [
    "(arr1.shape, arr3.shape)"
   ]
  },
  {
   "cell_type": "code",
   "execution_count": 155,
   "id": "b471b92e",
   "metadata": {},
   "outputs": [
    {
     "data": {
      "text/plain": [
       "array([[11, 14, 16],\n",
       "       [14, 14, 18]])"
      ]
     },
     "execution_count": 155,
     "metadata": {},
     "output_type": "execute_result"
    }
   ],
   "source": [
    "arr1 + arr3 # arr1의 1행에 arr3 더해지고, 2행에 더해지고.."
   ]
  },
  {
   "cell_type": "markdown",
   "id": "69752134",
   "metadata": {},
   "source": [
    "---"
   ]
  }
 ],
 "metadata": {
  "kernelspec": {
   "display_name": "Python 3",
   "language": "python",
   "name": "python3"
  },
  "language_info": {
   "codemirror_mode": {
    "name": "ipython",
    "version": 3
   },
   "file_extension": ".py",
   "mimetype": "text/x-python",
   "name": "python",
   "nbconvert_exporter": "python",
   "pygments_lexer": "ipython3",
   "version": "3.9.9"
  }
 },
 "nbformat": 4,
 "nbformat_minor": 5
}

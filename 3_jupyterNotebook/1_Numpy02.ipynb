{
 "cells": [
  {
   "cell_type": "code",
   "execution_count": 163,
   "id": "813b4b55",
   "metadata": {},
   "outputs": [],
   "source": [
    "import numpy as np"
   ]
  },
  {
   "cell_type": "markdown",
   "id": "37caef46",
   "metadata": {},
   "source": [
    "# 통계를 위한 연산\n",
    "- 배열의 합, 평균, 표준편차, 분산, 최소값, 최대값, 누적합, 누적곱 등"
   ]
  },
  {
   "cell_type": "code",
   "execution_count": 164,
   "id": "6487fe76",
   "metadata": {},
   "outputs": [
    {
     "data": {
      "text/plain": [
       "array([0, 1, 2, 3, 4])"
      ]
     },
     "execution_count": 164,
     "metadata": {},
     "output_type": "execute_result"
    }
   ],
   "source": [
    "arr1 = np.arange(5)\n",
    "arr1"
   ]
  },
  {
   "cell_type": "code",
   "execution_count": 165,
   "id": "5a3c1f0d",
   "metadata": {},
   "outputs": [
    {
     "data": {
      "text/plain": [
       "(10, 2.0)"
      ]
     },
     "execution_count": 165,
     "metadata": {},
     "output_type": "execute_result"
    }
   ],
   "source": [
    "# 합과 산술 평균 : sum(), mean()\n",
    "(arr1.sum(), arr1.mean())"
   ]
  },
  {
   "cell_type": "code",
   "execution_count": 166,
   "id": "37799365",
   "metadata": {},
   "outputs": [
    {
     "data": {
      "text/plain": [
       "(1.414, 2.0)"
      ]
     },
     "execution_count": 166,
     "metadata": {},
     "output_type": "execute_result"
    }
   ],
   "source": [
    "# 표준편차와 분산 : std(), var()\n",
    "(arr1.std().round(3), arr1.var())"
   ]
  },
  {
   "cell_type": "code",
   "execution_count": 167,
   "id": "05e7cc53",
   "metadata": {},
   "outputs": [
    {
     "data": {
      "text/plain": [
       "(0, 4)"
      ]
     },
     "execution_count": 167,
     "metadata": {},
     "output_type": "execute_result"
    }
   ],
   "source": [
    "# 최소값과 최대값 : min(), max()\n",
    "(arr1.min(), arr1.max())"
   ]
  },
  {
   "cell_type": "code",
   "execution_count": 168,
   "id": "82604b9e",
   "metadata": {},
   "outputs": [
    {
     "data": {
      "text/plain": [
       "array([1, 2, 3, 4, 5])"
      ]
     },
     "execution_count": 168,
     "metadata": {},
     "output_type": "execute_result"
    }
   ],
   "source": [
    "arr2 = np.arange(1,6)\n",
    "arr2"
   ]
  },
  {
   "cell_type": "code",
   "execution_count": 169,
   "id": "a9449591",
   "metadata": {},
   "outputs": [
    {
     "data": {
      "text/plain": [
       "(array([ 1,  3,  6, 10, 15]), array([  1,   2,   6,  24, 120]))"
      ]
     },
     "execution_count": 169,
     "metadata": {},
     "output_type": "execute_result"
    }
   ],
   "source": [
    "# 누적합과 누적곱 : cumsum(), cumprod()\n",
    "(arr2.cumsum(), arr2.cumprod())"
   ]
  },
  {
   "cell_type": "markdown",
   "id": "85c978b0",
   "metadata": {},
   "source": [
    "## 행렬 연산\n",
    "- 선형 대수를 위한 행렬(2차원 배열) 연산\n",
    "- 행렬 곱, 전치 행렬, 역행렬, 행렬식 등\n",
    "    - 행렬곱 : A.dot(B) 혹은 np.dot(A, B)\n",
    "    - 전치행렬 : A.transpose() 혹은 np.transpose(A)\n",
    "    - 역행렬 : np.linalg.inv(A)\n",
    "    - 행렬식 : np.linalg.det(A)"
   ]
  },
  {
   "cell_type": "code",
   "execution_count": 170,
   "id": "16d39023",
   "metadata": {},
   "outputs": [],
   "source": [
    "A = np.arange(1, 5).reshape(2,2)\n",
    "# array([[1, 2],\n",
    "#        [3, 4]])\n",
    "B = np.array([3,2,0,1]).reshape(2,2)\n",
    "# array([[3, 2],\n",
    "#        [0, 1]])"
   ]
  },
  {
   "cell_type": "markdown",
   "id": "d4091107",
   "metadata": {},
   "source": [
    "### 행렬의 곱"
   ]
  },
  {
   "cell_type": "code",
   "execution_count": 171,
   "id": "1515dd99",
   "metadata": {},
   "outputs": [
    {
     "data": {
      "text/plain": [
       "array([[ 3,  4],\n",
       "       [ 9, 10]])"
      ]
     },
     "execution_count": 171,
     "metadata": {},
     "output_type": "execute_result"
    }
   ],
   "source": [
    "A.dot(B) # np.dot(A, B)"
   ]
  },
  {
   "cell_type": "code",
   "execution_count": 172,
   "id": "bdb443c9",
   "metadata": {},
   "outputs": [
    {
     "data": {
      "text/plain": [
       "array([[ 9, 14],\n",
       "       [ 3,  4]])"
      ]
     },
     "execution_count": 172,
     "metadata": {},
     "output_type": "execute_result"
    }
   ],
   "source": [
    "B.dot(A) # np.dot(B, A)"
   ]
  },
  {
   "cell_type": "markdown",
   "id": "ca8bf0dd",
   "metadata": {},
   "source": [
    "### 전치행렬"
   ]
  },
  {
   "cell_type": "code",
   "execution_count": 173,
   "id": "e331556d",
   "metadata": {},
   "outputs": [
    {
     "data": {
      "text/plain": [
       "array([[1, 3],\n",
       "       [2, 4]])"
      ]
     },
     "execution_count": 173,
     "metadata": {},
     "output_type": "execute_result"
    }
   ],
   "source": [
    "A.transpose()"
   ]
  },
  {
   "cell_type": "markdown",
   "id": "923a6c2b",
   "metadata": {},
   "source": [
    "###  역행렬 (inverse)"
   ]
  },
  {
   "cell_type": "code",
   "execution_count": 174,
   "id": "a89844e4",
   "metadata": {},
   "outputs": [
    {
     "data": {
      "text/plain": [
       "array([[-2. ,  1. ],\n",
       "       [ 1.5, -0.5]])"
      ]
     },
     "execution_count": 174,
     "metadata": {},
     "output_type": "execute_result"
    }
   ],
   "source": [
    "np.linalg.inv(A)"
   ]
  },
  {
   "cell_type": "markdown",
   "id": "4088081d",
   "metadata": {},
   "source": [
    "###  행렬식 (determinent)"
   ]
  },
  {
   "cell_type": "code",
   "execution_count": 175,
   "id": "f5ec8650",
   "metadata": {},
   "outputs": [
    {
     "data": {
      "text/plain": [
       "-2.0"
      ]
     },
     "execution_count": 175,
     "metadata": {},
     "output_type": "execute_result"
    }
   ],
   "source": [
    "np.linalg.det(A).round()"
   ]
  },
  {
   "cell_type": "code",
   "execution_count": 176,
   "id": "1c9f1255",
   "metadata": {},
   "outputs": [
    {
     "data": {
      "text/plain": [
       "array([[1., 0.],\n",
       "       [0., 1.]])"
      ]
     },
     "execution_count": 176,
     "metadata": {},
     "output_type": "execute_result"
    }
   ],
   "source": [
    "# A * inv(A) = I (단위 행렬)\n",
    "np.dot(A, np.linalg.inv(A)).round()"
   ]
  },
  {
   "cell_type": "markdown",
   "id": "867e62ba",
   "metadata": {},
   "source": [
    "---"
   ]
  },
  {
   "cell_type": "markdown",
   "id": "3115837c",
   "metadata": {},
   "source": [
    "## Array 인덱싱(indexting)과 슬라이싱(Slicing)\n",
    "- 인덱싱 : 배열 위치나 조건을 지정해 배열의 원소를 선택\n",
    "- 슬라이싱 : 배열의 범위를 지정해 배열의 원소를 선택"
   ]
  },
  {
   "cell_type": "markdown",
   "id": "e60135be",
   "metadata": {},
   "source": [
    "### 1차원 배열의 인덱싱 \n",
    "**배열명[위치]**\n",
    "- 파이썬의 인덱싱과 동일\n",
    "- 0번째로 시작함"
   ]
  },
  {
   "cell_type": "code",
   "execution_count": 177,
   "id": "b567b8c1",
   "metadata": {},
   "outputs": [
    {
     "data": {
      "text/plain": [
       "array([0, 1, 2, 3, 4, 5, 6, 7, 8, 9])"
      ]
     },
     "execution_count": 177,
     "metadata": {},
     "output_type": "execute_result"
    }
   ],
   "source": [
    "arr = np.arange(10)\n",
    "arr"
   ]
  },
  {
   "cell_type": "code",
   "execution_count": 178,
   "id": "38004054",
   "metadata": {},
   "outputs": [
    {
     "data": {
      "text/plain": [
       "0"
      ]
     },
     "execution_count": 178,
     "metadata": {},
     "output_type": "execute_result"
    }
   ],
   "source": [
    "arr[0]"
   ]
  },
  {
   "cell_type": "code",
   "execution_count": 179,
   "id": "0026d35a",
   "metadata": {},
   "outputs": [
    {
     "data": {
      "text/plain": [
       "3"
      ]
     },
     "execution_count": 179,
     "metadata": {},
     "output_type": "execute_result"
    }
   ],
   "source": [
    "arr[3]"
   ]
  },
  {
   "cell_type": "code",
   "execution_count": 180,
   "id": "affaf719",
   "metadata": {},
   "outputs": [
    {
     "data": {
      "text/plain": [
       "array([3, 4, 5, 6, 7])"
      ]
     },
     "execution_count": 180,
     "metadata": {},
     "output_type": "execute_result"
    }
   ],
   "source": [
    "arr[3:8]"
   ]
  },
  {
   "cell_type": "markdown",
   "id": "6d93d539",
   "metadata": {},
   "source": [
    "### 배열명[[위치1, 위치2, ...]]"
   ]
  },
  {
   "cell_type": "code",
   "execution_count": 181,
   "id": "b0161f75",
   "metadata": {
    "scrolled": true
   },
   "outputs": [
    {
     "data": {
      "text/plain": [
       "array([1, 3, 4])"
      ]
     },
     "execution_count": 181,
     "metadata": {},
     "output_type": "execute_result"
    }
   ],
   "source": [
    "arr[[1,3,4]]"
   ]
  },
  {
   "cell_type": "markdown",
   "id": "e65f3053",
   "metadata": {},
   "source": [
    "### 2차원 배열의 인덱싱 \n",
    "**배열명[행위치, 열위치]**\n",
    "- 파이썬의 인덱싱과 동일\n",
    "- 0번째로 시작함"
   ]
  },
  {
   "cell_type": "code",
   "execution_count": 182,
   "id": "3ac3ceb3",
   "metadata": {},
   "outputs": [
    {
     "data": {
      "text/plain": [
       "array([[ 1,  2,  3,  4],\n",
       "       [ 5,  6,  7,  8],\n",
       "       [ 9, 10, 11, 12]])"
      ]
     },
     "execution_count": 182,
     "metadata": {},
     "output_type": "execute_result"
    }
   ],
   "source": [
    "arr2 = np.arange(1,13).reshape(3,4)\n",
    "arr2"
   ]
  },
  {
   "cell_type": "code",
   "execution_count": 183,
   "id": "7ad6088f",
   "metadata": {},
   "outputs": [
    {
     "data": {
      "text/plain": [
       "12"
      ]
     },
     "execution_count": 183,
     "metadata": {},
     "output_type": "execute_result"
    }
   ],
   "source": [
    "arr2[2,3]"
   ]
  },
  {
   "cell_type": "code",
   "execution_count": 184,
   "id": "de5a0e00",
   "metadata": {},
   "outputs": [
    {
     "data": {
      "text/plain": [
       "array([[90,  2,  3,  4],\n",
       "       [ 5,  6,  7,  8],\n",
       "       [ 9, 10, 11, 12]])"
      ]
     },
     "execution_count": 184,
     "metadata": {},
     "output_type": "execute_result"
    }
   ],
   "source": [
    "arr2[0,0] = 90\n",
    "arr2"
   ]
  },
  {
   "cell_type": "markdown",
   "id": "5c493ddf",
   "metadata": {},
   "source": [
    "**2차원배열명[행위치]**\n",
    "\n",
    ": 2차원 배열에서 지정한 행 전체가 선택됨"
   ]
  },
  {
   "cell_type": "code",
   "execution_count": 185,
   "id": "aaf11973",
   "metadata": {},
   "outputs": [
    {
     "data": {
      "text/plain": [
       "array([5, 6, 7, 8])"
      ]
     },
     "execution_count": 185,
     "metadata": {},
     "output_type": "execute_result"
    }
   ],
   "source": [
    "arr2[1]"
   ]
  },
  {
   "cell_type": "code",
   "execution_count": 186,
   "id": "a332dfc4",
   "metadata": {},
   "outputs": [
    {
     "data": {
      "text/plain": [
       "array([[90,  2,  3,  4],\n",
       "       [ 8,  7,  6,  5],\n",
       "       [ 9, 10, 11, 12]])"
      ]
     },
     "execution_count": 186,
     "metadata": {},
     "output_type": "execute_result"
    }
   ],
   "source": [
    "arr2[1] = (8, 7, 6, 5)\n",
    "arr2"
   ]
  },
  {
   "cell_type": "markdown",
   "id": "e66a5041",
   "metadata": {},
   "source": [
    "**2차원배열명[:,열위치]**\n",
    "\n",
    ": 2차원 배열에서 지정한 열 전체가 선택됨"
   ]
  },
  {
   "cell_type": "code",
   "execution_count": 187,
   "id": "f3a0a1f2",
   "metadata": {
    "scrolled": true
   },
   "outputs": [
    {
     "data": {
      "text/plain": [
       "array([ 2,  7, 10])"
      ]
     },
     "execution_count": 187,
     "metadata": {},
     "output_type": "execute_result"
    }
   ],
   "source": [
    "arr2[:,1]"
   ]
  },
  {
   "cell_type": "markdown",
   "id": "98b33541",
   "metadata": {},
   "source": [
    "**배열명[조건]**\n",
    "\n",
    ": 배열에서 조건을 만족하는 원소만 선택"
   ]
  },
  {
   "cell_type": "code",
   "execution_count": 188,
   "id": "a95fa3b3",
   "metadata": {},
   "outputs": [
    {
     "data": {
      "text/plain": [
       "array([[ True, False, False, False],\n",
       "       [False, False, False, False],\n",
       "       [False, False,  True,  True]])"
      ]
     },
     "execution_count": 188,
     "metadata": {},
     "output_type": "execute_result"
    }
   ],
   "source": [
    "arr2>10"
   ]
  },
  {
   "cell_type": "code",
   "execution_count": 189,
   "id": "940997c6",
   "metadata": {},
   "outputs": [
    {
     "data": {
      "text/plain": [
       "array([90, 11, 12])"
      ]
     },
     "execution_count": 189,
     "metadata": {},
     "output_type": "execute_result"
    }
   ],
   "source": [
    "arr2[arr2>10]"
   ]
  },
  {
   "cell_type": "code",
   "execution_count": 190,
   "id": "e99b10db",
   "metadata": {},
   "outputs": [
    {
     "data": {
      "text/plain": [
       "array([90,  2,  4,  8,  6, 10, 12])"
      ]
     },
     "execution_count": 190,
     "metadata": {},
     "output_type": "execute_result"
    }
   ],
   "source": [
    "arr2[arr2%2==0]"
   ]
  },
  {
   "cell_type": "markdown",
   "id": "eb437b3c",
   "metadata": {},
   "source": [
    "**배열명[[행],[열]]**\n",
    "**배열명[행][열]**\n"
   ]
  },
  {
   "cell_type": "code",
   "execution_count": 191,
   "id": "90661ea0",
   "metadata": {
    "scrolled": true
   },
   "outputs": [
    {
     "data": {
      "text/plain": [
       "array([ 7, 10])"
      ]
     },
     "execution_count": 191,
     "metadata": {},
     "output_type": "execute_result"
    }
   ],
   "source": [
    "arr2[[1,2],[1]]"
   ]
  },
  {
   "cell_type": "code",
   "execution_count": 192,
   "id": "82c40d51",
   "metadata": {},
   "outputs": [
    {
     "data": {
      "text/plain": [
       "array([[90,  2,  3,  4],\n",
       "       [ 8,  7,  6,  5],\n",
       "       [ 9, 10, 11, 12]])"
      ]
     },
     "execution_count": 192,
     "metadata": {},
     "output_type": "execute_result"
    }
   ],
   "source": [
    "arr2"
   ]
  },
  {
   "cell_type": "code",
   "execution_count": 193,
   "id": "e2304cfe",
   "metadata": {},
   "outputs": [
    {
     "data": {
      "text/plain": [
       "7"
      ]
     },
     "execution_count": 193,
     "metadata": {},
     "output_type": "execute_result"
    }
   ],
   "source": [
    "arr2[1][1]"
   ]
  },
  {
   "cell_type": "code",
   "execution_count": 194,
   "id": "fc77ec7c",
   "metadata": {},
   "outputs": [
    {
     "data": {
      "text/plain": [
       "array([[ 9, 10, 11, 12]])"
      ]
     },
     "execution_count": 194,
     "metadata": {},
     "output_type": "execute_result"
    }
   ],
   "source": [
    "arr2[1:][1:]"
   ]
  },
  {
   "cell_type": "markdown",
   "id": "dda5dfec",
   "metadata": {},
   "source": [
    "### 1차원 배열의 슬라이싱 \n",
    "**배열명[행위치, 열위치]**\n",
    "- 시작위치에서 끝위치-1에 해당하는 배열의 원소 반환"
   ]
  },
  {
   "cell_type": "code",
   "execution_count": 195,
   "id": "92b7c1f4",
   "metadata": {},
   "outputs": [
    {
     "data": {
      "text/plain": [
       "array([0, 1, 2, 3, 4])"
      ]
     },
     "execution_count": 195,
     "metadata": {},
     "output_type": "execute_result"
    }
   ],
   "source": [
    "arr1"
   ]
  },
  {
   "cell_type": "code",
   "execution_count": 196,
   "id": "8fcb45d1",
   "metadata": {},
   "outputs": [
    {
     "data": {
      "text/plain": [
       "array([3, 5, 7])"
      ]
     },
     "execution_count": 196,
     "metadata": {},
     "output_type": "execute_result"
    }
   ],
   "source": [
    "# array_name[start:end+1:step] : start~end 범위 step 간격\n",
    "arr[3:9:2] "
   ]
  },
  {
   "cell_type": "code",
   "execution_count": 197,
   "id": "14279f37",
   "metadata": {},
   "outputs": [
    {
     "data": {
      "text/plain": [
       "array([0, 2, 4])"
      ]
     },
     "execution_count": 197,
     "metadata": {},
     "output_type": "execute_result"
    }
   ],
   "source": [
    "arr1[::2]"
   ]
  },
  {
   "cell_type": "markdown",
   "id": "f8cf30af",
   "metadata": {},
   "source": [
    "### 2차원 배열의 슬라이싱 \n",
    "**배열명[(행):, (열):]**\n",
    "- 시작위치에서 끝위치-1에 해당하는 배열의 원소 반환"
   ]
  },
  {
   "cell_type": "code",
   "execution_count": 198,
   "id": "1bb933a2",
   "metadata": {},
   "outputs": [
    {
     "data": {
      "text/plain": [
       "array([[90,  2,  3,  4],\n",
       "       [ 8,  7,  6,  5],\n",
       "       [ 9, 10, 11, 12]])"
      ]
     },
     "execution_count": 198,
     "metadata": {},
     "output_type": "execute_result"
    }
   ],
   "source": [
    "arr2"
   ]
  },
  {
   "cell_type": "code",
   "execution_count": 199,
   "id": "061dfa4c",
   "metadata": {},
   "outputs": [
    {
     "data": {
      "text/plain": [
       "11"
      ]
     },
     "execution_count": 199,
     "metadata": {},
     "output_type": "execute_result"
    }
   ],
   "source": [
    "arr2[2,2]"
   ]
  },
  {
   "cell_type": "code",
   "execution_count": 200,
   "id": "68b80daf",
   "metadata": {},
   "outputs": [
    {
     "data": {
      "text/plain": [
       "array([[ 7,  6],\n",
       "       [10, 11]])"
      ]
     },
     "execution_count": 200,
     "metadata": {},
     "output_type": "execute_result"
    }
   ],
   "source": [
    "arr2[1:,1:3]"
   ]
  },
  {
   "cell_type": "code",
   "execution_count": 201,
   "id": "59b01b5e",
   "metadata": {},
   "outputs": [
    {
     "data": {
      "text/plain": [
       "array([[10, 20, 30],\n",
       "       [40, 50, 60],\n",
       "       [70, 80, 90]])"
      ]
     },
     "execution_count": 201,
     "metadata": {},
     "output_type": "execute_result"
    }
   ],
   "source": [
    "arr3 = np.arange(10,100,10).reshape(3,3)\n",
    "arr3"
   ]
  },
  {
   "cell_type": "markdown",
   "id": "c7a7afca",
   "metadata": {},
   "source": [
    "### 슬라이싱 된 배열에 값을 지정"
   ]
  },
  {
   "cell_type": "code",
   "execution_count": 202,
   "id": "8c75fd1e",
   "metadata": {},
   "outputs": [
    {
     "data": {
      "text/plain": [
       "array([[10,  1,  3],\n",
       "       [40,  4,  1],\n",
       "       [70, 80, 90]])"
      ]
     },
     "execution_count": 202,
     "metadata": {},
     "output_type": "execute_result"
    }
   ],
   "source": [
    "arr3[:2, 1:3]=np.array([[1,3],[4,1]])\n",
    "arr3"
   ]
  },
  {
   "cell_type": "markdown",
   "id": "096ea170",
   "metadata": {},
   "source": [
    "## Array boolean 인덱싱(Mask)\n",
    "- 다차원의 인덱싱을 응용하여 boolean 인덱싱.\n",
    "- boolean 인덱싱을 통해 만들어낸 array를 통해 원하는 행이나 열의 값만 뽑아냄\n",
    "- 가리고 싶은 부분은 가리고 원하는 요소만 꺼냄"
   ]
  },
  {
   "cell_type": "code",
   "execution_count": 203,
   "id": "af6db00e",
   "metadata": {},
   "outputs": [
    {
     "data": {
      "text/plain": [
       "(8,)"
      ]
     },
     "execution_count": 203,
     "metadata": {},
     "output_type": "execute_result"
    }
   ],
   "source": [
    "names = np.array(['Beomwoo','Beomwoo','Kim','Joan','Lee','Beomwoo',\n",
    "                  'Park','Beomwoo'])\n",
    "names.shape"
   ]
  },
  {
   "cell_type": "code",
   "execution_count": 204,
   "id": "27d3c5ea",
   "metadata": {},
   "outputs": [
    {
     "name": "stdout",
     "output_type": "stream",
     "text": [
      "[[-0.1993743  -0.64353884 -0.0441531  -0.66460786]\n",
      " [-0.14382234 -0.25425478  0.5266684  -0.60053841]\n",
      " [ 0.34436513  1.90598557 -0.567094   -0.23803837]\n",
      " [-0.53134376  0.49506394  2.77161103 -0.8271367 ]\n",
      " [ 0.765419   -0.04787455 -0.2297725  -2.27266096]\n",
      " [-0.56334115  0.21497319 -0.51687967  0.61981734]\n",
      " [-0.25866142 -1.25054595  0.08067343 -1.25690653]\n",
      " [ 0.93263822  1.0708038  -0.67377952 -0.06010951]] (8, 4)\n"
     ]
    }
   ],
   "source": [
    "# 8행 4열의 실수 난수 배열 생성\n",
    "data = np.random.randn(8,4)\n",
    "print(data, data.shape)"
   ]
  },
  {
   "cell_type": "code",
   "execution_count": 205,
   "id": "eb1ab513",
   "metadata": {},
   "outputs": [
    {
     "data": {
      "text/plain": [
       "array([ True,  True, False, False, False,  True, False,  True])"
      ]
     },
     "execution_count": 205,
     "metadata": {},
     "output_type": "execute_result"
    }
   ],
   "source": [
    "# 요소가 Beomwoo인 항목에 대한 mask 생성\n",
    "names_mask_Beomwoo = (names == 'Beomwoo')\n",
    "names_mask_Beomwoo"
   ]
  },
  {
   "cell_type": "code",
   "execution_count": 206,
   "id": "131ad1ee",
   "metadata": {},
   "outputs": [
    {
     "data": {
      "text/plain": [
       "array([[-0.1993743 , -0.64353884, -0.0441531 , -0.66460786],\n",
       "       [-0.14382234, -0.25425478,  0.5266684 , -0.60053841],\n",
       "       [-0.56334115,  0.21497319, -0.51687967,  0.61981734],\n",
       "       [ 0.93263822,  1.0708038 , -0.67377952, -0.06010951]])"
      ]
     },
     "execution_count": 206,
     "metadata": {},
     "output_type": "execute_result"
    }
   ],
   "source": [
    "data[names_mask_Beomwoo, :]"
   ]
  },
  {
   "cell_type": "code",
   "execution_count": 207,
   "id": "3d6a16e7",
   "metadata": {},
   "outputs": [
    {
     "data": {
      "text/plain": [
       "array([[ 0.34436513,  1.90598557, -0.567094  , -0.23803837]])"
      ]
     },
     "execution_count": 207,
     "metadata": {},
     "output_type": "execute_result"
    }
   ],
   "source": [
    "names_mask_Kim = (names == 'Kim')\n",
    "data[names_mask_Kim]"
   ]
  },
  {
   "cell_type": "code",
   "execution_count": 208,
   "id": "f95634a5",
   "metadata": {},
   "outputs": [
    {
     "data": {
      "text/plain": [
       "array([[ 0.34436513,  1.90598557, -0.567094  , -0.23803837],\n",
       "       [-0.25866142, -1.25054595,  0.08067343, -1.25690653]])"
      ]
     },
     "execution_count": 208,
     "metadata": {},
     "output_type": "execute_result"
    }
   ],
   "source": [
    "names_mask_KimOrPark = (names == 'Kim') | (names == 'Park')\n",
    "data[names_mask_KimOrPark]"
   ]
  },
  {
   "cell_type": "markdown",
   "id": "e3a0041e",
   "metadata": {},
   "source": [
    "마스크 인덱싱 연습"
   ]
  },
  {
   "cell_type": "code",
   "execution_count": 209,
   "id": "28595913",
   "metadata": {},
   "outputs": [
    {
     "data": {
      "text/plain": [
       "array([ True,  True, False,  True, False,  True,  True, False])"
      ]
     },
     "execution_count": 209,
     "metadata": {},
     "output_type": "execute_result"
    }
   ],
   "source": [
    "mask = data[:,0]<0\n",
    "mask"
   ]
  },
  {
   "cell_type": "code",
   "execution_count": 210,
   "id": "1ba1c162",
   "metadata": {},
   "outputs": [
    {
     "data": {
      "text/plain": [
       "array([[-0.0441531 , -0.66460786],\n",
       "       [ 0.5266684 , -0.60053841],\n",
       "       [ 2.77161103, -0.8271367 ],\n",
       "       [-0.51687967,  0.61981734],\n",
       "       [ 0.08067343, -1.25690653]])"
      ]
     },
     "execution_count": 210,
     "metadata": {},
     "output_type": "execute_result"
    }
   ],
   "source": [
    "data[mask,2:4]"
   ]
  },
  {
   "cell_type": "markdown",
   "id": "d7d10ba0",
   "metadata": {},
   "source": [
    "---"
   ]
  },
  {
   "cell_type": "markdown",
   "id": "8dd5d663",
   "metadata": {},
   "source": [
    "# array에 적용되는 다양한 함수"
   ]
  },
  {
   "cell_type": "code",
   "execution_count": 211,
   "id": "86eefa96",
   "metadata": {},
   "outputs": [],
   "source": [
    "# random.randn(행, 열)\n",
    "data = np.random.randn(5,3)"
   ]
  },
  {
   "cell_type": "code",
   "execution_count": 212,
   "id": "6231406e",
   "metadata": {},
   "outputs": [
    {
     "data": {
      "text/plain": [
       "array([[-0.42959146, -0.12262575,  1.45176892],\n",
       "       [ 0.20656797,  1.57213524,  1.40518799],\n",
       "       [-2.27376028, -0.29553275, -0.84870682],\n",
       "       [ 0.9234952 , -0.30455449, -0.29926865],\n",
       "       [-0.16246256, -0.76252894,  1.68397096]])"
      ]
     },
     "execution_count": 212,
     "metadata": {},
     "output_type": "execute_result"
    }
   ],
   "source": [
    "data"
   ]
  },
  {
   "cell_type": "markdown",
   "id": "90d5f864",
   "metadata": {},
   "source": [
    "https://numpy.org/doc/stable/reference/routines.math.html"
   ]
  },
  {
   "cell_type": "code",
   "execution_count": 213,
   "id": "c3392ce0",
   "metadata": {},
   "outputs": [
    {
     "name": "stdout",
     "output_type": "stream",
     "text": [
      "절대값\n",
      " [[0.42959146 0.12262575 1.45176892]\n",
      " [0.20656797 1.57213524 1.40518799]\n",
      " [2.27376028 0.29553275 0.84870682]\n",
      " [0.9234952  0.30455449 0.29926865]\n",
      " [0.16246256 0.76252894 1.68397096]]\n",
      "--------------------------------------------------\n",
      "제곱근\n",
      " [[0.65543227 0.3501796  1.20489374]\n",
      " [0.45449749 1.25384817 1.18540626]\n",
      " [1.50789929 0.54362924 0.92125286]\n",
      " [0.96098658 0.55186456 0.54705452]\n",
      " [0.40306645 0.87322903 1.29767907]]\n",
      "--------------------------------------------------\n",
      "제곱 : square\n",
      " [[0.18454883 0.01503707 2.10763301]\n",
      " [0.04267033 2.47160922 1.9745533 ]\n",
      " [5.1699858  0.08733961 0.72030327]\n",
      " [0.85284339 0.09275344 0.08956173]\n",
      " [0.02639408 0.58145039 2.83575819]]\n",
      "--------------------------------------------------\n",
      "지수함수 : exp\n",
      " [[0.6507749  0.88459466 4.27066231]\n",
      " [1.2294513  4.81692251 4.07629298]\n",
      " [0.10292443 0.74413504 0.42796801]\n",
      " [2.51807621 0.73745184 0.74136021]\n",
      " [0.85004791 0.46648522 5.38690473]]\n",
      "--------------------------------------------------\n"
     ]
    }
   ],
   "source": [
    "# 수학관련 함수\n",
    "\n",
    "# 절대값\n",
    "print('절대값\\n',np.abs(data))\n",
    "abs_data = np.abs(data)\n",
    "\n",
    "print('-'*50)\n",
    "\n",
    "# 제곱근 : 양수에만 제곱근을 쓸수있어서~\n",
    "print('제곱근\\n',np.sqrt(abs_data))\n",
    "\n",
    "print('-'*50)\n",
    "\n",
    "# 제곱\n",
    "print('제곱 : square\\n',np.square(data))\n",
    "\n",
    "print('-'*50)\n",
    "\n",
    "# 지수함수 : 각 성분을 자연대수 e의 지수로 삼은 값.\n",
    "print('지수함수 : exp\\n',np.exp(data))\n",
    "\n",
    "print('-'*50)\n",
    "\n",
    "# 로그(자연로그) = log, log10, log2 (밑이 2인 로그)"
   ]
  },
  {
   "cell_type": "code",
   "execution_count": 214,
   "id": "b8c5dbfa",
   "metadata": {},
   "outputs": [
    {
     "data": {
      "text/plain": [
       "array([[False, False, False],\n",
       "       [False, False, False],\n",
       "       [False, False, False],\n",
       "       [False, False, False],\n",
       "       [False, False, False]])"
      ]
     },
     "execution_count": 214,
     "metadata": {},
     "output_type": "execute_result"
    }
   ],
   "source": [
    "np.isnan(data)"
   ]
  },
  {
   "cell_type": "code",
   "execution_count": 215,
   "id": "7e87e9df",
   "metadata": {},
   "outputs": [
    {
     "name": "stderr",
     "output_type": "stream",
     "text": [
      "/var/folders/hr/y8znbyhd4058w4d5l14qqsv80000gn/T/ipykernel_2434/4261118830.py:1: RuntimeWarning: invalid value encountered in log\n",
      "  np.isnan(np.log(data))\n"
     ]
    },
    {
     "data": {
      "text/plain": [
       "array([[ True,  True, False],\n",
       "       [False, False, False],\n",
       "       [ True,  True,  True],\n",
       "       [False,  True,  True],\n",
       "       [ True,  True, False]])"
      ]
     },
     "execution_count": 215,
     "metadata": {},
     "output_type": "execute_result"
    }
   ],
   "source": [
    "np.isnan(np.log(data))"
   ]
  },
  {
   "cell_type": "code",
   "execution_count": 216,
   "id": "74a9412b",
   "metadata": {},
   "outputs": [
    {
     "data": {
      "text/plain": [
       "array([[ 0.90913598,  0.99249088,  0.11874655],\n",
       "       [ 0.97874059, -0.00133891,  0.16485237],\n",
       "       [-0.64648181,  0.95664712,  0.66095413],\n",
       "       [ 0.60303567,  0.95398064,  0.95555236],\n",
       "       [ 0.98683196,  0.72309145, -0.11293319]])"
      ]
     },
     "execution_count": 216,
     "metadata": {},
     "output_type": "execute_result"
    }
   ],
   "source": [
    "np.cos(data)"
   ]
  },
  {
   "cell_type": "code",
   "execution_count": 217,
   "id": "13434adc",
   "metadata": {},
   "outputs": [
    {
     "data": {
      "text/plain": [
       "array([[-1., -1.,  1.],\n",
       "       [ 0.,  1.,  1.],\n",
       "       [-3., -1., -1.],\n",
       "       [ 0., -1., -1.],\n",
       "       [-1., -1.,  1.]])"
      ]
     },
     "execution_count": 217,
     "metadata": {},
     "output_type": "execute_result"
    }
   ],
   "source": [
    "np.floor(data)"
   ]
  },
  {
   "cell_type": "code",
   "execution_count": 218,
   "id": "6a75e696",
   "metadata": {},
   "outputs": [
    {
     "data": {
      "text/plain": [
       "array([[-0., -0.,  1.],\n",
       "       [ 0.,  1.,  1.],\n",
       "       [-2., -0., -0.],\n",
       "       [ 0., -0., -0.],\n",
       "       [-0., -0.,  1.]])"
      ]
     },
     "execution_count": 218,
     "metadata": {},
     "output_type": "execute_result"
    }
   ],
   "source": [
    "np.trunc(data)"
   ]
  },
  {
   "cell_type": "code",
   "execution_count": 219,
   "id": "9be36784",
   "metadata": {},
   "outputs": [
    {
     "name": "stdout",
     "output_type": "stream",
     "text": [
      "[-1.73575113  0.08689331  3.3929524 ]\n",
      "----------------------------------------\n",
      "[ 0.89955171  3.18389121 -3.41799985  0.31967206  0.75897946]\n"
     ]
    }
   ],
   "source": [
    "print(np.sum(data, axis=0)) # 같은 열의 요소들은 합한 결과\n",
    "print('-'*40)\n",
    "print(np.sum(data, axis=1)) # 같은 행의 요소들을 합한 결과"
   ]
  },
  {
   "cell_type": "markdown",
   "id": "b414c2a8",
   "metadata": {},
   "source": [
    "#### 최대값, 최소값 위치 인덱스 : argmax(), agrmin()"
   ]
  },
  {
   "cell_type": "code",
   "execution_count": 220,
   "id": "d778eee8",
   "metadata": {},
   "outputs": [
    {
     "data": {
      "text/plain": [
       "array([[-0.42959146, -0.12262575,  1.45176892],\n",
       "       [ 0.20656797,  1.57213524,  1.40518799],\n",
       "       [-2.27376028, -0.29553275, -0.84870682],\n",
       "       [ 0.9234952 , -0.30455449, -0.29926865],\n",
       "       [-0.16246256, -0.76252894,  1.68397096]])"
      ]
     },
     "execution_count": 220,
     "metadata": {},
     "output_type": "execute_result"
    }
   ],
   "source": [
    "data"
   ]
  },
  {
   "cell_type": "code",
   "execution_count": 251,
   "id": "dc9b81af",
   "metadata": {},
   "outputs": [
    {
     "data": {
      "text/plain": [
       "(4, 2)"
      ]
     },
     "execution_count": 251,
     "metadata": {},
     "output_type": "execute_result"
    }
   ],
   "source": [
    "divmod(np.argmax(data),np.shape(data)[1])"
   ]
  },
  {
   "cell_type": "code",
   "execution_count": 268,
   "id": "cacfff48",
   "metadata": {},
   "outputs": [
    {
     "data": {
      "text/plain": [
       "1.6839709587625689"
      ]
     },
     "execution_count": 268,
     "metadata": {},
     "output_type": "execute_result"
    }
   ],
   "source": [
    "data[4][2]"
   ]
  },
  {
   "cell_type": "code",
   "execution_count": 269,
   "id": "76a305eb",
   "metadata": {},
   "outputs": [
    {
     "data": {
      "text/plain": [
       "array([[-2.27376028, -0.76252894, -0.84870682],\n",
       "       [-0.42959146, -0.30455449, -0.29926865],\n",
       "       [-0.16246256, -0.29553275,  1.40518799],\n",
       "       [ 0.20656797, -0.12262575,  1.45176892],\n",
       "       [ 0.9234952 ,  1.57213524,  1.68397096]])"
      ]
     },
     "execution_count": 269,
     "metadata": {},
     "output_type": "execute_result"
    }
   ],
   "source": [
    "np.sort(data) # 행별 오름차순 정렬\n",
    "np.sort(data, axis=0) # 열별 오름차순 정렬\n"
   ]
  },
  {
   "cell_type": "code",
   "execution_count": null,
   "id": "b154f6ae",
   "metadata": {},
   "outputs": [],
   "source": []
  }
 ],
 "metadata": {
  "kernelspec": {
   "display_name": "Python 3",
   "language": "python",
   "name": "python3"
  },
  "language_info": {
   "codemirror_mode": {
    "name": "ipython",
    "version": 3
   },
   "file_extension": ".py",
   "mimetype": "text/x-python",
   "name": "python",
   "nbconvert_exporter": "python",
   "pygments_lexer": "ipython3",
   "version": "3.10.1"
  }
 },
 "nbformat": 4,
 "nbformat_minor": 5
}
